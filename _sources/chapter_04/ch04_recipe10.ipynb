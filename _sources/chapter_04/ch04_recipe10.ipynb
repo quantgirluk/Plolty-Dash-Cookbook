{
 "cells": [
  {
   "cell_type": "markdown",
   "metadata": {},
   "source": [
    "# Visualizing Linear Regression"
   ]
  },
  {
   "cell_type": "markdown",
   "metadata": {},
   "source": [
    "Visualizing linear regression and its assumptions is a crucial step in understanding the model's performance and ensuring that the assumptions behind linear regression are met. One of the most common visualizations is the scatter plot of the data along with the regression line. This helps to observe the relationship between the independent variable (X) and the dependent variable (Y). The regression line represents the predicted values of Y for given values of X, while the scatter plot shows the actual data points. Ideally, the points should cluster around the line, indicating a linear relationship between the variables.\n",
    "\n",
    "To check the assumptions of linear regression, various diagnostic plots are used:\n",
    "\n",
    "1. **Linearity**: This assumption requires that the relationship between the independent and dependent variables is linear. You can verify it using a residuals vs. fitted values plot. If the residuals (differences between observed and predicted values) are randomly scattered around zero, this suggests that the linearity assumption holds.\n",
    "\n",
    "2. **Homoscedasticity**: This refers to the constant variance of residuals across all levels of the independent variable. Again, a residuals vs. fitted values plot helps—residuals should appear randomly distributed without forming any discernible pattern, such as a funnel shape.\n",
    "\n",
    "3. **Independence**: Residuals should be independent of each other, meaning that the error terms are not correlated. A plot of residuals against time (if the data has a time structure) can help check this assumption.\n",
    "\n",
    "4. **Normality of Residuals**: This assumption implies that the residuals follow a normal distribution. A normal Q-Q plot of the residuals is typically used, where the points should roughly follow a straight diagonal line if the residuals are normally distributed.\n",
    "\n",
    "These visual checks are essential in diagnosing any violations of the linear regression assumptions, which, if unaddressed, could lead to inaccurate predictions or misleading interpretations of the model.\n",
    "\n",
    "\n",
    "In addition to the basic diagnostic plots, **Scale-Location** and **Residuals vs. Leverage** plots offer deeper insights into potential issues with linear regression models.\n",
    "\n",
    "\n",
    "The Scale-Location plot helps to check the assumption of **homoscedasticity** (constant variance of residuals). This plot shows the square root of the absolute residuals (on the y-axis) versus the fitted values (on the x-axis). The goal is to check if the residuals are spread equally across all levels of the fitted values. Ideally, the points should be randomly scattered around a horizontal line without any clear pattern.  If you see a funnel shape (i.e., residuals become more spread out as the fitted values increase), it indicates **heteroscedasticity**, meaning that the variance of the residuals changes with the fitted values, violating the homoscedasticity assumption. Corrective measures, such as transforming the dependent variable (e.g., log or square-root transformations), may be necessary to fix this.\n",
    "\n",
    "\n",
    "The **Residuals vs. Leverage plot** is used to identify **influential data points** that can disproportionately affect the regression model. Leverage measures how much influence an observation has based on its position in the predictor space (x-values). In this plot, the residuals (y-axis) are plotted against the leverage values (x-axis). A good model should not have high residuals for points with high leverage, as these points could unduly influence the regression model. Points that lie far from the bulk of the data in this plot, especially those with high leverage and large residuals, are called **influential points**. They are often highlighted using **Cook's distance contours**, which quantify the influence of these points. If any points fall beyond these contours, you should investigate them closely, as they may be outliers or points that have a large influence on the model's coefficients.\n",
    "\n",
    "Both of these plots offer critical information about model diagnostics and help to identify where assumptions of linear regression may be violated, allowing for potential corrective measures."
   ]
  },
  {
   "cell_type": "markdown",
   "metadata": {},
   "source": [
    "## Getting ready\n",
    "\n",
    "\n",
    "In addition to `plotly`, `numpy` and `pandas`, make sure the `scipy` Python library avaiable in your Python environment\n",
    "You can install it using the command:"
   ]
  },
  {
   "cell_type": "markdown",
   "metadata": {},
   "source": [
    "```\n",
    "pip install scipy \n",
    "```"
   ]
  },
  {
   "cell_type": "markdown",
   "metadata": {},
   "source": [
    "For this recipe we will create a data set "
   ]
  },
  {
   "cell_type": "markdown",
   "metadata": {},
   "source": [
    "1. Import the Python modules `numpy`, `pandas`. Import the [`norm`](https://docs.scipy.org/doc/scipy/reference/generated/scipy.stats.norm.html) object from `scipy.stats`. This object will allow us to generate random samples from a normal distribution. This will help us to create data sets to be used in this recipe."
   ]
  },
  {
   "cell_type": "code",
   "execution_count": 17,
   "metadata": {},
   "outputs": [],
   "source": [
    "import numpy as np\n",
    "import pandas as pd\n",
    "from scipy.stats import norm"
   ]
  },
  {
   "cell_type": "markdown",
   "metadata": {},
   "source": [
    "2. Create the  data set to be used in this recipe"
   ]
  },
  {
   "cell_type": "code",
   "execution_count": 18,
   "metadata": {},
   "outputs": [],
   "source": [
    "n = 400\n",
    "x = np.linspace(0, 15, n)\n",
    "epsilon = norm().rvs(n)\n",
    "sigma = 2\n",
    "y = 2*x + sigma*epsilon\n",
    "data = pd.DataFrame({'x':x, 'y':y})"
   ]
  },
  {
   "cell_type": "code",
   "execution_count": 19,
   "metadata": {},
   "outputs": [],
   "source": [
    "# n = 200\n",
    "# x = np.linspace(0, 15, n)\n",
    "# epsilon = norm(loc=20, scale=100).rvs(n)\n",
    "# y = 0.5*x**3 + epsilon -10\n",
    "# data2 = pd.DataFrame({'x':x, 'y':y})"
   ]
  },
  {
   "cell_type": "markdown",
   "metadata": {},
   "source": [
    "## How to do it"
   ]
  },
  {
   "cell_type": "markdown",
   "metadata": {},
   "source": [
    "1. Import the `plotly.express` module as `px`"
   ]
  },
  {
   "cell_type": "code",
   "execution_count": 20,
   "metadata": {},
   "outputs": [],
   "source": [
    "import plotly.express as px"
   ]
  },
  {
   "cell_type": "code",
   "execution_count": 21,
   "metadata": {},
   "outputs": [],
   "source": [
    "df = data"
   ]
  },
  {
   "cell_type": "markdown",
   "metadata": {},
   "source": [
    "2.  Diagnose the linearity assumption with a scatter plot between the two variables"
   ]
  },
  {
   "cell_type": "code",
   "execution_count": 22,
   "metadata": {},
   "outputs": [
    {
     "data": {
      "application/vnd.plotly.v1+json": {
       "config": {
        "plotlyServerURL": "https://plot.ly"
       },
       "data": [
        {
         "hovertemplate": "x=%{x}<br>y=%{y}<extra></extra>",
         "legendgroup": "",
         "marker": {
          "color": "#636efa",
          "symbol": "circle"
         },
         "mode": "markers",
         "name": "",
         "orientation": "v",
         "showlegend": false,
         "type": "scatter",
         "x": {
          "bdata": "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",
          "dtype": "f8"
         },
         "xaxis": "x",
         "y": {
          "bdata": "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",
          "dtype": "f8"
         },
         "yaxis": "y"
        },
        {
         "hovertemplate": "<b>OLS trendline</b><br>y = 2.00611 * x + -0.0779564<br>R<sup>2</sup>=0.951664<br><br>x=%{x}<br>y=%{y} <b>(trend)</b><extra></extra>",
         "legendgroup": "",
         "line": {
          "color": "red"
         },
         "marker": {
          "color": "#636efa",
          "symbol": "circle"
         },
         "mode": "lines",
         "name": "",
         "showlegend": false,
         "type": "scatter",
         "x": {
          "bdata": "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",
          "dtype": "f8"
         },
         "xaxis": "x",
         "y": {
          "bdata": "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",
          "dtype": "f8"
         },
         "yaxis": "y"
        }
       ],
       "layout": {
        "height": 600,
        "legend": {
         "tracegroupgap": 0
        },
        "template": {
         "data": {
          "bar": [
           {
            "error_x": {
             "color": "#2a3f5f"
            },
            "error_y": {
             "color": "#2a3f5f"
            },
            "marker": {
             "line": {
              "color": "#E5ECF6",
              "width": 0.5
             },
             "pattern": {
              "fillmode": "overlay",
              "size": 10,
              "solidity": 0.2
             }
            },
            "type": "bar"
           }
          ],
          "barpolar": [
           {
            "marker": {
             "line": {
              "color": "#E5ECF6",
              "width": 0.5
             },
             "pattern": {
              "fillmode": "overlay",
              "size": 10,
              "solidity": 0.2
             }
            },
            "type": "barpolar"
           }
          ],
          "carpet": [
           {
            "aaxis": {
             "endlinecolor": "#2a3f5f",
             "gridcolor": "white",
             "linecolor": "white",
             "minorgridcolor": "white",
             "startlinecolor": "#2a3f5f"
            },
            "baxis": {
             "endlinecolor": "#2a3f5f",
             "gridcolor": "white",
             "linecolor": "white",
             "minorgridcolor": "white",
             "startlinecolor": "#2a3f5f"
            },
            "type": "carpet"
           }
          ],
          "choropleth": [
           {
            "colorbar": {
             "outlinewidth": 0,
             "ticks": ""
            },
            "type": "choropleth"
           }
          ],
          "contour": [
           {
            "colorbar": {
             "outlinewidth": 0,
             "ticks": ""
            },
            "colorscale": [
             [
              0,
              "#0d0887"
             ],
             [
              0.1111111111111111,
              "#46039f"
             ],
             [
              0.2222222222222222,
              "#7201a8"
             ],
             [
              0.3333333333333333,
              "#9c179e"
             ],
             [
              0.4444444444444444,
              "#bd3786"
             ],
             [
              0.5555555555555556,
              "#d8576b"
             ],
             [
              0.6666666666666666,
              "#ed7953"
             ],
             [
              0.7777777777777778,
              "#fb9f3a"
             ],
             [
              0.8888888888888888,
              "#fdca26"
             ],
             [
              1,
              "#f0f921"
             ]
            ],
            "type": "contour"
           }
          ],
          "contourcarpet": [
           {
            "colorbar": {
             "outlinewidth": 0,
             "ticks": ""
            },
            "type": "contourcarpet"
           }
          ],
          "heatmap": [
           {
            "colorbar": {
             "outlinewidth": 0,
             "ticks": ""
            },
            "colorscale": [
             [
              0,
              "#0d0887"
             ],
             [
              0.1111111111111111,
              "#46039f"
             ],
             [
              0.2222222222222222,
              "#7201a8"
             ],
             [
              0.3333333333333333,
              "#9c179e"
             ],
             [
              0.4444444444444444,
              "#bd3786"
             ],
             [
              0.5555555555555556,
              "#d8576b"
             ],
             [
              0.6666666666666666,
              "#ed7953"
             ],
             [
              0.7777777777777778,
              "#fb9f3a"
             ],
             [
              0.8888888888888888,
              "#fdca26"
             ],
             [
              1,
              "#f0f921"
             ]
            ],
            "type": "heatmap"
           }
          ],
          "histogram": [
           {
            "marker": {
             "pattern": {
              "fillmode": "overlay",
              "size": 10,
              "solidity": 0.2
             }
            },
            "type": "histogram"
           }
          ],
          "histogram2d": [
           {
            "colorbar": {
             "outlinewidth": 0,
             "ticks": ""
            },
            "colorscale": [
             [
              0,
              "#0d0887"
             ],
             [
              0.1111111111111111,
              "#46039f"
             ],
             [
              0.2222222222222222,
              "#7201a8"
             ],
             [
              0.3333333333333333,
              "#9c179e"
             ],
             [
              0.4444444444444444,
              "#bd3786"
             ],
             [
              0.5555555555555556,
              "#d8576b"
             ],
             [
              0.6666666666666666,
              "#ed7953"
             ],
             [
              0.7777777777777778,
              "#fb9f3a"
             ],
             [
              0.8888888888888888,
              "#fdca26"
             ],
             [
              1,
              "#f0f921"
             ]
            ],
            "type": "histogram2d"
           }
          ],
          "histogram2dcontour": [
           {
            "colorbar": {
             "outlinewidth": 0,
             "ticks": ""
            },
            "colorscale": [
             [
              0,
              "#0d0887"
             ],
             [
              0.1111111111111111,
              "#46039f"
             ],
             [
              0.2222222222222222,
              "#7201a8"
             ],
             [
              0.3333333333333333,
              "#9c179e"
             ],
             [
              0.4444444444444444,
              "#bd3786"
             ],
             [
              0.5555555555555556,
              "#d8576b"
             ],
             [
              0.6666666666666666,
              "#ed7953"
             ],
             [
              0.7777777777777778,
              "#fb9f3a"
             ],
             [
              0.8888888888888888,
              "#fdca26"
             ],
             [
              1,
              "#f0f921"
             ]
            ],
            "type": "histogram2dcontour"
           }
          ],
          "mesh3d": [
           {
            "colorbar": {
             "outlinewidth": 0,
             "ticks": ""
            },
            "type": "mesh3d"
           }
          ],
          "parcoords": [
           {
            "line": {
             "colorbar": {
              "outlinewidth": 0,
              "ticks": ""
             }
            },
            "type": "parcoords"
           }
          ],
          "pie": [
           {
            "automargin": true,
            "type": "pie"
           }
          ],
          "scatter": [
           {
            "fillpattern": {
             "fillmode": "overlay",
             "size": 10,
             "solidity": 0.2
            },
            "type": "scatter"
           }
          ],
          "scatter3d": [
           {
            "line": {
             "colorbar": {
              "outlinewidth": 0,
              "ticks": ""
             }
            },
            "marker": {
             "colorbar": {
              "outlinewidth": 0,
              "ticks": ""
             }
            },
            "type": "scatter3d"
           }
          ],
          "scattercarpet": [
           {
            "marker": {
             "colorbar": {
              "outlinewidth": 0,
              "ticks": ""
             }
            },
            "type": "scattercarpet"
           }
          ],
          "scattergeo": [
           {
            "marker": {
             "colorbar": {
              "outlinewidth": 0,
              "ticks": ""
             }
            },
            "type": "scattergeo"
           }
          ],
          "scattergl": [
           {
            "marker": {
             "colorbar": {
              "outlinewidth": 0,
              "ticks": ""
             }
            },
            "type": "scattergl"
           }
          ],
          "scattermap": [
           {
            "marker": {
             "colorbar": {
              "outlinewidth": 0,
              "ticks": ""
             }
            },
            "type": "scattermap"
           }
          ],
          "scattermapbox": [
           {
            "marker": {
             "colorbar": {
              "outlinewidth": 0,
              "ticks": ""
             }
            },
            "type": "scattermapbox"
           }
          ],
          "scatterpolar": [
           {
            "marker": {
             "colorbar": {
              "outlinewidth": 0,
              "ticks": ""
             }
            },
            "type": "scatterpolar"
           }
          ],
          "scatterpolargl": [
           {
            "marker": {
             "colorbar": {
              "outlinewidth": 0,
              "ticks": ""
             }
            },
            "type": "scatterpolargl"
           }
          ],
          "scatterternary": [
           {
            "marker": {
             "colorbar": {
              "outlinewidth": 0,
              "ticks": ""
             }
            },
            "type": "scatterternary"
           }
          ],
          "surface": [
           {
            "colorbar": {
             "outlinewidth": 0,
             "ticks": ""
            },
            "colorscale": [
             [
              0,
              "#0d0887"
             ],
             [
              0.1111111111111111,
              "#46039f"
             ],
             [
              0.2222222222222222,
              "#7201a8"
             ],
             [
              0.3333333333333333,
              "#9c179e"
             ],
             [
              0.4444444444444444,
              "#bd3786"
             ],
             [
              0.5555555555555556,
              "#d8576b"
             ],
             [
              0.6666666666666666,
              "#ed7953"
             ],
             [
              0.7777777777777778,
              "#fb9f3a"
             ],
             [
              0.8888888888888888,
              "#fdca26"
             ],
             [
              1,
              "#f0f921"
             ]
            ],
            "type": "surface"
           }
          ],
          "table": [
           {
            "cells": {
             "fill": {
              "color": "#EBF0F8"
             },
             "line": {
              "color": "white"
             }
            },
            "header": {
             "fill": {
              "color": "#C8D4E3"
             },
             "line": {
              "color": "white"
             }
            },
            "type": "table"
           }
          ]
         },
         "layout": {
          "annotationdefaults": {
           "arrowcolor": "#2a3f5f",
           "arrowhead": 0,
           "arrowwidth": 1
          },
          "autotypenumbers": "strict",
          "coloraxis": {
           "colorbar": {
            "outlinewidth": 0,
            "ticks": ""
           }
          },
          "colorscale": {
           "diverging": [
            [
             0,
             "#8e0152"
            ],
            [
             0.1,
             "#c51b7d"
            ],
            [
             0.2,
             "#de77ae"
            ],
            [
             0.3,
             "#f1b6da"
            ],
            [
             0.4,
             "#fde0ef"
            ],
            [
             0.5,
             "#f7f7f7"
            ],
            [
             0.6,
             "#e6f5d0"
            ],
            [
             0.7,
             "#b8e186"
            ],
            [
             0.8,
             "#7fbc41"
            ],
            [
             0.9,
             "#4d9221"
            ],
            [
             1,
             "#276419"
            ]
           ],
           "sequential": [
            [
             0,
             "#0d0887"
            ],
            [
             0.1111111111111111,
             "#46039f"
            ],
            [
             0.2222222222222222,
             "#7201a8"
            ],
            [
             0.3333333333333333,
             "#9c179e"
            ],
            [
             0.4444444444444444,
             "#bd3786"
            ],
            [
             0.5555555555555556,
             "#d8576b"
            ],
            [
             0.6666666666666666,
             "#ed7953"
            ],
            [
             0.7777777777777778,
             "#fb9f3a"
            ],
            [
             0.8888888888888888,
             "#fdca26"
            ],
            [
             1,
             "#f0f921"
            ]
           ],
           "sequentialminus": [
            [
             0,
             "#0d0887"
            ],
            [
             0.1111111111111111,
             "#46039f"
            ],
            [
             0.2222222222222222,
             "#7201a8"
            ],
            [
             0.3333333333333333,
             "#9c179e"
            ],
            [
             0.4444444444444444,
             "#bd3786"
            ],
            [
             0.5555555555555556,
             "#d8576b"
            ],
            [
             0.6666666666666666,
             "#ed7953"
            ],
            [
             0.7777777777777778,
             "#fb9f3a"
            ],
            [
             0.8888888888888888,
             "#fdca26"
            ],
            [
             1,
             "#f0f921"
            ]
           ]
          },
          "colorway": [
           "#636efa",
           "#EF553B",
           "#00cc96",
           "#ab63fa",
           "#FFA15A",
           "#19d3f3",
           "#FF6692",
           "#B6E880",
           "#FF97FF",
           "#FECB52"
          ],
          "font": {
           "color": "#2a3f5f"
          },
          "geo": {
           "bgcolor": "white",
           "lakecolor": "white",
           "landcolor": "#E5ECF6",
           "showlakes": true,
           "showland": true,
           "subunitcolor": "white"
          },
          "hoverlabel": {
           "align": "left"
          },
          "hovermode": "closest",
          "mapbox": {
           "style": "light"
          },
          "paper_bgcolor": "white",
          "plot_bgcolor": "#E5ECF6",
          "polar": {
           "angularaxis": {
            "gridcolor": "white",
            "linecolor": "white",
            "ticks": ""
           },
           "bgcolor": "#E5ECF6",
           "radialaxis": {
            "gridcolor": "white",
            "linecolor": "white",
            "ticks": ""
           }
          },
          "scene": {
           "xaxis": {
            "backgroundcolor": "#E5ECF6",
            "gridcolor": "white",
            "gridwidth": 2,
            "linecolor": "white",
            "showbackground": true,
            "ticks": "",
            "zerolinecolor": "white"
           },
           "yaxis": {
            "backgroundcolor": "#E5ECF6",
            "gridcolor": "white",
            "gridwidth": 2,
            "linecolor": "white",
            "showbackground": true,
            "ticks": "",
            "zerolinecolor": "white"
           },
           "zaxis": {
            "backgroundcolor": "#E5ECF6",
            "gridcolor": "white",
            "gridwidth": 2,
            "linecolor": "white",
            "showbackground": true,
            "ticks": "",
            "zerolinecolor": "white"
           }
          },
          "shapedefaults": {
           "line": {
            "color": "#2a3f5f"
           }
          },
          "ternary": {
           "aaxis": {
            "gridcolor": "white",
            "linecolor": "white",
            "ticks": ""
           },
           "baxis": {
            "gridcolor": "white",
            "linecolor": "white",
            "ticks": ""
           },
           "bgcolor": "#E5ECF6",
           "caxis": {
            "gridcolor": "white",
            "linecolor": "white",
            "ticks": ""
           }
          },
          "title": {
           "x": 0.05
          },
          "xaxis": {
           "automargin": true,
           "gridcolor": "white",
           "linecolor": "white",
           "ticks": "",
           "title": {
            "standoff": 15
           },
           "zerolinecolor": "white",
           "zerolinewidth": 2
          },
          "yaxis": {
           "automargin": true,
           "gridcolor": "white",
           "linecolor": "white",
           "ticks": "",
           "title": {
            "standoff": 15
           },
           "zerolinecolor": "white",
           "zerolinewidth": 2
          }
         }
        },
        "title": {
         "text": "Scatter with OLS trend line"
        },
        "width": 800,
        "xaxis": {
         "anchor": "y",
         "domain": [
          0,
          1
         ],
         "title": {
          "text": "x"
         }
        },
        "yaxis": {
         "anchor": "x",
         "domain": [
          0,
          1
         ],
         "title": {
          "text": "y"
         }
        }
       }
      }
     },
     "metadata": {},
     "output_type": "display_data"
    }
   ],
   "source": [
    "fig = px.scatter(df, x='x', y ='y', \n",
    "                 trendline_color_override=\"red\",\n",
    "                 trendline=\"ols\", \n",
    "                 height=600, width=800,\n",
    "                 title='Scatter with OLS trend line')\n",
    "fig.show()"
   ]
  },
  {
   "cell_type": "markdown",
   "metadata": {},
   "source": [
    "3. Retrieve the linear regression results from the `Figure` object"
   ]
  },
  {
   "cell_type": "code",
   "execution_count": 23,
   "metadata": {},
   "outputs": [
    {
     "data": {
      "text/html": [
       "<table class=\"simpletable\">\n",
       "<caption>OLS Regression Results</caption>\n",
       "<tr>\n",
       "  <th>Dep. Variable:</th>            <td>y</td>        <th>  R-squared:         </th> <td>   0.952</td> \n",
       "</tr>\n",
       "<tr>\n",
       "  <th>Model:</th>                   <td>OLS</td>       <th>  Adj. R-squared:    </th> <td>   0.952</td> \n",
       "</tr>\n",
       "<tr>\n",
       "  <th>Method:</th>             <td>Least Squares</td>  <th>  F-statistic:       </th> <td>   7836.</td> \n",
       "</tr>\n",
       "<tr>\n",
       "  <th>Date:</th>             <td>Sat, 15 Feb 2025</td> <th>  Prob (F-statistic):</th> <td>6.06e-264</td>\n",
       "</tr>\n",
       "<tr>\n",
       "  <th>Time:</th>                 <td>21:12:47</td>     <th>  Log-Likelihood:    </th> <td> -837.29</td> \n",
       "</tr>\n",
       "<tr>\n",
       "  <th>No. Observations:</th>      <td>   400</td>      <th>  AIC:               </th> <td>   1679.</td> \n",
       "</tr>\n",
       "<tr>\n",
       "  <th>Df Residuals:</th>          <td>   398</td>      <th>  BIC:               </th> <td>   1687.</td> \n",
       "</tr>\n",
       "<tr>\n",
       "  <th>Df Model:</th>              <td>     1</td>      <th>                     </th>     <td> </td>    \n",
       "</tr>\n",
       "<tr>\n",
       "  <th>Covariance Type:</th>      <td>nonrobust</td>    <th>                     </th>     <td> </td>    \n",
       "</tr>\n",
       "</table>\n",
       "<table class=\"simpletable\">\n",
       "<tr>\n",
       "    <td></td>       <th>coef</th>     <th>std err</th>      <th>t</th>      <th>P>|t|</th>  <th>[0.025</th>    <th>0.975]</th>  \n",
       "</tr>\n",
       "<tr>\n",
       "  <th>const</th> <td>   -0.0780</td> <td>    0.196</td> <td>   -0.397</td> <td> 0.692</td> <td>   -0.464</td> <td>    0.308</td>\n",
       "</tr>\n",
       "<tr>\n",
       "  <th>x1</th>    <td>    2.0061</td> <td>    0.023</td> <td>   88.521</td> <td> 0.000</td> <td>    1.962</td> <td>    2.051</td>\n",
       "</tr>\n",
       "</table>\n",
       "<table class=\"simpletable\">\n",
       "<tr>\n",
       "  <th>Omnibus:</th>       <td> 0.215</td> <th>  Durbin-Watson:     </th> <td>   2.082</td>\n",
       "</tr>\n",
       "<tr>\n",
       "  <th>Prob(Omnibus):</th> <td> 0.898</td> <th>  Jarque-Bera (JB):  </th> <td>   0.139</td>\n",
       "</tr>\n",
       "<tr>\n",
       "  <th>Skew:</th>          <td>-0.043</td> <th>  Prob(JB):          </th> <td>   0.933</td>\n",
       "</tr>\n",
       "<tr>\n",
       "  <th>Kurtosis:</th>      <td> 3.028</td> <th>  Cond. No.          </th> <td>    17.5</td>\n",
       "</tr>\n",
       "</table><br/><br/>Notes:<br/>[1] Standard Errors assume that the covariance matrix of the errors is correctly specified."
      ],
      "text/latex": [
       "\\begin{center}\n",
       "\\begin{tabular}{lclc}\n",
       "\\toprule\n",
       "\\textbf{Dep. Variable:}    &        y         & \\textbf{  R-squared:         } &     0.952   \\\\\n",
       "\\textbf{Model:}            &       OLS        & \\textbf{  Adj. R-squared:    } &     0.952   \\\\\n",
       "\\textbf{Method:}           &  Least Squares   & \\textbf{  F-statistic:       } &     7836.   \\\\\n",
       "\\textbf{Date:}             & Sat, 15 Feb 2025 & \\textbf{  Prob (F-statistic):} & 6.06e-264   \\\\\n",
       "\\textbf{Time:}             &     21:12:47     & \\textbf{  Log-Likelihood:    } &   -837.29   \\\\\n",
       "\\textbf{No. Observations:} &         400      & \\textbf{  AIC:               } &     1679.   \\\\\n",
       "\\textbf{Df Residuals:}     &         398      & \\textbf{  BIC:               } &     1687.   \\\\\n",
       "\\textbf{Df Model:}         &           1      & \\textbf{                     } &             \\\\\n",
       "\\textbf{Covariance Type:}  &    nonrobust     & \\textbf{                     } &             \\\\\n",
       "\\bottomrule\n",
       "\\end{tabular}\n",
       "\\begin{tabular}{lcccccc}\n",
       "               & \\textbf{coef} & \\textbf{std err} & \\textbf{t} & \\textbf{P$> |$t$|$} & \\textbf{[0.025} & \\textbf{0.975]}  \\\\\n",
       "\\midrule\n",
       "\\textbf{const} &      -0.0780  &        0.196     &    -0.397  &         0.692        &       -0.464    &        0.308     \\\\\n",
       "\\textbf{x1}    &       2.0061  &        0.023     &    88.521  &         0.000        &        1.962    &        2.051     \\\\\n",
       "\\bottomrule\n",
       "\\end{tabular}\n",
       "\\begin{tabular}{lclc}\n",
       "\\textbf{Omnibus:}       &  0.215 & \\textbf{  Durbin-Watson:     } &    2.082  \\\\\n",
       "\\textbf{Prob(Omnibus):} &  0.898 & \\textbf{  Jarque-Bera (JB):  } &    0.139  \\\\\n",
       "\\textbf{Skew:}          & -0.043 & \\textbf{  Prob(JB):          } &    0.933  \\\\\n",
       "\\textbf{Kurtosis:}      &  3.028 & \\textbf{  Cond. No.          } &     17.5  \\\\\n",
       "\\bottomrule\n",
       "\\end{tabular}\n",
       "%\\caption{OLS Regression Results}\n",
       "\\end{center}\n",
       "\n",
       "Notes: \\newline\n",
       " [1] Standard Errors assume that the covariance matrix of the errors is correctly specified."
      ],
      "text/plain": [
       "<class 'statsmodels.iolib.summary.Summary'>\n",
       "\"\"\"\n",
       "                            OLS Regression Results                            \n",
       "==============================================================================\n",
       "Dep. Variable:                      y   R-squared:                       0.952\n",
       "Model:                            OLS   Adj. R-squared:                  0.952\n",
       "Method:                 Least Squares   F-statistic:                     7836.\n",
       "Date:                Sat, 15 Feb 2025   Prob (F-statistic):          6.06e-264\n",
       "Time:                        21:12:47   Log-Likelihood:                -837.29\n",
       "No. Observations:                 400   AIC:                             1679.\n",
       "Df Residuals:                     398   BIC:                             1687.\n",
       "Df Model:                           1                                         \n",
       "Covariance Type:            nonrobust                                         \n",
       "==============================================================================\n",
       "                 coef    std err          t      P>|t|      [0.025      0.975]\n",
       "------------------------------------------------------------------------------\n",
       "const         -0.0780      0.196     -0.397      0.692      -0.464       0.308\n",
       "x1             2.0061      0.023     88.521      0.000       1.962       2.051\n",
       "==============================================================================\n",
       "Omnibus:                        0.215   Durbin-Watson:                   2.082\n",
       "Prob(Omnibus):                  0.898   Jarque-Bera (JB):                0.139\n",
       "Skew:                          -0.043   Prob(JB):                        0.933\n",
       "Kurtosis:                       3.028   Cond. No.                         17.5\n",
       "==============================================================================\n",
       "\n",
       "Notes:\n",
       "[1] Standard Errors assume that the covariance matrix of the errors is correctly specified.\n",
       "\"\"\""
      ]
     },
     "execution_count": 23,
     "metadata": {},
     "output_type": "execute_result"
    }
   ],
   "source": [
    "results_table = px.get_trendline_results(fig)\n",
    "results = results_table['px_fit_results'][0]\n",
    "results.summary()"
   ]
  },
  {
   "cell_type": "markdown",
   "metadata": {},
   "source": [
    "4. Obtain the fitted, and residual values from the results"
   ]
  },
  {
   "cell_type": "code",
   "execution_count": 24,
   "metadata": {},
   "outputs": [],
   "source": [
    "fitted = results.fittedvalues\n",
    "residuals = results.resid"
   ]
  },
  {
   "cell_type": "markdown",
   "metadata": {},
   "source": [
    "5. To diagnose the Homoscedasticity assumption, plot a scatter between the fitted and the residuals"
   ]
  },
  {
   "cell_type": "code",
   "execution_count": 25,
   "metadata": {},
   "outputs": [
    {
     "data": {
      "application/vnd.plotly.v1+json": {
       "config": {
        "plotlyServerURL": "https://plot.ly"
       },
       "data": [
        {
         "hovertemplate": "x=%{x}<br>y=%{y}<extra></extra>",
         "legendgroup": "",
         "marker": {
          "color": "#636efa",
          "symbol": "circle"
         },
         "mode": "markers",
         "name": "",
         "orientation": "v",
         "showlegend": false,
         "type": "scatter",
         "x": {
          "bdata": "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",
          "dtype": "f8"
         },
         "xaxis": "x",
         "y": {
          "bdata": "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",
          "dtype": "f8"
         },
         "yaxis": "y"
        },
        {
         "hovertemplate": "<b>OLS trendline</b><br>y = 2.51535e-17 * x + 2.328e-15<br>R<sup>2</sup>=0.000000<br><br>x=%{x}<br>y=%{y} <b>(trend)</b><extra></extra>",
         "legendgroup": "",
         "line": {
          "color": "red"
         },
         "marker": {
          "color": "#636efa",
          "symbol": "circle"
         },
         "mode": "lines",
         "name": "",
         "showlegend": false,
         "type": "scatter",
         "x": {
          "bdata": "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",
          "dtype": "f8"
         },
         "xaxis": "x",
         "y": {
          "bdata": "eJz8gHrz5DyIAh5O2vfkPJdoPxs6/OQ8p85g6JkA5Ty2NIK1+QTlPMaao4JZCeU81QDFT7kN5TzlZuYcGRLlPPTMB+p4FuU8BDMpt9ga5TwUmUqEOB/lPCP/a1GYI+U8M2WNHvgn5TxCy67rVyzlPFIx0Li3MOU8YZfxhRc15Txx/RJTdznlPIBjNCDXPeU8kMlV7TZC5TyfL3e6lkblPK+VmIf2SuU8vvu5VFZP5TzOYdshtlPlPN3H/O4VWOU87S0evHVc5Tz8kz+J1WDlPAz6YFY1ZeU8G2CCI5Vp5TwrxqPw9G3lPDosxb1UcuU8SpLmirR25TxZ+AdYFHvlPGleKSV0f+U8eMRK8tOD5TyIKmy/M4jlPJeQjYyTjOU8p/auWfOQ5Ty2XNAmU5XlPMbC8fOymeU81SgTwRKe5TzljjSOcqLlPPT0VVvSpuU8BFt3KDKr5TwUwZj1ka/lPCMnusLxs+U8M43bj1G45TxC8/xcsbzlPFJZHioRweU8Yb8/93DF5TxxJWHE0MnlPICLgpEwzuU8kPGjXpDS5TyfV8Ur8NblPK+95vhP2+U8viMIxq/f5TzOiSmTD+TlPN3vSmBv6OU87VVsLc/s5Tz8u436LvHlPAwir8eO9eU8G4jQlO755Twr7vFhTv7lPDpUEy+uAuY8Sro0/A0H5jxZIFbJbQvmPGmGd5bND+Y8eOyYYy0U5jyIUrowjRjmPJe42/3sHOY8px79ykwh5jy2hB6YrCXmPMbqP2UMKuY81VBhMmwu5jzltoL/yzLmPPQcpMwrN+Y8BIPFmYs75jwU6eZm6z/mPCNPCDRLROY8MrUpAatI5jxCG0vOCk3mPFKBbJtqUeY8YeeNaMpV5jxxTa81KlrmPICz0AKKXuY8kBnyz+li5jyffxOdSWfmPK/lNGqpa+Y8vktWNwlw5jzOsXcEaXTmPN0XmdHIeOY87X26nih95jz849triIHmPAxK/TjoheY8G7AeBkiK5jwrFkDTp47mPDp8YaAHk+Y8SuKCbWeX5jxZSKQ6x5vmPGmuxQcnoOY8eBTn1Iak5jyIegii5qjmPJfgKW9GreY8p0ZLPKax5jy2rGwJBrbmPMYSjtZluuY81Xivo8W+5jzl3tBwJcPmPPRE8j2Fx+Y8BKsTC+XL5jwUETXYRNDmPCN3VqWk1OY8Mt13cgTZ5jxCQ5k/ZN3mPFKpugzE4eY8YQ/c2SPm5jxxdf2mg+rmPIDbHnTj7uY8kEFAQUPz5jyfp2EOo/fmPK8Ng9sC/OY8vnOkqGIA5zzO2cV1wgTnPN0/50IiCec87aUIEIIN5zz8Cyrd4RHnPAxyS6pBFuc8G9hsd6Ea5zwrPo5EAR/nPDqkrxFhI+c8SgrR3sAn5zxZcPKrICznPGnWE3mAMOc8eDw1RuA05zyIolYTQDnnPJcIeOCfPec8p26Zrf9B5zy21Lp6X0bnPMY63Ee/Suc81aD9FB9P5zzlBh/iflPnPPRsQK/eV+c8BNNhfD5c5zwUOYNJnmDnPCOfpBb+ZOc8MgXG411p5zxCa+ewvW3nPFLRCH4dcuc8YTcqS3125zxxnUsY3XrnPIADbeU8f+c8kGmOspyD5zyfz69//IfnPK810UxcjOc8vpvyGbyQ5zzOARTnG5XnPN1nNbR7mec87c1Wgdud5zz8M3hOO6LnPAyamRubpuc8GwC76Pqq5zwrZty1Wq/nPDrM/YK6s+c8SjIfUBq45zxZmEAderznPGn+YerZwOc8eGSDtznF5zyIyqSEmcnnPJgwxlH5zec8p5bnHlnS5zy2/AjsuNbnPMZiKrkY2+c81chLhnjf5zzlLm1T2OPnPPSUjiA46Oc8BPuv7Zfs5zwUYdG69/DnPCPH8odX9ec8My0UVbf55zxCkzUiF/7nPFL5Vu92Aug8YV94vNYG6DxxxZmJNgvoPIAru1aWD+g8kJHcI/YT6Dyf9/3wVRjoPK9dH761HOg8vsNAixUh6DzOKWJYdSXoPN2PgyXVKeg87fWk8jQu6Dz8W8a/lDLoPAzC54z0Nug8GygJWlQ76DwrjiontD/oPDr0S/QTROg8SlptwXNI6DxZwI6O00zoPGkmsFszUeg8eIzRKJNV6DyI8vL18lnoPJhYFMNSXug8p741kLJi6Dy2JFddEmfoPMaKeCpya+g81vCZ99Fv6DzlVrvEMXToPPS83JGReOg8BCP+XvF86DwUiR8sUYHoPCPvQPmwheg8MlVixhCK6DxCu4OTcI7oPFIhpWDQkug8YYfGLTCX6Dxw7ef6j5voPIBTCcjvn+g8kLkqlU+k6DyfH0xir6joPK6FbS8Preg8vuuO/G6x6DzOUbDJzrXoPN230ZYuuug87R3zY46+6Dz8gxQx7sLoPAzqNf5Nx+g8G1BXy63L6DwrtniYDdDoPDocmmVt1Og8SoK7Ms3Y6DxZ6Nz/LN3oPGlO/syM4eg8eLQfmuzl6DyIGkFnTOroPJiAYjSs7ug8p+aDAQzz6Dy3TKXOa/foPMayxpvL++g81hjoaCsA6Tzlfgk2iwTpPPTkKgPrCOk8BEtM0EoN6TwTsW2dqhHpPCMXj2oKFuk8Mn2wN2oa6TxC49EEyh7pPFJJ89EpI+k8Ya8Un4kn6TxwFTZs6SvpPIB7VzlJMOk8kOF4Bqk06TyfR5rTCDnpPK+tu6BoPek8vhPdbchB6TzOef46KEbpPN3fHwiISuk87UVB1edO6Tz8q2KiR1PpPAwShG+nV+k8G3ilPAdc6Twr3sYJZ2DpPDpE6NbGZOk8SqoJpCZp6TxZECtxhm3pPGl2TD7mcek8eNxtC0Z26TyIQo/YpXrpPJiosKUFf+k8pw7ScmWD6Ty2dPM/xYfpPMbaFA0ljOk81kA22oSQ6Tzlplen5JTpPPQMeXREmek8BHOaQaSd6TwU2bsOBKLpPCM/3dtjpuk8MqX+qMOq6TxCCyB2I6/pPFJxQUODs+k8YddiEOO36TxwPYTdQrzpPICjpaqiwOk8kAnHdwLF6Tyfb+hEYsnpPK/VCRLCzek8vjsr3yHS6TzOoUysgdbpPN0Hbnnh2uk87G2PRkHf6Tz807AToePpPAw60uAA6Ok8G6DzrWDs6TwrBhV7wPDpPDpsNkgg9ek8StJXFYD56TxZOHni3/3pPGmemq8/Auo8eAS8fJ8G6jyIat1J/wrqPJjQ/hZfD+o8pzYg5L4T6jy2nEGxHhjqPMYCY35+HOo81miES94g6jzlzqUYPiXqPPQ0x+WdKeo8BJvosv0t6jwUAQqAXTLqPCNnK029Nuo8Ms1MGh076jxCM27nfD/qPFKZj7TcQ+o8Yf+wgTxI6jxwZdJOnEzqPIDL8xv8UOo8kDEV6VtV6jyflza2u1nqPK79V4MbXuo8vmN5UHti6jzOyZod22bqPN0vvOo6a+o87ZXdt5pv6jz8+/6E+nPqPAxiIFJaeOo8G8hBH7p86jwrLmPsGYHqPDqUhLl5heo8SvqlhtmJ6jxaYMdTOY7qPGnG6CCZkuo8eCwK7viW6jyIkiu7WJvqPJj4TIi4n+o8p15uVRik6jy2xI8ieKjqPMYqse/XrOo81pDSvDex6jzl9vOJl7XqPPRcFVf3ueo8BMM2JFe+6jwTKVjxtsLqPCOPeb4Wx+o8MvWai3bL6jxCW7xY1s/qPFLB3SU21Oo8YSf/8pXY6jxwjSDA9dzqPIDzQY1V4eo8kFljWrXl6jyfv4QnFerqPK8lpvR07uo8vovHwdTy6jzO8eiONPfqPN1XClyU++o87b0rKfT/6jz8I032UwTrPAyKbsOzCOs8G/CPkBMN6zwrVrFdcxHrPDq80irTFes8SiL09zIa6zxZiBXFkh7rPGnuNpLyIus8eFRYX1In6zyIunkssivrPJggm/kRMOs8p4a8xnE06zy27N2T0TjrPMZS/2AxPes81bggLpFB6zzlHkL78EXrPPSEY8hQSus8BOuElbBO6zwUUaZiEFPrPCO3xy9wV+s8Mh3p/M9b6zxCgwrKL2DrPFLpK5ePZOs8YU9NZO9o6zxwtW4xT23rPIAbkP6uces8kIGxyw526zyf59KYbnrrPK9N9GXOfus8vrMVMy6D6zzOGTcAjofrPN1/WM3ti+s87OV5mk2Q6zz8S5tnrZTrPAyyvDQNmes8GxjeAW2d6zwrfv/OzKHrPDrkIJwspus8SkpCaYyq6zxZsGM27K7rPGkWhQNMs+s8eHym0Ku36zyI4sedC7zrPJhI6WprwOs8p64KOMvE6zw=",
          "dtype": "f8"
         },
         "yaxis": "y"
        }
       ],
       "layout": {
        "height": 600,
        "legend": {
         "tracegroupgap": 0
        },
        "template": {
         "data": {
          "bar": [
           {
            "error_x": {
             "color": "#2a3f5f"
            },
            "error_y": {
             "color": "#2a3f5f"
            },
            "marker": {
             "line": {
              "color": "#E5ECF6",
              "width": 0.5
             },
             "pattern": {
              "fillmode": "overlay",
              "size": 10,
              "solidity": 0.2
             }
            },
            "type": "bar"
           }
          ],
          "barpolar": [
           {
            "marker": {
             "line": {
              "color": "#E5ECF6",
              "width": 0.5
             },
             "pattern": {
              "fillmode": "overlay",
              "size": 10,
              "solidity": 0.2
             }
            },
            "type": "barpolar"
           }
          ],
          "carpet": [
           {
            "aaxis": {
             "endlinecolor": "#2a3f5f",
             "gridcolor": "white",
             "linecolor": "white",
             "minorgridcolor": "white",
             "startlinecolor": "#2a3f5f"
            },
            "baxis": {
             "endlinecolor": "#2a3f5f",
             "gridcolor": "white",
             "linecolor": "white",
             "minorgridcolor": "white",
             "startlinecolor": "#2a3f5f"
            },
            "type": "carpet"
           }
          ],
          "choropleth": [
           {
            "colorbar": {
             "outlinewidth": 0,
             "ticks": ""
            },
            "type": "choropleth"
           }
          ],
          "contour": [
           {
            "colorbar": {
             "outlinewidth": 0,
             "ticks": ""
            },
            "colorscale": [
             [
              0,
              "#0d0887"
             ],
             [
              0.1111111111111111,
              "#46039f"
             ],
             [
              0.2222222222222222,
              "#7201a8"
             ],
             [
              0.3333333333333333,
              "#9c179e"
             ],
             [
              0.4444444444444444,
              "#bd3786"
             ],
             [
              0.5555555555555556,
              "#d8576b"
             ],
             [
              0.6666666666666666,
              "#ed7953"
             ],
             [
              0.7777777777777778,
              "#fb9f3a"
             ],
             [
              0.8888888888888888,
              "#fdca26"
             ],
             [
              1,
              "#f0f921"
             ]
            ],
            "type": "contour"
           }
          ],
          "contourcarpet": [
           {
            "colorbar": {
             "outlinewidth": 0,
             "ticks": ""
            },
            "type": "contourcarpet"
           }
          ],
          "heatmap": [
           {
            "colorbar": {
             "outlinewidth": 0,
             "ticks": ""
            },
            "colorscale": [
             [
              0,
              "#0d0887"
             ],
             [
              0.1111111111111111,
              "#46039f"
             ],
             [
              0.2222222222222222,
              "#7201a8"
             ],
             [
              0.3333333333333333,
              "#9c179e"
             ],
             [
              0.4444444444444444,
              "#bd3786"
             ],
             [
              0.5555555555555556,
              "#d8576b"
             ],
             [
              0.6666666666666666,
              "#ed7953"
             ],
             [
              0.7777777777777778,
              "#fb9f3a"
             ],
             [
              0.8888888888888888,
              "#fdca26"
             ],
             [
              1,
              "#f0f921"
             ]
            ],
            "type": "heatmap"
           }
          ],
          "histogram": [
           {
            "marker": {
             "pattern": {
              "fillmode": "overlay",
              "size": 10,
              "solidity": 0.2
             }
            },
            "type": "histogram"
           }
          ],
          "histogram2d": [
           {
            "colorbar": {
             "outlinewidth": 0,
             "ticks": ""
            },
            "colorscale": [
             [
              0,
              "#0d0887"
             ],
             [
              0.1111111111111111,
              "#46039f"
             ],
             [
              0.2222222222222222,
              "#7201a8"
             ],
             [
              0.3333333333333333,
              "#9c179e"
             ],
             [
              0.4444444444444444,
              "#bd3786"
             ],
             [
              0.5555555555555556,
              "#d8576b"
             ],
             [
              0.6666666666666666,
              "#ed7953"
             ],
             [
              0.7777777777777778,
              "#fb9f3a"
             ],
             [
              0.8888888888888888,
              "#fdca26"
             ],
             [
              1,
              "#f0f921"
             ]
            ],
            "type": "histogram2d"
           }
          ],
          "histogram2dcontour": [
           {
            "colorbar": {
             "outlinewidth": 0,
             "ticks": ""
            },
            "colorscale": [
             [
              0,
              "#0d0887"
             ],
             [
              0.1111111111111111,
              "#46039f"
             ],
             [
              0.2222222222222222,
              "#7201a8"
             ],
             [
              0.3333333333333333,
              "#9c179e"
             ],
             [
              0.4444444444444444,
              "#bd3786"
             ],
             [
              0.5555555555555556,
              "#d8576b"
             ],
             [
              0.6666666666666666,
              "#ed7953"
             ],
             [
              0.7777777777777778,
              "#fb9f3a"
             ],
             [
              0.8888888888888888,
              "#fdca26"
             ],
             [
              1,
              "#f0f921"
             ]
            ],
            "type": "histogram2dcontour"
           }
          ],
          "mesh3d": [
           {
            "colorbar": {
             "outlinewidth": 0,
             "ticks": ""
            },
            "type": "mesh3d"
           }
          ],
          "parcoords": [
           {
            "line": {
             "colorbar": {
              "outlinewidth": 0,
              "ticks": ""
             }
            },
            "type": "parcoords"
           }
          ],
          "pie": [
           {
            "automargin": true,
            "type": "pie"
           }
          ],
          "scatter": [
           {
            "fillpattern": {
             "fillmode": "overlay",
             "size": 10,
             "solidity": 0.2
            },
            "type": "scatter"
           }
          ],
          "scatter3d": [
           {
            "line": {
             "colorbar": {
              "outlinewidth": 0,
              "ticks": ""
             }
            },
            "marker": {
             "colorbar": {
              "outlinewidth": 0,
              "ticks": ""
             }
            },
            "type": "scatter3d"
           }
          ],
          "scattercarpet": [
           {
            "marker": {
             "colorbar": {
              "outlinewidth": 0,
              "ticks": ""
             }
            },
            "type": "scattercarpet"
           }
          ],
          "scattergeo": [
           {
            "marker": {
             "colorbar": {
              "outlinewidth": 0,
              "ticks": ""
             }
            },
            "type": "scattergeo"
           }
          ],
          "scattergl": [
           {
            "marker": {
             "colorbar": {
              "outlinewidth": 0,
              "ticks": ""
             }
            },
            "type": "scattergl"
           }
          ],
          "scattermap": [
           {
            "marker": {
             "colorbar": {
              "outlinewidth": 0,
              "ticks": ""
             }
            },
            "type": "scattermap"
           }
          ],
          "scattermapbox": [
           {
            "marker": {
             "colorbar": {
              "outlinewidth": 0,
              "ticks": ""
             }
            },
            "type": "scattermapbox"
           }
          ],
          "scatterpolar": [
           {
            "marker": {
             "colorbar": {
              "outlinewidth": 0,
              "ticks": ""
             }
            },
            "type": "scatterpolar"
           }
          ],
          "scatterpolargl": [
           {
            "marker": {
             "colorbar": {
              "outlinewidth": 0,
              "ticks": ""
             }
            },
            "type": "scatterpolargl"
           }
          ],
          "scatterternary": [
           {
            "marker": {
             "colorbar": {
              "outlinewidth": 0,
              "ticks": ""
             }
            },
            "type": "scatterternary"
           }
          ],
          "surface": [
           {
            "colorbar": {
             "outlinewidth": 0,
             "ticks": ""
            },
            "colorscale": [
             [
              0,
              "#0d0887"
             ],
             [
              0.1111111111111111,
              "#46039f"
             ],
             [
              0.2222222222222222,
              "#7201a8"
             ],
             [
              0.3333333333333333,
              "#9c179e"
             ],
             [
              0.4444444444444444,
              "#bd3786"
             ],
             [
              0.5555555555555556,
              "#d8576b"
             ],
             [
              0.6666666666666666,
              "#ed7953"
             ],
             [
              0.7777777777777778,
              "#fb9f3a"
             ],
             [
              0.8888888888888888,
              "#fdca26"
             ],
             [
              1,
              "#f0f921"
             ]
            ],
            "type": "surface"
           }
          ],
          "table": [
           {
            "cells": {
             "fill": {
              "color": "#EBF0F8"
             },
             "line": {
              "color": "white"
             }
            },
            "header": {
             "fill": {
              "color": "#C8D4E3"
             },
             "line": {
              "color": "white"
             }
            },
            "type": "table"
           }
          ]
         },
         "layout": {
          "annotationdefaults": {
           "arrowcolor": "#2a3f5f",
           "arrowhead": 0,
           "arrowwidth": 1
          },
          "autotypenumbers": "strict",
          "coloraxis": {
           "colorbar": {
            "outlinewidth": 0,
            "ticks": ""
           }
          },
          "colorscale": {
           "diverging": [
            [
             0,
             "#8e0152"
            ],
            [
             0.1,
             "#c51b7d"
            ],
            [
             0.2,
             "#de77ae"
            ],
            [
             0.3,
             "#f1b6da"
            ],
            [
             0.4,
             "#fde0ef"
            ],
            [
             0.5,
             "#f7f7f7"
            ],
            [
             0.6,
             "#e6f5d0"
            ],
            [
             0.7,
             "#b8e186"
            ],
            [
             0.8,
             "#7fbc41"
            ],
            [
             0.9,
             "#4d9221"
            ],
            [
             1,
             "#276419"
            ]
           ],
           "sequential": [
            [
             0,
             "#0d0887"
            ],
            [
             0.1111111111111111,
             "#46039f"
            ],
            [
             0.2222222222222222,
             "#7201a8"
            ],
            [
             0.3333333333333333,
             "#9c179e"
            ],
            [
             0.4444444444444444,
             "#bd3786"
            ],
            [
             0.5555555555555556,
             "#d8576b"
            ],
            [
             0.6666666666666666,
             "#ed7953"
            ],
            [
             0.7777777777777778,
             "#fb9f3a"
            ],
            [
             0.8888888888888888,
             "#fdca26"
            ],
            [
             1,
             "#f0f921"
            ]
           ],
           "sequentialminus": [
            [
             0,
             "#0d0887"
            ],
            [
             0.1111111111111111,
             "#46039f"
            ],
            [
             0.2222222222222222,
             "#7201a8"
            ],
            [
             0.3333333333333333,
             "#9c179e"
            ],
            [
             0.4444444444444444,
             "#bd3786"
            ],
            [
             0.5555555555555556,
             "#d8576b"
            ],
            [
             0.6666666666666666,
             "#ed7953"
            ],
            [
             0.7777777777777778,
             "#fb9f3a"
            ],
            [
             0.8888888888888888,
             "#fdca26"
            ],
            [
             1,
             "#f0f921"
            ]
           ]
          },
          "colorway": [
           "#636efa",
           "#EF553B",
           "#00cc96",
           "#ab63fa",
           "#FFA15A",
           "#19d3f3",
           "#FF6692",
           "#B6E880",
           "#FF97FF",
           "#FECB52"
          ],
          "font": {
           "color": "#2a3f5f"
          },
          "geo": {
           "bgcolor": "white",
           "lakecolor": "white",
           "landcolor": "#E5ECF6",
           "showlakes": true,
           "showland": true,
           "subunitcolor": "white"
          },
          "hoverlabel": {
           "align": "left"
          },
          "hovermode": "closest",
          "mapbox": {
           "style": "light"
          },
          "paper_bgcolor": "white",
          "plot_bgcolor": "#E5ECF6",
          "polar": {
           "angularaxis": {
            "gridcolor": "white",
            "linecolor": "white",
            "ticks": ""
           },
           "bgcolor": "#E5ECF6",
           "radialaxis": {
            "gridcolor": "white",
            "linecolor": "white",
            "ticks": ""
           }
          },
          "scene": {
           "xaxis": {
            "backgroundcolor": "#E5ECF6",
            "gridcolor": "white",
            "gridwidth": 2,
            "linecolor": "white",
            "showbackground": true,
            "ticks": "",
            "zerolinecolor": "white"
           },
           "yaxis": {
            "backgroundcolor": "#E5ECF6",
            "gridcolor": "white",
            "gridwidth": 2,
            "linecolor": "white",
            "showbackground": true,
            "ticks": "",
            "zerolinecolor": "white"
           },
           "zaxis": {
            "backgroundcolor": "#E5ECF6",
            "gridcolor": "white",
            "gridwidth": 2,
            "linecolor": "white",
            "showbackground": true,
            "ticks": "",
            "zerolinecolor": "white"
           }
          },
          "shapedefaults": {
           "line": {
            "color": "#2a3f5f"
           }
          },
          "ternary": {
           "aaxis": {
            "gridcolor": "white",
            "linecolor": "white",
            "ticks": ""
           },
           "baxis": {
            "gridcolor": "white",
            "linecolor": "white",
            "ticks": ""
           },
           "bgcolor": "#E5ECF6",
           "caxis": {
            "gridcolor": "white",
            "linecolor": "white",
            "ticks": ""
           }
          },
          "title": {
           "x": 0.05
          },
          "xaxis": {
           "automargin": true,
           "gridcolor": "white",
           "linecolor": "white",
           "ticks": "",
           "title": {
            "standoff": 15
           },
           "zerolinecolor": "white",
           "zerolinewidth": 2
          },
          "yaxis": {
           "automargin": true,
           "gridcolor": "white",
           "linecolor": "white",
           "ticks": "",
           "title": {
            "standoff": 15
           },
           "zerolinecolor": "white",
           "zerolinewidth": 2
          }
         }
        },
        "title": {
         "text": "Residuals vs Fitted Plot"
        },
        "width": 800,
        "xaxis": {
         "anchor": "y",
         "domain": [
          0,
          1
         ],
         "title": {
          "text": "x"
         }
        },
        "yaxis": {
         "anchor": "x",
         "domain": [
          0,
          1
         ],
         "title": {
          "text": "y"
         }
        }
       }
      }
     },
     "metadata": {},
     "output_type": "display_data"
    }
   ],
   "source": [
    "fig = px.scatter(x =fitted, y=residuals, \n",
    "                 trendline_color_override=\"red\",\n",
    "                 trendline=\"ols\", \n",
    "                 height=600, width=800,\n",
    "                 title='Residuals vs Fitted Plot')\n",
    "fig.show()"
   ]
  },
  {
   "cell_type": "markdown",
   "metadata": {},
   "source": [
    "6. Calculate the square root of the absolute residuals"
   ]
  },
  {
   "cell_type": "code",
   "execution_count": 26,
   "metadata": {},
   "outputs": [],
   "source": [
    "influence = results.get_influence()\n",
    "residual_norm = influence.resid_studentized_internal\n",
    "residual_norm_abs_sqrt = np.sqrt(np.abs(residual_norm))"
   ]
  },
  {
   "cell_type": "markdown",
   "metadata": {},
   "source": [
    "7. To diagnose the homoscedasticity make a Scale-Location plot using a `scatter` between the fitted values and the square root of the absolute residuals"
   ]
  },
  {
   "cell_type": "code",
   "execution_count": 27,
   "metadata": {},
   "outputs": [
    {
     "data": {
      "application/vnd.plotly.v1+json": {
       "config": {
        "plotlyServerURL": "https://plot.ly"
       },
       "data": [
        {
         "hovertemplate": "x=%{x}<br>y=%{y}<extra></extra>",
         "legendgroup": "",
         "marker": {
          "color": "#636efa",
          "symbol": "circle"
         },
         "mode": "markers",
         "name": "",
         "orientation": "v",
         "showlegend": false,
         "type": "scatter",
         "x": {
          "bdata": "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",
          "dtype": "f8"
         },
         "xaxis": "x",
         "y": {
          "bdata": "JsbH5QAa6T9wQY/zByDmP5G97Pgpy+s/VEmANGdj3z9HZFu5P77pP6uqGl0LXsw/51/fDEhJ8T8kU9PYdYTSP+CTHFvH+O4/k1ZpeeVY6z9nE1Ph5PLtP/S+ZLKVIco/3xxkNOSa6j+/+ceP7zHjP/BnyPbBWPM/P09fPtms2T8NQn5hWxj0P/LjXD4a2vQ/g+32qF248j/rWoqzVa/yPy28zm/B4ew/r/E+dMl08T+bQhUHvwzSP9rT1CuscOs/ftFMpk4m8z+hkINNM4vuP47+VHwZh+4/3mlZWtWi8D/rvpZt+3TtP4SiDtWH0eg/bo94MTDy8z8/V3IToLbzP0ZaeSqjBfE/ZqO9Ctow6D8fMCuO7gv0P8XW+8uWrLo/pEbLDAqp4T8y49hbBsvwP5rQNZBDfeI/P0KiqbX09D+cgPi+0JbxPxq4pk8Gh98/s5c4ywYS4D++62NJ8y3tP8jozfTjcfg/XskoalmR4T/BIL/o4IrrP4BtjpgCNuE/0MEZKDJPzT9uyXzeVDL1Px/XJmJR1to/LzcDq5MN2T+yfWyg6vLsPwtZL59L+uk/BxEdN8Ut7D+nif0jI3HmP+Sl5acORts/H7+dqYA8zj8UryNRZUH1P43PSi07vOo/J6xjz3Nn5D93PJutyxf2P4Up2G8v5+s/NeUDfg0m4z9QuOkJVGvwPy6aVPKU4t4/DbfHRv+d7D9pSY1BecvtP48dZzayHOM/gxMJ2/Jq9D/Jlu62Bv3kP5yLv1hR1ew/bmDJ9Gx35D9euRlkqWTtP1FraF/sBu8/YNNOXe/f5T/cmF6ZVKXXP4r3r3e9g+Y/aCrCHPTu6j92Ys11dd7uP/WfxImzBc4/ix4Lao8P4z//A6IpuJXiP8GohxLqR/E/N33lDzHr4D+b5tXyeQ/APxjoPXkosPc/VGy9ZcIU6z9oaxS0q8ryPwmvfHXkeOg/fKIk8hyy6z86pChH2RvgPy4dCn71puQ/9Wq3d7aU7D/Sd9Ew1xvzP6NoManDb+w/FROOSRKT7T+/sfoCvfTUPxY+BPEfuN8/GVBv7A+p9D/QYSM1gJSiP0WIHBVDzvU/xP4o6UAY+D/xO1ETuR3uP7wpsKKZfPc/bjCYL1+exz/n25iBI7biP4/nAzfK8fI/j6NhcNGI5D8hXioLU3HsPzaPa9Xf9Oo/5Vl6JI/K4T+qTb/q5/u3P1mxOxXgSuQ/5FNPu4Ft6D/mrhQqJqTBP77gCa6hCvY/YGquVyLQ6z9U7q7NDqTbP1TKNpxsme0/sL6APeF57T9lLTUYxDTwP4YBV+1rEt8/ZyfGAj8p7j9eVYKOqa3zP0OAwP25uO0/EMmKMr667z+2ZQ1BJ/7TPx/del956/I/O0ugFpDU9z+RG5e12W3pPzbznrFwK/c/lYN8zZF17z+/OqmxwlfkP12UHHoPWO4/ab0rwgOb6z+7yFlnNJH5P9DcVNl4p+0/6xJhjr7t6T+QD8Sh+PztP5c5xME3vNw/7UMBHVtx3z84YV5Ot0bpP+1GETY2M+A/NUY8WklY8T8GQHqXR5rnP+NaADXsLes/krH22erS8T98OxvPmv7vP5Tvh+H4cPQ/EYgMwpx29T9rQY3gh4znP8SlpaR3heg/Os5pAP5/8T9iVB+xDqfiP0D+3WSDx+g/kuKO/Tlw8T8nWUjBzR/gP1xZGQ7Bn+I/9npk26Nm7T8KJg/nMuPxPyaTlH1PUes/vx3CEZq84z+LCvjOg3fePxFV2ZPeUOY/YHXkHQIF5j94wZ3s/2HiP357iWIBdfM/RYFR4Kwz7T8muoakcHfmP3342aYWje8/4O9m2/Ar4D90bEWZ6DfsP94jnfHxru0/692JVFNU6D+N5u5zdBPrP0ykD4RvlPE/PsGQGSYr5T9bb1cMZZL0P5P6x1uBP9w/XMaAr8W25T8hUBhieDDmPzu3yQixU/U/bEgBnz7f3T+Bgyj/QpzkPzina/l3Uu0//tlyblB55j90Xpd6ZI/hP32t6BLnVvM/dH19Puyf4z++C95BEUzzPxgNyiqNXuI/0KceEaPbpj/6h4yxKNjrPyW/bUadZ+8/Mp5mGprq6z9nzC6F5y/fP+W9Zt2f1ug/9tUlJ6hi1T/9j+Qrh8fqPxw3BB7Qx+o/X2G8oSlc8z9lbv2zm7L3P3UYf1PbhuM/SAEERvrA4z/zlk1wOMHpPz86RMhv3uQ/MwQGxpAR5D8QKna6hrfnPwJrjjgzXuY/3vL9Zdmo3z/r/zxZXxj1P8KXb5RsJuI/d9vStiii7j8WskWzee3qP3lX4w+ga9o/04CACBb/8T88YncKInz2P9XJuydziPY/PdYsBKwN8D/pHhaHPc7jP1w9BKHwfMQ/x3IQWPcI8z/s6dsrIEbtP+UfsD1Yxdo/8EekRjQf3z8vY4jOCi3zP5YA6FBE/fA/mUCW90QL8T8Bez0p7YXlPxTw+nU9vt4/WP6SSEsF2T/fmMsCeBfzP7vu+DizuOg/yjd8Vdcz9D9pezeLmS/yP5n1T11Bj+4/vVxZfs2y9j8JiEt5AifvPzM8QKD1iPQ/I8R10DoI3z8uhRKc4sbhP9TJElMIhd8/jdP+3UKh6D+2sysWh5vwP2NLZdmL+eQ/BvY02RZ6pj8CXIWWib3pP6PuorJYCOo/p0R5AZUn9D+h2QheMcDmP9KZhEdJPsw/4rC9W9Yx6z9b1yzsM5HzP61N0G8ibus/DKOS3U5p3T8p3DPKw3PpP2v+DNf+zOA/2YBKJgCI8j9/fExGSF/+P0ytp4mzkvA/3bRFzPjn6T/4eMX2npXvPw/bHrnfa8E/beI0GBom8D/fhBKZpPvhP1eJgUkeYeg/RcUSFf+x8D8jATOa6XboP3qAaIIDoes/mp7jXdYU+T94w4aAbVbxP68k+KGT0/Y/o0EVNCAq8j/VQXCwelTwPyBRAZYZQdA/FaR5Zu0t5j9kaao+103wP9x8kr/VfvQ/nyrJAyQ69D/7vT7ynCTrP44maBcNouM/qV8chSh/4j+l1nEwJlnmPxq2w46uceA/NMGUJyBi4z93qz4Fkt/yP/PZeJf9Uec/EBa41A2D4z+HGh0tkU7ZP9xo+CLiAOs/C48JLJc39D/gZ+P9bJziP6R+T67W1cQ/gevr8ue6+D99t7EYcBHfPy74yBAgCfM/e5Llv/Gj6j8eTH8GywHzP2Td+QBJofA/DfeOnC2W9D/+ot7KvH72P7XPQs0A1PM/6lHg23Tt4D+r4vBLIQbxP+sP284MzOc/vWEKFJZm4D+DghNbBb+wP8923+jYWNo/NVIt6cz18T+KXxmd+I3hP58TV7YFa/E/w/IQi6X+3T+v7IadFCjYP1R8n1FWbfE/G5Bol3vx9D9Ybtv57EHSPw+av7J+H+Q/AUkqDd/Slj8qlXvSqcDoP/vNPAU4J+Q/JJn+0zOZ7j+J6tylkjrnP6sQJrN3JPA/MET1IkkD2D++JeSjXffRP7HcQl7Obe0/2L39LZOp6j9VfuSdWurwPwqhc+xAENI/WRY3v2YR8T++JdtjWFjyP01A5W/knfc/zmU8gVJe7T8MLOG6JhTQP36TrtZx4dM/o+WDTryT+T8034LlM9z1P0L66nWni+I/4HJHI5s58z/O/AzKExTjP0BqYiOpsNE/UGbJqgrO4z9mwIeIzULQP9s/hDph+dY/JSVj93Vq7j9XKh2oK0LyPzB/V3LJbeU/6SqGmc75+T8wrQPRdU7oP1HlBdPw9NA/KfjFv+PT6z9WUoVJmQDzPzndpvXKCfM/R7H4yN595z+g7ibHhMjtP0ncxh3aQ+s/uNn9JT0y1z8mh9q+faXYP34nuWjoWes/WTxjGkjD9T/HSxqsorPlP8RTiTBnRO4/5tpbVtp86z+ZrXxEyBroPwJEAwpajOw/yLKTHEBO5z8Ht4zumCfnP4gYs+vcruc/k45THuyb5z8OHTNIXO7eP6XLZ64FdvQ/jSs05LBk5z+MmvYLmXzyP98gYXybFPg/QeZLq/yQ7T+aWc1JfKv1Px+aqjz83No/Zcgnil9/0j9kn91zkF7kPzgULMgqTtY/Gfk50rjb2j816sIM0u/lP6d0BvC+Yec/I1u7qMdw2T+42LJzd7TvPzk5kx41r+4/H6X5+w8G8T/Kd8emJs7UPxm4L97q0fc/j9I/ys415D9qIA7pE6XjP28u0zKAU+U/t7z3612g7z/GvyX/5k/3P8T1FP4y19w/hrSuzWMe5D88M1LheKD2P6T5yJUMUuY/Inw+ErN+7j8=",
          "dtype": "f8"
         },
         "yaxis": "y"
        },
        {
         "hovertemplate": "<b>OLS trendline</b><br>y = -0.000182437 * x + 0.82585<br>R<sup>2</sup>=0.000021<br><br>x=%{x}<br>y=%{y} <b>(trend)</b><extra></extra>",
         "legendgroup": "",
         "line": {
          "color": "red"
         },
         "marker": {
          "color": "#636efa",
          "symbol": "circle"
         },
         "mode": "lines",
         "name": "",
         "showlegend": false,
         "type": "scatter",
         "x": {
          "bdata": "ABAq0fL0s79Ags/AEsxkv9wXHaUxqLI/5FUg8GH7wj/cH7INq6LMP+n0oRX6JNM/5NlqpJ741z/gvjMzQ8zcP+5R/uDzz+A/a8RiKMY54z/pNsdvmKPlP2epK7dqDeg/5BuQ/jx36j9ijvRFD+HsP+AAWY3hSu8/rrle6lna8D/u8hAOQw/yPy0swzEsRPM/a2V1VRV59D+qnid5/q31P+nX2Zzn4vY/KBGMwNAX+D9nSj7kuUz5P6WD8Aejgfo/5LyiK4y2+z8k9lRPdev8P2IvB3NeIP4/oGi5lkdV/z/w0DVdGEUAQJDtDu+M3wBALgrogAF6AUDOJsESdhQCQG5DmqTqrgJADWBzNl9JA0CtfEzI0+MDQEyZJVpIfgRA67X+67wYBUCL0td9MbMFQCrvsA+mTQZAyQuKoRroBkBpKGMzj4IHQAlFPMUDHQhAqGEVV3i3CEBHfu7o7FEJQOeax3ph7AlAhregDNaGCkAl1HmeSiELQMXwUjC/uwtAZA0swjNWDEAEKgVUqPAMQKRG3uUciw1AQ2O3d5ElDkDif5AJBsAOQIKcaZt6Wg9AILlCLe/0D0Dg6o3fsUcQQDB5eijslBBAgAdncSbiEEDQlVO6YC8RQB8kQAObfBFAbrIsTNXJEUC+QBmVDxcSQA7PBd5JZBJAXl3yJoSxEkCu695vvv4SQP15y7j4SxNATQi4ATOZE0CdlqRKbeYTQO0kkZOnMxRAPLN93OGAFECMQWolHM4UQNzPVm5WGxVAK15Dt5BoFUB77C8Ay7UVQMt6HEkFAxZAGwkJkj9QFkBql/XaeZ0WQLol4iO06hZACbTObO43F0BZQru1KIUXQKnQp/5i0hdA+V6UR50fGEBJ7YCQ12wYQJl7bdkRuhhA6AlaIkwHGUA3mEZrhlQZQIcmM7TAoRlA17Qf/fruGUAnQwxGNTwaQHfR+I5viRpAxl/l16nWGkAW7tEg5CMbQGV8vmkecRtAtQqrsli+G0AFmZf7kgscQFUnhETNWBxApLVwjQemHED0Q13WQfMcQETSSR98QB1AlGA2aLaNHUDk7iKx8NodQDN9D/oqKB5Agwv8QmV1HkDSmeiLn8IeQCIo1dTZDx9AcrbBHRRdH0DCRK5mTqofQBDTmq+I9x9AsLBDfGEiIEDY97mg/kggQAA/MMWbbyBAKIam6TiWIEBQzRwO1rwgQHgUkzJz4yBAoFsJVxAKIUDIon97rTAhQPDp9Z9KVyFAGDFsxOd9IUA/eOLohKQhQGe/WA0iyyFAjgbPMb/xIUC2TUVWXBgiQN6Uu3r5PiJABtwxn5ZlIkAuI6jDM4wiQFZqHujQsiJAfrGUDG7ZIkCm+AoxCwAjQM4/gVWoJiNA9ob3eUVNI0Adzm2e4nMjQEUV5MJ/miNAbVxa5xzBI0CVo9ALuucjQL3qRjBXDiRA5TG9VPQ0JEANeTN5kVskQDTAqZ0ugiRAXAcgwsuoJECETpbmaM8kQKyVDAsG9iRA1NyCL6McJUD8I/lTQEMlQCNrb3jdaSVAS7LlnHqQJUBz+VvBF7clQJtA0uW03SVAw4dIClIEJkDrzr4u7yomQBMWNVOMUSZAO12rdyl4JkBjpCGcxp4mQIrrl8BjxSZAsjIO5QDsJkDaeYQJnhInQAHB+i07OSdAKQhxUthfJ0BRT+d2dYYnQHmWXZsSrSdAod3Tv6/TJ0DJJErkTPonQPFrwAjqIChAGbM2LYdHKEBB+qxRJG4oQGlBI3bBlChAkYiZml67KEC5zw+/++EoQOEWhuOYCClACF78BzYvKUAvpXIs01UpQFfs6FBwfClAfzNfdQ2jKUCnetWZqskpQM/BS75H8ClA9wjC4uQWKkAfUDgHgj0qQEeXrisfZCpAb94kULyKKkCXJZt0WbEqQL9sEZn21ypA5rOHvZP+KkAO+/3hMCUrQDZCdAbOSytAXonqKmtyK0CF0GBPCJkrQK0X13OlvytA1V5NmELmK0D9pcO83wwsQCXtOeF8MyxATTSwBRpaLEB1eyYqt4AsQJ3CnE5UpyxAxAkTc/HNLEDsUImXjvQsQBSY/7srGy1APN914MhBLUBkJuwEZmgtQIxtYikDjy1AtLTYTaC1LUDc+05yPdwtQARDxZbaAi5AK4o7u3cpLkBT0bHfFFAuQHsYKASydi5Ao1+eKE+dLkDKphRN7MMuQPLtinGJ6i5AGjUBliYRL0BCfHe6wzcvQGrD7d5gXi9AkgpkA/6EL0C6Udonm6svQOKYUEw40i9ACODGcNX4L0CYk55KuQ8wQCy32dwHIzBAwNoUb1Y2MEBU/k8BpUkwQOghi5PzXDBAfEXGJUJwMEAQaQG4kIMwQKSMPErfljBAOLB33C2qMEDM07JufL0wQGD37QDL0DBA9BopkxnkMECIPmQlaPcwQBxin7e2CjFAsIXaSQUeMUBEqRXcUzExQNjMUG6iRDFAbPCLAPFXMUAAFMeSP2sxQJQ3AiWOfjFAKFs9t9yRMUC8fnhJK6UxQE+is9t5uDFA48XubcjLMUB36SkAF98xQAsNZZJl8jFAnjCgJLQFMkAyVNu2AhkyQMZ3FklRLDJAWptR258/MkDuvoxt7lIyQILix/88ZjJAFgYDkot5MkCqKT4k2owyQD5NebYooDJA0nC0SHezMkBmlO/axcYyQPq3Km0U2jJAjttl/2LtMkAi/6CRsQAzQLYi3CMAFDNASkYXtk4nM0DeaVJInTozQHKNjdrrTTNABrHIbDphM0Ca1AP/iHQzQC34PpHXhzNAwRt6IyabM0BVP7W1dK4zQOli8EfDwTNAfYYr2hHVM0ARqmZsYOgzQKXNof6u+zNAOfHckP0ONEDNFBgjTCI0QGE4U7WaNTRA9VuOR+lINECJf8nZN1w0QB2jBGyGbzRAsMY//tSCNEBE6nqQI5Y0QNgNtiJyqTRAbDHxtMC8NEAAVSxHD9A0QJR4Z9ld4zRAKJyia6z2NEC8v939+gk1QFDjGJBJHTVA5AZUIpgwNUB4Ko+05kM1QAxOykY1VzVAn3EF2YNqNUAzlUBr0n01QMe4e/0gkTVAW9y2j2+kNUDv//Ehvrc1QIMjLbQMyzVAF0doRlveNUCraqPYqfE1QD+O3mr4BDZA07EZ/UYYNkBn1VSPlSs2QPv4jyHkPjZAjxzLszJSNkAjQAZGgWU2QLdjQdjPeDZAS4d8ah6MNkDfqrf8bJ82QHPO8o67sjZAB/ItIQrGNkCaFWmzWNk2QC45pEWn7DZAwlzf1/X/NkBWgBpqRBM3QOqjVfySJjdAfseQjuE5N0AR68sgME03QKUOB7N+YDdAOTJCRc1zN0DNVX3XG4c3QGF5uGlqmjdA9Zzz+7itN0CJwC6OB8E3QB3kaSBW1DdAsQelsqTnN0BFK+BE8/o3QNlOG9dBDjhAbXJWaZAhOEABlpH73jQ4QJW5zI0tSDhAKd0HIHxbOEC9AEOyym44QFEkfkQZgjhA5Ue51meVOEB5a/Rotqg4QA2PL/sEvDhAobJqjVPPOEA11qUfouI4QMn54LHw9ThAXR0cRD8JOUDxQFfWjRw5QIRkkmjcLzlAGIjN+ipDOUCrqwiNeVY5QD/PQx/IaTlA0/J+sRZ9OUBnFrpDZZA5QPs59dWzozlAj10waAK3OUAjgWv6UMo5QLekpoyf3TlAS8jhHu7wOUDf6xyxPAQ6QHMPWEOLFzpABzOT1dkqOkCbVs5nKD46QC96Cfp2UTpAw51EjMVkOkBXwX8eFHg6QOvkurBiizpAfwj2QrGeOkATLDHV/7E6QKdPbGdOxTpAO3On+ZzYOkDPluKL6+s6QGK6HR46/zpA9t1YsIgSO0CKAZRC1yU7QB4lz9QlOTtAskgKZ3RMO0BGbEX5wl87QNqPgIsRcztAbrO7HWCGO0AC1/avrpk7QJX6MUL9rDtAKR5t1EvAO0C9QahmmtM7QFFl4/jo5jtA5Ygeizf6O0B5rFkdhg08QA3QlK/UIDxAofPPQSM0PEA1FwvUcUc8QMk6RmbAWjxAXV6B+A5uPEDxgbyKXYE8QIWl9xyslDxAGckyr/qnPECt7G1BSbs8QEEQqdOXzjxA1DPkZebhPEBoVx/4NPU8QPx6WoqDCD1AkJ6VHNIbPUAkwtCuIC89QLjlC0FvQj1ATAlH071VPUDgLIJlDGk9QHRQvfdafD1ACHT4iamPPUCclzMc+KI9QDC7bq5Gtj1AxN6pQJXJPUBYAuXS49w9QOwlIGUy8D1AgElb94ADPkA=",
          "dtype": "f8"
         },
         "xaxis": "x",
         "y": {
          "bdata": "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",
          "dtype": "f8"
         },
         "yaxis": "y"
        }
       ],
       "layout": {
        "height": 600,
        "legend": {
         "tracegroupgap": 0
        },
        "template": {
         "data": {
          "bar": [
           {
            "error_x": {
             "color": "#2a3f5f"
            },
            "error_y": {
             "color": "#2a3f5f"
            },
            "marker": {
             "line": {
              "color": "#E5ECF6",
              "width": 0.5
             },
             "pattern": {
              "fillmode": "overlay",
              "size": 10,
              "solidity": 0.2
             }
            },
            "type": "bar"
           }
          ],
          "barpolar": [
           {
            "marker": {
             "line": {
              "color": "#E5ECF6",
              "width": 0.5
             },
             "pattern": {
              "fillmode": "overlay",
              "size": 10,
              "solidity": 0.2
             }
            },
            "type": "barpolar"
           }
          ],
          "carpet": [
           {
            "aaxis": {
             "endlinecolor": "#2a3f5f",
             "gridcolor": "white",
             "linecolor": "white",
             "minorgridcolor": "white",
             "startlinecolor": "#2a3f5f"
            },
            "baxis": {
             "endlinecolor": "#2a3f5f",
             "gridcolor": "white",
             "linecolor": "white",
             "minorgridcolor": "white",
             "startlinecolor": "#2a3f5f"
            },
            "type": "carpet"
           }
          ],
          "choropleth": [
           {
            "colorbar": {
             "outlinewidth": 0,
             "ticks": ""
            },
            "type": "choropleth"
           }
          ],
          "contour": [
           {
            "colorbar": {
             "outlinewidth": 0,
             "ticks": ""
            },
            "colorscale": [
             [
              0,
              "#0d0887"
             ],
             [
              0.1111111111111111,
              "#46039f"
             ],
             [
              0.2222222222222222,
              "#7201a8"
             ],
             [
              0.3333333333333333,
              "#9c179e"
             ],
             [
              0.4444444444444444,
              "#bd3786"
             ],
             [
              0.5555555555555556,
              "#d8576b"
             ],
             [
              0.6666666666666666,
              "#ed7953"
             ],
             [
              0.7777777777777778,
              "#fb9f3a"
             ],
             [
              0.8888888888888888,
              "#fdca26"
             ],
             [
              1,
              "#f0f921"
             ]
            ],
            "type": "contour"
           }
          ],
          "contourcarpet": [
           {
            "colorbar": {
             "outlinewidth": 0,
             "ticks": ""
            },
            "type": "contourcarpet"
           }
          ],
          "heatmap": [
           {
            "colorbar": {
             "outlinewidth": 0,
             "ticks": ""
            },
            "colorscale": [
             [
              0,
              "#0d0887"
             ],
             [
              0.1111111111111111,
              "#46039f"
             ],
             [
              0.2222222222222222,
              "#7201a8"
             ],
             [
              0.3333333333333333,
              "#9c179e"
             ],
             [
              0.4444444444444444,
              "#bd3786"
             ],
             [
              0.5555555555555556,
              "#d8576b"
             ],
             [
              0.6666666666666666,
              "#ed7953"
             ],
             [
              0.7777777777777778,
              "#fb9f3a"
             ],
             [
              0.8888888888888888,
              "#fdca26"
             ],
             [
              1,
              "#f0f921"
             ]
            ],
            "type": "heatmap"
           }
          ],
          "histogram": [
           {
            "marker": {
             "pattern": {
              "fillmode": "overlay",
              "size": 10,
              "solidity": 0.2
             }
            },
            "type": "histogram"
           }
          ],
          "histogram2d": [
           {
            "colorbar": {
             "outlinewidth": 0,
             "ticks": ""
            },
            "colorscale": [
             [
              0,
              "#0d0887"
             ],
             [
              0.1111111111111111,
              "#46039f"
             ],
             [
              0.2222222222222222,
              "#7201a8"
             ],
             [
              0.3333333333333333,
              "#9c179e"
             ],
             [
              0.4444444444444444,
              "#bd3786"
             ],
             [
              0.5555555555555556,
              "#d8576b"
             ],
             [
              0.6666666666666666,
              "#ed7953"
             ],
             [
              0.7777777777777778,
              "#fb9f3a"
             ],
             [
              0.8888888888888888,
              "#fdca26"
             ],
             [
              1,
              "#f0f921"
             ]
            ],
            "type": "histogram2d"
           }
          ],
          "histogram2dcontour": [
           {
            "colorbar": {
             "outlinewidth": 0,
             "ticks": ""
            },
            "colorscale": [
             [
              0,
              "#0d0887"
             ],
             [
              0.1111111111111111,
              "#46039f"
             ],
             [
              0.2222222222222222,
              "#7201a8"
             ],
             [
              0.3333333333333333,
              "#9c179e"
             ],
             [
              0.4444444444444444,
              "#bd3786"
             ],
             [
              0.5555555555555556,
              "#d8576b"
             ],
             [
              0.6666666666666666,
              "#ed7953"
             ],
             [
              0.7777777777777778,
              "#fb9f3a"
             ],
             [
              0.8888888888888888,
              "#fdca26"
             ],
             [
              1,
              "#f0f921"
             ]
            ],
            "type": "histogram2dcontour"
           }
          ],
          "mesh3d": [
           {
            "colorbar": {
             "outlinewidth": 0,
             "ticks": ""
            },
            "type": "mesh3d"
           }
          ],
          "parcoords": [
           {
            "line": {
             "colorbar": {
              "outlinewidth": 0,
              "ticks": ""
             }
            },
            "type": "parcoords"
           }
          ],
          "pie": [
           {
            "automargin": true,
            "type": "pie"
           }
          ],
          "scatter": [
           {
            "fillpattern": {
             "fillmode": "overlay",
             "size": 10,
             "solidity": 0.2
            },
            "type": "scatter"
           }
          ],
          "scatter3d": [
           {
            "line": {
             "colorbar": {
              "outlinewidth": 0,
              "ticks": ""
             }
            },
            "marker": {
             "colorbar": {
              "outlinewidth": 0,
              "ticks": ""
             }
            },
            "type": "scatter3d"
           }
          ],
          "scattercarpet": [
           {
            "marker": {
             "colorbar": {
              "outlinewidth": 0,
              "ticks": ""
             }
            },
            "type": "scattercarpet"
           }
          ],
          "scattergeo": [
           {
            "marker": {
             "colorbar": {
              "outlinewidth": 0,
              "ticks": ""
             }
            },
            "type": "scattergeo"
           }
          ],
          "scattergl": [
           {
            "marker": {
             "colorbar": {
              "outlinewidth": 0,
              "ticks": ""
             }
            },
            "type": "scattergl"
           }
          ],
          "scattermap": [
           {
            "marker": {
             "colorbar": {
              "outlinewidth": 0,
              "ticks": ""
             }
            },
            "type": "scattermap"
           }
          ],
          "scattermapbox": [
           {
            "marker": {
             "colorbar": {
              "outlinewidth": 0,
              "ticks": ""
             }
            },
            "type": "scattermapbox"
           }
          ],
          "scatterpolar": [
           {
            "marker": {
             "colorbar": {
              "outlinewidth": 0,
              "ticks": ""
             }
            },
            "type": "scatterpolar"
           }
          ],
          "scatterpolargl": [
           {
            "marker": {
             "colorbar": {
              "outlinewidth": 0,
              "ticks": ""
             }
            },
            "type": "scatterpolargl"
           }
          ],
          "scatterternary": [
           {
            "marker": {
             "colorbar": {
              "outlinewidth": 0,
              "ticks": ""
             }
            },
            "type": "scatterternary"
           }
          ],
          "surface": [
           {
            "colorbar": {
             "outlinewidth": 0,
             "ticks": ""
            },
            "colorscale": [
             [
              0,
              "#0d0887"
             ],
             [
              0.1111111111111111,
              "#46039f"
             ],
             [
              0.2222222222222222,
              "#7201a8"
             ],
             [
              0.3333333333333333,
              "#9c179e"
             ],
             [
              0.4444444444444444,
              "#bd3786"
             ],
             [
              0.5555555555555556,
              "#d8576b"
             ],
             [
              0.6666666666666666,
              "#ed7953"
             ],
             [
              0.7777777777777778,
              "#fb9f3a"
             ],
             [
              0.8888888888888888,
              "#fdca26"
             ],
             [
              1,
              "#f0f921"
             ]
            ],
            "type": "surface"
           }
          ],
          "table": [
           {
            "cells": {
             "fill": {
              "color": "#EBF0F8"
             },
             "line": {
              "color": "white"
             }
            },
            "header": {
             "fill": {
              "color": "#C8D4E3"
             },
             "line": {
              "color": "white"
             }
            },
            "type": "table"
           }
          ]
         },
         "layout": {
          "annotationdefaults": {
           "arrowcolor": "#2a3f5f",
           "arrowhead": 0,
           "arrowwidth": 1
          },
          "autotypenumbers": "strict",
          "coloraxis": {
           "colorbar": {
            "outlinewidth": 0,
            "ticks": ""
           }
          },
          "colorscale": {
           "diverging": [
            [
             0,
             "#8e0152"
            ],
            [
             0.1,
             "#c51b7d"
            ],
            [
             0.2,
             "#de77ae"
            ],
            [
             0.3,
             "#f1b6da"
            ],
            [
             0.4,
             "#fde0ef"
            ],
            [
             0.5,
             "#f7f7f7"
            ],
            [
             0.6,
             "#e6f5d0"
            ],
            [
             0.7,
             "#b8e186"
            ],
            [
             0.8,
             "#7fbc41"
            ],
            [
             0.9,
             "#4d9221"
            ],
            [
             1,
             "#276419"
            ]
           ],
           "sequential": [
            [
             0,
             "#0d0887"
            ],
            [
             0.1111111111111111,
             "#46039f"
            ],
            [
             0.2222222222222222,
             "#7201a8"
            ],
            [
             0.3333333333333333,
             "#9c179e"
            ],
            [
             0.4444444444444444,
             "#bd3786"
            ],
            [
             0.5555555555555556,
             "#d8576b"
            ],
            [
             0.6666666666666666,
             "#ed7953"
            ],
            [
             0.7777777777777778,
             "#fb9f3a"
            ],
            [
             0.8888888888888888,
             "#fdca26"
            ],
            [
             1,
             "#f0f921"
            ]
           ],
           "sequentialminus": [
            [
             0,
             "#0d0887"
            ],
            [
             0.1111111111111111,
             "#46039f"
            ],
            [
             0.2222222222222222,
             "#7201a8"
            ],
            [
             0.3333333333333333,
             "#9c179e"
            ],
            [
             0.4444444444444444,
             "#bd3786"
            ],
            [
             0.5555555555555556,
             "#d8576b"
            ],
            [
             0.6666666666666666,
             "#ed7953"
            ],
            [
             0.7777777777777778,
             "#fb9f3a"
            ],
            [
             0.8888888888888888,
             "#fdca26"
            ],
            [
             1,
             "#f0f921"
            ]
           ]
          },
          "colorway": [
           "#636efa",
           "#EF553B",
           "#00cc96",
           "#ab63fa",
           "#FFA15A",
           "#19d3f3",
           "#FF6692",
           "#B6E880",
           "#FF97FF",
           "#FECB52"
          ],
          "font": {
           "color": "#2a3f5f"
          },
          "geo": {
           "bgcolor": "white",
           "lakecolor": "white",
           "landcolor": "#E5ECF6",
           "showlakes": true,
           "showland": true,
           "subunitcolor": "white"
          },
          "hoverlabel": {
           "align": "left"
          },
          "hovermode": "closest",
          "mapbox": {
           "style": "light"
          },
          "paper_bgcolor": "white",
          "plot_bgcolor": "#E5ECF6",
          "polar": {
           "angularaxis": {
            "gridcolor": "white",
            "linecolor": "white",
            "ticks": ""
           },
           "bgcolor": "#E5ECF6",
           "radialaxis": {
            "gridcolor": "white",
            "linecolor": "white",
            "ticks": ""
           }
          },
          "scene": {
           "xaxis": {
            "backgroundcolor": "#E5ECF6",
            "gridcolor": "white",
            "gridwidth": 2,
            "linecolor": "white",
            "showbackground": true,
            "ticks": "",
            "zerolinecolor": "white"
           },
           "yaxis": {
            "backgroundcolor": "#E5ECF6",
            "gridcolor": "white",
            "gridwidth": 2,
            "linecolor": "white",
            "showbackground": true,
            "ticks": "",
            "zerolinecolor": "white"
           },
           "zaxis": {
            "backgroundcolor": "#E5ECF6",
            "gridcolor": "white",
            "gridwidth": 2,
            "linecolor": "white",
            "showbackground": true,
            "ticks": "",
            "zerolinecolor": "white"
           }
          },
          "shapedefaults": {
           "line": {
            "color": "#2a3f5f"
           }
          },
          "ternary": {
           "aaxis": {
            "gridcolor": "white",
            "linecolor": "white",
            "ticks": ""
           },
           "baxis": {
            "gridcolor": "white",
            "linecolor": "white",
            "ticks": ""
           },
           "bgcolor": "#E5ECF6",
           "caxis": {
            "gridcolor": "white",
            "linecolor": "white",
            "ticks": ""
           }
          },
          "title": {
           "x": 0.05
          },
          "xaxis": {
           "automargin": true,
           "gridcolor": "white",
           "linecolor": "white",
           "ticks": "",
           "title": {
            "standoff": 15
           },
           "zerolinecolor": "white",
           "zerolinewidth": 2
          },
          "yaxis": {
           "automargin": true,
           "gridcolor": "white",
           "linecolor": "white",
           "ticks": "",
           "title": {
            "standoff": 15
           },
           "zerolinecolor": "white",
           "zerolinewidth": 2
          }
         }
        },
        "title": {
         "text": "Scale-Location Plot"
        },
        "width": 800,
        "xaxis": {
         "anchor": "y",
         "domain": [
          0,
          1
         ],
         "title": {
          "text": "Fitted values"
         }
        },
        "yaxis": {
         "anchor": "x",
         "domain": [
          0,
          1
         ],
         "title": {
          "text": "\\sqrt{|Standardized Residuals|}"
         }
        }
       }
      }
     },
     "metadata": {},
     "output_type": "display_data"
    }
   ],
   "source": [
    "fig = px.scatter(x =fitted, y=residual_norm_abs_sqrt, \n",
    "                 trendline_color_override=\"red\",\n",
    "                 trendline=\"ols\", \n",
    "                 height=600, width=800,\n",
    "                 title='Scale-Location Plot')\n",
    "fig.update_layout(xaxis_title=\"Fitted values\", yaxis_title=r'\\sqrt{|Standardized Residuals|}')\n",
    "fig.show()"
   ]
  },
  {
   "cell_type": "markdown",
   "metadata": {},
   "source": [
    "8. Obtain the Leverage from the `influence` object by using `hat_matrix_diag`"
   ]
  },
  {
   "cell_type": "code",
   "execution_count": 28,
   "metadata": {},
   "outputs": [],
   "source": [
    "leverage = influence.hat_matrix_diag\n",
    "# cooks_distance = influence.cooks_distance[0]\n",
    "# nparams = len(results.params)\n",
    "# nresids = len(residual_norm)"
   ]
  },
  {
   "cell_type": "markdown",
   "metadata": {},
   "source": [
    "9. Make a Residual vs Leverage plot by making a `scatter` between the `leverage` and the `square root of the absolute residuals"
   ]
  },
  {
   "cell_type": "code",
   "execution_count": 29,
   "metadata": {},
   "outputs": [
    {
     "data": {
      "application/vnd.plotly.v1+json": {
       "config": {
        "plotlyServerURL": "https://plot.ly"
       },
       "data": [
        {
         "hovertemplate": "x=%{x}<br>y=%{y}<extra></extra>",
         "legendgroup": "",
         "marker": {
          "color": "#636efa",
          "symbol": "circle"
         },
         "mode": "markers",
         "name": "",
         "orientation": "v",
         "showlegend": false,
         "type": "scatter",
         "x": {
          "bdata": "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",
          "dtype": "f8"
         },
         "xaxis": "x",
         "y": {
          "bdata": "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",
          "dtype": "f8"
         },
         "yaxis": "y"
        },
        {
         "hovertemplate": "<b>OLS trendline</b><br>y = 24.8576 * x + -0.124225<br>R<sup>2</sup>=0.003090<br><br>x=%{x}<br>y=%{y} <b>(trend)</b><extra></extra>",
         "legendgroup": "",
         "line": {
          "color": "red"
         },
         "marker": {
          "color": "#636efa",
          "symbol": "circle"
         },
         "mode": "lines",
         "name": "",
         "showlegend": false,
         "type": "scatter",
         "x": {
          "bdata": "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",
          "dtype": "f8"
         },
         "xaxis": "x",
         "y": {
          "bdata": "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",
          "dtype": "f8"
         },
         "yaxis": "y"
        }
       ],
       "layout": {
        "height": 600,
        "legend": {
         "tracegroupgap": 0
        },
        "template": {
         "data": {
          "bar": [
           {
            "error_x": {
             "color": "#2a3f5f"
            },
            "error_y": {
             "color": "#2a3f5f"
            },
            "marker": {
             "line": {
              "color": "#E5ECF6",
              "width": 0.5
             },
             "pattern": {
              "fillmode": "overlay",
              "size": 10,
              "solidity": 0.2
             }
            },
            "type": "bar"
           }
          ],
          "barpolar": [
           {
            "marker": {
             "line": {
              "color": "#E5ECF6",
              "width": 0.5
             },
             "pattern": {
              "fillmode": "overlay",
              "size": 10,
              "solidity": 0.2
             }
            },
            "type": "barpolar"
           }
          ],
          "carpet": [
           {
            "aaxis": {
             "endlinecolor": "#2a3f5f",
             "gridcolor": "white",
             "linecolor": "white",
             "minorgridcolor": "white",
             "startlinecolor": "#2a3f5f"
            },
            "baxis": {
             "endlinecolor": "#2a3f5f",
             "gridcolor": "white",
             "linecolor": "white",
             "minorgridcolor": "white",
             "startlinecolor": "#2a3f5f"
            },
            "type": "carpet"
           }
          ],
          "choropleth": [
           {
            "colorbar": {
             "outlinewidth": 0,
             "ticks": ""
            },
            "type": "choropleth"
           }
          ],
          "contour": [
           {
            "colorbar": {
             "outlinewidth": 0,
             "ticks": ""
            },
            "colorscale": [
             [
              0,
              "#0d0887"
             ],
             [
              0.1111111111111111,
              "#46039f"
             ],
             [
              0.2222222222222222,
              "#7201a8"
             ],
             [
              0.3333333333333333,
              "#9c179e"
             ],
             [
              0.4444444444444444,
              "#bd3786"
             ],
             [
              0.5555555555555556,
              "#d8576b"
             ],
             [
              0.6666666666666666,
              "#ed7953"
             ],
             [
              0.7777777777777778,
              "#fb9f3a"
             ],
             [
              0.8888888888888888,
              "#fdca26"
             ],
             [
              1,
              "#f0f921"
             ]
            ],
            "type": "contour"
           }
          ],
          "contourcarpet": [
           {
            "colorbar": {
             "outlinewidth": 0,
             "ticks": ""
            },
            "type": "contourcarpet"
           }
          ],
          "heatmap": [
           {
            "colorbar": {
             "outlinewidth": 0,
             "ticks": ""
            },
            "colorscale": [
             [
              0,
              "#0d0887"
             ],
             [
              0.1111111111111111,
              "#46039f"
             ],
             [
              0.2222222222222222,
              "#7201a8"
             ],
             [
              0.3333333333333333,
              "#9c179e"
             ],
             [
              0.4444444444444444,
              "#bd3786"
             ],
             [
              0.5555555555555556,
              "#d8576b"
             ],
             [
              0.6666666666666666,
              "#ed7953"
             ],
             [
              0.7777777777777778,
              "#fb9f3a"
             ],
             [
              0.8888888888888888,
              "#fdca26"
             ],
             [
              1,
              "#f0f921"
             ]
            ],
            "type": "heatmap"
           }
          ],
          "histogram": [
           {
            "marker": {
             "pattern": {
              "fillmode": "overlay",
              "size": 10,
              "solidity": 0.2
             }
            },
            "type": "histogram"
           }
          ],
          "histogram2d": [
           {
            "colorbar": {
             "outlinewidth": 0,
             "ticks": ""
            },
            "colorscale": [
             [
              0,
              "#0d0887"
             ],
             [
              0.1111111111111111,
              "#46039f"
             ],
             [
              0.2222222222222222,
              "#7201a8"
             ],
             [
              0.3333333333333333,
              "#9c179e"
             ],
             [
              0.4444444444444444,
              "#bd3786"
             ],
             [
              0.5555555555555556,
              "#d8576b"
             ],
             [
              0.6666666666666666,
              "#ed7953"
             ],
             [
              0.7777777777777778,
              "#fb9f3a"
             ],
             [
              0.8888888888888888,
              "#fdca26"
             ],
             [
              1,
              "#f0f921"
             ]
            ],
            "type": "histogram2d"
           }
          ],
          "histogram2dcontour": [
           {
            "colorbar": {
             "outlinewidth": 0,
             "ticks": ""
            },
            "colorscale": [
             [
              0,
              "#0d0887"
             ],
             [
              0.1111111111111111,
              "#46039f"
             ],
             [
              0.2222222222222222,
              "#7201a8"
             ],
             [
              0.3333333333333333,
              "#9c179e"
             ],
             [
              0.4444444444444444,
              "#bd3786"
             ],
             [
              0.5555555555555556,
              "#d8576b"
             ],
             [
              0.6666666666666666,
              "#ed7953"
             ],
             [
              0.7777777777777778,
              "#fb9f3a"
             ],
             [
              0.8888888888888888,
              "#fdca26"
             ],
             [
              1,
              "#f0f921"
             ]
            ],
            "type": "histogram2dcontour"
           }
          ],
          "mesh3d": [
           {
            "colorbar": {
             "outlinewidth": 0,
             "ticks": ""
            },
            "type": "mesh3d"
           }
          ],
          "parcoords": [
           {
            "line": {
             "colorbar": {
              "outlinewidth": 0,
              "ticks": ""
             }
            },
            "type": "parcoords"
           }
          ],
          "pie": [
           {
            "automargin": true,
            "type": "pie"
           }
          ],
          "scatter": [
           {
            "fillpattern": {
             "fillmode": "overlay",
             "size": 10,
             "solidity": 0.2
            },
            "type": "scatter"
           }
          ],
          "scatter3d": [
           {
            "line": {
             "colorbar": {
              "outlinewidth": 0,
              "ticks": ""
             }
            },
            "marker": {
             "colorbar": {
              "outlinewidth": 0,
              "ticks": ""
             }
            },
            "type": "scatter3d"
           }
          ],
          "scattercarpet": [
           {
            "marker": {
             "colorbar": {
              "outlinewidth": 0,
              "ticks": ""
             }
            },
            "type": "scattercarpet"
           }
          ],
          "scattergeo": [
           {
            "marker": {
             "colorbar": {
              "outlinewidth": 0,
              "ticks": ""
             }
            },
            "type": "scattergeo"
           }
          ],
          "scattergl": [
           {
            "marker": {
             "colorbar": {
              "outlinewidth": 0,
              "ticks": ""
             }
            },
            "type": "scattergl"
           }
          ],
          "scattermap": [
           {
            "marker": {
             "colorbar": {
              "outlinewidth": 0,
              "ticks": ""
             }
            },
            "type": "scattermap"
           }
          ],
          "scattermapbox": [
           {
            "marker": {
             "colorbar": {
              "outlinewidth": 0,
              "ticks": ""
             }
            },
            "type": "scattermapbox"
           }
          ],
          "scatterpolar": [
           {
            "marker": {
             "colorbar": {
              "outlinewidth": 0,
              "ticks": ""
             }
            },
            "type": "scatterpolar"
           }
          ],
          "scatterpolargl": [
           {
            "marker": {
             "colorbar": {
              "outlinewidth": 0,
              "ticks": ""
             }
            },
            "type": "scatterpolargl"
           }
          ],
          "scatterternary": [
           {
            "marker": {
             "colorbar": {
              "outlinewidth": 0,
              "ticks": ""
             }
            },
            "type": "scatterternary"
           }
          ],
          "surface": [
           {
            "colorbar": {
             "outlinewidth": 0,
             "ticks": ""
            },
            "colorscale": [
             [
              0,
              "#0d0887"
             ],
             [
              0.1111111111111111,
              "#46039f"
             ],
             [
              0.2222222222222222,
              "#7201a8"
             ],
             [
              0.3333333333333333,
              "#9c179e"
             ],
             [
              0.4444444444444444,
              "#bd3786"
             ],
             [
              0.5555555555555556,
              "#d8576b"
             ],
             [
              0.6666666666666666,
              "#ed7953"
             ],
             [
              0.7777777777777778,
              "#fb9f3a"
             ],
             [
              0.8888888888888888,
              "#fdca26"
             ],
             [
              1,
              "#f0f921"
             ]
            ],
            "type": "surface"
           }
          ],
          "table": [
           {
            "cells": {
             "fill": {
              "color": "#EBF0F8"
             },
             "line": {
              "color": "white"
             }
            },
            "header": {
             "fill": {
              "color": "#C8D4E3"
             },
             "line": {
              "color": "white"
             }
            },
            "type": "table"
           }
          ]
         },
         "layout": {
          "annotationdefaults": {
           "arrowcolor": "#2a3f5f",
           "arrowhead": 0,
           "arrowwidth": 1
          },
          "autotypenumbers": "strict",
          "coloraxis": {
           "colorbar": {
            "outlinewidth": 0,
            "ticks": ""
           }
          },
          "colorscale": {
           "diverging": [
            [
             0,
             "#8e0152"
            ],
            [
             0.1,
             "#c51b7d"
            ],
            [
             0.2,
             "#de77ae"
            ],
            [
             0.3,
             "#f1b6da"
            ],
            [
             0.4,
             "#fde0ef"
            ],
            [
             0.5,
             "#f7f7f7"
            ],
            [
             0.6,
             "#e6f5d0"
            ],
            [
             0.7,
             "#b8e186"
            ],
            [
             0.8,
             "#7fbc41"
            ],
            [
             0.9,
             "#4d9221"
            ],
            [
             1,
             "#276419"
            ]
           ],
           "sequential": [
            [
             0,
             "#0d0887"
            ],
            [
             0.1111111111111111,
             "#46039f"
            ],
            [
             0.2222222222222222,
             "#7201a8"
            ],
            [
             0.3333333333333333,
             "#9c179e"
            ],
            [
             0.4444444444444444,
             "#bd3786"
            ],
            [
             0.5555555555555556,
             "#d8576b"
            ],
            [
             0.6666666666666666,
             "#ed7953"
            ],
            [
             0.7777777777777778,
             "#fb9f3a"
            ],
            [
             0.8888888888888888,
             "#fdca26"
            ],
            [
             1,
             "#f0f921"
            ]
           ],
           "sequentialminus": [
            [
             0,
             "#0d0887"
            ],
            [
             0.1111111111111111,
             "#46039f"
            ],
            [
             0.2222222222222222,
             "#7201a8"
            ],
            [
             0.3333333333333333,
             "#9c179e"
            ],
            [
             0.4444444444444444,
             "#bd3786"
            ],
            [
             0.5555555555555556,
             "#d8576b"
            ],
            [
             0.6666666666666666,
             "#ed7953"
            ],
            [
             0.7777777777777778,
             "#fb9f3a"
            ],
            [
             0.8888888888888888,
             "#fdca26"
            ],
            [
             1,
             "#f0f921"
            ]
           ]
          },
          "colorway": [
           "#636efa",
           "#EF553B",
           "#00cc96",
           "#ab63fa",
           "#FFA15A",
           "#19d3f3",
           "#FF6692",
           "#B6E880",
           "#FF97FF",
           "#FECB52"
          ],
          "font": {
           "color": "#2a3f5f"
          },
          "geo": {
           "bgcolor": "white",
           "lakecolor": "white",
           "landcolor": "#E5ECF6",
           "showlakes": true,
           "showland": true,
           "subunitcolor": "white"
          },
          "hoverlabel": {
           "align": "left"
          },
          "hovermode": "closest",
          "mapbox": {
           "style": "light"
          },
          "paper_bgcolor": "white",
          "plot_bgcolor": "#E5ECF6",
          "polar": {
           "angularaxis": {
            "gridcolor": "white",
            "linecolor": "white",
            "ticks": ""
           },
           "bgcolor": "#E5ECF6",
           "radialaxis": {
            "gridcolor": "white",
            "linecolor": "white",
            "ticks": ""
           }
          },
          "scene": {
           "xaxis": {
            "backgroundcolor": "#E5ECF6",
            "gridcolor": "white",
            "gridwidth": 2,
            "linecolor": "white",
            "showbackground": true,
            "ticks": "",
            "zerolinecolor": "white"
           },
           "yaxis": {
            "backgroundcolor": "#E5ECF6",
            "gridcolor": "white",
            "gridwidth": 2,
            "linecolor": "white",
            "showbackground": true,
            "ticks": "",
            "zerolinecolor": "white"
           },
           "zaxis": {
            "backgroundcolor": "#E5ECF6",
            "gridcolor": "white",
            "gridwidth": 2,
            "linecolor": "white",
            "showbackground": true,
            "ticks": "",
            "zerolinecolor": "white"
           }
          },
          "shapedefaults": {
           "line": {
            "color": "#2a3f5f"
           }
          },
          "ternary": {
           "aaxis": {
            "gridcolor": "white",
            "linecolor": "white",
            "ticks": ""
           },
           "baxis": {
            "gridcolor": "white",
            "linecolor": "white",
            "ticks": ""
           },
           "bgcolor": "#E5ECF6",
           "caxis": {
            "gridcolor": "white",
            "linecolor": "white",
            "ticks": ""
           }
          },
          "title": {
           "x": 0.05
          },
          "xaxis": {
           "automargin": true,
           "gridcolor": "white",
           "linecolor": "white",
           "ticks": "",
           "title": {
            "standoff": 15
           },
           "zerolinecolor": "white",
           "zerolinewidth": 2
          },
          "yaxis": {
           "automargin": true,
           "gridcolor": "white",
           "linecolor": "white",
           "ticks": "",
           "title": {
            "standoff": 15
           },
           "zerolinecolor": "white",
           "zerolinewidth": 2
          }
         }
        },
        "title": {
         "text": "Residual vs Leverage Plot"
        },
        "width": 800,
        "xaxis": {
         "anchor": "y",
         "domain": [
          0,
          1
         ],
         "title": {
          "text": "Leverage"
         }
        },
        "yaxis": {
         "anchor": "x",
         "domain": [
          0,
          1
         ],
         "title": {
          "text": "Standardized Residuals"
         }
        }
       }
      }
     },
     "metadata": {},
     "output_type": "display_data"
    }
   ],
   "source": [
    "fig = px.scatter(x =leverage, y=residual_norm, \n",
    "                 height=600, width=800,\n",
    "                 trendline_color_override=\"red\",\n",
    "                 trendline=\"ols\", \n",
    "                 title='Residual vs Leverage Plot')\n",
    "\n",
    "fig.update_layout(xaxis_title=\"Leverage\", yaxis_title=\"Standardized Residuals\")\n",
    "fig.show()"
   ]
  },
  {
   "cell_type": "markdown",
   "metadata": {},
   "source": [
    "10. To diagnose the Normality assumption create a QQ-plot comparing the theoretical against the sample quantiles"
   ]
  },
  {
   "cell_type": "code",
   "execution_count": 30,
   "metadata": {},
   "outputs": [],
   "source": [
    "from statsmodels.graphics.gofplots import ProbPlot\n",
    "QQ = ProbPlot(residual_norm)\n",
    "theoretical_quantiles = QQ.theoretical_quantiles\n",
    "sample_quantiles = QQ.sample_quantiles"
   ]
  },
  {
   "cell_type": "code",
   "execution_count": 31,
   "metadata": {},
   "outputs": [
    {
     "data": {
      "application/vnd.plotly.v1+json": {
       "config": {
        "plotlyServerURL": "https://plot.ly"
       },
       "data": [
        {
         "hovertemplate": "x=%{x}<br>y=%{y}<extra></extra>",
         "legendgroup": "",
         "marker": {
          "color": "#636efa",
          "symbol": "circle"
         },
         "mode": "markers",
         "name": "",
         "orientation": "v",
         "showlegend": false,
         "type": "scatter",
         "x": {
          "bdata": "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",
          "dtype": "f8"
         },
         "xaxis": "x",
         "y": {
          "bdata": "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",
          "dtype": "f8"
         },
         "yaxis": "y"
        },
        {
         "hovertemplate": "x=%{x}<br>y=%{y}<extra></extra>",
         "legendgroup": "",
         "line": {
          "color": "red",
          "dash": "solid"
         },
         "marker": {
          "symbol": "circle"
         },
         "mode": "lines",
         "name": "",
         "orientation": "v",
         "showlegend": false,
         "type": "scatter",
         "x": {
          "bdata": "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",
          "dtype": "f8"
         },
         "xaxis": "x",
         "y": {
          "bdata": "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",
          "dtype": "f8"
         },
         "yaxis": "y"
        }
       ],
       "layout": {
        "height": 600,
        "legend": {
         "tracegroupgap": 0
        },
        "template": {
         "data": {
          "bar": [
           {
            "error_x": {
             "color": "#2a3f5f"
            },
            "error_y": {
             "color": "#2a3f5f"
            },
            "marker": {
             "line": {
              "color": "#E5ECF6",
              "width": 0.5
             },
             "pattern": {
              "fillmode": "overlay",
              "size": 10,
              "solidity": 0.2
             }
            },
            "type": "bar"
           }
          ],
          "barpolar": [
           {
            "marker": {
             "line": {
              "color": "#E5ECF6",
              "width": 0.5
             },
             "pattern": {
              "fillmode": "overlay",
              "size": 10,
              "solidity": 0.2
             }
            },
            "type": "barpolar"
           }
          ],
          "carpet": [
           {
            "aaxis": {
             "endlinecolor": "#2a3f5f",
             "gridcolor": "white",
             "linecolor": "white",
             "minorgridcolor": "white",
             "startlinecolor": "#2a3f5f"
            },
            "baxis": {
             "endlinecolor": "#2a3f5f",
             "gridcolor": "white",
             "linecolor": "white",
             "minorgridcolor": "white",
             "startlinecolor": "#2a3f5f"
            },
            "type": "carpet"
           }
          ],
          "choropleth": [
           {
            "colorbar": {
             "outlinewidth": 0,
             "ticks": ""
            },
            "type": "choropleth"
           }
          ],
          "contour": [
           {
            "colorbar": {
             "outlinewidth": 0,
             "ticks": ""
            },
            "colorscale": [
             [
              0,
              "#0d0887"
             ],
             [
              0.1111111111111111,
              "#46039f"
             ],
             [
              0.2222222222222222,
              "#7201a8"
             ],
             [
              0.3333333333333333,
              "#9c179e"
             ],
             [
              0.4444444444444444,
              "#bd3786"
             ],
             [
              0.5555555555555556,
              "#d8576b"
             ],
             [
              0.6666666666666666,
              "#ed7953"
             ],
             [
              0.7777777777777778,
              "#fb9f3a"
             ],
             [
              0.8888888888888888,
              "#fdca26"
             ],
             [
              1,
              "#f0f921"
             ]
            ],
            "type": "contour"
           }
          ],
          "contourcarpet": [
           {
            "colorbar": {
             "outlinewidth": 0,
             "ticks": ""
            },
            "type": "contourcarpet"
           }
          ],
          "heatmap": [
           {
            "colorbar": {
             "outlinewidth": 0,
             "ticks": ""
            },
            "colorscale": [
             [
              0,
              "#0d0887"
             ],
             [
              0.1111111111111111,
              "#46039f"
             ],
             [
              0.2222222222222222,
              "#7201a8"
             ],
             [
              0.3333333333333333,
              "#9c179e"
             ],
             [
              0.4444444444444444,
              "#bd3786"
             ],
             [
              0.5555555555555556,
              "#d8576b"
             ],
             [
              0.6666666666666666,
              "#ed7953"
             ],
             [
              0.7777777777777778,
              "#fb9f3a"
             ],
             [
              0.8888888888888888,
              "#fdca26"
             ],
             [
              1,
              "#f0f921"
             ]
            ],
            "type": "heatmap"
           }
          ],
          "histogram": [
           {
            "marker": {
             "pattern": {
              "fillmode": "overlay",
              "size": 10,
              "solidity": 0.2
             }
            },
            "type": "histogram"
           }
          ],
          "histogram2d": [
           {
            "colorbar": {
             "outlinewidth": 0,
             "ticks": ""
            },
            "colorscale": [
             [
              0,
              "#0d0887"
             ],
             [
              0.1111111111111111,
              "#46039f"
             ],
             [
              0.2222222222222222,
              "#7201a8"
             ],
             [
              0.3333333333333333,
              "#9c179e"
             ],
             [
              0.4444444444444444,
              "#bd3786"
             ],
             [
              0.5555555555555556,
              "#d8576b"
             ],
             [
              0.6666666666666666,
              "#ed7953"
             ],
             [
              0.7777777777777778,
              "#fb9f3a"
             ],
             [
              0.8888888888888888,
              "#fdca26"
             ],
             [
              1,
              "#f0f921"
             ]
            ],
            "type": "histogram2d"
           }
          ],
          "histogram2dcontour": [
           {
            "colorbar": {
             "outlinewidth": 0,
             "ticks": ""
            },
            "colorscale": [
             [
              0,
              "#0d0887"
             ],
             [
              0.1111111111111111,
              "#46039f"
             ],
             [
              0.2222222222222222,
              "#7201a8"
             ],
             [
              0.3333333333333333,
              "#9c179e"
             ],
             [
              0.4444444444444444,
              "#bd3786"
             ],
             [
              0.5555555555555556,
              "#d8576b"
             ],
             [
              0.6666666666666666,
              "#ed7953"
             ],
             [
              0.7777777777777778,
              "#fb9f3a"
             ],
             [
              0.8888888888888888,
              "#fdca26"
             ],
             [
              1,
              "#f0f921"
             ]
            ],
            "type": "histogram2dcontour"
           }
          ],
          "mesh3d": [
           {
            "colorbar": {
             "outlinewidth": 0,
             "ticks": ""
            },
            "type": "mesh3d"
           }
          ],
          "parcoords": [
           {
            "line": {
             "colorbar": {
              "outlinewidth": 0,
              "ticks": ""
             }
            },
            "type": "parcoords"
           }
          ],
          "pie": [
           {
            "automargin": true,
            "type": "pie"
           }
          ],
          "scatter": [
           {
            "fillpattern": {
             "fillmode": "overlay",
             "size": 10,
             "solidity": 0.2
            },
            "type": "scatter"
           }
          ],
          "scatter3d": [
           {
            "line": {
             "colorbar": {
              "outlinewidth": 0,
              "ticks": ""
             }
            },
            "marker": {
             "colorbar": {
              "outlinewidth": 0,
              "ticks": ""
             }
            },
            "type": "scatter3d"
           }
          ],
          "scattercarpet": [
           {
            "marker": {
             "colorbar": {
              "outlinewidth": 0,
              "ticks": ""
             }
            },
            "type": "scattercarpet"
           }
          ],
          "scattergeo": [
           {
            "marker": {
             "colorbar": {
              "outlinewidth": 0,
              "ticks": ""
             }
            },
            "type": "scattergeo"
           }
          ],
          "scattergl": [
           {
            "marker": {
             "colorbar": {
              "outlinewidth": 0,
              "ticks": ""
             }
            },
            "type": "scattergl"
           }
          ],
          "scattermap": [
           {
            "marker": {
             "colorbar": {
              "outlinewidth": 0,
              "ticks": ""
             }
            },
            "type": "scattermap"
           }
          ],
          "scattermapbox": [
           {
            "marker": {
             "colorbar": {
              "outlinewidth": 0,
              "ticks": ""
             }
            },
            "type": "scattermapbox"
           }
          ],
          "scatterpolar": [
           {
            "marker": {
             "colorbar": {
              "outlinewidth": 0,
              "ticks": ""
             }
            },
            "type": "scatterpolar"
           }
          ],
          "scatterpolargl": [
           {
            "marker": {
             "colorbar": {
              "outlinewidth": 0,
              "ticks": ""
             }
            },
            "type": "scatterpolargl"
           }
          ],
          "scatterternary": [
           {
            "marker": {
             "colorbar": {
              "outlinewidth": 0,
              "ticks": ""
             }
            },
            "type": "scatterternary"
           }
          ],
          "surface": [
           {
            "colorbar": {
             "outlinewidth": 0,
             "ticks": ""
            },
            "colorscale": [
             [
              0,
              "#0d0887"
             ],
             [
              0.1111111111111111,
              "#46039f"
             ],
             [
              0.2222222222222222,
              "#7201a8"
             ],
             [
              0.3333333333333333,
              "#9c179e"
             ],
             [
              0.4444444444444444,
              "#bd3786"
             ],
             [
              0.5555555555555556,
              "#d8576b"
             ],
             [
              0.6666666666666666,
              "#ed7953"
             ],
             [
              0.7777777777777778,
              "#fb9f3a"
             ],
             [
              0.8888888888888888,
              "#fdca26"
             ],
             [
              1,
              "#f0f921"
             ]
            ],
            "type": "surface"
           }
          ],
          "table": [
           {
            "cells": {
             "fill": {
              "color": "#EBF0F8"
             },
             "line": {
              "color": "white"
             }
            },
            "header": {
             "fill": {
              "color": "#C8D4E3"
             },
             "line": {
              "color": "white"
             }
            },
            "type": "table"
           }
          ]
         },
         "layout": {
          "annotationdefaults": {
           "arrowcolor": "#2a3f5f",
           "arrowhead": 0,
           "arrowwidth": 1
          },
          "autotypenumbers": "strict",
          "coloraxis": {
           "colorbar": {
            "outlinewidth": 0,
            "ticks": ""
           }
          },
          "colorscale": {
           "diverging": [
            [
             0,
             "#8e0152"
            ],
            [
             0.1,
             "#c51b7d"
            ],
            [
             0.2,
             "#de77ae"
            ],
            [
             0.3,
             "#f1b6da"
            ],
            [
             0.4,
             "#fde0ef"
            ],
            [
             0.5,
             "#f7f7f7"
            ],
            [
             0.6,
             "#e6f5d0"
            ],
            [
             0.7,
             "#b8e186"
            ],
            [
             0.8,
             "#7fbc41"
            ],
            [
             0.9,
             "#4d9221"
            ],
            [
             1,
             "#276419"
            ]
           ],
           "sequential": [
            [
             0,
             "#0d0887"
            ],
            [
             0.1111111111111111,
             "#46039f"
            ],
            [
             0.2222222222222222,
             "#7201a8"
            ],
            [
             0.3333333333333333,
             "#9c179e"
            ],
            [
             0.4444444444444444,
             "#bd3786"
            ],
            [
             0.5555555555555556,
             "#d8576b"
            ],
            [
             0.6666666666666666,
             "#ed7953"
            ],
            [
             0.7777777777777778,
             "#fb9f3a"
            ],
            [
             0.8888888888888888,
             "#fdca26"
            ],
            [
             1,
             "#f0f921"
            ]
           ],
           "sequentialminus": [
            [
             0,
             "#0d0887"
            ],
            [
             0.1111111111111111,
             "#46039f"
            ],
            [
             0.2222222222222222,
             "#7201a8"
            ],
            [
             0.3333333333333333,
             "#9c179e"
            ],
            [
             0.4444444444444444,
             "#bd3786"
            ],
            [
             0.5555555555555556,
             "#d8576b"
            ],
            [
             0.6666666666666666,
             "#ed7953"
            ],
            [
             0.7777777777777778,
             "#fb9f3a"
            ],
            [
             0.8888888888888888,
             "#fdca26"
            ],
            [
             1,
             "#f0f921"
            ]
           ]
          },
          "colorway": [
           "#636efa",
           "#EF553B",
           "#00cc96",
           "#ab63fa",
           "#FFA15A",
           "#19d3f3",
           "#FF6692",
           "#B6E880",
           "#FF97FF",
           "#FECB52"
          ],
          "font": {
           "color": "#2a3f5f"
          },
          "geo": {
           "bgcolor": "white",
           "lakecolor": "white",
           "landcolor": "#E5ECF6",
           "showlakes": true,
           "showland": true,
           "subunitcolor": "white"
          },
          "hoverlabel": {
           "align": "left"
          },
          "hovermode": "closest",
          "mapbox": {
           "style": "light"
          },
          "paper_bgcolor": "white",
          "plot_bgcolor": "#E5ECF6",
          "polar": {
           "angularaxis": {
            "gridcolor": "white",
            "linecolor": "white",
            "ticks": ""
           },
           "bgcolor": "#E5ECF6",
           "radialaxis": {
            "gridcolor": "white",
            "linecolor": "white",
            "ticks": ""
           }
          },
          "scene": {
           "xaxis": {
            "backgroundcolor": "#E5ECF6",
            "gridcolor": "white",
            "gridwidth": 2,
            "linecolor": "white",
            "showbackground": true,
            "ticks": "",
            "zerolinecolor": "white"
           },
           "yaxis": {
            "backgroundcolor": "#E5ECF6",
            "gridcolor": "white",
            "gridwidth": 2,
            "linecolor": "white",
            "showbackground": true,
            "ticks": "",
            "zerolinecolor": "white"
           },
           "zaxis": {
            "backgroundcolor": "#E5ECF6",
            "gridcolor": "white",
            "gridwidth": 2,
            "linecolor": "white",
            "showbackground": true,
            "ticks": "",
            "zerolinecolor": "white"
           }
          },
          "shapedefaults": {
           "line": {
            "color": "#2a3f5f"
           }
          },
          "ternary": {
           "aaxis": {
            "gridcolor": "white",
            "linecolor": "white",
            "ticks": ""
           },
           "baxis": {
            "gridcolor": "white",
            "linecolor": "white",
            "ticks": ""
           },
           "bgcolor": "#E5ECF6",
           "caxis": {
            "gridcolor": "white",
            "linecolor": "white",
            "ticks": ""
           }
          },
          "title": {
           "x": 0.05
          },
          "xaxis": {
           "automargin": true,
           "gridcolor": "white",
           "linecolor": "white",
           "ticks": "",
           "title": {
            "standoff": 15
           },
           "zerolinecolor": "white",
           "zerolinewidth": 2
          },
          "yaxis": {
           "automargin": true,
           "gridcolor": "white",
           "linecolor": "white",
           "ticks": "",
           "title": {
            "standoff": 15
           },
           "zerolinecolor": "white",
           "zerolinewidth": 2
          }
         }
        },
        "title": {
         "text": "Normal QQ Plot"
        },
        "width": 800,
        "xaxis": {
         "anchor": "y",
         "domain": [
          0,
          1
         ],
         "title": {
          "text": "Theoretical Quantiles"
         }
        },
        "yaxis": {
         "anchor": "x",
         "domain": [
          0,
          1
         ],
         "title": {
          "text": "Standardized Residuals"
         }
        }
       }
      }
     },
     "metadata": {},
     "output_type": "display_data"
    }
   ],
   "source": [
    "fig = px.scatter(x =theoretical_quantiles, y=sample_quantiles, \n",
    "                 height=600, width=800,\n",
    "                 title='Normal QQ Plot')\n",
    "fig.add_traces(px.line(x=theoretical_quantiles, y=theoretical_quantiles, color_discrete_sequence=[\"red\"]).data, )\n",
    "fig.update_layout(xaxis_title=\"Theoretical Quantiles\", yaxis_title=\"Standardized Residuals\")\n",
    "fig.show()"
   ]
  },
  {
   "cell_type": "code",
   "execution_count": null,
   "metadata": {},
   "outputs": [],
   "source": []
  }
 ],
 "metadata": {
  "kernelspec": {
   "display_name": ".venv",
   "language": "python",
   "name": "python3"
  },
  "language_info": {
   "codemirror_mode": {
    "name": "ipython",
    "version": 3
   },
   "file_extension": ".py",
   "mimetype": "text/x-python",
   "name": "python",
   "nbconvert_exporter": "python",
   "pygments_lexer": "ipython3",
   "version": "3.11.4"
  }
 },
 "nbformat": 4,
 "nbformat_minor": 2
}
