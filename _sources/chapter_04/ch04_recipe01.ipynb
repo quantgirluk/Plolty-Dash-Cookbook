{
 "cells": [
  {
   "cell_type": "markdown",
   "metadata": {},
   "source": [
    "# Making Histograms"
   ]
  },
  {
   "cell_type": "markdown",
   "metadata": {},
   "source": [
    "A **histogram** is a type of bar chart used to represent the distribution of a data set. It displays data by grouping numerical values into bins or intervals along the x-axis and representing the frequency or count of data points within each bin on the y-axis. This graphical tool helps in visualizing the shape of the data distribution, identifying patterns like skewness, and recognizing whether the data follows a particular distribution (e.g., normal distribution). Histograms are particularly useful when you want to understand the underlying frequency distribution of continuous variables, such as age, income, or temperature.\n",
    "\n",
    "However, histograms are not always the best tool for every type of data. For instance, they are inappropriate for categorical or discrete data, as those types of data don't have a continuous range to be grouped into intervals. For categorical data, bar charts or pie charts are better suited because they show individual categories rather than aggregated ranges. \n",
    "\n",
    "Additionally, histograms can sometimes be misleading if the bin size is not chosen carefully. Too few bins may oversimplify the data, while too many bins can make the data appear overly complex, obscuring the underlying pattern. Thus, histograms should be used when dealing with continuous data and when there is an interest in understanding the overall shape of the data distribution."
   ]
  },
  {
   "cell_type": "markdown",
   "metadata": {},
   "source": [
    "\n",
    "**Density Scale**\n",
    "\n",
    "In addition to representing data with frequencies, histograms can also be displayed on a **density scale**. In a frequency histogram, the height of each bar corresponds to the number of data points that fall within each bin. However, in a density histogram, the y-axis represents the **density**—the relative frequency of data points per unit of the variable on the x-axis. To construct a density histogram, the frequency for each bin is divided by the total number of data points and by the bin width. This scaling ensures that the area under the histogram adds up to 1, which allows it to approximate a probability distribution, making it easier to compare data sets with different sample sizes or different bin widths.\n",
    "\n",
    "Density histograms are particularly useful when you want to focus on the **proportion** of data in each bin rather than the absolute count. They are especially relevant in statistical contexts where data is being compared to theoretical probability distributions, such as the normal distribution. However, like frequency histograms, they are not appropriate for categorical data, and they may also become less interpretable if the bin widths are poorly chosen. When deciding between a frequency or density scale, consider whether you are interested in the raw counts (frequency) or in understanding the shape of the data distribution in relation to probability (density).\n",
    "\n",
    "\n",
    "**Cummulative Form**\n",
    "\n",
    "Histograms can also be displayed in a **cumulative form**, which shows the cumulative frequency or cumulative density of data points up to each bin. Instead of displaying the number (or density) of data points that fall within each individual bin, a cumulative histogram adds up the frequencies or densities from all previous bins, so each bar represents the total count or proportion of data points up to that bin. This provides a visual representation of the cumulative distribution of the data, allowing you to see how data accumulates over its range.\n",
    "\n",
    "Cumulative histograms are particularly useful when you're interested in understanding the proportion of data points below a certain threshold, such as determining what percentage of data falls below a given value. They can also help visualize patterns in how data accumulates, such as identifying points where the rate of accumulation changes, which might indicate outliers, thresholds, or distribution shifts. \n",
    "\n",
    "When using cumulative histograms, it's important to decide whether you want the cumulative version of a **frequency histogram** (where you display cumulative counts) or a **density histogram** (where you display cumulative proportions or probabilities). In both cases, the cumulative plot will always be non-decreasing, as each bin adds the current frequency or density to the total from previous bins.\n",
    "\n",
    "Cumulative histograms are less effective for understanding the distribution shape at a glance compared to regular histograms, as they obscure the exact frequencies within each bin. They are also not suitable for categorical data but work well for continuous data when cumulative trends or thresholds are of interest."
   ]
  },
  {
   "cell_type": "markdown",
   "metadata": {},
   "source": [
    "## Getting ready\n",
    "\n",
    "\n",
    "In addition to `plotly`, `numpy` and `pandas`, make sure the [`scipy`](https://scipy.org) Python library avaiable in your Python environment\n",
    "You can install it using the command:"
   ]
  },
  {
   "cell_type": "markdown",
   "metadata": {},
   "source": [
    "```\n",
    "pip install scipy \n",
    "```"
   ]
  },
  {
   "cell_type": "markdown",
   "metadata": {},
   "source": [
    "For this recipe we will create two data sets"
   ]
  },
  {
   "cell_type": "markdown",
   "metadata": {},
   "source": [
    "1. Import the Python modules `numpy`, `pandas`. Import the [`norm`](https://docs.scipy.org/doc/scipy/reference/generated/scipy.stats.norm.html) object from `scipy.stats`. This object will allow us to generate random samples from a normal distribution. This will help us to create data sets to be used in this recipe."
   ]
  },
  {
   "cell_type": "code",
   "execution_count": 2,
   "metadata": {},
   "outputs": [],
   "source": [
    "import numpy as np\n",
    "import pandas as pd\n",
    "from scipy.stats import norm"
   ]
  },
  {
   "cell_type": "markdown",
   "metadata": {},
   "source": [
    "2. Create two data sets to be used in this recipe"
   ]
  },
  {
   "cell_type": "code",
   "execution_count": 3,
   "metadata": {},
   "outputs": [],
   "source": [
    "n = 400\n",
    "sample1 = norm().rvs(n)\n",
    "sample2 = norm(loc=3, scale=0.5).rvs(n)"
   ]
  },
  {
   "cell_type": "code",
   "execution_count": 4,
   "metadata": {},
   "outputs": [],
   "source": [
    "data1 = pd.DataFrame({'Normal': sample1})"
   ]
  },
  {
   "cell_type": "code",
   "execution_count": 5,
   "metadata": {},
   "outputs": [],
   "source": [
    "samples =  np.concatenate( (sample1, sample2))\n",
    "labels = ['Sample 1']*n + ['Sample 2']*n \n",
    "data2 = pd.DataFrame({'Data': samples, 'Label':labels})"
   ]
  },
  {
   "cell_type": "markdown",
   "metadata": {},
   "source": [
    "## How to do it"
   ]
  },
  {
   "cell_type": "markdown",
   "metadata": {},
   "source": [
    "1. Import the `plotly.express` module as `px`"
   ]
  },
  {
   "cell_type": "code",
   "execution_count": 6,
   "metadata": {},
   "outputs": [],
   "source": [
    "import plotly.express as px"
   ]
  },
  {
   "cell_type": "markdown",
   "metadata": {},
   "source": [
    "### One data set"
   ]
  },
  {
   "cell_type": "markdown",
   "metadata": {},
   "source": [
    "1. Make a simple histogram to illustrate the distribution of the data in `data1` using the function `histogram`"
   ]
  },
  {
   "cell_type": "code",
   "execution_count": 7,
   "metadata": {},
   "outputs": [
    {
     "data": {
      "application/vnd.plotly.v1+json": {
       "config": {
        "plotlyServerURL": "https://plot.ly"
       },
       "data": [
        {
         "bingroup": "x",
         "hovertemplate": "Normal=%{x}<br>count=%{y}<extra></extra>",
         "legendgroup": "",
         "marker": {
          "color": "#636efa",
          "pattern": {
           "shape": ""
          }
         },
         "name": "",
         "orientation": "v",
         "showlegend": false,
         "type": "histogram",
         "x": {
          "bdata": "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",
          "dtype": "f8"
         },
         "xaxis": "x",
         "yaxis": "y"
        }
       ],
       "layout": {
        "barmode": "relative",
        "legend": {
         "tracegroupgap": 0
        },
        "margin": {
         "t": 60
        },
        "template": {
         "data": {
          "bar": [
           {
            "error_x": {
             "color": "#2a3f5f"
            },
            "error_y": {
             "color": "#2a3f5f"
            },
            "marker": {
             "line": {
              "color": "#E5ECF6",
              "width": 0.5
             },
             "pattern": {
              "fillmode": "overlay",
              "size": 10,
              "solidity": 0.2
             }
            },
            "type": "bar"
           }
          ],
          "barpolar": [
           {
            "marker": {
             "line": {
              "color": "#E5ECF6",
              "width": 0.5
             },
             "pattern": {
              "fillmode": "overlay",
              "size": 10,
              "solidity": 0.2
             }
            },
            "type": "barpolar"
           }
          ],
          "carpet": [
           {
            "aaxis": {
             "endlinecolor": "#2a3f5f",
             "gridcolor": "white",
             "linecolor": "white",
             "minorgridcolor": "white",
             "startlinecolor": "#2a3f5f"
            },
            "baxis": {
             "endlinecolor": "#2a3f5f",
             "gridcolor": "white",
             "linecolor": "white",
             "minorgridcolor": "white",
             "startlinecolor": "#2a3f5f"
            },
            "type": "carpet"
           }
          ],
          "choropleth": [
           {
            "colorbar": {
             "outlinewidth": 0,
             "ticks": ""
            },
            "type": "choropleth"
           }
          ],
          "contour": [
           {
            "colorbar": {
             "outlinewidth": 0,
             "ticks": ""
            },
            "colorscale": [
             [
              0,
              "#0d0887"
             ],
             [
              0.1111111111111111,
              "#46039f"
             ],
             [
              0.2222222222222222,
              "#7201a8"
             ],
             [
              0.3333333333333333,
              "#9c179e"
             ],
             [
              0.4444444444444444,
              "#bd3786"
             ],
             [
              0.5555555555555556,
              "#d8576b"
             ],
             [
              0.6666666666666666,
              "#ed7953"
             ],
             [
              0.7777777777777778,
              "#fb9f3a"
             ],
             [
              0.8888888888888888,
              "#fdca26"
             ],
             [
              1,
              "#f0f921"
             ]
            ],
            "type": "contour"
           }
          ],
          "contourcarpet": [
           {
            "colorbar": {
             "outlinewidth": 0,
             "ticks": ""
            },
            "type": "contourcarpet"
           }
          ],
          "heatmap": [
           {
            "colorbar": {
             "outlinewidth": 0,
             "ticks": ""
            },
            "colorscale": [
             [
              0,
              "#0d0887"
             ],
             [
              0.1111111111111111,
              "#46039f"
             ],
             [
              0.2222222222222222,
              "#7201a8"
             ],
             [
              0.3333333333333333,
              "#9c179e"
             ],
             [
              0.4444444444444444,
              "#bd3786"
             ],
             [
              0.5555555555555556,
              "#d8576b"
             ],
             [
              0.6666666666666666,
              "#ed7953"
             ],
             [
              0.7777777777777778,
              "#fb9f3a"
             ],
             [
              0.8888888888888888,
              "#fdca26"
             ],
             [
              1,
              "#f0f921"
             ]
            ],
            "type": "heatmap"
           }
          ],
          "histogram": [
           {
            "marker": {
             "pattern": {
              "fillmode": "overlay",
              "size": 10,
              "solidity": 0.2
             }
            },
            "type": "histogram"
           }
          ],
          "histogram2d": [
           {
            "colorbar": {
             "outlinewidth": 0,
             "ticks": ""
            },
            "colorscale": [
             [
              0,
              "#0d0887"
             ],
             [
              0.1111111111111111,
              "#46039f"
             ],
             [
              0.2222222222222222,
              "#7201a8"
             ],
             [
              0.3333333333333333,
              "#9c179e"
             ],
             [
              0.4444444444444444,
              "#bd3786"
             ],
             [
              0.5555555555555556,
              "#d8576b"
             ],
             [
              0.6666666666666666,
              "#ed7953"
             ],
             [
              0.7777777777777778,
              "#fb9f3a"
             ],
             [
              0.8888888888888888,
              "#fdca26"
             ],
             [
              1,
              "#f0f921"
             ]
            ],
            "type": "histogram2d"
           }
          ],
          "histogram2dcontour": [
           {
            "colorbar": {
             "outlinewidth": 0,
             "ticks": ""
            },
            "colorscale": [
             [
              0,
              "#0d0887"
             ],
             [
              0.1111111111111111,
              "#46039f"
             ],
             [
              0.2222222222222222,
              "#7201a8"
             ],
             [
              0.3333333333333333,
              "#9c179e"
             ],
             [
              0.4444444444444444,
              "#bd3786"
             ],
             [
              0.5555555555555556,
              "#d8576b"
             ],
             [
              0.6666666666666666,
              "#ed7953"
             ],
             [
              0.7777777777777778,
              "#fb9f3a"
             ],
             [
              0.8888888888888888,
              "#fdca26"
             ],
             [
              1,
              "#f0f921"
             ]
            ],
            "type": "histogram2dcontour"
           }
          ],
          "mesh3d": [
           {
            "colorbar": {
             "outlinewidth": 0,
             "ticks": ""
            },
            "type": "mesh3d"
           }
          ],
          "parcoords": [
           {
            "line": {
             "colorbar": {
              "outlinewidth": 0,
              "ticks": ""
             }
            },
            "type": "parcoords"
           }
          ],
          "pie": [
           {
            "automargin": true,
            "type": "pie"
           }
          ],
          "scatter": [
           {
            "fillpattern": {
             "fillmode": "overlay",
             "size": 10,
             "solidity": 0.2
            },
            "type": "scatter"
           }
          ],
          "scatter3d": [
           {
            "line": {
             "colorbar": {
              "outlinewidth": 0,
              "ticks": ""
             }
            },
            "marker": {
             "colorbar": {
              "outlinewidth": 0,
              "ticks": ""
             }
            },
            "type": "scatter3d"
           }
          ],
          "scattercarpet": [
           {
            "marker": {
             "colorbar": {
              "outlinewidth": 0,
              "ticks": ""
             }
            },
            "type": "scattercarpet"
           }
          ],
          "scattergeo": [
           {
            "marker": {
             "colorbar": {
              "outlinewidth": 0,
              "ticks": ""
             }
            },
            "type": "scattergeo"
           }
          ],
          "scattergl": [
           {
            "marker": {
             "colorbar": {
              "outlinewidth": 0,
              "ticks": ""
             }
            },
            "type": "scattergl"
           }
          ],
          "scattermap": [
           {
            "marker": {
             "colorbar": {
              "outlinewidth": 0,
              "ticks": ""
             }
            },
            "type": "scattermap"
           }
          ],
          "scattermapbox": [
           {
            "marker": {
             "colorbar": {
              "outlinewidth": 0,
              "ticks": ""
             }
            },
            "type": "scattermapbox"
           }
          ],
          "scatterpolar": [
           {
            "marker": {
             "colorbar": {
              "outlinewidth": 0,
              "ticks": ""
             }
            },
            "type": "scatterpolar"
           }
          ],
          "scatterpolargl": [
           {
            "marker": {
             "colorbar": {
              "outlinewidth": 0,
              "ticks": ""
             }
            },
            "type": "scatterpolargl"
           }
          ],
          "scatterternary": [
           {
            "marker": {
             "colorbar": {
              "outlinewidth": 0,
              "ticks": ""
             }
            },
            "type": "scatterternary"
           }
          ],
          "surface": [
           {
            "colorbar": {
             "outlinewidth": 0,
             "ticks": ""
            },
            "colorscale": [
             [
              0,
              "#0d0887"
             ],
             [
              0.1111111111111111,
              "#46039f"
             ],
             [
              0.2222222222222222,
              "#7201a8"
             ],
             [
              0.3333333333333333,
              "#9c179e"
             ],
             [
              0.4444444444444444,
              "#bd3786"
             ],
             [
              0.5555555555555556,
              "#d8576b"
             ],
             [
              0.6666666666666666,
              "#ed7953"
             ],
             [
              0.7777777777777778,
              "#fb9f3a"
             ],
             [
              0.8888888888888888,
              "#fdca26"
             ],
             [
              1,
              "#f0f921"
             ]
            ],
            "type": "surface"
           }
          ],
          "table": [
           {
            "cells": {
             "fill": {
              "color": "#EBF0F8"
             },
             "line": {
              "color": "white"
             }
            },
            "header": {
             "fill": {
              "color": "#C8D4E3"
             },
             "line": {
              "color": "white"
             }
            },
            "type": "table"
           }
          ]
         },
         "layout": {
          "annotationdefaults": {
           "arrowcolor": "#2a3f5f",
           "arrowhead": 0,
           "arrowwidth": 1
          },
          "autotypenumbers": "strict",
          "coloraxis": {
           "colorbar": {
            "outlinewidth": 0,
            "ticks": ""
           }
          },
          "colorscale": {
           "diverging": [
            [
             0,
             "#8e0152"
            ],
            [
             0.1,
             "#c51b7d"
            ],
            [
             0.2,
             "#de77ae"
            ],
            [
             0.3,
             "#f1b6da"
            ],
            [
             0.4,
             "#fde0ef"
            ],
            [
             0.5,
             "#f7f7f7"
            ],
            [
             0.6,
             "#e6f5d0"
            ],
            [
             0.7,
             "#b8e186"
            ],
            [
             0.8,
             "#7fbc41"
            ],
            [
             0.9,
             "#4d9221"
            ],
            [
             1,
             "#276419"
            ]
           ],
           "sequential": [
            [
             0,
             "#0d0887"
            ],
            [
             0.1111111111111111,
             "#46039f"
            ],
            [
             0.2222222222222222,
             "#7201a8"
            ],
            [
             0.3333333333333333,
             "#9c179e"
            ],
            [
             0.4444444444444444,
             "#bd3786"
            ],
            [
             0.5555555555555556,
             "#d8576b"
            ],
            [
             0.6666666666666666,
             "#ed7953"
            ],
            [
             0.7777777777777778,
             "#fb9f3a"
            ],
            [
             0.8888888888888888,
             "#fdca26"
            ],
            [
             1,
             "#f0f921"
            ]
           ],
           "sequentialminus": [
            [
             0,
             "#0d0887"
            ],
            [
             0.1111111111111111,
             "#46039f"
            ],
            [
             0.2222222222222222,
             "#7201a8"
            ],
            [
             0.3333333333333333,
             "#9c179e"
            ],
            [
             0.4444444444444444,
             "#bd3786"
            ],
            [
             0.5555555555555556,
             "#d8576b"
            ],
            [
             0.6666666666666666,
             "#ed7953"
            ],
            [
             0.7777777777777778,
             "#fb9f3a"
            ],
            [
             0.8888888888888888,
             "#fdca26"
            ],
            [
             1,
             "#f0f921"
            ]
           ]
          },
          "colorway": [
           "#636efa",
           "#EF553B",
           "#00cc96",
           "#ab63fa",
           "#FFA15A",
           "#19d3f3",
           "#FF6692",
           "#B6E880",
           "#FF97FF",
           "#FECB52"
          ],
          "font": {
           "color": "#2a3f5f"
          },
          "geo": {
           "bgcolor": "white",
           "lakecolor": "white",
           "landcolor": "#E5ECF6",
           "showlakes": true,
           "showland": true,
           "subunitcolor": "white"
          },
          "hoverlabel": {
           "align": "left"
          },
          "hovermode": "closest",
          "mapbox": {
           "style": "light"
          },
          "paper_bgcolor": "white",
          "plot_bgcolor": "#E5ECF6",
          "polar": {
           "angularaxis": {
            "gridcolor": "white",
            "linecolor": "white",
            "ticks": ""
           },
           "bgcolor": "#E5ECF6",
           "radialaxis": {
            "gridcolor": "white",
            "linecolor": "white",
            "ticks": ""
           }
          },
          "scene": {
           "xaxis": {
            "backgroundcolor": "#E5ECF6",
            "gridcolor": "white",
            "gridwidth": 2,
            "linecolor": "white",
            "showbackground": true,
            "ticks": "",
            "zerolinecolor": "white"
           },
           "yaxis": {
            "backgroundcolor": "#E5ECF6",
            "gridcolor": "white",
            "gridwidth": 2,
            "linecolor": "white",
            "showbackground": true,
            "ticks": "",
            "zerolinecolor": "white"
           },
           "zaxis": {
            "backgroundcolor": "#E5ECF6",
            "gridcolor": "white",
            "gridwidth": 2,
            "linecolor": "white",
            "showbackground": true,
            "ticks": "",
            "zerolinecolor": "white"
           }
          },
          "shapedefaults": {
           "line": {
            "color": "#2a3f5f"
           }
          },
          "ternary": {
           "aaxis": {
            "gridcolor": "white",
            "linecolor": "white",
            "ticks": ""
           },
           "baxis": {
            "gridcolor": "white",
            "linecolor": "white",
            "ticks": ""
           },
           "bgcolor": "#E5ECF6",
           "caxis": {
            "gridcolor": "white",
            "linecolor": "white",
            "ticks": ""
           }
          },
          "title": {
           "x": 0.05
          },
          "xaxis": {
           "automargin": true,
           "gridcolor": "white",
           "linecolor": "white",
           "ticks": "",
           "title": {
            "standoff": 15
           },
           "zerolinecolor": "white",
           "zerolinewidth": 2
          },
          "yaxis": {
           "automargin": true,
           "gridcolor": "white",
           "linecolor": "white",
           "ticks": "",
           "title": {
            "standoff": 15
           },
           "zerolinecolor": "white",
           "zerolinewidth": 2
          }
         }
        },
        "xaxis": {
         "anchor": "y",
         "domain": [
          0,
          1
         ],
         "title": {
          "text": "Normal"
         }
        },
        "yaxis": {
         "anchor": "x",
         "domain": [
          0,
          1
         ],
         "title": {
          "text": "count"
         }
        }
       }
      }
     },
     "metadata": {},
     "output_type": "display_data"
    }
   ],
   "source": [
    "df = data1\n",
    "fig = px.histogram(df, x=\"Normal\")\n",
    "fig.show()"
   ]
  },
  {
   "cell_type": "markdown",
   "metadata": {},
   "source": [
    "2. Add a title to your chart by passing a string as the input `title` into the function `histogram`\n",
    "3. And customise the size of the figure by using the inputs `height` and `width`. Both have to be integers and correspond to the size of the figure in pixels."
   ]
  },
  {
   "cell_type": "code",
   "execution_count": 8,
   "metadata": {},
   "outputs": [
    {
     "data": {
      "application/vnd.plotly.v1+json": {
       "config": {
        "plotlyServerURL": "https://plot.ly"
       },
       "data": [
        {
         "bingroup": "x",
         "hovertemplate": "Normal=%{x}<br>count=%{y}<extra></extra>",
         "legendgroup": "",
         "marker": {
          "color": "#636efa",
          "pattern": {
           "shape": ""
          }
         },
         "name": "",
         "orientation": "v",
         "showlegend": false,
         "type": "histogram",
         "x": {
          "bdata": "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",
          "dtype": "f8"
         },
         "xaxis": "x",
         "yaxis": "y"
        }
       ],
       "layout": {
        "barmode": "relative",
        "height": 500,
        "legend": {
         "tracegroupgap": 0
        },
        "template": {
         "data": {
          "bar": [
           {
            "error_x": {
             "color": "#2a3f5f"
            },
            "error_y": {
             "color": "#2a3f5f"
            },
            "marker": {
             "line": {
              "color": "#E5ECF6",
              "width": 0.5
             },
             "pattern": {
              "fillmode": "overlay",
              "size": 10,
              "solidity": 0.2
             }
            },
            "type": "bar"
           }
          ],
          "barpolar": [
           {
            "marker": {
             "line": {
              "color": "#E5ECF6",
              "width": 0.5
             },
             "pattern": {
              "fillmode": "overlay",
              "size": 10,
              "solidity": 0.2
             }
            },
            "type": "barpolar"
           }
          ],
          "carpet": [
           {
            "aaxis": {
             "endlinecolor": "#2a3f5f",
             "gridcolor": "white",
             "linecolor": "white",
             "minorgridcolor": "white",
             "startlinecolor": "#2a3f5f"
            },
            "baxis": {
             "endlinecolor": "#2a3f5f",
             "gridcolor": "white",
             "linecolor": "white",
             "minorgridcolor": "white",
             "startlinecolor": "#2a3f5f"
            },
            "type": "carpet"
           }
          ],
          "choropleth": [
           {
            "colorbar": {
             "outlinewidth": 0,
             "ticks": ""
            },
            "type": "choropleth"
           }
          ],
          "contour": [
           {
            "colorbar": {
             "outlinewidth": 0,
             "ticks": ""
            },
            "colorscale": [
             [
              0,
              "#0d0887"
             ],
             [
              0.1111111111111111,
              "#46039f"
             ],
             [
              0.2222222222222222,
              "#7201a8"
             ],
             [
              0.3333333333333333,
              "#9c179e"
             ],
             [
              0.4444444444444444,
              "#bd3786"
             ],
             [
              0.5555555555555556,
              "#d8576b"
             ],
             [
              0.6666666666666666,
              "#ed7953"
             ],
             [
              0.7777777777777778,
              "#fb9f3a"
             ],
             [
              0.8888888888888888,
              "#fdca26"
             ],
             [
              1,
              "#f0f921"
             ]
            ],
            "type": "contour"
           }
          ],
          "contourcarpet": [
           {
            "colorbar": {
             "outlinewidth": 0,
             "ticks": ""
            },
            "type": "contourcarpet"
           }
          ],
          "heatmap": [
           {
            "colorbar": {
             "outlinewidth": 0,
             "ticks": ""
            },
            "colorscale": [
             [
              0,
              "#0d0887"
             ],
             [
              0.1111111111111111,
              "#46039f"
             ],
             [
              0.2222222222222222,
              "#7201a8"
             ],
             [
              0.3333333333333333,
              "#9c179e"
             ],
             [
              0.4444444444444444,
              "#bd3786"
             ],
             [
              0.5555555555555556,
              "#d8576b"
             ],
             [
              0.6666666666666666,
              "#ed7953"
             ],
             [
              0.7777777777777778,
              "#fb9f3a"
             ],
             [
              0.8888888888888888,
              "#fdca26"
             ],
             [
              1,
              "#f0f921"
             ]
            ],
            "type": "heatmap"
           }
          ],
          "histogram": [
           {
            "marker": {
             "pattern": {
              "fillmode": "overlay",
              "size": 10,
              "solidity": 0.2
             }
            },
            "type": "histogram"
           }
          ],
          "histogram2d": [
           {
            "colorbar": {
             "outlinewidth": 0,
             "ticks": ""
            },
            "colorscale": [
             [
              0,
              "#0d0887"
             ],
             [
              0.1111111111111111,
              "#46039f"
             ],
             [
              0.2222222222222222,
              "#7201a8"
             ],
             [
              0.3333333333333333,
              "#9c179e"
             ],
             [
              0.4444444444444444,
              "#bd3786"
             ],
             [
              0.5555555555555556,
              "#d8576b"
             ],
             [
              0.6666666666666666,
              "#ed7953"
             ],
             [
              0.7777777777777778,
              "#fb9f3a"
             ],
             [
              0.8888888888888888,
              "#fdca26"
             ],
             [
              1,
              "#f0f921"
             ]
            ],
            "type": "histogram2d"
           }
          ],
          "histogram2dcontour": [
           {
            "colorbar": {
             "outlinewidth": 0,
             "ticks": ""
            },
            "colorscale": [
             [
              0,
              "#0d0887"
             ],
             [
              0.1111111111111111,
              "#46039f"
             ],
             [
              0.2222222222222222,
              "#7201a8"
             ],
             [
              0.3333333333333333,
              "#9c179e"
             ],
             [
              0.4444444444444444,
              "#bd3786"
             ],
             [
              0.5555555555555556,
              "#d8576b"
             ],
             [
              0.6666666666666666,
              "#ed7953"
             ],
             [
              0.7777777777777778,
              "#fb9f3a"
             ],
             [
              0.8888888888888888,
              "#fdca26"
             ],
             [
              1,
              "#f0f921"
             ]
            ],
            "type": "histogram2dcontour"
           }
          ],
          "mesh3d": [
           {
            "colorbar": {
             "outlinewidth": 0,
             "ticks": ""
            },
            "type": "mesh3d"
           }
          ],
          "parcoords": [
           {
            "line": {
             "colorbar": {
              "outlinewidth": 0,
              "ticks": ""
             }
            },
            "type": "parcoords"
           }
          ],
          "pie": [
           {
            "automargin": true,
            "type": "pie"
           }
          ],
          "scatter": [
           {
            "fillpattern": {
             "fillmode": "overlay",
             "size": 10,
             "solidity": 0.2
            },
            "type": "scatter"
           }
          ],
          "scatter3d": [
           {
            "line": {
             "colorbar": {
              "outlinewidth": 0,
              "ticks": ""
             }
            },
            "marker": {
             "colorbar": {
              "outlinewidth": 0,
              "ticks": ""
             }
            },
            "type": "scatter3d"
           }
          ],
          "scattercarpet": [
           {
            "marker": {
             "colorbar": {
              "outlinewidth": 0,
              "ticks": ""
             }
            },
            "type": "scattercarpet"
           }
          ],
          "scattergeo": [
           {
            "marker": {
             "colorbar": {
              "outlinewidth": 0,
              "ticks": ""
             }
            },
            "type": "scattergeo"
           }
          ],
          "scattergl": [
           {
            "marker": {
             "colorbar": {
              "outlinewidth": 0,
              "ticks": ""
             }
            },
            "type": "scattergl"
           }
          ],
          "scattermap": [
           {
            "marker": {
             "colorbar": {
              "outlinewidth": 0,
              "ticks": ""
             }
            },
            "type": "scattermap"
           }
          ],
          "scattermapbox": [
           {
            "marker": {
             "colorbar": {
              "outlinewidth": 0,
              "ticks": ""
             }
            },
            "type": "scattermapbox"
           }
          ],
          "scatterpolar": [
           {
            "marker": {
             "colorbar": {
              "outlinewidth": 0,
              "ticks": ""
             }
            },
            "type": "scatterpolar"
           }
          ],
          "scatterpolargl": [
           {
            "marker": {
             "colorbar": {
              "outlinewidth": 0,
              "ticks": ""
             }
            },
            "type": "scatterpolargl"
           }
          ],
          "scatterternary": [
           {
            "marker": {
             "colorbar": {
              "outlinewidth": 0,
              "ticks": ""
             }
            },
            "type": "scatterternary"
           }
          ],
          "surface": [
           {
            "colorbar": {
             "outlinewidth": 0,
             "ticks": ""
            },
            "colorscale": [
             [
              0,
              "#0d0887"
             ],
             [
              0.1111111111111111,
              "#46039f"
             ],
             [
              0.2222222222222222,
              "#7201a8"
             ],
             [
              0.3333333333333333,
              "#9c179e"
             ],
             [
              0.4444444444444444,
              "#bd3786"
             ],
             [
              0.5555555555555556,
              "#d8576b"
             ],
             [
              0.6666666666666666,
              "#ed7953"
             ],
             [
              0.7777777777777778,
              "#fb9f3a"
             ],
             [
              0.8888888888888888,
              "#fdca26"
             ],
             [
              1,
              "#f0f921"
             ]
            ],
            "type": "surface"
           }
          ],
          "table": [
           {
            "cells": {
             "fill": {
              "color": "#EBF0F8"
             },
             "line": {
              "color": "white"
             }
            },
            "header": {
             "fill": {
              "color": "#C8D4E3"
             },
             "line": {
              "color": "white"
             }
            },
            "type": "table"
           }
          ]
         },
         "layout": {
          "annotationdefaults": {
           "arrowcolor": "#2a3f5f",
           "arrowhead": 0,
           "arrowwidth": 1
          },
          "autotypenumbers": "strict",
          "coloraxis": {
           "colorbar": {
            "outlinewidth": 0,
            "ticks": ""
           }
          },
          "colorscale": {
           "diverging": [
            [
             0,
             "#8e0152"
            ],
            [
             0.1,
             "#c51b7d"
            ],
            [
             0.2,
             "#de77ae"
            ],
            [
             0.3,
             "#f1b6da"
            ],
            [
             0.4,
             "#fde0ef"
            ],
            [
             0.5,
             "#f7f7f7"
            ],
            [
             0.6,
             "#e6f5d0"
            ],
            [
             0.7,
             "#b8e186"
            ],
            [
             0.8,
             "#7fbc41"
            ],
            [
             0.9,
             "#4d9221"
            ],
            [
             1,
             "#276419"
            ]
           ],
           "sequential": [
            [
             0,
             "#0d0887"
            ],
            [
             0.1111111111111111,
             "#46039f"
            ],
            [
             0.2222222222222222,
             "#7201a8"
            ],
            [
             0.3333333333333333,
             "#9c179e"
            ],
            [
             0.4444444444444444,
             "#bd3786"
            ],
            [
             0.5555555555555556,
             "#d8576b"
            ],
            [
             0.6666666666666666,
             "#ed7953"
            ],
            [
             0.7777777777777778,
             "#fb9f3a"
            ],
            [
             0.8888888888888888,
             "#fdca26"
            ],
            [
             1,
             "#f0f921"
            ]
           ],
           "sequentialminus": [
            [
             0,
             "#0d0887"
            ],
            [
             0.1111111111111111,
             "#46039f"
            ],
            [
             0.2222222222222222,
             "#7201a8"
            ],
            [
             0.3333333333333333,
             "#9c179e"
            ],
            [
             0.4444444444444444,
             "#bd3786"
            ],
            [
             0.5555555555555556,
             "#d8576b"
            ],
            [
             0.6666666666666666,
             "#ed7953"
            ],
            [
             0.7777777777777778,
             "#fb9f3a"
            ],
            [
             0.8888888888888888,
             "#fdca26"
            ],
            [
             1,
             "#f0f921"
            ]
           ]
          },
          "colorway": [
           "#636efa",
           "#EF553B",
           "#00cc96",
           "#ab63fa",
           "#FFA15A",
           "#19d3f3",
           "#FF6692",
           "#B6E880",
           "#FF97FF",
           "#FECB52"
          ],
          "font": {
           "color": "#2a3f5f"
          },
          "geo": {
           "bgcolor": "white",
           "lakecolor": "white",
           "landcolor": "#E5ECF6",
           "showlakes": true,
           "showland": true,
           "subunitcolor": "white"
          },
          "hoverlabel": {
           "align": "left"
          },
          "hovermode": "closest",
          "mapbox": {
           "style": "light"
          },
          "paper_bgcolor": "white",
          "plot_bgcolor": "#E5ECF6",
          "polar": {
           "angularaxis": {
            "gridcolor": "white",
            "linecolor": "white",
            "ticks": ""
           },
           "bgcolor": "#E5ECF6",
           "radialaxis": {
            "gridcolor": "white",
            "linecolor": "white",
            "ticks": ""
           }
          },
          "scene": {
           "xaxis": {
            "backgroundcolor": "#E5ECF6",
            "gridcolor": "white",
            "gridwidth": 2,
            "linecolor": "white",
            "showbackground": true,
            "ticks": "",
            "zerolinecolor": "white"
           },
           "yaxis": {
            "backgroundcolor": "#E5ECF6",
            "gridcolor": "white",
            "gridwidth": 2,
            "linecolor": "white",
            "showbackground": true,
            "ticks": "",
            "zerolinecolor": "white"
           },
           "zaxis": {
            "backgroundcolor": "#E5ECF6",
            "gridcolor": "white",
            "gridwidth": 2,
            "linecolor": "white",
            "showbackground": true,
            "ticks": "",
            "zerolinecolor": "white"
           }
          },
          "shapedefaults": {
           "line": {
            "color": "#2a3f5f"
           }
          },
          "ternary": {
           "aaxis": {
            "gridcolor": "white",
            "linecolor": "white",
            "ticks": ""
           },
           "baxis": {
            "gridcolor": "white",
            "linecolor": "white",
            "ticks": ""
           },
           "bgcolor": "#E5ECF6",
           "caxis": {
            "gridcolor": "white",
            "linecolor": "white",
            "ticks": ""
           }
          },
          "title": {
           "x": 0.05
          },
          "xaxis": {
           "automargin": true,
           "gridcolor": "white",
           "linecolor": "white",
           "ticks": "",
           "title": {
            "standoff": 15
           },
           "zerolinecolor": "white",
           "zerolinewidth": 2
          },
          "yaxis": {
           "automargin": true,
           "gridcolor": "white",
           "linecolor": "white",
           "ticks": "",
           "title": {
            "standoff": 15
           },
           "zerolinecolor": "white",
           "zerolinewidth": 2
          }
         }
        },
        "title": {
         "text": "Sample from a Normal Distribution"
        },
        "width": 800,
        "xaxis": {
         "anchor": "y",
         "domain": [
          0,
          1
         ],
         "title": {
          "text": "Normal"
         }
        },
        "yaxis": {
         "anchor": "x",
         "domain": [
          0,
          1
         ],
         "title": {
          "text": "count"
         }
        }
       }
      }
     },
     "metadata": {},
     "output_type": "display_data"
    }
   ],
   "source": [
    "fig = px.histogram(df, x=\"Normal\", \n",
    "                   height = 500, width = 800,\n",
    "                   title='Sample from a Normal Distribution')\n",
    "fig.show()"
   ]
  },
  {
   "cell_type": "markdown",
   "metadata": {},
   "source": [
    "4. Change the histogram to **density scale** by setting the input `histnorm` as `'probability density'`"
   ]
  },
  {
   "cell_type": "code",
   "execution_count": 9,
   "metadata": {},
   "outputs": [
    {
     "data": {
      "application/vnd.plotly.v1+json": {
       "config": {
        "plotlyServerURL": "https://plot.ly"
       },
       "data": [
        {
         "bingroup": "x",
         "histnorm": "probability density",
         "hovertemplate": "Normal=%{x}<br>probability density=%{y}<extra></extra>",
         "legendgroup": "",
         "marker": {
          "color": "#636efa",
          "pattern": {
           "shape": ""
          }
         },
         "name": "",
         "orientation": "v",
         "showlegend": false,
         "type": "histogram",
         "x": {
          "bdata": "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",
          "dtype": "f8"
         },
         "xaxis": "x",
         "yaxis": "y"
        }
       ],
       "layout": {
        "barmode": "relative",
        "height": 500,
        "legend": {
         "tracegroupgap": 0
        },
        "template": {
         "data": {
          "bar": [
           {
            "error_x": {
             "color": "#2a3f5f"
            },
            "error_y": {
             "color": "#2a3f5f"
            },
            "marker": {
             "line": {
              "color": "#E5ECF6",
              "width": 0.5
             },
             "pattern": {
              "fillmode": "overlay",
              "size": 10,
              "solidity": 0.2
             }
            },
            "type": "bar"
           }
          ],
          "barpolar": [
           {
            "marker": {
             "line": {
              "color": "#E5ECF6",
              "width": 0.5
             },
             "pattern": {
              "fillmode": "overlay",
              "size": 10,
              "solidity": 0.2
             }
            },
            "type": "barpolar"
           }
          ],
          "carpet": [
           {
            "aaxis": {
             "endlinecolor": "#2a3f5f",
             "gridcolor": "white",
             "linecolor": "white",
             "minorgridcolor": "white",
             "startlinecolor": "#2a3f5f"
            },
            "baxis": {
             "endlinecolor": "#2a3f5f",
             "gridcolor": "white",
             "linecolor": "white",
             "minorgridcolor": "white",
             "startlinecolor": "#2a3f5f"
            },
            "type": "carpet"
           }
          ],
          "choropleth": [
           {
            "colorbar": {
             "outlinewidth": 0,
             "ticks": ""
            },
            "type": "choropleth"
           }
          ],
          "contour": [
           {
            "colorbar": {
             "outlinewidth": 0,
             "ticks": ""
            },
            "colorscale": [
             [
              0,
              "#0d0887"
             ],
             [
              0.1111111111111111,
              "#46039f"
             ],
             [
              0.2222222222222222,
              "#7201a8"
             ],
             [
              0.3333333333333333,
              "#9c179e"
             ],
             [
              0.4444444444444444,
              "#bd3786"
             ],
             [
              0.5555555555555556,
              "#d8576b"
             ],
             [
              0.6666666666666666,
              "#ed7953"
             ],
             [
              0.7777777777777778,
              "#fb9f3a"
             ],
             [
              0.8888888888888888,
              "#fdca26"
             ],
             [
              1,
              "#f0f921"
             ]
            ],
            "type": "contour"
           }
          ],
          "contourcarpet": [
           {
            "colorbar": {
             "outlinewidth": 0,
             "ticks": ""
            },
            "type": "contourcarpet"
           }
          ],
          "heatmap": [
           {
            "colorbar": {
             "outlinewidth": 0,
             "ticks": ""
            },
            "colorscale": [
             [
              0,
              "#0d0887"
             ],
             [
              0.1111111111111111,
              "#46039f"
             ],
             [
              0.2222222222222222,
              "#7201a8"
             ],
             [
              0.3333333333333333,
              "#9c179e"
             ],
             [
              0.4444444444444444,
              "#bd3786"
             ],
             [
              0.5555555555555556,
              "#d8576b"
             ],
             [
              0.6666666666666666,
              "#ed7953"
             ],
             [
              0.7777777777777778,
              "#fb9f3a"
             ],
             [
              0.8888888888888888,
              "#fdca26"
             ],
             [
              1,
              "#f0f921"
             ]
            ],
            "type": "heatmap"
           }
          ],
          "histogram": [
           {
            "marker": {
             "pattern": {
              "fillmode": "overlay",
              "size": 10,
              "solidity": 0.2
             }
            },
            "type": "histogram"
           }
          ],
          "histogram2d": [
           {
            "colorbar": {
             "outlinewidth": 0,
             "ticks": ""
            },
            "colorscale": [
             [
              0,
              "#0d0887"
             ],
             [
              0.1111111111111111,
              "#46039f"
             ],
             [
              0.2222222222222222,
              "#7201a8"
             ],
             [
              0.3333333333333333,
              "#9c179e"
             ],
             [
              0.4444444444444444,
              "#bd3786"
             ],
             [
              0.5555555555555556,
              "#d8576b"
             ],
             [
              0.6666666666666666,
              "#ed7953"
             ],
             [
              0.7777777777777778,
              "#fb9f3a"
             ],
             [
              0.8888888888888888,
              "#fdca26"
             ],
             [
              1,
              "#f0f921"
             ]
            ],
            "type": "histogram2d"
           }
          ],
          "histogram2dcontour": [
           {
            "colorbar": {
             "outlinewidth": 0,
             "ticks": ""
            },
            "colorscale": [
             [
              0,
              "#0d0887"
             ],
             [
              0.1111111111111111,
              "#46039f"
             ],
             [
              0.2222222222222222,
              "#7201a8"
             ],
             [
              0.3333333333333333,
              "#9c179e"
             ],
             [
              0.4444444444444444,
              "#bd3786"
             ],
             [
              0.5555555555555556,
              "#d8576b"
             ],
             [
              0.6666666666666666,
              "#ed7953"
             ],
             [
              0.7777777777777778,
              "#fb9f3a"
             ],
             [
              0.8888888888888888,
              "#fdca26"
             ],
             [
              1,
              "#f0f921"
             ]
            ],
            "type": "histogram2dcontour"
           }
          ],
          "mesh3d": [
           {
            "colorbar": {
             "outlinewidth": 0,
             "ticks": ""
            },
            "type": "mesh3d"
           }
          ],
          "parcoords": [
           {
            "line": {
             "colorbar": {
              "outlinewidth": 0,
              "ticks": ""
             }
            },
            "type": "parcoords"
           }
          ],
          "pie": [
           {
            "automargin": true,
            "type": "pie"
           }
          ],
          "scatter": [
           {
            "fillpattern": {
             "fillmode": "overlay",
             "size": 10,
             "solidity": 0.2
            },
            "type": "scatter"
           }
          ],
          "scatter3d": [
           {
            "line": {
             "colorbar": {
              "outlinewidth": 0,
              "ticks": ""
             }
            },
            "marker": {
             "colorbar": {
              "outlinewidth": 0,
              "ticks": ""
             }
            },
            "type": "scatter3d"
           }
          ],
          "scattercarpet": [
           {
            "marker": {
             "colorbar": {
              "outlinewidth": 0,
              "ticks": ""
             }
            },
            "type": "scattercarpet"
           }
          ],
          "scattergeo": [
           {
            "marker": {
             "colorbar": {
              "outlinewidth": 0,
              "ticks": ""
             }
            },
            "type": "scattergeo"
           }
          ],
          "scattergl": [
           {
            "marker": {
             "colorbar": {
              "outlinewidth": 0,
              "ticks": ""
             }
            },
            "type": "scattergl"
           }
          ],
          "scattermap": [
           {
            "marker": {
             "colorbar": {
              "outlinewidth": 0,
              "ticks": ""
             }
            },
            "type": "scattermap"
           }
          ],
          "scattermapbox": [
           {
            "marker": {
             "colorbar": {
              "outlinewidth": 0,
              "ticks": ""
             }
            },
            "type": "scattermapbox"
           }
          ],
          "scatterpolar": [
           {
            "marker": {
             "colorbar": {
              "outlinewidth": 0,
              "ticks": ""
             }
            },
            "type": "scatterpolar"
           }
          ],
          "scatterpolargl": [
           {
            "marker": {
             "colorbar": {
              "outlinewidth": 0,
              "ticks": ""
             }
            },
            "type": "scatterpolargl"
           }
          ],
          "scatterternary": [
           {
            "marker": {
             "colorbar": {
              "outlinewidth": 0,
              "ticks": ""
             }
            },
            "type": "scatterternary"
           }
          ],
          "surface": [
           {
            "colorbar": {
             "outlinewidth": 0,
             "ticks": ""
            },
            "colorscale": [
             [
              0,
              "#0d0887"
             ],
             [
              0.1111111111111111,
              "#46039f"
             ],
             [
              0.2222222222222222,
              "#7201a8"
             ],
             [
              0.3333333333333333,
              "#9c179e"
             ],
             [
              0.4444444444444444,
              "#bd3786"
             ],
             [
              0.5555555555555556,
              "#d8576b"
             ],
             [
              0.6666666666666666,
              "#ed7953"
             ],
             [
              0.7777777777777778,
              "#fb9f3a"
             ],
             [
              0.8888888888888888,
              "#fdca26"
             ],
             [
              1,
              "#f0f921"
             ]
            ],
            "type": "surface"
           }
          ],
          "table": [
           {
            "cells": {
             "fill": {
              "color": "#EBF0F8"
             },
             "line": {
              "color": "white"
             }
            },
            "header": {
             "fill": {
              "color": "#C8D4E3"
             },
             "line": {
              "color": "white"
             }
            },
            "type": "table"
           }
          ]
         },
         "layout": {
          "annotationdefaults": {
           "arrowcolor": "#2a3f5f",
           "arrowhead": 0,
           "arrowwidth": 1
          },
          "autotypenumbers": "strict",
          "coloraxis": {
           "colorbar": {
            "outlinewidth": 0,
            "ticks": ""
           }
          },
          "colorscale": {
           "diverging": [
            [
             0,
             "#8e0152"
            ],
            [
             0.1,
             "#c51b7d"
            ],
            [
             0.2,
             "#de77ae"
            ],
            [
             0.3,
             "#f1b6da"
            ],
            [
             0.4,
             "#fde0ef"
            ],
            [
             0.5,
             "#f7f7f7"
            ],
            [
             0.6,
             "#e6f5d0"
            ],
            [
             0.7,
             "#b8e186"
            ],
            [
             0.8,
             "#7fbc41"
            ],
            [
             0.9,
             "#4d9221"
            ],
            [
             1,
             "#276419"
            ]
           ],
           "sequential": [
            [
             0,
             "#0d0887"
            ],
            [
             0.1111111111111111,
             "#46039f"
            ],
            [
             0.2222222222222222,
             "#7201a8"
            ],
            [
             0.3333333333333333,
             "#9c179e"
            ],
            [
             0.4444444444444444,
             "#bd3786"
            ],
            [
             0.5555555555555556,
             "#d8576b"
            ],
            [
             0.6666666666666666,
             "#ed7953"
            ],
            [
             0.7777777777777778,
             "#fb9f3a"
            ],
            [
             0.8888888888888888,
             "#fdca26"
            ],
            [
             1,
             "#f0f921"
            ]
           ],
           "sequentialminus": [
            [
             0,
             "#0d0887"
            ],
            [
             0.1111111111111111,
             "#46039f"
            ],
            [
             0.2222222222222222,
             "#7201a8"
            ],
            [
             0.3333333333333333,
             "#9c179e"
            ],
            [
             0.4444444444444444,
             "#bd3786"
            ],
            [
             0.5555555555555556,
             "#d8576b"
            ],
            [
             0.6666666666666666,
             "#ed7953"
            ],
            [
             0.7777777777777778,
             "#fb9f3a"
            ],
            [
             0.8888888888888888,
             "#fdca26"
            ],
            [
             1,
             "#f0f921"
            ]
           ]
          },
          "colorway": [
           "#636efa",
           "#EF553B",
           "#00cc96",
           "#ab63fa",
           "#FFA15A",
           "#19d3f3",
           "#FF6692",
           "#B6E880",
           "#FF97FF",
           "#FECB52"
          ],
          "font": {
           "color": "#2a3f5f"
          },
          "geo": {
           "bgcolor": "white",
           "lakecolor": "white",
           "landcolor": "#E5ECF6",
           "showlakes": true,
           "showland": true,
           "subunitcolor": "white"
          },
          "hoverlabel": {
           "align": "left"
          },
          "hovermode": "closest",
          "mapbox": {
           "style": "light"
          },
          "paper_bgcolor": "white",
          "plot_bgcolor": "#E5ECF6",
          "polar": {
           "angularaxis": {
            "gridcolor": "white",
            "linecolor": "white",
            "ticks": ""
           },
           "bgcolor": "#E5ECF6",
           "radialaxis": {
            "gridcolor": "white",
            "linecolor": "white",
            "ticks": ""
           }
          },
          "scene": {
           "xaxis": {
            "backgroundcolor": "#E5ECF6",
            "gridcolor": "white",
            "gridwidth": 2,
            "linecolor": "white",
            "showbackground": true,
            "ticks": "",
            "zerolinecolor": "white"
           },
           "yaxis": {
            "backgroundcolor": "#E5ECF6",
            "gridcolor": "white",
            "gridwidth": 2,
            "linecolor": "white",
            "showbackground": true,
            "ticks": "",
            "zerolinecolor": "white"
           },
           "zaxis": {
            "backgroundcolor": "#E5ECF6",
            "gridcolor": "white",
            "gridwidth": 2,
            "linecolor": "white",
            "showbackground": true,
            "ticks": "",
            "zerolinecolor": "white"
           }
          },
          "shapedefaults": {
           "line": {
            "color": "#2a3f5f"
           }
          },
          "ternary": {
           "aaxis": {
            "gridcolor": "white",
            "linecolor": "white",
            "ticks": ""
           },
           "baxis": {
            "gridcolor": "white",
            "linecolor": "white",
            "ticks": ""
           },
           "bgcolor": "#E5ECF6",
           "caxis": {
            "gridcolor": "white",
            "linecolor": "white",
            "ticks": ""
           }
          },
          "title": {
           "x": 0.05
          },
          "xaxis": {
           "automargin": true,
           "gridcolor": "white",
           "linecolor": "white",
           "ticks": "",
           "title": {
            "standoff": 15
           },
           "zerolinecolor": "white",
           "zerolinewidth": 2
          },
          "yaxis": {
           "automargin": true,
           "gridcolor": "white",
           "linecolor": "white",
           "ticks": "",
           "title": {
            "standoff": 15
           },
           "zerolinecolor": "white",
           "zerolinewidth": 2
          }
         }
        },
        "title": {
         "text": "Sample from a Normal Distribution"
        },
        "width": 800,
        "xaxis": {
         "anchor": "y",
         "domain": [
          0,
          1
         ],
         "title": {
          "text": "Normal"
         }
        },
        "yaxis": {
         "anchor": "x",
         "domain": [
          0,
          1
         ],
         "title": {
          "text": "probability density"
         }
        }
       }
      }
     },
     "metadata": {},
     "output_type": "display_data"
    }
   ],
   "source": [
    "fig = px.histogram(df, x=\"Normal\", \n",
    "                   histnorm='probability density',\n",
    "                   height = 500, width = 800,\n",
    "                   title='Sample from a Normal Distribution')\n",
    "fig.show()"
   ]
  },
  {
   "cell_type": "markdown",
   "metadata": {},
   "source": [
    "5. Customize the number of bins using the input `nbins`. \n",
    "Choosing the number of bins in a histogram is crucial because it directly affects how the data distribution is visualized. If the number of bins is too small, the histogram may oversimplify the data, potentially hiding important details or trends. Conversely, if too many bins are used, the histogram can become overly detailed, making the distribution appear noisy and fragmented, which may obscure the overall pattern. Striking the right balance is essential to accurately represent the underlying distribution of the data."
   ]
  },
  {
   "cell_type": "code",
   "execution_count": 10,
   "metadata": {},
   "outputs": [
    {
     "data": {
      "application/vnd.plotly.v1+json": {
       "config": {
        "plotlyServerURL": "https://plot.ly"
       },
       "data": [
        {
         "bingroup": "x",
         "histnorm": "probability density",
         "hovertemplate": "Normal=%{x}<br>probability density=%{y}<extra></extra>",
         "legendgroup": "",
         "marker": {
          "color": "#636efa",
          "pattern": {
           "shape": ""
          }
         },
         "name": "",
         "nbinsx": 25,
         "orientation": "v",
         "showlegend": false,
         "type": "histogram",
         "x": {
          "bdata": "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",
          "dtype": "f8"
         },
         "xaxis": "x",
         "yaxis": "y"
        }
       ],
       "layout": {
        "barmode": "relative",
        "height": 500,
        "legend": {
         "tracegroupgap": 0
        },
        "template": {
         "data": {
          "bar": [
           {
            "error_x": {
             "color": "#2a3f5f"
            },
            "error_y": {
             "color": "#2a3f5f"
            },
            "marker": {
             "line": {
              "color": "#E5ECF6",
              "width": 0.5
             },
             "pattern": {
              "fillmode": "overlay",
              "size": 10,
              "solidity": 0.2
             }
            },
            "type": "bar"
           }
          ],
          "barpolar": [
           {
            "marker": {
             "line": {
              "color": "#E5ECF6",
              "width": 0.5
             },
             "pattern": {
              "fillmode": "overlay",
              "size": 10,
              "solidity": 0.2
             }
            },
            "type": "barpolar"
           }
          ],
          "carpet": [
           {
            "aaxis": {
             "endlinecolor": "#2a3f5f",
             "gridcolor": "white",
             "linecolor": "white",
             "minorgridcolor": "white",
             "startlinecolor": "#2a3f5f"
            },
            "baxis": {
             "endlinecolor": "#2a3f5f",
             "gridcolor": "white",
             "linecolor": "white",
             "minorgridcolor": "white",
             "startlinecolor": "#2a3f5f"
            },
            "type": "carpet"
           }
          ],
          "choropleth": [
           {
            "colorbar": {
             "outlinewidth": 0,
             "ticks": ""
            },
            "type": "choropleth"
           }
          ],
          "contour": [
           {
            "colorbar": {
             "outlinewidth": 0,
             "ticks": ""
            },
            "colorscale": [
             [
              0,
              "#0d0887"
             ],
             [
              0.1111111111111111,
              "#46039f"
             ],
             [
              0.2222222222222222,
              "#7201a8"
             ],
             [
              0.3333333333333333,
              "#9c179e"
             ],
             [
              0.4444444444444444,
              "#bd3786"
             ],
             [
              0.5555555555555556,
              "#d8576b"
             ],
             [
              0.6666666666666666,
              "#ed7953"
             ],
             [
              0.7777777777777778,
              "#fb9f3a"
             ],
             [
              0.8888888888888888,
              "#fdca26"
             ],
             [
              1,
              "#f0f921"
             ]
            ],
            "type": "contour"
           }
          ],
          "contourcarpet": [
           {
            "colorbar": {
             "outlinewidth": 0,
             "ticks": ""
            },
            "type": "contourcarpet"
           }
          ],
          "heatmap": [
           {
            "colorbar": {
             "outlinewidth": 0,
             "ticks": ""
            },
            "colorscale": [
             [
              0,
              "#0d0887"
             ],
             [
              0.1111111111111111,
              "#46039f"
             ],
             [
              0.2222222222222222,
              "#7201a8"
             ],
             [
              0.3333333333333333,
              "#9c179e"
             ],
             [
              0.4444444444444444,
              "#bd3786"
             ],
             [
              0.5555555555555556,
              "#d8576b"
             ],
             [
              0.6666666666666666,
              "#ed7953"
             ],
             [
              0.7777777777777778,
              "#fb9f3a"
             ],
             [
              0.8888888888888888,
              "#fdca26"
             ],
             [
              1,
              "#f0f921"
             ]
            ],
            "type": "heatmap"
           }
          ],
          "histogram": [
           {
            "marker": {
             "pattern": {
              "fillmode": "overlay",
              "size": 10,
              "solidity": 0.2
             }
            },
            "type": "histogram"
           }
          ],
          "histogram2d": [
           {
            "colorbar": {
             "outlinewidth": 0,
             "ticks": ""
            },
            "colorscale": [
             [
              0,
              "#0d0887"
             ],
             [
              0.1111111111111111,
              "#46039f"
             ],
             [
              0.2222222222222222,
              "#7201a8"
             ],
             [
              0.3333333333333333,
              "#9c179e"
             ],
             [
              0.4444444444444444,
              "#bd3786"
             ],
             [
              0.5555555555555556,
              "#d8576b"
             ],
             [
              0.6666666666666666,
              "#ed7953"
             ],
             [
              0.7777777777777778,
              "#fb9f3a"
             ],
             [
              0.8888888888888888,
              "#fdca26"
             ],
             [
              1,
              "#f0f921"
             ]
            ],
            "type": "histogram2d"
           }
          ],
          "histogram2dcontour": [
           {
            "colorbar": {
             "outlinewidth": 0,
             "ticks": ""
            },
            "colorscale": [
             [
              0,
              "#0d0887"
             ],
             [
              0.1111111111111111,
              "#46039f"
             ],
             [
              0.2222222222222222,
              "#7201a8"
             ],
             [
              0.3333333333333333,
              "#9c179e"
             ],
             [
              0.4444444444444444,
              "#bd3786"
             ],
             [
              0.5555555555555556,
              "#d8576b"
             ],
             [
              0.6666666666666666,
              "#ed7953"
             ],
             [
              0.7777777777777778,
              "#fb9f3a"
             ],
             [
              0.8888888888888888,
              "#fdca26"
             ],
             [
              1,
              "#f0f921"
             ]
            ],
            "type": "histogram2dcontour"
           }
          ],
          "mesh3d": [
           {
            "colorbar": {
             "outlinewidth": 0,
             "ticks": ""
            },
            "type": "mesh3d"
           }
          ],
          "parcoords": [
           {
            "line": {
             "colorbar": {
              "outlinewidth": 0,
              "ticks": ""
             }
            },
            "type": "parcoords"
           }
          ],
          "pie": [
           {
            "automargin": true,
            "type": "pie"
           }
          ],
          "scatter": [
           {
            "fillpattern": {
             "fillmode": "overlay",
             "size": 10,
             "solidity": 0.2
            },
            "type": "scatter"
           }
          ],
          "scatter3d": [
           {
            "line": {
             "colorbar": {
              "outlinewidth": 0,
              "ticks": ""
             }
            },
            "marker": {
             "colorbar": {
              "outlinewidth": 0,
              "ticks": ""
             }
            },
            "type": "scatter3d"
           }
          ],
          "scattercarpet": [
           {
            "marker": {
             "colorbar": {
              "outlinewidth": 0,
              "ticks": ""
             }
            },
            "type": "scattercarpet"
           }
          ],
          "scattergeo": [
           {
            "marker": {
             "colorbar": {
              "outlinewidth": 0,
              "ticks": ""
             }
            },
            "type": "scattergeo"
           }
          ],
          "scattergl": [
           {
            "marker": {
             "colorbar": {
              "outlinewidth": 0,
              "ticks": ""
             }
            },
            "type": "scattergl"
           }
          ],
          "scattermap": [
           {
            "marker": {
             "colorbar": {
              "outlinewidth": 0,
              "ticks": ""
             }
            },
            "type": "scattermap"
           }
          ],
          "scattermapbox": [
           {
            "marker": {
             "colorbar": {
              "outlinewidth": 0,
              "ticks": ""
             }
            },
            "type": "scattermapbox"
           }
          ],
          "scatterpolar": [
           {
            "marker": {
             "colorbar": {
              "outlinewidth": 0,
              "ticks": ""
             }
            },
            "type": "scatterpolar"
           }
          ],
          "scatterpolargl": [
           {
            "marker": {
             "colorbar": {
              "outlinewidth": 0,
              "ticks": ""
             }
            },
            "type": "scatterpolargl"
           }
          ],
          "scatterternary": [
           {
            "marker": {
             "colorbar": {
              "outlinewidth": 0,
              "ticks": ""
             }
            },
            "type": "scatterternary"
           }
          ],
          "surface": [
           {
            "colorbar": {
             "outlinewidth": 0,
             "ticks": ""
            },
            "colorscale": [
             [
              0,
              "#0d0887"
             ],
             [
              0.1111111111111111,
              "#46039f"
             ],
             [
              0.2222222222222222,
              "#7201a8"
             ],
             [
              0.3333333333333333,
              "#9c179e"
             ],
             [
              0.4444444444444444,
              "#bd3786"
             ],
             [
              0.5555555555555556,
              "#d8576b"
             ],
             [
              0.6666666666666666,
              "#ed7953"
             ],
             [
              0.7777777777777778,
              "#fb9f3a"
             ],
             [
              0.8888888888888888,
              "#fdca26"
             ],
             [
              1,
              "#f0f921"
             ]
            ],
            "type": "surface"
           }
          ],
          "table": [
           {
            "cells": {
             "fill": {
              "color": "#EBF0F8"
             },
             "line": {
              "color": "white"
             }
            },
            "header": {
             "fill": {
              "color": "#C8D4E3"
             },
             "line": {
              "color": "white"
             }
            },
            "type": "table"
           }
          ]
         },
         "layout": {
          "annotationdefaults": {
           "arrowcolor": "#2a3f5f",
           "arrowhead": 0,
           "arrowwidth": 1
          },
          "autotypenumbers": "strict",
          "coloraxis": {
           "colorbar": {
            "outlinewidth": 0,
            "ticks": ""
           }
          },
          "colorscale": {
           "diverging": [
            [
             0,
             "#8e0152"
            ],
            [
             0.1,
             "#c51b7d"
            ],
            [
             0.2,
             "#de77ae"
            ],
            [
             0.3,
             "#f1b6da"
            ],
            [
             0.4,
             "#fde0ef"
            ],
            [
             0.5,
             "#f7f7f7"
            ],
            [
             0.6,
             "#e6f5d0"
            ],
            [
             0.7,
             "#b8e186"
            ],
            [
             0.8,
             "#7fbc41"
            ],
            [
             0.9,
             "#4d9221"
            ],
            [
             1,
             "#276419"
            ]
           ],
           "sequential": [
            [
             0,
             "#0d0887"
            ],
            [
             0.1111111111111111,
             "#46039f"
            ],
            [
             0.2222222222222222,
             "#7201a8"
            ],
            [
             0.3333333333333333,
             "#9c179e"
            ],
            [
             0.4444444444444444,
             "#bd3786"
            ],
            [
             0.5555555555555556,
             "#d8576b"
            ],
            [
             0.6666666666666666,
             "#ed7953"
            ],
            [
             0.7777777777777778,
             "#fb9f3a"
            ],
            [
             0.8888888888888888,
             "#fdca26"
            ],
            [
             1,
             "#f0f921"
            ]
           ],
           "sequentialminus": [
            [
             0,
             "#0d0887"
            ],
            [
             0.1111111111111111,
             "#46039f"
            ],
            [
             0.2222222222222222,
             "#7201a8"
            ],
            [
             0.3333333333333333,
             "#9c179e"
            ],
            [
             0.4444444444444444,
             "#bd3786"
            ],
            [
             0.5555555555555556,
             "#d8576b"
            ],
            [
             0.6666666666666666,
             "#ed7953"
            ],
            [
             0.7777777777777778,
             "#fb9f3a"
            ],
            [
             0.8888888888888888,
             "#fdca26"
            ],
            [
             1,
             "#f0f921"
            ]
           ]
          },
          "colorway": [
           "#636efa",
           "#EF553B",
           "#00cc96",
           "#ab63fa",
           "#FFA15A",
           "#19d3f3",
           "#FF6692",
           "#B6E880",
           "#FF97FF",
           "#FECB52"
          ],
          "font": {
           "color": "#2a3f5f"
          },
          "geo": {
           "bgcolor": "white",
           "lakecolor": "white",
           "landcolor": "#E5ECF6",
           "showlakes": true,
           "showland": true,
           "subunitcolor": "white"
          },
          "hoverlabel": {
           "align": "left"
          },
          "hovermode": "closest",
          "mapbox": {
           "style": "light"
          },
          "paper_bgcolor": "white",
          "plot_bgcolor": "#E5ECF6",
          "polar": {
           "angularaxis": {
            "gridcolor": "white",
            "linecolor": "white",
            "ticks": ""
           },
           "bgcolor": "#E5ECF6",
           "radialaxis": {
            "gridcolor": "white",
            "linecolor": "white",
            "ticks": ""
           }
          },
          "scene": {
           "xaxis": {
            "backgroundcolor": "#E5ECF6",
            "gridcolor": "white",
            "gridwidth": 2,
            "linecolor": "white",
            "showbackground": true,
            "ticks": "",
            "zerolinecolor": "white"
           },
           "yaxis": {
            "backgroundcolor": "#E5ECF6",
            "gridcolor": "white",
            "gridwidth": 2,
            "linecolor": "white",
            "showbackground": true,
            "ticks": "",
            "zerolinecolor": "white"
           },
           "zaxis": {
            "backgroundcolor": "#E5ECF6",
            "gridcolor": "white",
            "gridwidth": 2,
            "linecolor": "white",
            "showbackground": true,
            "ticks": "",
            "zerolinecolor": "white"
           }
          },
          "shapedefaults": {
           "line": {
            "color": "#2a3f5f"
           }
          },
          "ternary": {
           "aaxis": {
            "gridcolor": "white",
            "linecolor": "white",
            "ticks": ""
           },
           "baxis": {
            "gridcolor": "white",
            "linecolor": "white",
            "ticks": ""
           },
           "bgcolor": "#E5ECF6",
           "caxis": {
            "gridcolor": "white",
            "linecolor": "white",
            "ticks": ""
           }
          },
          "title": {
           "x": 0.05
          },
          "xaxis": {
           "automargin": true,
           "gridcolor": "white",
           "linecolor": "white",
           "ticks": "",
           "title": {
            "standoff": 15
           },
           "zerolinecolor": "white",
           "zerolinewidth": 2
          },
          "yaxis": {
           "automargin": true,
           "gridcolor": "white",
           "linecolor": "white",
           "ticks": "",
           "title": {
            "standoff": 15
           },
           "zerolinecolor": "white",
           "zerolinewidth": 2
          }
         }
        },
        "title": {
         "text": "Sample from a Normal Distribution"
        },
        "width": 800,
        "xaxis": {
         "anchor": "y",
         "domain": [
          0,
          1
         ],
         "title": {
          "text": "Normal"
         }
        },
        "yaxis": {
         "anchor": "x",
         "domain": [
          0,
          1
         ],
         "title": {
          "text": "probability density"
         }
        }
       }
      }
     },
     "metadata": {},
     "output_type": "display_data"
    }
   ],
   "source": [
    "fig = px.histogram(df, x=\"Normal\", \n",
    "                   nbins=25,\n",
    "                   histnorm='probability density',\n",
    "                   height = 500, width = 800,\n",
    "                   title='Sample from a Normal Distribution')\n",
    "fig.show()"
   ]
  },
  {
   "cell_type": "markdown",
   "metadata": {},
   "source": [
    "6. Customise the color of the bars using the input `color_discrete_sequence` as follows. Note that we have to pass a list of strings, where each string corresponds to a color.  In this case, we pass the color `teal`"
   ]
  },
  {
   "cell_type": "code",
   "execution_count": 11,
   "metadata": {},
   "outputs": [
    {
     "data": {
      "application/vnd.plotly.v1+json": {
       "config": {
        "plotlyServerURL": "https://plot.ly"
       },
       "data": [
        {
         "bingroup": "x",
         "histnorm": "probability density",
         "hovertemplate": "Normal=%{x}<br>probability density=%{y}<extra></extra>",
         "legendgroup": "",
         "marker": {
          "color": "teal",
          "pattern": {
           "shape": ""
          }
         },
         "name": "",
         "nbinsx": 25,
         "orientation": "v",
         "showlegend": false,
         "type": "histogram",
         "x": {
          "bdata": "0B/oLmXf8T9i7nDrChfIP4HOeTVwetS/IHC8FPh6+7+FKnRuEYnrv5GxceZE2NQ/awv1LPDw8b+D5zmjJx3QP5JUMnTAydS/7yb/pfYgsL9A+Z+jE7Nrv8nU/2AooNY/VXjrhECM8b9Z2lW6lWD4v97QXzKFsvW/olMSXnxdlL/63ah9YX7XPx1I4AR8ovO/D8VCBiLYyr+I6jc9L5Ddvybnyj2nUfA/50rNot8n1j/Tq78RhTPbP29hfSnsBvS/caq3+bglob8iK4eTYE/2v8OCdMlRqem/IZHt4lR97b+eimcYstbdvwO7pXWpNPK/SPIdJdU4+L88bb8qYbrnP1YWC1Qlsdg/3sbd0Ytq878b3bTHukjwv542gm69ovI/IsWgwUze2L+2Etek7ovTvwXS6SWO09c/TpaI70gX3L98V3J6JETpP3MWpRK4wLm/vDUAbpsbBMByfjqZC/fsvwZEVTlZEQDAQUPdwBSHAMAi/7pqF+e6v893iEGbp6K/phXxdeDXw7+H1Wh4EoXtv80YONUduu4/4xh+bF22878gveN6Cc3kv3S3tPIRDMO/A19rPNZZ8D8kpvJgpqDkv8lnFDlbUfY/3HsqRZR/AkCbmcIsTtPqP2eb/77eFua/4wVCpi5H3r/77ku7RLLgPxNV+yvnkvS/3Wpp3xKHwD+KOIeoT0sBQFqUUHlmrfI/eQiyhOLS67+Sfg9o8Xbsv/+s0aO86Oi/2++daRTW8L9iNrQnrK/6v/qYIQQLEOA/MFCCGJufwL/2TwcTVd//P+5Hd5yji+e/vlEjGUJc9z9UL+nxosziPwOWqXfYYOi/7ZcAy8hO07/s758OosLav03L3HGtHeg/FU0ukDrO1z8+lyoIqNngPzNZrKsMOvg/V1g0aId6z7+BDMvpHijdv9oZomfJp/e/UHdZDQDazb//do/tivPzv8YmdVgFpfK/JNZHEe1Cwj9ndqkyVFbXP9S8GigwQN8/RU+hY8Mh5z8VhfGEGTjwv98itgzn1+a/3PhtlNO41z/dV0z6+42VP/empP/JJvk/q7Z8Pg/I6z8unLGUE5jXvwS0ulT35eo/rCyFiDBPy7+tFbfOaVrsv4JgkehXE+O/UnTXAwsFAcDhWD1k+nr2PzNW64a0kPI/pe2b4LYT0L/sk39T8ymxvzmazQ0ZA/o/RD1oNDT4rD8jA/OLnXjXP7sFq34yi9o/2jL8Thjq+T+LKA0N94a6P0MYqLm4utE/XkF5gXEX4z9N4YvJvO7Dv9hUxTIIl+e/yX6WhdpZ6b+7v4Pdr17jPw1YahEc4NA/aRd5EzY8tz9jhp9WpFelP8mLcyN9kPA/p3EQBmKu8L8+sx5JO3vFP+OVr4HJwNC/Qo8z0lHS9j/dqD+UxbDjvweH0OThebY/KAFd6da74D+v0DnXKouTP9bKWMayB/e/VK2Y2LRE1j9A+0sBz67wP1sfNA7QA+0/kyKegZDx/T/nszxWVXfYvylbbwz0COu/r+ESr2oF2z9sDWX3C3X0v0JkQlvwy9A/AEBkZeBl+L+Cb+fuIjfzP8Ry5/Sjd8S/JUD851wJ8D9YrP/Si0XzP/pyi5TxD/e//0jOvIIzzb8Vq8uG2DX9P2fWIqN4S9A/5LPUa4006T/KQEsHVxHtP9NpdLW3iNg/qv5qzKLKxL+kwMix8Vj4vxjVcU4Q2LG/1fPtKF0O4T+326M6/8nFvygRRJjdt58/lnqhI8Zz5T8x0YZa6Y7MP0dn0YQXnsc/IYtiKDkDxz/Io3GA6x3OP5m7uXCO+OS/hSVbjTEJ8j+IG05e/HPZvzqCGG1RQvy/B5Z1ZzJXsb/ONfQF6um/vzQTfrw5epW/vR/W6+248L+y7ULMR17APwFXm4lIPdc/ZvojxsU/0T9IbILzJHvxP/XHG9Q0gtu/WaLkkEb89r8cFBudyW3zP/gmzKy+efM/9Ofw7jorub+yQnUueTzzvxT6DPL0Iu+/ypOlYTOY+b9CvBS3s1ztP79OnHxanfI/4BZkfM1Rsr8Rg2o7KuP7P9ozHTtBNOO/L7buSsyd+b9I/WLcIX8AwHZwRcxEGtG/vx6sJbyZ0T96LQLcj8/sP3XaVq8eYeS/vLnI0Fdf9L99FCI/QK+9Pw0LmcQRX/E/TTdZdh4j4L95YzNsEiDiP0kLSUdwe9g/pk/6wJuw87+fm3ZhF9Prv7x3KflgNNC/lSFynehr7j+xoarAWY+uP70roQVlyds/rEeKRKKH5L9LK65zW5DpP0ursI+2xAZA/D6u235s778LplJuwArsP/7jvIPc/84/ZlrvQzhw0z9jJqOC55b1P/V7BhBinuG/VKj+0IeO5D+vLb+tydDfvxjN7Dm5sLM/juunp8761r+8RY4LvY/+vwUixai32fe/RAzb/Lwyw7/FXF6l3c7QPyQCQDN4fOK/RfO1czvH87+VWmFsdgvvP+Xpu7MULv0/PCHpA1nTs7893MPj5TzXPyhGwvSiWde/jr5m/U2+tb8WyiZTI5vhv/uBmURBv+I/UjUnT2ag9b/SYnCgYKT0v0zhGWasxtI/4Rf3jkAs+r9GWyrz8oH5Pzlo3QSU6+u/G4wS4dGq8z/1LpQEqvnlv2eTCLN0ULg/AInW2NRf6j/cQHePgHujv+j/zllRWPA/jo3ao4mNwL8EHnGmU4m/vxLYJu6gNAFATjJmgMbv2z8pQK6ys5vqP/u61/s2hfA/ZiGTksHI5L9jRqgxnEn5PwPLAlQhFOM/vBAwjTcMAECce+M8iW37Pwf9uUhZgcA/ln6tBc9H8D/Kzi5UagzHP0jhq99Ny92/7xTY8eLauT+HyJX9ngPbP4COckrkZPi/Angdt4/p+b8b6Kfn9kcEwD5dTGP0cba/rYRm8f/H1T8/pYqqbBfyvwv+SASTF98/Ud4PLiCy4D+z6EK98nfzP6AGy+2kYuU/LRvpwxQV5b/BxnmZHm/Sv0HhCi+/BvM/hHtFoFeZ2L9B2w7lC57Tvw8zc2cukuw/iHcHEEdf3b93KF7TUATzPxOcKb6D29i/Ors3iTAN07/m4Tn6LwP0P6V2vdEJhPq/JROPfMv0nz/R+QGeVEvxv4DlYEWc1wDAD7v2xXrRwD/SBhi52De0PwmXk+6K4+w/ZNaszNeR4j9GRy9mVMf5v7ATQWQNm+G/nSNBTgZr5L90haX/4E7lv6B8RCiMkvC/vUWBpJl82r88w5xL4qztv8Xi2JU4gve/ORQ3892T8L/IIBslJ1YDwLjIxwfiDOw/ZcjRltUAqr9x0XTv20z2vzcV2J8NnMg/2eL/d50L+79ziKp2rrLqP8wYGU8ldNg/GS/m+AFP4D+w15pDuTHwP1Me4XVHL92/8jff37wL2b/h6M32xAS7v1BXEq6iPeK/UL/KpBRo/r9mM9b7XXr+PyHMZ5i8+AFAYOI//xnq1b9bdiaPHOvuv/32aRwfjNk/zNBHWi2+AcA3X+YQHpDtv6d+r0mVHOM/Xcz/2UEu87/Xyr6ZNVTUv00J6McmzPq/kyg3L1flw78yphPzsZTsPyp5aSfxAds/ykZvNABy6T84XNhMggHzv/7RWDcFMte/0ROUh/QwzD/l5TR0d1IBwPyK/YPT+OS/vb2Kgyj7xz/BFMvW1XXSP6TtFpV+qNk/hFx1vyk8+L9uMnixme7IP93pltXNQek/Km7KPxY44r9eYF/mbEOJP4YDHLgVStK/R8hSW0Sp8794mVQVKtThP7W1i1tDjsM/JdRPMYiw1D8aQEs4D37kP9p1yuSdzb4/o6yIX7I487+2gO66u+7gv3Tgu1tIEN0/B04VxU7J679JI7LDmPfFP744m+Ewa8u/CF05gmdV/j9emSx0u/z1v/qHoMB4bvk/m2Ql3uilBMBUtpq4JtkBQDqlwrA7r9O/2IKgxhQ94z+v3TvKqX3wP0CGTyVxEc2/MY6bsQb1rb+dzXnJsY/9v1gaA1dAR9G/YUhlgqL89T8tmv5ui1HZvxadhhNQw9e/FoMmhcnm9T8V465GVzXYv6yG1Nwyuu0/siObTYdp6b/a39WZ2j7zv2do7+pvh++/t9B6BTvK1r9TupbPD6DnP9fH49WeWMW/icqvOUXxz78C4iKIBFe9v4XvEpwj0O4/gFjKVQE31L9S2blhXOnLP8CRbC7cWNs/CN7zFFk55T9CjOgtf1/dv8uMDqVt+O2/W5Uy0pn08T9tCbT0lNXEP2ghtwpnMfS/0dOj2X6A+T896S+7Mdvmv2hugUKG3PO/R2NXIb9j6j8=",
          "dtype": "f8"
         },
         "xaxis": "x",
         "yaxis": "y"
        }
       ],
       "layout": {
        "barmode": "relative",
        "height": 500,
        "legend": {
         "tracegroupgap": 0
        },
        "template": {
         "data": {
          "bar": [
           {
            "error_x": {
             "color": "#2a3f5f"
            },
            "error_y": {
             "color": "#2a3f5f"
            },
            "marker": {
             "line": {
              "color": "#E5ECF6",
              "width": 0.5
             },
             "pattern": {
              "fillmode": "overlay",
              "size": 10,
              "solidity": 0.2
             }
            },
            "type": "bar"
           }
          ],
          "barpolar": [
           {
            "marker": {
             "line": {
              "color": "#E5ECF6",
              "width": 0.5
             },
             "pattern": {
              "fillmode": "overlay",
              "size": 10,
              "solidity": 0.2
             }
            },
            "type": "barpolar"
           }
          ],
          "carpet": [
           {
            "aaxis": {
             "endlinecolor": "#2a3f5f",
             "gridcolor": "white",
             "linecolor": "white",
             "minorgridcolor": "white",
             "startlinecolor": "#2a3f5f"
            },
            "baxis": {
             "endlinecolor": "#2a3f5f",
             "gridcolor": "white",
             "linecolor": "white",
             "minorgridcolor": "white",
             "startlinecolor": "#2a3f5f"
            },
            "type": "carpet"
           }
          ],
          "choropleth": [
           {
            "colorbar": {
             "outlinewidth": 0,
             "ticks": ""
            },
            "type": "choropleth"
           }
          ],
          "contour": [
           {
            "colorbar": {
             "outlinewidth": 0,
             "ticks": ""
            },
            "colorscale": [
             [
              0,
              "#0d0887"
             ],
             [
              0.1111111111111111,
              "#46039f"
             ],
             [
              0.2222222222222222,
              "#7201a8"
             ],
             [
              0.3333333333333333,
              "#9c179e"
             ],
             [
              0.4444444444444444,
              "#bd3786"
             ],
             [
              0.5555555555555556,
              "#d8576b"
             ],
             [
              0.6666666666666666,
              "#ed7953"
             ],
             [
              0.7777777777777778,
              "#fb9f3a"
             ],
             [
              0.8888888888888888,
              "#fdca26"
             ],
             [
              1,
              "#f0f921"
             ]
            ],
            "type": "contour"
           }
          ],
          "contourcarpet": [
           {
            "colorbar": {
             "outlinewidth": 0,
             "ticks": ""
            },
            "type": "contourcarpet"
           }
          ],
          "heatmap": [
           {
            "colorbar": {
             "outlinewidth": 0,
             "ticks": ""
            },
            "colorscale": [
             [
              0,
              "#0d0887"
             ],
             [
              0.1111111111111111,
              "#46039f"
             ],
             [
              0.2222222222222222,
              "#7201a8"
             ],
             [
              0.3333333333333333,
              "#9c179e"
             ],
             [
              0.4444444444444444,
              "#bd3786"
             ],
             [
              0.5555555555555556,
              "#d8576b"
             ],
             [
              0.6666666666666666,
              "#ed7953"
             ],
             [
              0.7777777777777778,
              "#fb9f3a"
             ],
             [
              0.8888888888888888,
              "#fdca26"
             ],
             [
              1,
              "#f0f921"
             ]
            ],
            "type": "heatmap"
           }
          ],
          "histogram": [
           {
            "marker": {
             "pattern": {
              "fillmode": "overlay",
              "size": 10,
              "solidity": 0.2
             }
            },
            "type": "histogram"
           }
          ],
          "histogram2d": [
           {
            "colorbar": {
             "outlinewidth": 0,
             "ticks": ""
            },
            "colorscale": [
             [
              0,
              "#0d0887"
             ],
             [
              0.1111111111111111,
              "#46039f"
             ],
             [
              0.2222222222222222,
              "#7201a8"
             ],
             [
              0.3333333333333333,
              "#9c179e"
             ],
             [
              0.4444444444444444,
              "#bd3786"
             ],
             [
              0.5555555555555556,
              "#d8576b"
             ],
             [
              0.6666666666666666,
              "#ed7953"
             ],
             [
              0.7777777777777778,
              "#fb9f3a"
             ],
             [
              0.8888888888888888,
              "#fdca26"
             ],
             [
              1,
              "#f0f921"
             ]
            ],
            "type": "histogram2d"
           }
          ],
          "histogram2dcontour": [
           {
            "colorbar": {
             "outlinewidth": 0,
             "ticks": ""
            },
            "colorscale": [
             [
              0,
              "#0d0887"
             ],
             [
              0.1111111111111111,
              "#46039f"
             ],
             [
              0.2222222222222222,
              "#7201a8"
             ],
             [
              0.3333333333333333,
              "#9c179e"
             ],
             [
              0.4444444444444444,
              "#bd3786"
             ],
             [
              0.5555555555555556,
              "#d8576b"
             ],
             [
              0.6666666666666666,
              "#ed7953"
             ],
             [
              0.7777777777777778,
              "#fb9f3a"
             ],
             [
              0.8888888888888888,
              "#fdca26"
             ],
             [
              1,
              "#f0f921"
             ]
            ],
            "type": "histogram2dcontour"
           }
          ],
          "mesh3d": [
           {
            "colorbar": {
             "outlinewidth": 0,
             "ticks": ""
            },
            "type": "mesh3d"
           }
          ],
          "parcoords": [
           {
            "line": {
             "colorbar": {
              "outlinewidth": 0,
              "ticks": ""
             }
            },
            "type": "parcoords"
           }
          ],
          "pie": [
           {
            "automargin": true,
            "type": "pie"
           }
          ],
          "scatter": [
           {
            "fillpattern": {
             "fillmode": "overlay",
             "size": 10,
             "solidity": 0.2
            },
            "type": "scatter"
           }
          ],
          "scatter3d": [
           {
            "line": {
             "colorbar": {
              "outlinewidth": 0,
              "ticks": ""
             }
            },
            "marker": {
             "colorbar": {
              "outlinewidth": 0,
              "ticks": ""
             }
            },
            "type": "scatter3d"
           }
          ],
          "scattercarpet": [
           {
            "marker": {
             "colorbar": {
              "outlinewidth": 0,
              "ticks": ""
             }
            },
            "type": "scattercarpet"
           }
          ],
          "scattergeo": [
           {
            "marker": {
             "colorbar": {
              "outlinewidth": 0,
              "ticks": ""
             }
            },
            "type": "scattergeo"
           }
          ],
          "scattergl": [
           {
            "marker": {
             "colorbar": {
              "outlinewidth": 0,
              "ticks": ""
             }
            },
            "type": "scattergl"
           }
          ],
          "scattermap": [
           {
            "marker": {
             "colorbar": {
              "outlinewidth": 0,
              "ticks": ""
             }
            },
            "type": "scattermap"
           }
          ],
          "scattermapbox": [
           {
            "marker": {
             "colorbar": {
              "outlinewidth": 0,
              "ticks": ""
             }
            },
            "type": "scattermapbox"
           }
          ],
          "scatterpolar": [
           {
            "marker": {
             "colorbar": {
              "outlinewidth": 0,
              "ticks": ""
             }
            },
            "type": "scatterpolar"
           }
          ],
          "scatterpolargl": [
           {
            "marker": {
             "colorbar": {
              "outlinewidth": 0,
              "ticks": ""
             }
            },
            "type": "scatterpolargl"
           }
          ],
          "scatterternary": [
           {
            "marker": {
             "colorbar": {
              "outlinewidth": 0,
              "ticks": ""
             }
            },
            "type": "scatterternary"
           }
          ],
          "surface": [
           {
            "colorbar": {
             "outlinewidth": 0,
             "ticks": ""
            },
            "colorscale": [
             [
              0,
              "#0d0887"
             ],
             [
              0.1111111111111111,
              "#46039f"
             ],
             [
              0.2222222222222222,
              "#7201a8"
             ],
             [
              0.3333333333333333,
              "#9c179e"
             ],
             [
              0.4444444444444444,
              "#bd3786"
             ],
             [
              0.5555555555555556,
              "#d8576b"
             ],
             [
              0.6666666666666666,
              "#ed7953"
             ],
             [
              0.7777777777777778,
              "#fb9f3a"
             ],
             [
              0.8888888888888888,
              "#fdca26"
             ],
             [
              1,
              "#f0f921"
             ]
            ],
            "type": "surface"
           }
          ],
          "table": [
           {
            "cells": {
             "fill": {
              "color": "#EBF0F8"
             },
             "line": {
              "color": "white"
             }
            },
            "header": {
             "fill": {
              "color": "#C8D4E3"
             },
             "line": {
              "color": "white"
             }
            },
            "type": "table"
           }
          ]
         },
         "layout": {
          "annotationdefaults": {
           "arrowcolor": "#2a3f5f",
           "arrowhead": 0,
           "arrowwidth": 1
          },
          "autotypenumbers": "strict",
          "coloraxis": {
           "colorbar": {
            "outlinewidth": 0,
            "ticks": ""
           }
          },
          "colorscale": {
           "diverging": [
            [
             0,
             "#8e0152"
            ],
            [
             0.1,
             "#c51b7d"
            ],
            [
             0.2,
             "#de77ae"
            ],
            [
             0.3,
             "#f1b6da"
            ],
            [
             0.4,
             "#fde0ef"
            ],
            [
             0.5,
             "#f7f7f7"
            ],
            [
             0.6,
             "#e6f5d0"
            ],
            [
             0.7,
             "#b8e186"
            ],
            [
             0.8,
             "#7fbc41"
            ],
            [
             0.9,
             "#4d9221"
            ],
            [
             1,
             "#276419"
            ]
           ],
           "sequential": [
            [
             0,
             "#0d0887"
            ],
            [
             0.1111111111111111,
             "#46039f"
            ],
            [
             0.2222222222222222,
             "#7201a8"
            ],
            [
             0.3333333333333333,
             "#9c179e"
            ],
            [
             0.4444444444444444,
             "#bd3786"
            ],
            [
             0.5555555555555556,
             "#d8576b"
            ],
            [
             0.6666666666666666,
             "#ed7953"
            ],
            [
             0.7777777777777778,
             "#fb9f3a"
            ],
            [
             0.8888888888888888,
             "#fdca26"
            ],
            [
             1,
             "#f0f921"
            ]
           ],
           "sequentialminus": [
            [
             0,
             "#0d0887"
            ],
            [
             0.1111111111111111,
             "#46039f"
            ],
            [
             0.2222222222222222,
             "#7201a8"
            ],
            [
             0.3333333333333333,
             "#9c179e"
            ],
            [
             0.4444444444444444,
             "#bd3786"
            ],
            [
             0.5555555555555556,
             "#d8576b"
            ],
            [
             0.6666666666666666,
             "#ed7953"
            ],
            [
             0.7777777777777778,
             "#fb9f3a"
            ],
            [
             0.8888888888888888,
             "#fdca26"
            ],
            [
             1,
             "#f0f921"
            ]
           ]
          },
          "colorway": [
           "#636efa",
           "#EF553B",
           "#00cc96",
           "#ab63fa",
           "#FFA15A",
           "#19d3f3",
           "#FF6692",
           "#B6E880",
           "#FF97FF",
           "#FECB52"
          ],
          "font": {
           "color": "#2a3f5f"
          },
          "geo": {
           "bgcolor": "white",
           "lakecolor": "white",
           "landcolor": "#E5ECF6",
           "showlakes": true,
           "showland": true,
           "subunitcolor": "white"
          },
          "hoverlabel": {
           "align": "left"
          },
          "hovermode": "closest",
          "mapbox": {
           "style": "light"
          },
          "paper_bgcolor": "white",
          "plot_bgcolor": "#E5ECF6",
          "polar": {
           "angularaxis": {
            "gridcolor": "white",
            "linecolor": "white",
            "ticks": ""
           },
           "bgcolor": "#E5ECF6",
           "radialaxis": {
            "gridcolor": "white",
            "linecolor": "white",
            "ticks": ""
           }
          },
          "scene": {
           "xaxis": {
            "backgroundcolor": "#E5ECF6",
            "gridcolor": "white",
            "gridwidth": 2,
            "linecolor": "white",
            "showbackground": true,
            "ticks": "",
            "zerolinecolor": "white"
           },
           "yaxis": {
            "backgroundcolor": "#E5ECF6",
            "gridcolor": "white",
            "gridwidth": 2,
            "linecolor": "white",
            "showbackground": true,
            "ticks": "",
            "zerolinecolor": "white"
           },
           "zaxis": {
            "backgroundcolor": "#E5ECF6",
            "gridcolor": "white",
            "gridwidth": 2,
            "linecolor": "white",
            "showbackground": true,
            "ticks": "",
            "zerolinecolor": "white"
           }
          },
          "shapedefaults": {
           "line": {
            "color": "#2a3f5f"
           }
          },
          "ternary": {
           "aaxis": {
            "gridcolor": "white",
            "linecolor": "white",
            "ticks": ""
           },
           "baxis": {
            "gridcolor": "white",
            "linecolor": "white",
            "ticks": ""
           },
           "bgcolor": "#E5ECF6",
           "caxis": {
            "gridcolor": "white",
            "linecolor": "white",
            "ticks": ""
           }
          },
          "title": {
           "x": 0.05
          },
          "xaxis": {
           "automargin": true,
           "gridcolor": "white",
           "linecolor": "white",
           "ticks": "",
           "title": {
            "standoff": 15
           },
           "zerolinecolor": "white",
           "zerolinewidth": 2
          },
          "yaxis": {
           "automargin": true,
           "gridcolor": "white",
           "linecolor": "white",
           "ticks": "",
           "title": {
            "standoff": 15
           },
           "zerolinecolor": "white",
           "zerolinewidth": 2
          }
         }
        },
        "title": {
         "text": "Sample from a Normal Distribution"
        },
        "width": 800,
        "xaxis": {
         "anchor": "y",
         "domain": [
          0,
          1
         ],
         "title": {
          "text": "Normal"
         }
        },
        "yaxis": {
         "anchor": "x",
         "domain": [
          0,
          1
         ],
         "title": {
          "text": "probability density"
         }
        }
       }
      }
     },
     "metadata": {},
     "output_type": "display_data"
    }
   ],
   "source": [
    "fig = px.histogram(df, x=\"Normal\", \n",
    "                   color_discrete_sequence=['teal'],\n",
    "                   nbins=25,\n",
    "                   histnorm='probability density',\n",
    "                   height = 500, width = 800,\n",
    "                   title='Sample from a Normal Distribution')\n",
    "fig.show()"
   ]
  },
  {
   "cell_type": "markdown",
   "metadata": {},
   "source": [
    "7. Customise the transparency of the histogram using the input `opacity`. "
   ]
  },
  {
   "cell_type": "code",
   "execution_count": 12,
   "metadata": {},
   "outputs": [
    {
     "data": {
      "application/vnd.plotly.v1+json": {
       "config": {
        "plotlyServerURL": "https://plot.ly"
       },
       "data": [
        {
         "bingroup": "x",
         "histnorm": "probability density",
         "hovertemplate": "Normal=%{x}<br>probability density=%{y}<extra></extra>",
         "legendgroup": "",
         "marker": {
          "color": "teal",
          "opacity": 0.75,
          "pattern": {
           "shape": ""
          }
         },
         "name": "",
         "nbinsx": 25,
         "orientation": "v",
         "showlegend": false,
         "type": "histogram",
         "x": {
          "bdata": "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",
          "dtype": "f8"
         },
         "xaxis": "x",
         "yaxis": "y"
        }
       ],
       "layout": {
        "barmode": "relative",
        "height": 500,
        "legend": {
         "tracegroupgap": 0
        },
        "template": {
         "data": {
          "bar": [
           {
            "error_x": {
             "color": "#2a3f5f"
            },
            "error_y": {
             "color": "#2a3f5f"
            },
            "marker": {
             "line": {
              "color": "#E5ECF6",
              "width": 0.5
             },
             "pattern": {
              "fillmode": "overlay",
              "size": 10,
              "solidity": 0.2
             }
            },
            "type": "bar"
           }
          ],
          "barpolar": [
           {
            "marker": {
             "line": {
              "color": "#E5ECF6",
              "width": 0.5
             },
             "pattern": {
              "fillmode": "overlay",
              "size": 10,
              "solidity": 0.2
             }
            },
            "type": "barpolar"
           }
          ],
          "carpet": [
           {
            "aaxis": {
             "endlinecolor": "#2a3f5f",
             "gridcolor": "white",
             "linecolor": "white",
             "minorgridcolor": "white",
             "startlinecolor": "#2a3f5f"
            },
            "baxis": {
             "endlinecolor": "#2a3f5f",
             "gridcolor": "white",
             "linecolor": "white",
             "minorgridcolor": "white",
             "startlinecolor": "#2a3f5f"
            },
            "type": "carpet"
           }
          ],
          "choropleth": [
           {
            "colorbar": {
             "outlinewidth": 0,
             "ticks": ""
            },
            "type": "choropleth"
           }
          ],
          "contour": [
           {
            "colorbar": {
             "outlinewidth": 0,
             "ticks": ""
            },
            "colorscale": [
             [
              0,
              "#0d0887"
             ],
             [
              0.1111111111111111,
              "#46039f"
             ],
             [
              0.2222222222222222,
              "#7201a8"
             ],
             [
              0.3333333333333333,
              "#9c179e"
             ],
             [
              0.4444444444444444,
              "#bd3786"
             ],
             [
              0.5555555555555556,
              "#d8576b"
             ],
             [
              0.6666666666666666,
              "#ed7953"
             ],
             [
              0.7777777777777778,
              "#fb9f3a"
             ],
             [
              0.8888888888888888,
              "#fdca26"
             ],
             [
              1,
              "#f0f921"
             ]
            ],
            "type": "contour"
           }
          ],
          "contourcarpet": [
           {
            "colorbar": {
             "outlinewidth": 0,
             "ticks": ""
            },
            "type": "contourcarpet"
           }
          ],
          "heatmap": [
           {
            "colorbar": {
             "outlinewidth": 0,
             "ticks": ""
            },
            "colorscale": [
             [
              0,
              "#0d0887"
             ],
             [
              0.1111111111111111,
              "#46039f"
             ],
             [
              0.2222222222222222,
              "#7201a8"
             ],
             [
              0.3333333333333333,
              "#9c179e"
             ],
             [
              0.4444444444444444,
              "#bd3786"
             ],
             [
              0.5555555555555556,
              "#d8576b"
             ],
             [
              0.6666666666666666,
              "#ed7953"
             ],
             [
              0.7777777777777778,
              "#fb9f3a"
             ],
             [
              0.8888888888888888,
              "#fdca26"
             ],
             [
              1,
              "#f0f921"
             ]
            ],
            "type": "heatmap"
           }
          ],
          "histogram": [
           {
            "marker": {
             "pattern": {
              "fillmode": "overlay",
              "size": 10,
              "solidity": 0.2
             }
            },
            "type": "histogram"
           }
          ],
          "histogram2d": [
           {
            "colorbar": {
             "outlinewidth": 0,
             "ticks": ""
            },
            "colorscale": [
             [
              0,
              "#0d0887"
             ],
             [
              0.1111111111111111,
              "#46039f"
             ],
             [
              0.2222222222222222,
              "#7201a8"
             ],
             [
              0.3333333333333333,
              "#9c179e"
             ],
             [
              0.4444444444444444,
              "#bd3786"
             ],
             [
              0.5555555555555556,
              "#d8576b"
             ],
             [
              0.6666666666666666,
              "#ed7953"
             ],
             [
              0.7777777777777778,
              "#fb9f3a"
             ],
             [
              0.8888888888888888,
              "#fdca26"
             ],
             [
              1,
              "#f0f921"
             ]
            ],
            "type": "histogram2d"
           }
          ],
          "histogram2dcontour": [
           {
            "colorbar": {
             "outlinewidth": 0,
             "ticks": ""
            },
            "colorscale": [
             [
              0,
              "#0d0887"
             ],
             [
              0.1111111111111111,
              "#46039f"
             ],
             [
              0.2222222222222222,
              "#7201a8"
             ],
             [
              0.3333333333333333,
              "#9c179e"
             ],
             [
              0.4444444444444444,
              "#bd3786"
             ],
             [
              0.5555555555555556,
              "#d8576b"
             ],
             [
              0.6666666666666666,
              "#ed7953"
             ],
             [
              0.7777777777777778,
              "#fb9f3a"
             ],
             [
              0.8888888888888888,
              "#fdca26"
             ],
             [
              1,
              "#f0f921"
             ]
            ],
            "type": "histogram2dcontour"
           }
          ],
          "mesh3d": [
           {
            "colorbar": {
             "outlinewidth": 0,
             "ticks": ""
            },
            "type": "mesh3d"
           }
          ],
          "parcoords": [
           {
            "line": {
             "colorbar": {
              "outlinewidth": 0,
              "ticks": ""
             }
            },
            "type": "parcoords"
           }
          ],
          "pie": [
           {
            "automargin": true,
            "type": "pie"
           }
          ],
          "scatter": [
           {
            "fillpattern": {
             "fillmode": "overlay",
             "size": 10,
             "solidity": 0.2
            },
            "type": "scatter"
           }
          ],
          "scatter3d": [
           {
            "line": {
             "colorbar": {
              "outlinewidth": 0,
              "ticks": ""
             }
            },
            "marker": {
             "colorbar": {
              "outlinewidth": 0,
              "ticks": ""
             }
            },
            "type": "scatter3d"
           }
          ],
          "scattercarpet": [
           {
            "marker": {
             "colorbar": {
              "outlinewidth": 0,
              "ticks": ""
             }
            },
            "type": "scattercarpet"
           }
          ],
          "scattergeo": [
           {
            "marker": {
             "colorbar": {
              "outlinewidth": 0,
              "ticks": ""
             }
            },
            "type": "scattergeo"
           }
          ],
          "scattergl": [
           {
            "marker": {
             "colorbar": {
              "outlinewidth": 0,
              "ticks": ""
             }
            },
            "type": "scattergl"
           }
          ],
          "scattermap": [
           {
            "marker": {
             "colorbar": {
              "outlinewidth": 0,
              "ticks": ""
             }
            },
            "type": "scattermap"
           }
          ],
          "scattermapbox": [
           {
            "marker": {
             "colorbar": {
              "outlinewidth": 0,
              "ticks": ""
             }
            },
            "type": "scattermapbox"
           }
          ],
          "scatterpolar": [
           {
            "marker": {
             "colorbar": {
              "outlinewidth": 0,
              "ticks": ""
             }
            },
            "type": "scatterpolar"
           }
          ],
          "scatterpolargl": [
           {
            "marker": {
             "colorbar": {
              "outlinewidth": 0,
              "ticks": ""
             }
            },
            "type": "scatterpolargl"
           }
          ],
          "scatterternary": [
           {
            "marker": {
             "colorbar": {
              "outlinewidth": 0,
              "ticks": ""
             }
            },
            "type": "scatterternary"
           }
          ],
          "surface": [
           {
            "colorbar": {
             "outlinewidth": 0,
             "ticks": ""
            },
            "colorscale": [
             [
              0,
              "#0d0887"
             ],
             [
              0.1111111111111111,
              "#46039f"
             ],
             [
              0.2222222222222222,
              "#7201a8"
             ],
             [
              0.3333333333333333,
              "#9c179e"
             ],
             [
              0.4444444444444444,
              "#bd3786"
             ],
             [
              0.5555555555555556,
              "#d8576b"
             ],
             [
              0.6666666666666666,
              "#ed7953"
             ],
             [
              0.7777777777777778,
              "#fb9f3a"
             ],
             [
              0.8888888888888888,
              "#fdca26"
             ],
             [
              1,
              "#f0f921"
             ]
            ],
            "type": "surface"
           }
          ],
          "table": [
           {
            "cells": {
             "fill": {
              "color": "#EBF0F8"
             },
             "line": {
              "color": "white"
             }
            },
            "header": {
             "fill": {
              "color": "#C8D4E3"
             },
             "line": {
              "color": "white"
             }
            },
            "type": "table"
           }
          ]
         },
         "layout": {
          "annotationdefaults": {
           "arrowcolor": "#2a3f5f",
           "arrowhead": 0,
           "arrowwidth": 1
          },
          "autotypenumbers": "strict",
          "coloraxis": {
           "colorbar": {
            "outlinewidth": 0,
            "ticks": ""
           }
          },
          "colorscale": {
           "diverging": [
            [
             0,
             "#8e0152"
            ],
            [
             0.1,
             "#c51b7d"
            ],
            [
             0.2,
             "#de77ae"
            ],
            [
             0.3,
             "#f1b6da"
            ],
            [
             0.4,
             "#fde0ef"
            ],
            [
             0.5,
             "#f7f7f7"
            ],
            [
             0.6,
             "#e6f5d0"
            ],
            [
             0.7,
             "#b8e186"
            ],
            [
             0.8,
             "#7fbc41"
            ],
            [
             0.9,
             "#4d9221"
            ],
            [
             1,
             "#276419"
            ]
           ],
           "sequential": [
            [
             0,
             "#0d0887"
            ],
            [
             0.1111111111111111,
             "#46039f"
            ],
            [
             0.2222222222222222,
             "#7201a8"
            ],
            [
             0.3333333333333333,
             "#9c179e"
            ],
            [
             0.4444444444444444,
             "#bd3786"
            ],
            [
             0.5555555555555556,
             "#d8576b"
            ],
            [
             0.6666666666666666,
             "#ed7953"
            ],
            [
             0.7777777777777778,
             "#fb9f3a"
            ],
            [
             0.8888888888888888,
             "#fdca26"
            ],
            [
             1,
             "#f0f921"
            ]
           ],
           "sequentialminus": [
            [
             0,
             "#0d0887"
            ],
            [
             0.1111111111111111,
             "#46039f"
            ],
            [
             0.2222222222222222,
             "#7201a8"
            ],
            [
             0.3333333333333333,
             "#9c179e"
            ],
            [
             0.4444444444444444,
             "#bd3786"
            ],
            [
             0.5555555555555556,
             "#d8576b"
            ],
            [
             0.6666666666666666,
             "#ed7953"
            ],
            [
             0.7777777777777778,
             "#fb9f3a"
            ],
            [
             0.8888888888888888,
             "#fdca26"
            ],
            [
             1,
             "#f0f921"
            ]
           ]
          },
          "colorway": [
           "#636efa",
           "#EF553B",
           "#00cc96",
           "#ab63fa",
           "#FFA15A",
           "#19d3f3",
           "#FF6692",
           "#B6E880",
           "#FF97FF",
           "#FECB52"
          ],
          "font": {
           "color": "#2a3f5f"
          },
          "geo": {
           "bgcolor": "white",
           "lakecolor": "white",
           "landcolor": "#E5ECF6",
           "showlakes": true,
           "showland": true,
           "subunitcolor": "white"
          },
          "hoverlabel": {
           "align": "left"
          },
          "hovermode": "closest",
          "mapbox": {
           "style": "light"
          },
          "paper_bgcolor": "white",
          "plot_bgcolor": "#E5ECF6",
          "polar": {
           "angularaxis": {
            "gridcolor": "white",
            "linecolor": "white",
            "ticks": ""
           },
           "bgcolor": "#E5ECF6",
           "radialaxis": {
            "gridcolor": "white",
            "linecolor": "white",
            "ticks": ""
           }
          },
          "scene": {
           "xaxis": {
            "backgroundcolor": "#E5ECF6",
            "gridcolor": "white",
            "gridwidth": 2,
            "linecolor": "white",
            "showbackground": true,
            "ticks": "",
            "zerolinecolor": "white"
           },
           "yaxis": {
            "backgroundcolor": "#E5ECF6",
            "gridcolor": "white",
            "gridwidth": 2,
            "linecolor": "white",
            "showbackground": true,
            "ticks": "",
            "zerolinecolor": "white"
           },
           "zaxis": {
            "backgroundcolor": "#E5ECF6",
            "gridcolor": "white",
            "gridwidth": 2,
            "linecolor": "white",
            "showbackground": true,
            "ticks": "",
            "zerolinecolor": "white"
           }
          },
          "shapedefaults": {
           "line": {
            "color": "#2a3f5f"
           }
          },
          "ternary": {
           "aaxis": {
            "gridcolor": "white",
            "linecolor": "white",
            "ticks": ""
           },
           "baxis": {
            "gridcolor": "white",
            "linecolor": "white",
            "ticks": ""
           },
           "bgcolor": "#E5ECF6",
           "caxis": {
            "gridcolor": "white",
            "linecolor": "white",
            "ticks": ""
           }
          },
          "title": {
           "x": 0.05
          },
          "xaxis": {
           "automargin": true,
           "gridcolor": "white",
           "linecolor": "white",
           "ticks": "",
           "title": {
            "standoff": 15
           },
           "zerolinecolor": "white",
           "zerolinewidth": 2
          },
          "yaxis": {
           "automargin": true,
           "gridcolor": "white",
           "linecolor": "white",
           "ticks": "",
           "title": {
            "standoff": 15
           },
           "zerolinecolor": "white",
           "zerolinewidth": 2
          }
         }
        },
        "title": {
         "text": "Sample from a Normal Distribution"
        },
        "width": 800,
        "xaxis": {
         "anchor": "y",
         "domain": [
          0,
          1
         ],
         "title": {
          "text": "Normal"
         }
        },
        "yaxis": {
         "anchor": "x",
         "domain": [
          0,
          1
         ],
         "title": {
          "text": "probability density"
         }
        }
       }
      }
     },
     "metadata": {},
     "output_type": "display_data"
    }
   ],
   "source": [
    "fig = px.histogram(df, x=\"Normal\", \n",
    "                   opacity=0.75,\n",
    "                   color_discrete_sequence=['teal'],\n",
    "                   nbins=25,\n",
    "                   histnorm='probability density',\n",
    "                   height = 500, width = 800,\n",
    "                   title='Sample from a Normal Distribution')\n",
    "fig.show()"
   ]
  },
  {
   "cell_type": "markdown",
   "metadata": {},
   "source": [
    "8. Snow the histogram in **cummulative form** by setting the input `cummulative` as `True`"
   ]
  },
  {
   "cell_type": "code",
   "execution_count": 13,
   "metadata": {},
   "outputs": [
    {
     "data": {
      "application/vnd.plotly.v1+json": {
       "config": {
        "plotlyServerURL": "https://plot.ly"
       },
       "data": [
        {
         "bingroup": "x",
         "cumulative": {
          "enabled": true
         },
         "histnorm": "probability density",
         "hovertemplate": "Normal=%{x}<br>probability density=%{y}<extra></extra>",
         "legendgroup": "",
         "marker": {
          "color": "teal",
          "opacity": 0.75,
          "pattern": {
           "shape": ""
          }
         },
         "name": "",
         "nbinsx": 25,
         "orientation": "v",
         "showlegend": false,
         "type": "histogram",
         "x": {
          "bdata": "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",
          "dtype": "f8"
         },
         "xaxis": "x",
         "yaxis": "y"
        }
       ],
       "layout": {
        "barmode": "relative",
        "height": 500,
        "legend": {
         "tracegroupgap": 0
        },
        "template": {
         "data": {
          "bar": [
           {
            "error_x": {
             "color": "#2a3f5f"
            },
            "error_y": {
             "color": "#2a3f5f"
            },
            "marker": {
             "line": {
              "color": "#E5ECF6",
              "width": 0.5
             },
             "pattern": {
              "fillmode": "overlay",
              "size": 10,
              "solidity": 0.2
             }
            },
            "type": "bar"
           }
          ],
          "barpolar": [
           {
            "marker": {
             "line": {
              "color": "#E5ECF6",
              "width": 0.5
             },
             "pattern": {
              "fillmode": "overlay",
              "size": 10,
              "solidity": 0.2
             }
            },
            "type": "barpolar"
           }
          ],
          "carpet": [
           {
            "aaxis": {
             "endlinecolor": "#2a3f5f",
             "gridcolor": "white",
             "linecolor": "white",
             "minorgridcolor": "white",
             "startlinecolor": "#2a3f5f"
            },
            "baxis": {
             "endlinecolor": "#2a3f5f",
             "gridcolor": "white",
             "linecolor": "white",
             "minorgridcolor": "white",
             "startlinecolor": "#2a3f5f"
            },
            "type": "carpet"
           }
          ],
          "choropleth": [
           {
            "colorbar": {
             "outlinewidth": 0,
             "ticks": ""
            },
            "type": "choropleth"
           }
          ],
          "contour": [
           {
            "colorbar": {
             "outlinewidth": 0,
             "ticks": ""
            },
            "colorscale": [
             [
              0,
              "#0d0887"
             ],
             [
              0.1111111111111111,
              "#46039f"
             ],
             [
              0.2222222222222222,
              "#7201a8"
             ],
             [
              0.3333333333333333,
              "#9c179e"
             ],
             [
              0.4444444444444444,
              "#bd3786"
             ],
             [
              0.5555555555555556,
              "#d8576b"
             ],
             [
              0.6666666666666666,
              "#ed7953"
             ],
             [
              0.7777777777777778,
              "#fb9f3a"
             ],
             [
              0.8888888888888888,
              "#fdca26"
             ],
             [
              1,
              "#f0f921"
             ]
            ],
            "type": "contour"
           }
          ],
          "contourcarpet": [
           {
            "colorbar": {
             "outlinewidth": 0,
             "ticks": ""
            },
            "type": "contourcarpet"
           }
          ],
          "heatmap": [
           {
            "colorbar": {
             "outlinewidth": 0,
             "ticks": ""
            },
            "colorscale": [
             [
              0,
              "#0d0887"
             ],
             [
              0.1111111111111111,
              "#46039f"
             ],
             [
              0.2222222222222222,
              "#7201a8"
             ],
             [
              0.3333333333333333,
              "#9c179e"
             ],
             [
              0.4444444444444444,
              "#bd3786"
             ],
             [
              0.5555555555555556,
              "#d8576b"
             ],
             [
              0.6666666666666666,
              "#ed7953"
             ],
             [
              0.7777777777777778,
              "#fb9f3a"
             ],
             [
              0.8888888888888888,
              "#fdca26"
             ],
             [
              1,
              "#f0f921"
             ]
            ],
            "type": "heatmap"
           }
          ],
          "histogram": [
           {
            "marker": {
             "pattern": {
              "fillmode": "overlay",
              "size": 10,
              "solidity": 0.2
             }
            },
            "type": "histogram"
           }
          ],
          "histogram2d": [
           {
            "colorbar": {
             "outlinewidth": 0,
             "ticks": ""
            },
            "colorscale": [
             [
              0,
              "#0d0887"
             ],
             [
              0.1111111111111111,
              "#46039f"
             ],
             [
              0.2222222222222222,
              "#7201a8"
             ],
             [
              0.3333333333333333,
              "#9c179e"
             ],
             [
              0.4444444444444444,
              "#bd3786"
             ],
             [
              0.5555555555555556,
              "#d8576b"
             ],
             [
              0.6666666666666666,
              "#ed7953"
             ],
             [
              0.7777777777777778,
              "#fb9f3a"
             ],
             [
              0.8888888888888888,
              "#fdca26"
             ],
             [
              1,
              "#f0f921"
             ]
            ],
            "type": "histogram2d"
           }
          ],
          "histogram2dcontour": [
           {
            "colorbar": {
             "outlinewidth": 0,
             "ticks": ""
            },
            "colorscale": [
             [
              0,
              "#0d0887"
             ],
             [
              0.1111111111111111,
              "#46039f"
             ],
             [
              0.2222222222222222,
              "#7201a8"
             ],
             [
              0.3333333333333333,
              "#9c179e"
             ],
             [
              0.4444444444444444,
              "#bd3786"
             ],
             [
              0.5555555555555556,
              "#d8576b"
             ],
             [
              0.6666666666666666,
              "#ed7953"
             ],
             [
              0.7777777777777778,
              "#fb9f3a"
             ],
             [
              0.8888888888888888,
              "#fdca26"
             ],
             [
              1,
              "#f0f921"
             ]
            ],
            "type": "histogram2dcontour"
           }
          ],
          "mesh3d": [
           {
            "colorbar": {
             "outlinewidth": 0,
             "ticks": ""
            },
            "type": "mesh3d"
           }
          ],
          "parcoords": [
           {
            "line": {
             "colorbar": {
              "outlinewidth": 0,
              "ticks": ""
             }
            },
            "type": "parcoords"
           }
          ],
          "pie": [
           {
            "automargin": true,
            "type": "pie"
           }
          ],
          "scatter": [
           {
            "fillpattern": {
             "fillmode": "overlay",
             "size": 10,
             "solidity": 0.2
            },
            "type": "scatter"
           }
          ],
          "scatter3d": [
           {
            "line": {
             "colorbar": {
              "outlinewidth": 0,
              "ticks": ""
             }
            },
            "marker": {
             "colorbar": {
              "outlinewidth": 0,
              "ticks": ""
             }
            },
            "type": "scatter3d"
           }
          ],
          "scattercarpet": [
           {
            "marker": {
             "colorbar": {
              "outlinewidth": 0,
              "ticks": ""
             }
            },
            "type": "scattercarpet"
           }
          ],
          "scattergeo": [
           {
            "marker": {
             "colorbar": {
              "outlinewidth": 0,
              "ticks": ""
             }
            },
            "type": "scattergeo"
           }
          ],
          "scattergl": [
           {
            "marker": {
             "colorbar": {
              "outlinewidth": 0,
              "ticks": ""
             }
            },
            "type": "scattergl"
           }
          ],
          "scattermap": [
           {
            "marker": {
             "colorbar": {
              "outlinewidth": 0,
              "ticks": ""
             }
            },
            "type": "scattermap"
           }
          ],
          "scattermapbox": [
           {
            "marker": {
             "colorbar": {
              "outlinewidth": 0,
              "ticks": ""
             }
            },
            "type": "scattermapbox"
           }
          ],
          "scatterpolar": [
           {
            "marker": {
             "colorbar": {
              "outlinewidth": 0,
              "ticks": ""
             }
            },
            "type": "scatterpolar"
           }
          ],
          "scatterpolargl": [
           {
            "marker": {
             "colorbar": {
              "outlinewidth": 0,
              "ticks": ""
             }
            },
            "type": "scatterpolargl"
           }
          ],
          "scatterternary": [
           {
            "marker": {
             "colorbar": {
              "outlinewidth": 0,
              "ticks": ""
             }
            },
            "type": "scatterternary"
           }
          ],
          "surface": [
           {
            "colorbar": {
             "outlinewidth": 0,
             "ticks": ""
            },
            "colorscale": [
             [
              0,
              "#0d0887"
             ],
             [
              0.1111111111111111,
              "#46039f"
             ],
             [
              0.2222222222222222,
              "#7201a8"
             ],
             [
              0.3333333333333333,
              "#9c179e"
             ],
             [
              0.4444444444444444,
              "#bd3786"
             ],
             [
              0.5555555555555556,
              "#d8576b"
             ],
             [
              0.6666666666666666,
              "#ed7953"
             ],
             [
              0.7777777777777778,
              "#fb9f3a"
             ],
             [
              0.8888888888888888,
              "#fdca26"
             ],
             [
              1,
              "#f0f921"
             ]
            ],
            "type": "surface"
           }
          ],
          "table": [
           {
            "cells": {
             "fill": {
              "color": "#EBF0F8"
             },
             "line": {
              "color": "white"
             }
            },
            "header": {
             "fill": {
              "color": "#C8D4E3"
             },
             "line": {
              "color": "white"
             }
            },
            "type": "table"
           }
          ]
         },
         "layout": {
          "annotationdefaults": {
           "arrowcolor": "#2a3f5f",
           "arrowhead": 0,
           "arrowwidth": 1
          },
          "autotypenumbers": "strict",
          "coloraxis": {
           "colorbar": {
            "outlinewidth": 0,
            "ticks": ""
           }
          },
          "colorscale": {
           "diverging": [
            [
             0,
             "#8e0152"
            ],
            [
             0.1,
             "#c51b7d"
            ],
            [
             0.2,
             "#de77ae"
            ],
            [
             0.3,
             "#f1b6da"
            ],
            [
             0.4,
             "#fde0ef"
            ],
            [
             0.5,
             "#f7f7f7"
            ],
            [
             0.6,
             "#e6f5d0"
            ],
            [
             0.7,
             "#b8e186"
            ],
            [
             0.8,
             "#7fbc41"
            ],
            [
             0.9,
             "#4d9221"
            ],
            [
             1,
             "#276419"
            ]
           ],
           "sequential": [
            [
             0,
             "#0d0887"
            ],
            [
             0.1111111111111111,
             "#46039f"
            ],
            [
             0.2222222222222222,
             "#7201a8"
            ],
            [
             0.3333333333333333,
             "#9c179e"
            ],
            [
             0.4444444444444444,
             "#bd3786"
            ],
            [
             0.5555555555555556,
             "#d8576b"
            ],
            [
             0.6666666666666666,
             "#ed7953"
            ],
            [
             0.7777777777777778,
             "#fb9f3a"
            ],
            [
             0.8888888888888888,
             "#fdca26"
            ],
            [
             1,
             "#f0f921"
            ]
           ],
           "sequentialminus": [
            [
             0,
             "#0d0887"
            ],
            [
             0.1111111111111111,
             "#46039f"
            ],
            [
             0.2222222222222222,
             "#7201a8"
            ],
            [
             0.3333333333333333,
             "#9c179e"
            ],
            [
             0.4444444444444444,
             "#bd3786"
            ],
            [
             0.5555555555555556,
             "#d8576b"
            ],
            [
             0.6666666666666666,
             "#ed7953"
            ],
            [
             0.7777777777777778,
             "#fb9f3a"
            ],
            [
             0.8888888888888888,
             "#fdca26"
            ],
            [
             1,
             "#f0f921"
            ]
           ]
          },
          "colorway": [
           "#636efa",
           "#EF553B",
           "#00cc96",
           "#ab63fa",
           "#FFA15A",
           "#19d3f3",
           "#FF6692",
           "#B6E880",
           "#FF97FF",
           "#FECB52"
          ],
          "font": {
           "color": "#2a3f5f"
          },
          "geo": {
           "bgcolor": "white",
           "lakecolor": "white",
           "landcolor": "#E5ECF6",
           "showlakes": true,
           "showland": true,
           "subunitcolor": "white"
          },
          "hoverlabel": {
           "align": "left"
          },
          "hovermode": "closest",
          "mapbox": {
           "style": "light"
          },
          "paper_bgcolor": "white",
          "plot_bgcolor": "#E5ECF6",
          "polar": {
           "angularaxis": {
            "gridcolor": "white",
            "linecolor": "white",
            "ticks": ""
           },
           "bgcolor": "#E5ECF6",
           "radialaxis": {
            "gridcolor": "white",
            "linecolor": "white",
            "ticks": ""
           }
          },
          "scene": {
           "xaxis": {
            "backgroundcolor": "#E5ECF6",
            "gridcolor": "white",
            "gridwidth": 2,
            "linecolor": "white",
            "showbackground": true,
            "ticks": "",
            "zerolinecolor": "white"
           },
           "yaxis": {
            "backgroundcolor": "#E5ECF6",
            "gridcolor": "white",
            "gridwidth": 2,
            "linecolor": "white",
            "showbackground": true,
            "ticks": "",
            "zerolinecolor": "white"
           },
           "zaxis": {
            "backgroundcolor": "#E5ECF6",
            "gridcolor": "white",
            "gridwidth": 2,
            "linecolor": "white",
            "showbackground": true,
            "ticks": "",
            "zerolinecolor": "white"
           }
          },
          "shapedefaults": {
           "line": {
            "color": "#2a3f5f"
           }
          },
          "ternary": {
           "aaxis": {
            "gridcolor": "white",
            "linecolor": "white",
            "ticks": ""
           },
           "baxis": {
            "gridcolor": "white",
            "linecolor": "white",
            "ticks": ""
           },
           "bgcolor": "#E5ECF6",
           "caxis": {
            "gridcolor": "white",
            "linecolor": "white",
            "ticks": ""
           }
          },
          "title": {
           "x": 0.05
          },
          "xaxis": {
           "automargin": true,
           "gridcolor": "white",
           "linecolor": "white",
           "ticks": "",
           "title": {
            "standoff": 15
           },
           "zerolinecolor": "white",
           "zerolinewidth": 2
          },
          "yaxis": {
           "automargin": true,
           "gridcolor": "white",
           "linecolor": "white",
           "ticks": "",
           "title": {
            "standoff": 15
           },
           "zerolinecolor": "white",
           "zerolinewidth": 2
          }
         }
        },
        "title": {
         "text": "Sample from a Normal Distribution"
        },
        "width": 800,
        "xaxis": {
         "anchor": "y",
         "domain": [
          0,
          1
         ],
         "title": {
          "text": "Normal"
         }
        },
        "yaxis": {
         "anchor": "x",
         "domain": [
          0,
          1
         ],
         "title": {
          "text": "probability density"
         }
        }
       }
      }
     },
     "metadata": {},
     "output_type": "display_data"
    }
   ],
   "source": [
    "fig = px.histogram(df, x=\"Normal\", \n",
    "                   cumulative=True,\n",
    "                   opacity=0.75,\n",
    "                   color_discrete_sequence=['teal'],\n",
    "                   nbins=25,\n",
    "                   histnorm='probability density',\n",
    "                   height = 500, width = 800,\n",
    "                   title='Sample from a Normal Distribution')\n",
    "fig.show()"
   ]
  },
  {
   "cell_type": "markdown",
   "metadata": {},
   "source": [
    "### Multiple data sets"
   ]
  },
  {
   "cell_type": "markdown",
   "metadata": {},
   "source": [
    "Now we are going to use the data set `data2`"
   ]
  },
  {
   "cell_type": "code",
   "execution_count": 14,
   "metadata": {},
   "outputs": [],
   "source": [
    "df = data2"
   ]
  },
  {
   "cell_type": "markdown",
   "metadata": {},
   "source": [
    "1. To make a  histogram illustrating multiple distributions we follow the same ingredients as before calling the function `histrogram`  as before but importantly we have to pass the input `color` to differentiate the distributions\n"
   ]
  },
  {
   "cell_type": "code",
   "execution_count": 15,
   "metadata": {},
   "outputs": [
    {
     "data": {
      "application/vnd.plotly.v1+json": {
       "config": {
        "plotlyServerURL": "https://plot.ly"
       },
       "data": [
        {
         "bingroup": "x",
         "histnorm": "probability density",
         "hovertemplate": "Label=Sample 1<br>Data=%{x}<br>probability density=%{y}<extra></extra>",
         "legendgroup": "Sample 1",
         "marker": {
          "color": "#636efa",
          "opacity": 0.75,
          "pattern": {
           "shape": ""
          }
         },
         "name": "Sample 1",
         "nbinsx": 25,
         "orientation": "v",
         "showlegend": true,
         "type": "histogram",
         "x": {
          "bdata": "0B/oLmXf8T9i7nDrChfIP4HOeTVwetS/IHC8FPh6+7+FKnRuEYnrv5GxceZE2NQ/awv1LPDw8b+D5zmjJx3QP5JUMnTAydS/7yb/pfYgsL9A+Z+jE7Nrv8nU/2AooNY/VXjrhECM8b9Z2lW6lWD4v97QXzKFsvW/olMSXnxdlL/63ah9YX7XPx1I4AR8ovO/D8VCBiLYyr+I6jc9L5Ddvybnyj2nUfA/50rNot8n1j/Tq78RhTPbP29hfSnsBvS/caq3+bglob8iK4eTYE/2v8OCdMlRqem/IZHt4lR97b+eimcYstbdvwO7pXWpNPK/SPIdJdU4+L88bb8qYbrnP1YWC1Qlsdg/3sbd0Ytq878b3bTHukjwv542gm69ovI/IsWgwUze2L+2Etek7ovTvwXS6SWO09c/TpaI70gX3L98V3J6JETpP3MWpRK4wLm/vDUAbpsbBMByfjqZC/fsvwZEVTlZEQDAQUPdwBSHAMAi/7pqF+e6v893iEGbp6K/phXxdeDXw7+H1Wh4EoXtv80YONUduu4/4xh+bF22878gveN6Cc3kv3S3tPIRDMO/A19rPNZZ8D8kpvJgpqDkv8lnFDlbUfY/3HsqRZR/AkCbmcIsTtPqP2eb/77eFua/4wVCpi5H3r/77ku7RLLgPxNV+yvnkvS/3Wpp3xKHwD+KOIeoT0sBQFqUUHlmrfI/eQiyhOLS67+Sfg9o8Xbsv/+s0aO86Oi/2++daRTW8L9iNrQnrK/6v/qYIQQLEOA/MFCCGJufwL/2TwcTVd//P+5Hd5yji+e/vlEjGUJc9z9UL+nxosziPwOWqXfYYOi/7ZcAy8hO07/s758OosLav03L3HGtHeg/FU0ukDrO1z8+lyoIqNngPzNZrKsMOvg/V1g0aId6z7+BDMvpHijdv9oZomfJp/e/UHdZDQDazb//do/tivPzv8YmdVgFpfK/JNZHEe1Cwj9ndqkyVFbXP9S8GigwQN8/RU+hY8Mh5z8VhfGEGTjwv98itgzn1+a/3PhtlNO41z/dV0z6+42VP/empP/JJvk/q7Z8Pg/I6z8unLGUE5jXvwS0ulT35eo/rCyFiDBPy7+tFbfOaVrsv4JgkehXE+O/UnTXAwsFAcDhWD1k+nr2PzNW64a0kPI/pe2b4LYT0L/sk39T8ymxvzmazQ0ZA/o/RD1oNDT4rD8jA/OLnXjXP7sFq34yi9o/2jL8Thjq+T+LKA0N94a6P0MYqLm4utE/XkF5gXEX4z9N4YvJvO7Dv9hUxTIIl+e/yX6WhdpZ6b+7v4Pdr17jPw1YahEc4NA/aRd5EzY8tz9jhp9WpFelP8mLcyN9kPA/p3EQBmKu8L8+sx5JO3vFP+OVr4HJwNC/Qo8z0lHS9j/dqD+UxbDjvweH0OThebY/KAFd6da74D+v0DnXKouTP9bKWMayB/e/VK2Y2LRE1j9A+0sBz67wP1sfNA7QA+0/kyKegZDx/T/nszxWVXfYvylbbwz0COu/r+ESr2oF2z9sDWX3C3X0v0JkQlvwy9A/AEBkZeBl+L+Cb+fuIjfzP8Ry5/Sjd8S/JUD851wJ8D9YrP/Si0XzP/pyi5TxD/e//0jOvIIzzb8Vq8uG2DX9P2fWIqN4S9A/5LPUa4006T/KQEsHVxHtP9NpdLW3iNg/qv5qzKLKxL+kwMix8Vj4vxjVcU4Q2LG/1fPtKF0O4T+326M6/8nFvygRRJjdt58/lnqhI8Zz5T8x0YZa6Y7MP0dn0YQXnsc/IYtiKDkDxz/Io3GA6x3OP5m7uXCO+OS/hSVbjTEJ8j+IG05e/HPZvzqCGG1RQvy/B5Z1ZzJXsb/ONfQF6um/vzQTfrw5epW/vR/W6+248L+y7ULMR17APwFXm4lIPdc/ZvojxsU/0T9IbILzJHvxP/XHG9Q0gtu/WaLkkEb89r8cFBudyW3zP/gmzKy+efM/9Ofw7jorub+yQnUueTzzvxT6DPL0Iu+/ypOlYTOY+b9CvBS3s1ztP79OnHxanfI/4BZkfM1Rsr8Rg2o7KuP7P9ozHTtBNOO/L7buSsyd+b9I/WLcIX8AwHZwRcxEGtG/vx6sJbyZ0T96LQLcj8/sP3XaVq8eYeS/vLnI0Fdf9L99FCI/QK+9Pw0LmcQRX/E/TTdZdh4j4L95YzNsEiDiP0kLSUdwe9g/pk/6wJuw87+fm3ZhF9Prv7x3KflgNNC/lSFynehr7j+xoarAWY+uP70roQVlyds/rEeKRKKH5L9LK65zW5DpP0ursI+2xAZA/D6u235s778LplJuwArsP/7jvIPc/84/ZlrvQzhw0z9jJqOC55b1P/V7BhBinuG/VKj+0IeO5D+vLb+tydDfvxjN7Dm5sLM/juunp8761r+8RY4LvY/+vwUixai32fe/RAzb/Lwyw7/FXF6l3c7QPyQCQDN4fOK/RfO1czvH87+VWmFsdgvvP+Xpu7MULv0/PCHpA1nTs7893MPj5TzXPyhGwvSiWde/jr5m/U2+tb8WyiZTI5vhv/uBmURBv+I/UjUnT2ag9b/SYnCgYKT0v0zhGWasxtI/4Rf3jkAs+r9GWyrz8oH5Pzlo3QSU6+u/G4wS4dGq8z/1LpQEqvnlv2eTCLN0ULg/AInW2NRf6j/cQHePgHujv+j/zllRWPA/jo3ao4mNwL8EHnGmU4m/vxLYJu6gNAFATjJmgMbv2z8pQK6ys5vqP/u61/s2hfA/ZiGTksHI5L9jRqgxnEn5PwPLAlQhFOM/vBAwjTcMAECce+M8iW37Pwf9uUhZgcA/ln6tBc9H8D/Kzi5UagzHP0jhq99Ny92/7xTY8eLauT+HyJX9ngPbP4COckrkZPi/Angdt4/p+b8b6Kfn9kcEwD5dTGP0cba/rYRm8f/H1T8/pYqqbBfyvwv+SASTF98/Ud4PLiCy4D+z6EK98nfzP6AGy+2kYuU/LRvpwxQV5b/BxnmZHm/Sv0HhCi+/BvM/hHtFoFeZ2L9B2w7lC57Tvw8zc2cukuw/iHcHEEdf3b93KF7TUATzPxOcKb6D29i/Ors3iTAN07/m4Tn6LwP0P6V2vdEJhPq/JROPfMv0nz/R+QGeVEvxv4DlYEWc1wDAD7v2xXrRwD/SBhi52De0PwmXk+6K4+w/ZNaszNeR4j9GRy9mVMf5v7ATQWQNm+G/nSNBTgZr5L90haX/4E7lv6B8RCiMkvC/vUWBpJl82r88w5xL4qztv8Xi2JU4gve/ORQ3892T8L/IIBslJ1YDwLjIxwfiDOw/ZcjRltUAqr9x0XTv20z2vzcV2J8NnMg/2eL/d50L+79ziKp2rrLqP8wYGU8ldNg/GS/m+AFP4D+w15pDuTHwP1Me4XVHL92/8jff37wL2b/h6M32xAS7v1BXEq6iPeK/UL/KpBRo/r9mM9b7XXr+PyHMZ5i8+AFAYOI//xnq1b9bdiaPHOvuv/32aRwfjNk/zNBHWi2+AcA3X+YQHpDtv6d+r0mVHOM/Xcz/2UEu87/Xyr6ZNVTUv00J6McmzPq/kyg3L1flw78yphPzsZTsPyp5aSfxAds/ykZvNABy6T84XNhMggHzv/7RWDcFMte/0ROUh/QwzD/l5TR0d1IBwPyK/YPT+OS/vb2Kgyj7xz/BFMvW1XXSP6TtFpV+qNk/hFx1vyk8+L9uMnixme7IP93pltXNQek/Km7KPxY44r9eYF/mbEOJP4YDHLgVStK/R8hSW0Sp8794mVQVKtThP7W1i1tDjsM/JdRPMYiw1D8aQEs4D37kP9p1yuSdzb4/o6yIX7I487+2gO66u+7gv3Tgu1tIEN0/B04VxU7J679JI7LDmPfFP744m+Ewa8u/CF05gmdV/j9emSx0u/z1v/qHoMB4bvk/m2Ql3uilBMBUtpq4JtkBQDqlwrA7r9O/2IKgxhQ94z+v3TvKqX3wP0CGTyVxEc2/MY6bsQb1rb+dzXnJsY/9v1gaA1dAR9G/YUhlgqL89T8tmv5ui1HZvxadhhNQw9e/FoMmhcnm9T8V465GVzXYv6yG1Nwyuu0/siObTYdp6b/a39WZ2j7zv2do7+pvh++/t9B6BTvK1r9TupbPD6DnP9fH49WeWMW/icqvOUXxz78C4iKIBFe9v4XvEpwj0O4/gFjKVQE31L9S2blhXOnLP8CRbC7cWNs/CN7zFFk55T9CjOgtf1/dv8uMDqVt+O2/W5Uy0pn08T9tCbT0lNXEP2ghtwpnMfS/0dOj2X6A+T896S+7Mdvmv2hugUKG3PO/R2NXIb9j6j8=",
          "dtype": "f8"
         },
         "xaxis": "x",
         "yaxis": "y"
        },
        {
         "bingroup": "x",
         "histnorm": "probability density",
         "hovertemplate": "Label=Sample 2<br>Data=%{x}<br>probability density=%{y}<extra></extra>",
         "legendgroup": "Sample 2",
         "marker": {
          "color": "#EF553B",
          "opacity": 0.75,
          "pattern": {
           "shape": ""
          }
         },
         "name": "Sample 2",
         "nbinsx": 25,
         "orientation": "v",
         "showlegend": true,
         "type": "histogram",
         "x": {
          "bdata": "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",
          "dtype": "f8"
         },
         "xaxis": "x",
         "yaxis": "y"
        }
       ],
       "layout": {
        "barmode": "relative",
        "height": 500,
        "legend": {
         "title": {
          "text": "Label"
         },
         "tracegroupgap": 0
        },
        "template": {
         "data": {
          "bar": [
           {
            "error_x": {
             "color": "#2a3f5f"
            },
            "error_y": {
             "color": "#2a3f5f"
            },
            "marker": {
             "line": {
              "color": "#E5ECF6",
              "width": 0.5
             },
             "pattern": {
              "fillmode": "overlay",
              "size": 10,
              "solidity": 0.2
             }
            },
            "type": "bar"
           }
          ],
          "barpolar": [
           {
            "marker": {
             "line": {
              "color": "#E5ECF6",
              "width": 0.5
             },
             "pattern": {
              "fillmode": "overlay",
              "size": 10,
              "solidity": 0.2
             }
            },
            "type": "barpolar"
           }
          ],
          "carpet": [
           {
            "aaxis": {
             "endlinecolor": "#2a3f5f",
             "gridcolor": "white",
             "linecolor": "white",
             "minorgridcolor": "white",
             "startlinecolor": "#2a3f5f"
            },
            "baxis": {
             "endlinecolor": "#2a3f5f",
             "gridcolor": "white",
             "linecolor": "white",
             "minorgridcolor": "white",
             "startlinecolor": "#2a3f5f"
            },
            "type": "carpet"
           }
          ],
          "choropleth": [
           {
            "colorbar": {
             "outlinewidth": 0,
             "ticks": ""
            },
            "type": "choropleth"
           }
          ],
          "contour": [
           {
            "colorbar": {
             "outlinewidth": 0,
             "ticks": ""
            },
            "colorscale": [
             [
              0,
              "#0d0887"
             ],
             [
              0.1111111111111111,
              "#46039f"
             ],
             [
              0.2222222222222222,
              "#7201a8"
             ],
             [
              0.3333333333333333,
              "#9c179e"
             ],
             [
              0.4444444444444444,
              "#bd3786"
             ],
             [
              0.5555555555555556,
              "#d8576b"
             ],
             [
              0.6666666666666666,
              "#ed7953"
             ],
             [
              0.7777777777777778,
              "#fb9f3a"
             ],
             [
              0.8888888888888888,
              "#fdca26"
             ],
             [
              1,
              "#f0f921"
             ]
            ],
            "type": "contour"
           }
          ],
          "contourcarpet": [
           {
            "colorbar": {
             "outlinewidth": 0,
             "ticks": ""
            },
            "type": "contourcarpet"
           }
          ],
          "heatmap": [
           {
            "colorbar": {
             "outlinewidth": 0,
             "ticks": ""
            },
            "colorscale": [
             [
              0,
              "#0d0887"
             ],
             [
              0.1111111111111111,
              "#46039f"
             ],
             [
              0.2222222222222222,
              "#7201a8"
             ],
             [
              0.3333333333333333,
              "#9c179e"
             ],
             [
              0.4444444444444444,
              "#bd3786"
             ],
             [
              0.5555555555555556,
              "#d8576b"
             ],
             [
              0.6666666666666666,
              "#ed7953"
             ],
             [
              0.7777777777777778,
              "#fb9f3a"
             ],
             [
              0.8888888888888888,
              "#fdca26"
             ],
             [
              1,
              "#f0f921"
             ]
            ],
            "type": "heatmap"
           }
          ],
          "histogram": [
           {
            "marker": {
             "pattern": {
              "fillmode": "overlay",
              "size": 10,
              "solidity": 0.2
             }
            },
            "type": "histogram"
           }
          ],
          "histogram2d": [
           {
            "colorbar": {
             "outlinewidth": 0,
             "ticks": ""
            },
            "colorscale": [
             [
              0,
              "#0d0887"
             ],
             [
              0.1111111111111111,
              "#46039f"
             ],
             [
              0.2222222222222222,
              "#7201a8"
             ],
             [
              0.3333333333333333,
              "#9c179e"
             ],
             [
              0.4444444444444444,
              "#bd3786"
             ],
             [
              0.5555555555555556,
              "#d8576b"
             ],
             [
              0.6666666666666666,
              "#ed7953"
             ],
             [
              0.7777777777777778,
              "#fb9f3a"
             ],
             [
              0.8888888888888888,
              "#fdca26"
             ],
             [
              1,
              "#f0f921"
             ]
            ],
            "type": "histogram2d"
           }
          ],
          "histogram2dcontour": [
           {
            "colorbar": {
             "outlinewidth": 0,
             "ticks": ""
            },
            "colorscale": [
             [
              0,
              "#0d0887"
             ],
             [
              0.1111111111111111,
              "#46039f"
             ],
             [
              0.2222222222222222,
              "#7201a8"
             ],
             [
              0.3333333333333333,
              "#9c179e"
             ],
             [
              0.4444444444444444,
              "#bd3786"
             ],
             [
              0.5555555555555556,
              "#d8576b"
             ],
             [
              0.6666666666666666,
              "#ed7953"
             ],
             [
              0.7777777777777778,
              "#fb9f3a"
             ],
             [
              0.8888888888888888,
              "#fdca26"
             ],
             [
              1,
              "#f0f921"
             ]
            ],
            "type": "histogram2dcontour"
           }
          ],
          "mesh3d": [
           {
            "colorbar": {
             "outlinewidth": 0,
             "ticks": ""
            },
            "type": "mesh3d"
           }
          ],
          "parcoords": [
           {
            "line": {
             "colorbar": {
              "outlinewidth": 0,
              "ticks": ""
             }
            },
            "type": "parcoords"
           }
          ],
          "pie": [
           {
            "automargin": true,
            "type": "pie"
           }
          ],
          "scatter": [
           {
            "fillpattern": {
             "fillmode": "overlay",
             "size": 10,
             "solidity": 0.2
            },
            "type": "scatter"
           }
          ],
          "scatter3d": [
           {
            "line": {
             "colorbar": {
              "outlinewidth": 0,
              "ticks": ""
             }
            },
            "marker": {
             "colorbar": {
              "outlinewidth": 0,
              "ticks": ""
             }
            },
            "type": "scatter3d"
           }
          ],
          "scattercarpet": [
           {
            "marker": {
             "colorbar": {
              "outlinewidth": 0,
              "ticks": ""
             }
            },
            "type": "scattercarpet"
           }
          ],
          "scattergeo": [
           {
            "marker": {
             "colorbar": {
              "outlinewidth": 0,
              "ticks": ""
             }
            },
            "type": "scattergeo"
           }
          ],
          "scattergl": [
           {
            "marker": {
             "colorbar": {
              "outlinewidth": 0,
              "ticks": ""
             }
            },
            "type": "scattergl"
           }
          ],
          "scattermap": [
           {
            "marker": {
             "colorbar": {
              "outlinewidth": 0,
              "ticks": ""
             }
            },
            "type": "scattermap"
           }
          ],
          "scattermapbox": [
           {
            "marker": {
             "colorbar": {
              "outlinewidth": 0,
              "ticks": ""
             }
            },
            "type": "scattermapbox"
           }
          ],
          "scatterpolar": [
           {
            "marker": {
             "colorbar": {
              "outlinewidth": 0,
              "ticks": ""
             }
            },
            "type": "scatterpolar"
           }
          ],
          "scatterpolargl": [
           {
            "marker": {
             "colorbar": {
              "outlinewidth": 0,
              "ticks": ""
             }
            },
            "type": "scatterpolargl"
           }
          ],
          "scatterternary": [
           {
            "marker": {
             "colorbar": {
              "outlinewidth": 0,
              "ticks": ""
             }
            },
            "type": "scatterternary"
           }
          ],
          "surface": [
           {
            "colorbar": {
             "outlinewidth": 0,
             "ticks": ""
            },
            "colorscale": [
             [
              0,
              "#0d0887"
             ],
             [
              0.1111111111111111,
              "#46039f"
             ],
             [
              0.2222222222222222,
              "#7201a8"
             ],
             [
              0.3333333333333333,
              "#9c179e"
             ],
             [
              0.4444444444444444,
              "#bd3786"
             ],
             [
              0.5555555555555556,
              "#d8576b"
             ],
             [
              0.6666666666666666,
              "#ed7953"
             ],
             [
              0.7777777777777778,
              "#fb9f3a"
             ],
             [
              0.8888888888888888,
              "#fdca26"
             ],
             [
              1,
              "#f0f921"
             ]
            ],
            "type": "surface"
           }
          ],
          "table": [
           {
            "cells": {
             "fill": {
              "color": "#EBF0F8"
             },
             "line": {
              "color": "white"
             }
            },
            "header": {
             "fill": {
              "color": "#C8D4E3"
             },
             "line": {
              "color": "white"
             }
            },
            "type": "table"
           }
          ]
         },
         "layout": {
          "annotationdefaults": {
           "arrowcolor": "#2a3f5f",
           "arrowhead": 0,
           "arrowwidth": 1
          },
          "autotypenumbers": "strict",
          "coloraxis": {
           "colorbar": {
            "outlinewidth": 0,
            "ticks": ""
           }
          },
          "colorscale": {
           "diverging": [
            [
             0,
             "#8e0152"
            ],
            [
             0.1,
             "#c51b7d"
            ],
            [
             0.2,
             "#de77ae"
            ],
            [
             0.3,
             "#f1b6da"
            ],
            [
             0.4,
             "#fde0ef"
            ],
            [
             0.5,
             "#f7f7f7"
            ],
            [
             0.6,
             "#e6f5d0"
            ],
            [
             0.7,
             "#b8e186"
            ],
            [
             0.8,
             "#7fbc41"
            ],
            [
             0.9,
             "#4d9221"
            ],
            [
             1,
             "#276419"
            ]
           ],
           "sequential": [
            [
             0,
             "#0d0887"
            ],
            [
             0.1111111111111111,
             "#46039f"
            ],
            [
             0.2222222222222222,
             "#7201a8"
            ],
            [
             0.3333333333333333,
             "#9c179e"
            ],
            [
             0.4444444444444444,
             "#bd3786"
            ],
            [
             0.5555555555555556,
             "#d8576b"
            ],
            [
             0.6666666666666666,
             "#ed7953"
            ],
            [
             0.7777777777777778,
             "#fb9f3a"
            ],
            [
             0.8888888888888888,
             "#fdca26"
            ],
            [
             1,
             "#f0f921"
            ]
           ],
           "sequentialminus": [
            [
             0,
             "#0d0887"
            ],
            [
             0.1111111111111111,
             "#46039f"
            ],
            [
             0.2222222222222222,
             "#7201a8"
            ],
            [
             0.3333333333333333,
             "#9c179e"
            ],
            [
             0.4444444444444444,
             "#bd3786"
            ],
            [
             0.5555555555555556,
             "#d8576b"
            ],
            [
             0.6666666666666666,
             "#ed7953"
            ],
            [
             0.7777777777777778,
             "#fb9f3a"
            ],
            [
             0.8888888888888888,
             "#fdca26"
            ],
            [
             1,
             "#f0f921"
            ]
           ]
          },
          "colorway": [
           "#636efa",
           "#EF553B",
           "#00cc96",
           "#ab63fa",
           "#FFA15A",
           "#19d3f3",
           "#FF6692",
           "#B6E880",
           "#FF97FF",
           "#FECB52"
          ],
          "font": {
           "color": "#2a3f5f"
          },
          "geo": {
           "bgcolor": "white",
           "lakecolor": "white",
           "landcolor": "#E5ECF6",
           "showlakes": true,
           "showland": true,
           "subunitcolor": "white"
          },
          "hoverlabel": {
           "align": "left"
          },
          "hovermode": "closest",
          "mapbox": {
           "style": "light"
          },
          "paper_bgcolor": "white",
          "plot_bgcolor": "#E5ECF6",
          "polar": {
           "angularaxis": {
            "gridcolor": "white",
            "linecolor": "white",
            "ticks": ""
           },
           "bgcolor": "#E5ECF6",
           "radialaxis": {
            "gridcolor": "white",
            "linecolor": "white",
            "ticks": ""
           }
          },
          "scene": {
           "xaxis": {
            "backgroundcolor": "#E5ECF6",
            "gridcolor": "white",
            "gridwidth": 2,
            "linecolor": "white",
            "showbackground": true,
            "ticks": "",
            "zerolinecolor": "white"
           },
           "yaxis": {
            "backgroundcolor": "#E5ECF6",
            "gridcolor": "white",
            "gridwidth": 2,
            "linecolor": "white",
            "showbackground": true,
            "ticks": "",
            "zerolinecolor": "white"
           },
           "zaxis": {
            "backgroundcolor": "#E5ECF6",
            "gridcolor": "white",
            "gridwidth": 2,
            "linecolor": "white",
            "showbackground": true,
            "ticks": "",
            "zerolinecolor": "white"
           }
          },
          "shapedefaults": {
           "line": {
            "color": "#2a3f5f"
           }
          },
          "ternary": {
           "aaxis": {
            "gridcolor": "white",
            "linecolor": "white",
            "ticks": ""
           },
           "baxis": {
            "gridcolor": "white",
            "linecolor": "white",
            "ticks": ""
           },
           "bgcolor": "#E5ECF6",
           "caxis": {
            "gridcolor": "white",
            "linecolor": "white",
            "ticks": ""
           }
          },
          "title": {
           "x": 0.05
          },
          "xaxis": {
           "automargin": true,
           "gridcolor": "white",
           "linecolor": "white",
           "ticks": "",
           "title": {
            "standoff": 15
           },
           "zerolinecolor": "white",
           "zerolinewidth": 2
          },
          "yaxis": {
           "automargin": true,
           "gridcolor": "white",
           "linecolor": "white",
           "ticks": "",
           "title": {
            "standoff": 15
           },
           "zerolinecolor": "white",
           "zerolinewidth": 2
          }
         }
        },
        "title": {
         "text": "Sample from a Normal Distribution"
        },
        "width": 800,
        "xaxis": {
         "anchor": "y",
         "domain": [
          0,
          1
         ],
         "title": {
          "text": "Data"
         }
        },
        "yaxis": {
         "anchor": "x",
         "domain": [
          0,
          1
         ],
         "title": {
          "text": "probability density"
         }
        }
       }
      }
     },
     "metadata": {},
     "output_type": "display_data"
    }
   ],
   "source": [
    "fig = px.histogram(df, x='Data',\n",
    "                   color='Label', \n",
    "                   opacity=0.75,\n",
    "                   nbins=25,\n",
    "                   histnorm='probability density',\n",
    "                   height = 500, width = 800,\n",
    "                   title='Sample from a Normal Distribution')\n",
    "fig.show()"
   ]
  },
  {
   "cell_type": "markdown",
   "metadata": {},
   "source": [
    "2. Set the input `barmode` as `'overlay'` This is particularly important when showing several distributions which overlay on the same chart "
   ]
  },
  {
   "cell_type": "code",
   "execution_count": 16,
   "metadata": {},
   "outputs": [
    {
     "data": {
      "application/vnd.plotly.v1+json": {
       "config": {
        "plotlyServerURL": "https://plot.ly"
       },
       "data": [
        {
         "bingroup": "x",
         "histnorm": "probability density",
         "hovertemplate": "Label=Sample 1<br>Data=%{x}<br>probability density=%{y}<extra></extra>",
         "legendgroup": "Sample 1",
         "marker": {
          "color": "#636efa",
          "opacity": 0.75,
          "pattern": {
           "shape": ""
          }
         },
         "name": "Sample 1",
         "nbinsx": 25,
         "orientation": "v",
         "showlegend": true,
         "type": "histogram",
         "x": {
          "bdata": "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",
          "dtype": "f8"
         },
         "xaxis": "x",
         "yaxis": "y"
        },
        {
         "bingroup": "x",
         "histnorm": "probability density",
         "hovertemplate": "Label=Sample 2<br>Data=%{x}<br>probability density=%{y}<extra></extra>",
         "legendgroup": "Sample 2",
         "marker": {
          "color": "#EF553B",
          "opacity": 0.75,
          "pattern": {
           "shape": ""
          }
         },
         "name": "Sample 2",
         "nbinsx": 25,
         "orientation": "v",
         "showlegend": true,
         "type": "histogram",
         "x": {
          "bdata": "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",
          "dtype": "f8"
         },
         "xaxis": "x",
         "yaxis": "y"
        }
       ],
       "layout": {
        "barmode": "overlay",
        "height": 500,
        "legend": {
         "title": {
          "text": "Label"
         },
         "tracegroupgap": 0
        },
        "template": {
         "data": {
          "bar": [
           {
            "error_x": {
             "color": "#2a3f5f"
            },
            "error_y": {
             "color": "#2a3f5f"
            },
            "marker": {
             "line": {
              "color": "#E5ECF6",
              "width": 0.5
             },
             "pattern": {
              "fillmode": "overlay",
              "size": 10,
              "solidity": 0.2
             }
            },
            "type": "bar"
           }
          ],
          "barpolar": [
           {
            "marker": {
             "line": {
              "color": "#E5ECF6",
              "width": 0.5
             },
             "pattern": {
              "fillmode": "overlay",
              "size": 10,
              "solidity": 0.2
             }
            },
            "type": "barpolar"
           }
          ],
          "carpet": [
           {
            "aaxis": {
             "endlinecolor": "#2a3f5f",
             "gridcolor": "white",
             "linecolor": "white",
             "minorgridcolor": "white",
             "startlinecolor": "#2a3f5f"
            },
            "baxis": {
             "endlinecolor": "#2a3f5f",
             "gridcolor": "white",
             "linecolor": "white",
             "minorgridcolor": "white",
             "startlinecolor": "#2a3f5f"
            },
            "type": "carpet"
           }
          ],
          "choropleth": [
           {
            "colorbar": {
             "outlinewidth": 0,
             "ticks": ""
            },
            "type": "choropleth"
           }
          ],
          "contour": [
           {
            "colorbar": {
             "outlinewidth": 0,
             "ticks": ""
            },
            "colorscale": [
             [
              0,
              "#0d0887"
             ],
             [
              0.1111111111111111,
              "#46039f"
             ],
             [
              0.2222222222222222,
              "#7201a8"
             ],
             [
              0.3333333333333333,
              "#9c179e"
             ],
             [
              0.4444444444444444,
              "#bd3786"
             ],
             [
              0.5555555555555556,
              "#d8576b"
             ],
             [
              0.6666666666666666,
              "#ed7953"
             ],
             [
              0.7777777777777778,
              "#fb9f3a"
             ],
             [
              0.8888888888888888,
              "#fdca26"
             ],
             [
              1,
              "#f0f921"
             ]
            ],
            "type": "contour"
           }
          ],
          "contourcarpet": [
           {
            "colorbar": {
             "outlinewidth": 0,
             "ticks": ""
            },
            "type": "contourcarpet"
           }
          ],
          "heatmap": [
           {
            "colorbar": {
             "outlinewidth": 0,
             "ticks": ""
            },
            "colorscale": [
             [
              0,
              "#0d0887"
             ],
             [
              0.1111111111111111,
              "#46039f"
             ],
             [
              0.2222222222222222,
              "#7201a8"
             ],
             [
              0.3333333333333333,
              "#9c179e"
             ],
             [
              0.4444444444444444,
              "#bd3786"
             ],
             [
              0.5555555555555556,
              "#d8576b"
             ],
             [
              0.6666666666666666,
              "#ed7953"
             ],
             [
              0.7777777777777778,
              "#fb9f3a"
             ],
             [
              0.8888888888888888,
              "#fdca26"
             ],
             [
              1,
              "#f0f921"
             ]
            ],
            "type": "heatmap"
           }
          ],
          "histogram": [
           {
            "marker": {
             "pattern": {
              "fillmode": "overlay",
              "size": 10,
              "solidity": 0.2
             }
            },
            "type": "histogram"
           }
          ],
          "histogram2d": [
           {
            "colorbar": {
             "outlinewidth": 0,
             "ticks": ""
            },
            "colorscale": [
             [
              0,
              "#0d0887"
             ],
             [
              0.1111111111111111,
              "#46039f"
             ],
             [
              0.2222222222222222,
              "#7201a8"
             ],
             [
              0.3333333333333333,
              "#9c179e"
             ],
             [
              0.4444444444444444,
              "#bd3786"
             ],
             [
              0.5555555555555556,
              "#d8576b"
             ],
             [
              0.6666666666666666,
              "#ed7953"
             ],
             [
              0.7777777777777778,
              "#fb9f3a"
             ],
             [
              0.8888888888888888,
              "#fdca26"
             ],
             [
              1,
              "#f0f921"
             ]
            ],
            "type": "histogram2d"
           }
          ],
          "histogram2dcontour": [
           {
            "colorbar": {
             "outlinewidth": 0,
             "ticks": ""
            },
            "colorscale": [
             [
              0,
              "#0d0887"
             ],
             [
              0.1111111111111111,
              "#46039f"
             ],
             [
              0.2222222222222222,
              "#7201a8"
             ],
             [
              0.3333333333333333,
              "#9c179e"
             ],
             [
              0.4444444444444444,
              "#bd3786"
             ],
             [
              0.5555555555555556,
              "#d8576b"
             ],
             [
              0.6666666666666666,
              "#ed7953"
             ],
             [
              0.7777777777777778,
              "#fb9f3a"
             ],
             [
              0.8888888888888888,
              "#fdca26"
             ],
             [
              1,
              "#f0f921"
             ]
            ],
            "type": "histogram2dcontour"
           }
          ],
          "mesh3d": [
           {
            "colorbar": {
             "outlinewidth": 0,
             "ticks": ""
            },
            "type": "mesh3d"
           }
          ],
          "parcoords": [
           {
            "line": {
             "colorbar": {
              "outlinewidth": 0,
              "ticks": ""
             }
            },
            "type": "parcoords"
           }
          ],
          "pie": [
           {
            "automargin": true,
            "type": "pie"
           }
          ],
          "scatter": [
           {
            "fillpattern": {
             "fillmode": "overlay",
             "size": 10,
             "solidity": 0.2
            },
            "type": "scatter"
           }
          ],
          "scatter3d": [
           {
            "line": {
             "colorbar": {
              "outlinewidth": 0,
              "ticks": ""
             }
            },
            "marker": {
             "colorbar": {
              "outlinewidth": 0,
              "ticks": ""
             }
            },
            "type": "scatter3d"
           }
          ],
          "scattercarpet": [
           {
            "marker": {
             "colorbar": {
              "outlinewidth": 0,
              "ticks": ""
             }
            },
            "type": "scattercarpet"
           }
          ],
          "scattergeo": [
           {
            "marker": {
             "colorbar": {
              "outlinewidth": 0,
              "ticks": ""
             }
            },
            "type": "scattergeo"
           }
          ],
          "scattergl": [
           {
            "marker": {
             "colorbar": {
              "outlinewidth": 0,
              "ticks": ""
             }
            },
            "type": "scattergl"
           }
          ],
          "scattermap": [
           {
            "marker": {
             "colorbar": {
              "outlinewidth": 0,
              "ticks": ""
             }
            },
            "type": "scattermap"
           }
          ],
          "scattermapbox": [
           {
            "marker": {
             "colorbar": {
              "outlinewidth": 0,
              "ticks": ""
             }
            },
            "type": "scattermapbox"
           }
          ],
          "scatterpolar": [
           {
            "marker": {
             "colorbar": {
              "outlinewidth": 0,
              "ticks": ""
             }
            },
            "type": "scatterpolar"
           }
          ],
          "scatterpolargl": [
           {
            "marker": {
             "colorbar": {
              "outlinewidth": 0,
              "ticks": ""
             }
            },
            "type": "scatterpolargl"
           }
          ],
          "scatterternary": [
           {
            "marker": {
             "colorbar": {
              "outlinewidth": 0,
              "ticks": ""
             }
            },
            "type": "scatterternary"
           }
          ],
          "surface": [
           {
            "colorbar": {
             "outlinewidth": 0,
             "ticks": ""
            },
            "colorscale": [
             [
              0,
              "#0d0887"
             ],
             [
              0.1111111111111111,
              "#46039f"
             ],
             [
              0.2222222222222222,
              "#7201a8"
             ],
             [
              0.3333333333333333,
              "#9c179e"
             ],
             [
              0.4444444444444444,
              "#bd3786"
             ],
             [
              0.5555555555555556,
              "#d8576b"
             ],
             [
              0.6666666666666666,
              "#ed7953"
             ],
             [
              0.7777777777777778,
              "#fb9f3a"
             ],
             [
              0.8888888888888888,
              "#fdca26"
             ],
             [
              1,
              "#f0f921"
             ]
            ],
            "type": "surface"
           }
          ],
          "table": [
           {
            "cells": {
             "fill": {
              "color": "#EBF0F8"
             },
             "line": {
              "color": "white"
             }
            },
            "header": {
             "fill": {
              "color": "#C8D4E3"
             },
             "line": {
              "color": "white"
             }
            },
            "type": "table"
           }
          ]
         },
         "layout": {
          "annotationdefaults": {
           "arrowcolor": "#2a3f5f",
           "arrowhead": 0,
           "arrowwidth": 1
          },
          "autotypenumbers": "strict",
          "coloraxis": {
           "colorbar": {
            "outlinewidth": 0,
            "ticks": ""
           }
          },
          "colorscale": {
           "diverging": [
            [
             0,
             "#8e0152"
            ],
            [
             0.1,
             "#c51b7d"
            ],
            [
             0.2,
             "#de77ae"
            ],
            [
             0.3,
             "#f1b6da"
            ],
            [
             0.4,
             "#fde0ef"
            ],
            [
             0.5,
             "#f7f7f7"
            ],
            [
             0.6,
             "#e6f5d0"
            ],
            [
             0.7,
             "#b8e186"
            ],
            [
             0.8,
             "#7fbc41"
            ],
            [
             0.9,
             "#4d9221"
            ],
            [
             1,
             "#276419"
            ]
           ],
           "sequential": [
            [
             0,
             "#0d0887"
            ],
            [
             0.1111111111111111,
             "#46039f"
            ],
            [
             0.2222222222222222,
             "#7201a8"
            ],
            [
             0.3333333333333333,
             "#9c179e"
            ],
            [
             0.4444444444444444,
             "#bd3786"
            ],
            [
             0.5555555555555556,
             "#d8576b"
            ],
            [
             0.6666666666666666,
             "#ed7953"
            ],
            [
             0.7777777777777778,
             "#fb9f3a"
            ],
            [
             0.8888888888888888,
             "#fdca26"
            ],
            [
             1,
             "#f0f921"
            ]
           ],
           "sequentialminus": [
            [
             0,
             "#0d0887"
            ],
            [
             0.1111111111111111,
             "#46039f"
            ],
            [
             0.2222222222222222,
             "#7201a8"
            ],
            [
             0.3333333333333333,
             "#9c179e"
            ],
            [
             0.4444444444444444,
             "#bd3786"
            ],
            [
             0.5555555555555556,
             "#d8576b"
            ],
            [
             0.6666666666666666,
             "#ed7953"
            ],
            [
             0.7777777777777778,
             "#fb9f3a"
            ],
            [
             0.8888888888888888,
             "#fdca26"
            ],
            [
             1,
             "#f0f921"
            ]
           ]
          },
          "colorway": [
           "#636efa",
           "#EF553B",
           "#00cc96",
           "#ab63fa",
           "#FFA15A",
           "#19d3f3",
           "#FF6692",
           "#B6E880",
           "#FF97FF",
           "#FECB52"
          ],
          "font": {
           "color": "#2a3f5f"
          },
          "geo": {
           "bgcolor": "white",
           "lakecolor": "white",
           "landcolor": "#E5ECF6",
           "showlakes": true,
           "showland": true,
           "subunitcolor": "white"
          },
          "hoverlabel": {
           "align": "left"
          },
          "hovermode": "closest",
          "mapbox": {
           "style": "light"
          },
          "paper_bgcolor": "white",
          "plot_bgcolor": "#E5ECF6",
          "polar": {
           "angularaxis": {
            "gridcolor": "white",
            "linecolor": "white",
            "ticks": ""
           },
           "bgcolor": "#E5ECF6",
           "radialaxis": {
            "gridcolor": "white",
            "linecolor": "white",
            "ticks": ""
           }
          },
          "scene": {
           "xaxis": {
            "backgroundcolor": "#E5ECF6",
            "gridcolor": "white",
            "gridwidth": 2,
            "linecolor": "white",
            "showbackground": true,
            "ticks": "",
            "zerolinecolor": "white"
           },
           "yaxis": {
            "backgroundcolor": "#E5ECF6",
            "gridcolor": "white",
            "gridwidth": 2,
            "linecolor": "white",
            "showbackground": true,
            "ticks": "",
            "zerolinecolor": "white"
           },
           "zaxis": {
            "backgroundcolor": "#E5ECF6",
            "gridcolor": "white",
            "gridwidth": 2,
            "linecolor": "white",
            "showbackground": true,
            "ticks": "",
            "zerolinecolor": "white"
           }
          },
          "shapedefaults": {
           "line": {
            "color": "#2a3f5f"
           }
          },
          "ternary": {
           "aaxis": {
            "gridcolor": "white",
            "linecolor": "white",
            "ticks": ""
           },
           "baxis": {
            "gridcolor": "white",
            "linecolor": "white",
            "ticks": ""
           },
           "bgcolor": "#E5ECF6",
           "caxis": {
            "gridcolor": "white",
            "linecolor": "white",
            "ticks": ""
           }
          },
          "title": {
           "x": 0.05
          },
          "xaxis": {
           "automargin": true,
           "gridcolor": "white",
           "linecolor": "white",
           "ticks": "",
           "title": {
            "standoff": 15
           },
           "zerolinecolor": "white",
           "zerolinewidth": 2
          },
          "yaxis": {
           "automargin": true,
           "gridcolor": "white",
           "linecolor": "white",
           "ticks": "",
           "title": {
            "standoff": 15
           },
           "zerolinecolor": "white",
           "zerolinewidth": 2
          }
         }
        },
        "title": {
         "text": "Sample from a Normal Distribution"
        },
        "width": 800,
        "xaxis": {
         "anchor": "y",
         "domain": [
          0,
          1
         ],
         "title": {
          "text": "Data"
         }
        },
        "yaxis": {
         "anchor": "x",
         "domain": [
          0,
          1
         ],
         "title": {
          "text": "probability density"
         }
        }
       }
      }
     },
     "metadata": {},
     "output_type": "display_data"
    }
   ],
   "source": [
    "fig = px.histogram(df, x='Data',\n",
    "                   color='Label', \n",
    "                   barmode=\"overlay\",\n",
    "                   opacity=0.75,\n",
    "                   nbins=25,\n",
    "                   histnorm='probability density',\n",
    "                   height = 500, width = 800,\n",
    "                   title='Sample from a Normal Distribution')\n",
    "fig.show()"
   ]
  },
  {
   "cell_type": "markdown",
   "metadata": {},
   "source": [
    "3. Customise the color of the histograms using the input `color_discrete_sequence`"
   ]
  },
  {
   "cell_type": "code",
   "execution_count": 17,
   "metadata": {},
   "outputs": [
    {
     "data": {
      "application/vnd.plotly.v1+json": {
       "config": {
        "plotlyServerURL": "https://plot.ly"
       },
       "data": [
        {
         "bingroup": "x",
         "histnorm": "probability density",
         "hovertemplate": "Label=Sample 1<br>Data=%{x}<br>probability density=%{y}<extra></extra>",
         "legendgroup": "Sample 1",
         "marker": {
          "color": "teal",
          "opacity": 0.75,
          "pattern": {
           "shape": ""
          }
         },
         "name": "Sample 1",
         "nbinsx": 25,
         "orientation": "v",
         "showlegend": true,
         "type": "histogram",
         "x": {
          "bdata": "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",
          "dtype": "f8"
         },
         "xaxis": "x",
         "yaxis": "y"
        },
        {
         "bingroup": "x",
         "histnorm": "probability density",
         "hovertemplate": "Label=Sample 2<br>Data=%{x}<br>probability density=%{y}<extra></extra>",
         "legendgroup": "Sample 2",
         "marker": {
          "color": "pink",
          "opacity": 0.75,
          "pattern": {
           "shape": ""
          }
         },
         "name": "Sample 2",
         "nbinsx": 25,
         "orientation": "v",
         "showlegend": true,
         "type": "histogram",
         "x": {
          "bdata": "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",
          "dtype": "f8"
         },
         "xaxis": "x",
         "yaxis": "y"
        }
       ],
       "layout": {
        "barmode": "overlay",
        "height": 500,
        "legend": {
         "title": {
          "text": "Label"
         },
         "tracegroupgap": 0
        },
        "template": {
         "data": {
          "bar": [
           {
            "error_x": {
             "color": "#2a3f5f"
            },
            "error_y": {
             "color": "#2a3f5f"
            },
            "marker": {
             "line": {
              "color": "#E5ECF6",
              "width": 0.5
             },
             "pattern": {
              "fillmode": "overlay",
              "size": 10,
              "solidity": 0.2
             }
            },
            "type": "bar"
           }
          ],
          "barpolar": [
           {
            "marker": {
             "line": {
              "color": "#E5ECF6",
              "width": 0.5
             },
             "pattern": {
              "fillmode": "overlay",
              "size": 10,
              "solidity": 0.2
             }
            },
            "type": "barpolar"
           }
          ],
          "carpet": [
           {
            "aaxis": {
             "endlinecolor": "#2a3f5f",
             "gridcolor": "white",
             "linecolor": "white",
             "minorgridcolor": "white",
             "startlinecolor": "#2a3f5f"
            },
            "baxis": {
             "endlinecolor": "#2a3f5f",
             "gridcolor": "white",
             "linecolor": "white",
             "minorgridcolor": "white",
             "startlinecolor": "#2a3f5f"
            },
            "type": "carpet"
           }
          ],
          "choropleth": [
           {
            "colorbar": {
             "outlinewidth": 0,
             "ticks": ""
            },
            "type": "choropleth"
           }
          ],
          "contour": [
           {
            "colorbar": {
             "outlinewidth": 0,
             "ticks": ""
            },
            "colorscale": [
             [
              0,
              "#0d0887"
             ],
             [
              0.1111111111111111,
              "#46039f"
             ],
             [
              0.2222222222222222,
              "#7201a8"
             ],
             [
              0.3333333333333333,
              "#9c179e"
             ],
             [
              0.4444444444444444,
              "#bd3786"
             ],
             [
              0.5555555555555556,
              "#d8576b"
             ],
             [
              0.6666666666666666,
              "#ed7953"
             ],
             [
              0.7777777777777778,
              "#fb9f3a"
             ],
             [
              0.8888888888888888,
              "#fdca26"
             ],
             [
              1,
              "#f0f921"
             ]
            ],
            "type": "contour"
           }
          ],
          "contourcarpet": [
           {
            "colorbar": {
             "outlinewidth": 0,
             "ticks": ""
            },
            "type": "contourcarpet"
           }
          ],
          "heatmap": [
           {
            "colorbar": {
             "outlinewidth": 0,
             "ticks": ""
            },
            "colorscale": [
             [
              0,
              "#0d0887"
             ],
             [
              0.1111111111111111,
              "#46039f"
             ],
             [
              0.2222222222222222,
              "#7201a8"
             ],
             [
              0.3333333333333333,
              "#9c179e"
             ],
             [
              0.4444444444444444,
              "#bd3786"
             ],
             [
              0.5555555555555556,
              "#d8576b"
             ],
             [
              0.6666666666666666,
              "#ed7953"
             ],
             [
              0.7777777777777778,
              "#fb9f3a"
             ],
             [
              0.8888888888888888,
              "#fdca26"
             ],
             [
              1,
              "#f0f921"
             ]
            ],
            "type": "heatmap"
           }
          ],
          "histogram": [
           {
            "marker": {
             "pattern": {
              "fillmode": "overlay",
              "size": 10,
              "solidity": 0.2
             }
            },
            "type": "histogram"
           }
          ],
          "histogram2d": [
           {
            "colorbar": {
             "outlinewidth": 0,
             "ticks": ""
            },
            "colorscale": [
             [
              0,
              "#0d0887"
             ],
             [
              0.1111111111111111,
              "#46039f"
             ],
             [
              0.2222222222222222,
              "#7201a8"
             ],
             [
              0.3333333333333333,
              "#9c179e"
             ],
             [
              0.4444444444444444,
              "#bd3786"
             ],
             [
              0.5555555555555556,
              "#d8576b"
             ],
             [
              0.6666666666666666,
              "#ed7953"
             ],
             [
              0.7777777777777778,
              "#fb9f3a"
             ],
             [
              0.8888888888888888,
              "#fdca26"
             ],
             [
              1,
              "#f0f921"
             ]
            ],
            "type": "histogram2d"
           }
          ],
          "histogram2dcontour": [
           {
            "colorbar": {
             "outlinewidth": 0,
             "ticks": ""
            },
            "colorscale": [
             [
              0,
              "#0d0887"
             ],
             [
              0.1111111111111111,
              "#46039f"
             ],
             [
              0.2222222222222222,
              "#7201a8"
             ],
             [
              0.3333333333333333,
              "#9c179e"
             ],
             [
              0.4444444444444444,
              "#bd3786"
             ],
             [
              0.5555555555555556,
              "#d8576b"
             ],
             [
              0.6666666666666666,
              "#ed7953"
             ],
             [
              0.7777777777777778,
              "#fb9f3a"
             ],
             [
              0.8888888888888888,
              "#fdca26"
             ],
             [
              1,
              "#f0f921"
             ]
            ],
            "type": "histogram2dcontour"
           }
          ],
          "mesh3d": [
           {
            "colorbar": {
             "outlinewidth": 0,
             "ticks": ""
            },
            "type": "mesh3d"
           }
          ],
          "parcoords": [
           {
            "line": {
             "colorbar": {
              "outlinewidth": 0,
              "ticks": ""
             }
            },
            "type": "parcoords"
           }
          ],
          "pie": [
           {
            "automargin": true,
            "type": "pie"
           }
          ],
          "scatter": [
           {
            "fillpattern": {
             "fillmode": "overlay",
             "size": 10,
             "solidity": 0.2
            },
            "type": "scatter"
           }
          ],
          "scatter3d": [
           {
            "line": {
             "colorbar": {
              "outlinewidth": 0,
              "ticks": ""
             }
            },
            "marker": {
             "colorbar": {
              "outlinewidth": 0,
              "ticks": ""
             }
            },
            "type": "scatter3d"
           }
          ],
          "scattercarpet": [
           {
            "marker": {
             "colorbar": {
              "outlinewidth": 0,
              "ticks": ""
             }
            },
            "type": "scattercarpet"
           }
          ],
          "scattergeo": [
           {
            "marker": {
             "colorbar": {
              "outlinewidth": 0,
              "ticks": ""
             }
            },
            "type": "scattergeo"
           }
          ],
          "scattergl": [
           {
            "marker": {
             "colorbar": {
              "outlinewidth": 0,
              "ticks": ""
             }
            },
            "type": "scattergl"
           }
          ],
          "scattermap": [
           {
            "marker": {
             "colorbar": {
              "outlinewidth": 0,
              "ticks": ""
             }
            },
            "type": "scattermap"
           }
          ],
          "scattermapbox": [
           {
            "marker": {
             "colorbar": {
              "outlinewidth": 0,
              "ticks": ""
             }
            },
            "type": "scattermapbox"
           }
          ],
          "scatterpolar": [
           {
            "marker": {
             "colorbar": {
              "outlinewidth": 0,
              "ticks": ""
             }
            },
            "type": "scatterpolar"
           }
          ],
          "scatterpolargl": [
           {
            "marker": {
             "colorbar": {
              "outlinewidth": 0,
              "ticks": ""
             }
            },
            "type": "scatterpolargl"
           }
          ],
          "scatterternary": [
           {
            "marker": {
             "colorbar": {
              "outlinewidth": 0,
              "ticks": ""
             }
            },
            "type": "scatterternary"
           }
          ],
          "surface": [
           {
            "colorbar": {
             "outlinewidth": 0,
             "ticks": ""
            },
            "colorscale": [
             [
              0,
              "#0d0887"
             ],
             [
              0.1111111111111111,
              "#46039f"
             ],
             [
              0.2222222222222222,
              "#7201a8"
             ],
             [
              0.3333333333333333,
              "#9c179e"
             ],
             [
              0.4444444444444444,
              "#bd3786"
             ],
             [
              0.5555555555555556,
              "#d8576b"
             ],
             [
              0.6666666666666666,
              "#ed7953"
             ],
             [
              0.7777777777777778,
              "#fb9f3a"
             ],
             [
              0.8888888888888888,
              "#fdca26"
             ],
             [
              1,
              "#f0f921"
             ]
            ],
            "type": "surface"
           }
          ],
          "table": [
           {
            "cells": {
             "fill": {
              "color": "#EBF0F8"
             },
             "line": {
              "color": "white"
             }
            },
            "header": {
             "fill": {
              "color": "#C8D4E3"
             },
             "line": {
              "color": "white"
             }
            },
            "type": "table"
           }
          ]
         },
         "layout": {
          "annotationdefaults": {
           "arrowcolor": "#2a3f5f",
           "arrowhead": 0,
           "arrowwidth": 1
          },
          "autotypenumbers": "strict",
          "coloraxis": {
           "colorbar": {
            "outlinewidth": 0,
            "ticks": ""
           }
          },
          "colorscale": {
           "diverging": [
            [
             0,
             "#8e0152"
            ],
            [
             0.1,
             "#c51b7d"
            ],
            [
             0.2,
             "#de77ae"
            ],
            [
             0.3,
             "#f1b6da"
            ],
            [
             0.4,
             "#fde0ef"
            ],
            [
             0.5,
             "#f7f7f7"
            ],
            [
             0.6,
             "#e6f5d0"
            ],
            [
             0.7,
             "#b8e186"
            ],
            [
             0.8,
             "#7fbc41"
            ],
            [
             0.9,
             "#4d9221"
            ],
            [
             1,
             "#276419"
            ]
           ],
           "sequential": [
            [
             0,
             "#0d0887"
            ],
            [
             0.1111111111111111,
             "#46039f"
            ],
            [
             0.2222222222222222,
             "#7201a8"
            ],
            [
             0.3333333333333333,
             "#9c179e"
            ],
            [
             0.4444444444444444,
             "#bd3786"
            ],
            [
             0.5555555555555556,
             "#d8576b"
            ],
            [
             0.6666666666666666,
             "#ed7953"
            ],
            [
             0.7777777777777778,
             "#fb9f3a"
            ],
            [
             0.8888888888888888,
             "#fdca26"
            ],
            [
             1,
             "#f0f921"
            ]
           ],
           "sequentialminus": [
            [
             0,
             "#0d0887"
            ],
            [
             0.1111111111111111,
             "#46039f"
            ],
            [
             0.2222222222222222,
             "#7201a8"
            ],
            [
             0.3333333333333333,
             "#9c179e"
            ],
            [
             0.4444444444444444,
             "#bd3786"
            ],
            [
             0.5555555555555556,
             "#d8576b"
            ],
            [
             0.6666666666666666,
             "#ed7953"
            ],
            [
             0.7777777777777778,
             "#fb9f3a"
            ],
            [
             0.8888888888888888,
             "#fdca26"
            ],
            [
             1,
             "#f0f921"
            ]
           ]
          },
          "colorway": [
           "#636efa",
           "#EF553B",
           "#00cc96",
           "#ab63fa",
           "#FFA15A",
           "#19d3f3",
           "#FF6692",
           "#B6E880",
           "#FF97FF",
           "#FECB52"
          ],
          "font": {
           "color": "#2a3f5f"
          },
          "geo": {
           "bgcolor": "white",
           "lakecolor": "white",
           "landcolor": "#E5ECF6",
           "showlakes": true,
           "showland": true,
           "subunitcolor": "white"
          },
          "hoverlabel": {
           "align": "left"
          },
          "hovermode": "closest",
          "mapbox": {
           "style": "light"
          },
          "paper_bgcolor": "white",
          "plot_bgcolor": "#E5ECF6",
          "polar": {
           "angularaxis": {
            "gridcolor": "white",
            "linecolor": "white",
            "ticks": ""
           },
           "bgcolor": "#E5ECF6",
           "radialaxis": {
            "gridcolor": "white",
            "linecolor": "white",
            "ticks": ""
           }
          },
          "scene": {
           "xaxis": {
            "backgroundcolor": "#E5ECF6",
            "gridcolor": "white",
            "gridwidth": 2,
            "linecolor": "white",
            "showbackground": true,
            "ticks": "",
            "zerolinecolor": "white"
           },
           "yaxis": {
            "backgroundcolor": "#E5ECF6",
            "gridcolor": "white",
            "gridwidth": 2,
            "linecolor": "white",
            "showbackground": true,
            "ticks": "",
            "zerolinecolor": "white"
           },
           "zaxis": {
            "backgroundcolor": "#E5ECF6",
            "gridcolor": "white",
            "gridwidth": 2,
            "linecolor": "white",
            "showbackground": true,
            "ticks": "",
            "zerolinecolor": "white"
           }
          },
          "shapedefaults": {
           "line": {
            "color": "#2a3f5f"
           }
          },
          "ternary": {
           "aaxis": {
            "gridcolor": "white",
            "linecolor": "white",
            "ticks": ""
           },
           "baxis": {
            "gridcolor": "white",
            "linecolor": "white",
            "ticks": ""
           },
           "bgcolor": "#E5ECF6",
           "caxis": {
            "gridcolor": "white",
            "linecolor": "white",
            "ticks": ""
           }
          },
          "title": {
           "x": 0.05
          },
          "xaxis": {
           "automargin": true,
           "gridcolor": "white",
           "linecolor": "white",
           "ticks": "",
           "title": {
            "standoff": 15
           },
           "zerolinecolor": "white",
           "zerolinewidth": 2
          },
          "yaxis": {
           "automargin": true,
           "gridcolor": "white",
           "linecolor": "white",
           "ticks": "",
           "title": {
            "standoff": 15
           },
           "zerolinecolor": "white",
           "zerolinewidth": 2
          }
         }
        },
        "title": {
         "text": "Sample from a Normal Distribution"
        },
        "width": 800,
        "xaxis": {
         "anchor": "y",
         "domain": [
          0,
          1
         ],
         "title": {
          "text": "Data"
         }
        },
        "yaxis": {
         "anchor": "x",
         "domain": [
          0,
          1
         ],
         "title": {
          "text": "probability density"
         }
        }
       }
      }
     },
     "metadata": {},
     "output_type": "display_data"
    }
   ],
   "source": [
    "fig = px.histogram(df, x='Data',\n",
    "                   color='Label', \n",
    "                   opacity=0.75,\n",
    "                   barmode=\"overlay\",\n",
    "                   color_discrete_sequence=['teal', 'pink'],\n",
    "                   nbins=25,\n",
    "                   histnorm='probability density',\n",
    "                   height = 500, width = 800,\n",
    "                   title='Sample from a Normal Distribution')\n",
    "fig.show()"
   ]
  },
  {
   "cell_type": "code",
   "execution_count": 18,
   "metadata": {},
   "outputs": [
    {
     "data": {
      "application/vnd.plotly.v1+json": {
       "config": {
        "plotlyServerURL": "https://plot.ly"
       },
       "data": [
        {
         "bingroup": "x",
         "histnorm": "probability density",
         "hovertemplate": "Label=Sample 1<br>Data=%{x}<br>probability density=%{y}<extra></extra>",
         "legendgroup": "Sample 1",
         "marker": {
          "color": "rgb(95, 70, 144)",
          "opacity": 0.5,
          "pattern": {
           "shape": ""
          }
         },
         "name": "Sample 1",
         "nbinsx": 25,
         "orientation": "v",
         "showlegend": true,
         "type": "histogram",
         "x": {
          "bdata": "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",
          "dtype": "f8"
         },
         "xaxis": "x",
         "yaxis": "y"
        },
        {
         "bingroup": "x",
         "histnorm": "probability density",
         "hovertemplate": "Label=Sample 2<br>Data=%{x}<br>probability density=%{y}<extra></extra>",
         "legendgroup": "Sample 2",
         "marker": {
          "color": "rgb(29, 105, 150)",
          "opacity": 0.5,
          "pattern": {
           "shape": ""
          }
         },
         "name": "Sample 2",
         "nbinsx": 25,
         "orientation": "v",
         "showlegend": true,
         "type": "histogram",
         "x": {
          "bdata": "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",
          "dtype": "f8"
         },
         "xaxis": "x",
         "yaxis": "y"
        }
       ],
       "layout": {
        "barmode": "overlay",
        "height": 500,
        "legend": {
         "title": {
          "text": "Label"
         },
         "tracegroupgap": 0
        },
        "template": {
         "data": {
          "bar": [
           {
            "error_x": {
             "color": "#2a3f5f"
            },
            "error_y": {
             "color": "#2a3f5f"
            },
            "marker": {
             "line": {
              "color": "#E5ECF6",
              "width": 0.5
             },
             "pattern": {
              "fillmode": "overlay",
              "size": 10,
              "solidity": 0.2
             }
            },
            "type": "bar"
           }
          ],
          "barpolar": [
           {
            "marker": {
             "line": {
              "color": "#E5ECF6",
              "width": 0.5
             },
             "pattern": {
              "fillmode": "overlay",
              "size": 10,
              "solidity": 0.2
             }
            },
            "type": "barpolar"
           }
          ],
          "carpet": [
           {
            "aaxis": {
             "endlinecolor": "#2a3f5f",
             "gridcolor": "white",
             "linecolor": "white",
             "minorgridcolor": "white",
             "startlinecolor": "#2a3f5f"
            },
            "baxis": {
             "endlinecolor": "#2a3f5f",
             "gridcolor": "white",
             "linecolor": "white",
             "minorgridcolor": "white",
             "startlinecolor": "#2a3f5f"
            },
            "type": "carpet"
           }
          ],
          "choropleth": [
           {
            "colorbar": {
             "outlinewidth": 0,
             "ticks": ""
            },
            "type": "choropleth"
           }
          ],
          "contour": [
           {
            "colorbar": {
             "outlinewidth": 0,
             "ticks": ""
            },
            "colorscale": [
             [
              0,
              "#0d0887"
             ],
             [
              0.1111111111111111,
              "#46039f"
             ],
             [
              0.2222222222222222,
              "#7201a8"
             ],
             [
              0.3333333333333333,
              "#9c179e"
             ],
             [
              0.4444444444444444,
              "#bd3786"
             ],
             [
              0.5555555555555556,
              "#d8576b"
             ],
             [
              0.6666666666666666,
              "#ed7953"
             ],
             [
              0.7777777777777778,
              "#fb9f3a"
             ],
             [
              0.8888888888888888,
              "#fdca26"
             ],
             [
              1,
              "#f0f921"
             ]
            ],
            "type": "contour"
           }
          ],
          "contourcarpet": [
           {
            "colorbar": {
             "outlinewidth": 0,
             "ticks": ""
            },
            "type": "contourcarpet"
           }
          ],
          "heatmap": [
           {
            "colorbar": {
             "outlinewidth": 0,
             "ticks": ""
            },
            "colorscale": [
             [
              0,
              "#0d0887"
             ],
             [
              0.1111111111111111,
              "#46039f"
             ],
             [
              0.2222222222222222,
              "#7201a8"
             ],
             [
              0.3333333333333333,
              "#9c179e"
             ],
             [
              0.4444444444444444,
              "#bd3786"
             ],
             [
              0.5555555555555556,
              "#d8576b"
             ],
             [
              0.6666666666666666,
              "#ed7953"
             ],
             [
              0.7777777777777778,
              "#fb9f3a"
             ],
             [
              0.8888888888888888,
              "#fdca26"
             ],
             [
              1,
              "#f0f921"
             ]
            ],
            "type": "heatmap"
           }
          ],
          "histogram": [
           {
            "marker": {
             "pattern": {
              "fillmode": "overlay",
              "size": 10,
              "solidity": 0.2
             }
            },
            "type": "histogram"
           }
          ],
          "histogram2d": [
           {
            "colorbar": {
             "outlinewidth": 0,
             "ticks": ""
            },
            "colorscale": [
             [
              0,
              "#0d0887"
             ],
             [
              0.1111111111111111,
              "#46039f"
             ],
             [
              0.2222222222222222,
              "#7201a8"
             ],
             [
              0.3333333333333333,
              "#9c179e"
             ],
             [
              0.4444444444444444,
              "#bd3786"
             ],
             [
              0.5555555555555556,
              "#d8576b"
             ],
             [
              0.6666666666666666,
              "#ed7953"
             ],
             [
              0.7777777777777778,
              "#fb9f3a"
             ],
             [
              0.8888888888888888,
              "#fdca26"
             ],
             [
              1,
              "#f0f921"
             ]
            ],
            "type": "histogram2d"
           }
          ],
          "histogram2dcontour": [
           {
            "colorbar": {
             "outlinewidth": 0,
             "ticks": ""
            },
            "colorscale": [
             [
              0,
              "#0d0887"
             ],
             [
              0.1111111111111111,
              "#46039f"
             ],
             [
              0.2222222222222222,
              "#7201a8"
             ],
             [
              0.3333333333333333,
              "#9c179e"
             ],
             [
              0.4444444444444444,
              "#bd3786"
             ],
             [
              0.5555555555555556,
              "#d8576b"
             ],
             [
              0.6666666666666666,
              "#ed7953"
             ],
             [
              0.7777777777777778,
              "#fb9f3a"
             ],
             [
              0.8888888888888888,
              "#fdca26"
             ],
             [
              1,
              "#f0f921"
             ]
            ],
            "type": "histogram2dcontour"
           }
          ],
          "mesh3d": [
           {
            "colorbar": {
             "outlinewidth": 0,
             "ticks": ""
            },
            "type": "mesh3d"
           }
          ],
          "parcoords": [
           {
            "line": {
             "colorbar": {
              "outlinewidth": 0,
              "ticks": ""
             }
            },
            "type": "parcoords"
           }
          ],
          "pie": [
           {
            "automargin": true,
            "type": "pie"
           }
          ],
          "scatter": [
           {
            "fillpattern": {
             "fillmode": "overlay",
             "size": 10,
             "solidity": 0.2
            },
            "type": "scatter"
           }
          ],
          "scatter3d": [
           {
            "line": {
             "colorbar": {
              "outlinewidth": 0,
              "ticks": ""
             }
            },
            "marker": {
             "colorbar": {
              "outlinewidth": 0,
              "ticks": ""
             }
            },
            "type": "scatter3d"
           }
          ],
          "scattercarpet": [
           {
            "marker": {
             "colorbar": {
              "outlinewidth": 0,
              "ticks": ""
             }
            },
            "type": "scattercarpet"
           }
          ],
          "scattergeo": [
           {
            "marker": {
             "colorbar": {
              "outlinewidth": 0,
              "ticks": ""
             }
            },
            "type": "scattergeo"
           }
          ],
          "scattergl": [
           {
            "marker": {
             "colorbar": {
              "outlinewidth": 0,
              "ticks": ""
             }
            },
            "type": "scattergl"
           }
          ],
          "scattermap": [
           {
            "marker": {
             "colorbar": {
              "outlinewidth": 0,
              "ticks": ""
             }
            },
            "type": "scattermap"
           }
          ],
          "scattermapbox": [
           {
            "marker": {
             "colorbar": {
              "outlinewidth": 0,
              "ticks": ""
             }
            },
            "type": "scattermapbox"
           }
          ],
          "scatterpolar": [
           {
            "marker": {
             "colorbar": {
              "outlinewidth": 0,
              "ticks": ""
             }
            },
            "type": "scatterpolar"
           }
          ],
          "scatterpolargl": [
           {
            "marker": {
             "colorbar": {
              "outlinewidth": 0,
              "ticks": ""
             }
            },
            "type": "scatterpolargl"
           }
          ],
          "scatterternary": [
           {
            "marker": {
             "colorbar": {
              "outlinewidth": 0,
              "ticks": ""
             }
            },
            "type": "scatterternary"
           }
          ],
          "surface": [
           {
            "colorbar": {
             "outlinewidth": 0,
             "ticks": ""
            },
            "colorscale": [
             [
              0,
              "#0d0887"
             ],
             [
              0.1111111111111111,
              "#46039f"
             ],
             [
              0.2222222222222222,
              "#7201a8"
             ],
             [
              0.3333333333333333,
              "#9c179e"
             ],
             [
              0.4444444444444444,
              "#bd3786"
             ],
             [
              0.5555555555555556,
              "#d8576b"
             ],
             [
              0.6666666666666666,
              "#ed7953"
             ],
             [
              0.7777777777777778,
              "#fb9f3a"
             ],
             [
              0.8888888888888888,
              "#fdca26"
             ],
             [
              1,
              "#f0f921"
             ]
            ],
            "type": "surface"
           }
          ],
          "table": [
           {
            "cells": {
             "fill": {
              "color": "#EBF0F8"
             },
             "line": {
              "color": "white"
             }
            },
            "header": {
             "fill": {
              "color": "#C8D4E3"
             },
             "line": {
              "color": "white"
             }
            },
            "type": "table"
           }
          ]
         },
         "layout": {
          "annotationdefaults": {
           "arrowcolor": "#2a3f5f",
           "arrowhead": 0,
           "arrowwidth": 1
          },
          "autotypenumbers": "strict",
          "coloraxis": {
           "colorbar": {
            "outlinewidth": 0,
            "ticks": ""
           }
          },
          "colorscale": {
           "diverging": [
            [
             0,
             "#8e0152"
            ],
            [
             0.1,
             "#c51b7d"
            ],
            [
             0.2,
             "#de77ae"
            ],
            [
             0.3,
             "#f1b6da"
            ],
            [
             0.4,
             "#fde0ef"
            ],
            [
             0.5,
             "#f7f7f7"
            ],
            [
             0.6,
             "#e6f5d0"
            ],
            [
             0.7,
             "#b8e186"
            ],
            [
             0.8,
             "#7fbc41"
            ],
            [
             0.9,
             "#4d9221"
            ],
            [
             1,
             "#276419"
            ]
           ],
           "sequential": [
            [
             0,
             "#0d0887"
            ],
            [
             0.1111111111111111,
             "#46039f"
            ],
            [
             0.2222222222222222,
             "#7201a8"
            ],
            [
             0.3333333333333333,
             "#9c179e"
            ],
            [
             0.4444444444444444,
             "#bd3786"
            ],
            [
             0.5555555555555556,
             "#d8576b"
            ],
            [
             0.6666666666666666,
             "#ed7953"
            ],
            [
             0.7777777777777778,
             "#fb9f3a"
            ],
            [
             0.8888888888888888,
             "#fdca26"
            ],
            [
             1,
             "#f0f921"
            ]
           ],
           "sequentialminus": [
            [
             0,
             "#0d0887"
            ],
            [
             0.1111111111111111,
             "#46039f"
            ],
            [
             0.2222222222222222,
             "#7201a8"
            ],
            [
             0.3333333333333333,
             "#9c179e"
            ],
            [
             0.4444444444444444,
             "#bd3786"
            ],
            [
             0.5555555555555556,
             "#d8576b"
            ],
            [
             0.6666666666666666,
             "#ed7953"
            ],
            [
             0.7777777777777778,
             "#fb9f3a"
            ],
            [
             0.8888888888888888,
             "#fdca26"
            ],
            [
             1,
             "#f0f921"
            ]
           ]
          },
          "colorway": [
           "#636efa",
           "#EF553B",
           "#00cc96",
           "#ab63fa",
           "#FFA15A",
           "#19d3f3",
           "#FF6692",
           "#B6E880",
           "#FF97FF",
           "#FECB52"
          ],
          "font": {
           "color": "#2a3f5f"
          },
          "geo": {
           "bgcolor": "white",
           "lakecolor": "white",
           "landcolor": "#E5ECF6",
           "showlakes": true,
           "showland": true,
           "subunitcolor": "white"
          },
          "hoverlabel": {
           "align": "left"
          },
          "hovermode": "closest",
          "mapbox": {
           "style": "light"
          },
          "paper_bgcolor": "white",
          "plot_bgcolor": "#E5ECF6",
          "polar": {
           "angularaxis": {
            "gridcolor": "white",
            "linecolor": "white",
            "ticks": ""
           },
           "bgcolor": "#E5ECF6",
           "radialaxis": {
            "gridcolor": "white",
            "linecolor": "white",
            "ticks": ""
           }
          },
          "scene": {
           "xaxis": {
            "backgroundcolor": "#E5ECF6",
            "gridcolor": "white",
            "gridwidth": 2,
            "linecolor": "white",
            "showbackground": true,
            "ticks": "",
            "zerolinecolor": "white"
           },
           "yaxis": {
            "backgroundcolor": "#E5ECF6",
            "gridcolor": "white",
            "gridwidth": 2,
            "linecolor": "white",
            "showbackground": true,
            "ticks": "",
            "zerolinecolor": "white"
           },
           "zaxis": {
            "backgroundcolor": "#E5ECF6",
            "gridcolor": "white",
            "gridwidth": 2,
            "linecolor": "white",
            "showbackground": true,
            "ticks": "",
            "zerolinecolor": "white"
           }
          },
          "shapedefaults": {
           "line": {
            "color": "#2a3f5f"
           }
          },
          "ternary": {
           "aaxis": {
            "gridcolor": "white",
            "linecolor": "white",
            "ticks": ""
           },
           "baxis": {
            "gridcolor": "white",
            "linecolor": "white",
            "ticks": ""
           },
           "bgcolor": "#E5ECF6",
           "caxis": {
            "gridcolor": "white",
            "linecolor": "white",
            "ticks": ""
           }
          },
          "title": {
           "x": 0.05
          },
          "xaxis": {
           "automargin": true,
           "gridcolor": "white",
           "linecolor": "white",
           "ticks": "",
           "title": {
            "standoff": 15
           },
           "zerolinecolor": "white",
           "zerolinewidth": 2
          },
          "yaxis": {
           "automargin": true,
           "gridcolor": "white",
           "linecolor": "white",
           "ticks": "",
           "title": {
            "standoff": 15
           },
           "zerolinecolor": "white",
           "zerolinewidth": 2
          }
         }
        },
        "title": {
         "text": "Sample from a Normal Distribution"
        },
        "width": 800,
        "xaxis": {
         "anchor": "y",
         "domain": [
          0,
          1
         ],
         "title": {
          "text": "Data"
         }
        },
        "yaxis": {
         "anchor": "x",
         "domain": [
          0,
          1
         ],
         "title": {
          "text": "probability density"
         }
        }
       }
      }
     },
     "metadata": {},
     "output_type": "display_data"
    }
   ],
   "source": [
    "fig = px.histogram(df, x='Data',\n",
    "                   color='Label', \n",
    "                   barmode=\"overlay\",\n",
    "                   opacity=0.5,\n",
    "                   color_discrete_sequence=px.colors.qualitative.Prism,\n",
    "                   nbins=25,\n",
    "                   histnorm='probability density',\n",
    "                   height = 500, width = 800,\n",
    "                   title='Sample from a Normal Distribution')\n",
    "fig.show()"
   ]
  }
 ],
 "metadata": {
  "kernelspec": {
   "display_name": ".venv",
   "language": "python",
   "name": "python3"
  },
  "language_info": {
   "codemirror_mode": {
    "name": "ipython",
    "version": 3
   },
   "file_extension": ".py",
   "mimetype": "text/x-python",
   "name": "python",
   "nbconvert_exporter": "python",
   "pygments_lexer": "ipython3",
   "version": "3.11.4"
  }
 },
 "nbformat": 4,
 "nbformat_minor": 2
}
