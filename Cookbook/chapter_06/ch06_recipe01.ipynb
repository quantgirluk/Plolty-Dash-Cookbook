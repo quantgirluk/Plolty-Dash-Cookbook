{
 "cells": [
  {
   "cell_type": "markdown",
   "metadata": {},
   "source": [
    "# Creating a Marimekko chart using Plotly"
   ]
  },
  {
   "cell_type": "markdown",
   "metadata": {},
   "source": [
    "A Marimekko Chart (also called a Mekko Chart) is a two-dimensional chart that combines features of a bar chart and a 100% stacked bar chart. It is named after the Finnish design company Marimekko due to its colorful, patterned appearance.\n",
    "\n",
    "Each bar in a Marimekko chart represents a category, with the width of the bar proportional to one variable (e.g., market share) and the segments within the bar stacked to show the composition of another variable (e.g., product categories within that market). This makes Marimekko charts highly effective for visualizing relationships between two dimensions of data.\n",
    "\n",
    "\n",
    "- Visualization of Proportions: They help in showing how the parts of each category contribute to the whole, not only in one dimension but also across categories.\n",
    "\n",
    "- Comparative Analysis: By representing both category proportions and composition, Marimekko charts offer insights into multiple aspects of data simultaneously.\n",
    "\n",
    "- Business Applications: They are often used in market share analysis, sales distribution, or any scenario requiring a visualization of proportional relationships between two dimensions."
   ]
  },
  {
   "cell_type": "code",
   "execution_count": 2,
   "metadata": {},
   "outputs": [
    {
     "name": "stderr",
     "output_type": "stream",
     "text": [
      "/var/folders/8_/ln4xq0tn2_9dclcldppw87f00000gn/T/ipykernel_35437/1809052955.py:27: FutureWarning:\n",
      "\n",
      "Series.__getitem__ treating keys as positions is deprecated. In a future version, integer keys will always be treated as labels (consistent with DataFrame behavior). To access a value by position, use `ser.iloc[pos]`\n",
      "\n"
     ]
    },
    {
     "ename": "AttributeError",
     "evalue": "'Series' object has no attribute 'iteritems'",
     "output_type": "error",
     "traceback": [
      "\u001b[0;31m---------------------------------------------------------------------------\u001b[0m",
      "\u001b[0;31mAttributeError\u001b[0m                            Traceback (most recent call last)",
      "\u001b[0;32m/var/folders/8_/ln4xq0tn2_9dclcldppw87f00000gn/T/ipykernel_35437/1809052955.py\u001b[0m in \u001b[0;36m?\u001b[0;34m()\u001b[0m\n\u001b[1;32m     26\u001b[0m     \u001b[0mx_start\u001b[0m \u001b[0;34m=\u001b[0m \u001b[0mx_offset\u001b[0m\u001b[0;34m\u001b[0m\u001b[0;34m\u001b[0m\u001b[0m\n\u001b[1;32m     27\u001b[0m     \u001b[0mbar_width\u001b[0m \u001b[0;34m=\u001b[0m \u001b[0mwidths\u001b[0m\u001b[0;34m[\u001b[0m\u001b[0midx\u001b[0m\u001b[0;34m]\u001b[0m\u001b[0;34m\u001b[0m\u001b[0;34m\u001b[0m\u001b[0m\n\u001b[1;32m     28\u001b[0m \u001b[0;34m\u001b[0m\u001b[0m\n\u001b[1;32m     29\u001b[0m     \u001b[0my_offset\u001b[0m \u001b[0;34m=\u001b[0m \u001b[0;36m0\u001b[0m  \u001b[0;31m# Track the y-position within the bar\u001b[0m\u001b[0;34m\u001b[0m\u001b[0;34m\u001b[0m\u001b[0m\n\u001b[0;32m---> 30\u001b[0;31m     \u001b[0;32mfor\u001b[0m \u001b[0mregion\u001b[0m\u001b[0;34m,\u001b[0m \u001b[0mheight\u001b[0m \u001b[0;32min\u001b[0m \u001b[0mrow\u001b[0m\u001b[0;34m.\u001b[0m\u001b[0miteritems\u001b[0m\u001b[0;34m(\u001b[0m\u001b[0;34m)\u001b[0m\u001b[0;34m:\u001b[0m\u001b[0;34m\u001b[0m\u001b[0;34m\u001b[0m\u001b[0m\n\u001b[0m\u001b[1;32m     31\u001b[0m         fig.add_trace(go.Bar(\n\u001b[1;32m     32\u001b[0m             \u001b[0mx\u001b[0m\u001b[0;34m=\u001b[0m\u001b[0;34m[\u001b[0m\u001b[0mbar_width\u001b[0m\u001b[0;34m]\u001b[0m\u001b[0;34m,\u001b[0m\u001b[0;34m\u001b[0m\u001b[0;34m\u001b[0m\u001b[0m\n\u001b[1;32m     33\u001b[0m             \u001b[0my\u001b[0m\u001b[0;34m=\u001b[0m\u001b[0;34m[\u001b[0m\u001b[0mheight\u001b[0m\u001b[0;34m]\u001b[0m\u001b[0;34m,\u001b[0m\u001b[0;34m\u001b[0m\u001b[0;34m\u001b[0m\u001b[0m\n",
      "\u001b[0;32m~/Git/Plotly-Dash-Cookbook/.venv/lib/python3.11/site-packages/pandas/core/generic.py\u001b[0m in \u001b[0;36m?\u001b[0;34m(self, name)\u001b[0m\n\u001b[1;32m   6295\u001b[0m             \u001b[0;32mand\u001b[0m \u001b[0mname\u001b[0m \u001b[0;32mnot\u001b[0m \u001b[0;32min\u001b[0m \u001b[0mself\u001b[0m\u001b[0;34m.\u001b[0m\u001b[0m_accessors\u001b[0m\u001b[0;34m\u001b[0m\u001b[0;34m\u001b[0m\u001b[0m\n\u001b[1;32m   6296\u001b[0m             \u001b[0;32mand\u001b[0m \u001b[0mself\u001b[0m\u001b[0;34m.\u001b[0m\u001b[0m_info_axis\u001b[0m\u001b[0;34m.\u001b[0m\u001b[0m_can_hold_identifiers_and_holds_name\u001b[0m\u001b[0;34m(\u001b[0m\u001b[0mname\u001b[0m\u001b[0;34m)\u001b[0m\u001b[0;34m\u001b[0m\u001b[0;34m\u001b[0m\u001b[0m\n\u001b[1;32m   6297\u001b[0m         ):\n\u001b[1;32m   6298\u001b[0m             \u001b[0;32mreturn\u001b[0m \u001b[0mself\u001b[0m\u001b[0;34m[\u001b[0m\u001b[0mname\u001b[0m\u001b[0;34m]\u001b[0m\u001b[0;34m\u001b[0m\u001b[0;34m\u001b[0m\u001b[0m\n\u001b[0;32m-> 6299\u001b[0;31m         \u001b[0;32mreturn\u001b[0m \u001b[0mobject\u001b[0m\u001b[0;34m.\u001b[0m\u001b[0m__getattribute__\u001b[0m\u001b[0;34m(\u001b[0m\u001b[0mself\u001b[0m\u001b[0;34m,\u001b[0m \u001b[0mname\u001b[0m\u001b[0;34m)\u001b[0m\u001b[0;34m\u001b[0m\u001b[0;34m\u001b[0m\u001b[0m\n\u001b[0m",
      "\u001b[0;31mAttributeError\u001b[0m: 'Series' object has no attribute 'iteritems'"
     ]
    }
   ],
   "source": [
    "import pandas as pd\n",
    "import plotly.graph_objects as go\n",
    "\n",
    "# Step 1: Prepare the data\n",
    "data = {\n",
    "    \"Category\": [\"Product A\", \"Product B\", \"Product C\", \"Product D\"],\n",
    "    \"Region 1\": [30, 20, 50, 10],\n",
    "    \"Region 2\": [40, 15, 45, 5],\n",
    "    \"Region 3\": [20, 30, 30, 10],\n",
    "}\n",
    "\n",
    "df = pd.DataFrame(data)\n",
    "\n",
    "# Step 2: Calculate proportions\n",
    "df.set_index(\"Category\", inplace=True)\n",
    "totals = df.sum(axis=1)\n",
    "region_totals = df.sum()\n",
    "widths = totals / totals.sum()  # Calculate the width of each bar\n",
    "heights = df.div(region_totals.sum())  # Normalize within each column\n",
    "\n",
    "# Step 3: Build the Marimekko chart\n",
    "fig = go.Figure()\n",
    "\n",
    "x_offset = 0  # Track the x-position of each bar\n",
    "for idx, (category, row) in enumerate(heights.iterrows()):\n",
    "    x_start = x_offset\n",
    "    bar_width = widths[idx]\n",
    "    \n",
    "    y_offset = 0  # Track the y-position within the bar\n",
    "    for region, height in row.iteritems():\n",
    "        fig.add_trace(go.Bar(\n",
    "            x=[bar_width],\n",
    "            y=[height],\n",
    "            name=region,\n",
    "            orientation='v',\n",
    "            xaxis=\"x\",\n",
    "            yaxis=\"y\",\n",
    "            marker=dict(color=f\"rgba({40+idx*50},{60+region_totals.index.get_loc(region)*40},150,0.7)\"),\n",
    "            offset=x_start,\n",
    "            text=f\"{region}<br>{height*100:.1f}%\",\n",
    "            hoverinfo=\"text\",\n",
    "        ))\n",
    "        y_offset += height\n",
    "    x_offset += bar_width\n",
    "\n",
    "# Step 4: Customize the layout\n",
    "fig.update_layout(\n",
    "    title=\"Marimekko Chart Example\",\n",
    "    xaxis=dict(title=\"Categories\", showgrid=False),\n",
    "    yaxis=dict(title=\"Proportion\", showgrid=True, range=[0, 1]),\n",
    "    barmode='stack',\n",
    "    showlegend=True\n",
    ")\n",
    "\n",
    "# Display the chart\n",
    "fig.show()\n"
   ]
  },
  {
   "cell_type": "code",
   "execution_count": 1,
   "metadata": {},
   "outputs": [
    {
     "ename": "SyntaxError",
     "evalue": "incomplete input (1508074434.py, line 41)",
     "output_type": "error",
     "traceback": [
      "\u001b[0;36m  Cell \u001b[0;32mIn[1], line 41\u001b[0;36m\u001b[0m\n\u001b[0;31m    hoverin\u001b[0m\n\u001b[0m           ^\u001b[0m\n\u001b[0;31mSyntaxError\u001b[0m\u001b[0;31m:\u001b[0m incomplete input\n"
     ]
    }
   ],
   "source": [
    "import pandas as pd\n",
    "import plotly.graph_objects as go\n",
    "\n",
    "# Step 1: Prepare the data\n",
    "data = {\n",
    "    \"Category\": [\"Product A\", \"Product B\", \"Product C\", \"Product D\"],\n",
    "    \"Region 1\": [30, 20, 50, 10],\n",
    "    \"Region 2\": [40, 15, 45, 5],\n",
    "    \"Region 3\": [20, 30, 30, 10],\n",
    "}\n",
    "\n",
    "df = pd.DataFrame(data)\n",
    "\n",
    "# Step 2: Calculate proportions\n",
    "df.set_index(\"Category\", inplace=True)\n",
    "totals = df.sum(axis=1)\n",
    "region_totals = df.sum()\n",
    "widths = totals / totals.sum()  # Calculate the width of each bar\n",
    "heights = df.div(region_totals.sum())  # Normalize within each column\n",
    "\n",
    "# Step 3: Build the Marimekko chart\n",
    "fig = go.Figure()\n",
    "\n",
    "x_offset = 0  # Track the x-position of each bar\n",
    "for idx, (category, row) in enumerate(heights.iterrows()):\n",
    "    x_start = x_offset\n",
    "    bar_width = widths[idx]\n",
    "    \n",
    "    y_offset = 0  # Track the y-position within the bar\n",
    "    for region, height in row.iteritems():\n",
    "        fig.add_trace(go.Bar(\n",
    "            x=[bar_width],\n",
    "            y=[height],\n",
    "            name=region,\n",
    "            orientation='v',\n",
    "            xaxis=\"x\",\n",
    "            yaxis=\"y\",\n",
    "            marker=dict(color=f\"rgba({40+idx*50},{60+region_totals.index.get_loc(region)*40},150,0.7)\"),\n",
    "            offset=x_start,\n",
    "            text=f\"{region}<br>{height*100:.1f}%\",\n",
    "            hoverin\n"
   ]
  },
  {
   "cell_type": "code",
   "execution_count": null,
   "metadata": {},
   "outputs": [],
   "source": []
  }
 ],
 "metadata": {
  "kernelspec": {
   "display_name": ".venv",
   "language": "python",
   "name": "python3"
  },
  "language_info": {
   "codemirror_mode": {
    "name": "ipython",
    "version": 3
   },
   "file_extension": ".py",
   "mimetype": "text/x-python",
   "name": "python",
   "nbconvert_exporter": "python",
   "pygments_lexer": "ipython3",
   "version": "3.11.4"
  }
 },
 "nbformat": 4,
 "nbformat_minor": 2
}
