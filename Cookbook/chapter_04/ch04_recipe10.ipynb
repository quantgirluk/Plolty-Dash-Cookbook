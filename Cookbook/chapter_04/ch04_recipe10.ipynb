{
 "cells": [
  {
   "cell_type": "markdown",
   "metadata": {},
   "source": [
    "# Visualizing Linear Regression"
   ]
  },
  {
   "cell_type": "markdown",
   "metadata": {},
   "source": [
    "Visualizing linear regression and its assumptions is a crucial step in understanding the model's performance and ensuring that the assumptions behind linear regression are met. One of the most common visualizations is the scatter plot of the data along with the regression line. This helps to observe the relationship between the independent variable (X) and the dependent variable (Y). The regression line represents the predicted values of Y for given values of X, while the scatter plot shows the actual data points. Ideally, the points should cluster around the line, indicating a linear relationship between the variables.\n",
    "\n",
    "To check the assumptions of linear regression, various diagnostic plots are used:\n",
    "\n",
    "1. **Linearity**: This assumption requires that the relationship between the independent and dependent variables is linear. You can verify it using a residuals vs. fitted values plot. If the residuals (differences between observed and predicted values) are randomly scattered around zero, this suggests that the linearity assumption holds.\n",
    "\n",
    "2. **Homoscedasticity**: This refers to the constant variance of residuals across all levels of the independent variable. Again, a residuals vs. fitted values plot helps—residuals should appear randomly distributed without forming any discernible pattern, such as a funnel shape.\n",
    "\n",
    "3. **Independence**: Residuals should be independent of each other, meaning that the error terms are not correlated. A plot of residuals against time (if the data has a time structure) can help check this assumption.\n",
    "\n",
    "4. **Normality of Residuals**: This assumption implies that the residuals follow a normal distribution. A normal Q-Q plot of the residuals is typically used, where the points should roughly follow a straight diagonal line if the residuals are normally distributed.\n",
    "\n",
    "These visual checks are essential in diagnosing any violations of the linear regression assumptions, which, if unaddressed, could lead to inaccurate predictions or misleading interpretations of the model.\n",
    "\n",
    "\n",
    "In addition to the basic diagnostic plots, **Scale-Location** and **Residuals vs. Leverage** plots offer deeper insights into potential issues with linear regression models.\n",
    "\n",
    "\n",
    "The Scale-Location plot helps to check the assumption of **homoscedasticity** (constant variance of residuals). This plot shows the square root of the absolute residuals (on the y-axis) versus the fitted values (on the x-axis). The goal is to check if the residuals are spread equally across all levels of the fitted values. Ideally, the points should be randomly scattered around a horizontal line without any clear pattern.  If you see a funnel shape (i.e., residuals become more spread out as the fitted values increase), it indicates **heteroscedasticity**, meaning that the variance of the residuals changes with the fitted values, violating the homoscedasticity assumption. Corrective measures, such as transforming the dependent variable (e.g., log or square-root transformations), may be necessary to fix this.\n",
    "\n",
    "\n",
    "The **Residuals vs. Leverage plot** is used to identify **influential data points** that can disproportionately affect the regression model. Leverage measures how much influence an observation has based on its position in the predictor space (x-values). In this plot, the residuals (y-axis) are plotted against the leverage values (x-axis). A good model should not have high residuals for points with high leverage, as these points could unduly influence the regression model. Points that lie far from the bulk of the data in this plot, especially those with high leverage and large residuals, are called **influential points**. They are often highlighted using **Cook's distance contours**, which quantify the influence of these points. If any points fall beyond these contours, you should investigate them closely, as they may be outliers or points that have a large influence on the model's coefficients.\n",
    "\n",
    "Both of these plots offer critical information about model diagnostics and help to identify where assumptions of linear regression may be violated, allowing for potential corrective measures."
   ]
  },
  {
   "cell_type": "markdown",
   "metadata": {},
   "source": [
    "## Getting ready\n",
    "\n",
    "\n",
    "In addition to `plotly`, `numpy` and `pandas`, make sure the `scipy` Python library avaiable in your Python environment\n",
    "You can install it using the command:"
   ]
  },
  {
   "cell_type": "markdown",
   "metadata": {},
   "source": [
    "```\n",
    "pip install scipy \n",
    "```"
   ]
  },
  {
   "cell_type": "markdown",
   "metadata": {},
   "source": [
    "For this recipe we will create a data set "
   ]
  },
  {
   "cell_type": "markdown",
   "metadata": {},
   "source": [
    "1. Import the Python modules `numpy`, `pandas`. Import the [`norm`](https://docs.scipy.org/doc/scipy/reference/generated/scipy.stats.norm.html) object from `scipy.stats`. This object will allow us to generate random samples from a normal distribution. This will help us to create data sets to be used in this recipe."
   ]
  },
  {
   "cell_type": "code",
   "execution_count": 1,
   "metadata": {},
   "outputs": [],
   "source": [
    "import numpy as np\n",
    "import pandas as pd\n",
    "from scipy.stats import norm"
   ]
  },
  {
   "cell_type": "markdown",
   "metadata": {},
   "source": [
    "2. Create the  data set to be used in this recipe"
   ]
  },
  {
   "cell_type": "code",
   "execution_count": 2,
   "metadata": {},
   "outputs": [],
   "source": [
    "n = 400\n",
    "x = np.linspace(0, 15, n)\n",
    "epsilon = norm().rvs(n)\n",
    "sigma = 2\n",
    "y = 2*x + sigma*epsilon\n",
    "data = pd.DataFrame({'x':x, 'y':y})"
   ]
  },
  {
   "cell_type": "code",
   "execution_count": 3,
   "metadata": {},
   "outputs": [],
   "source": [
    "# n = 200\n",
    "# x = np.linspace(0, 15, n)\n",
    "# epsilon = norm(loc=20, scale=100).rvs(n)\n",
    "# y = 0.5*x**3 + epsilon -10\n",
    "# data2 = pd.DataFrame({'x':x, 'y':y})"
   ]
  },
  {
   "cell_type": "markdown",
   "metadata": {},
   "source": [
    "## How to do it"
   ]
  },
  {
   "cell_type": "markdown",
   "metadata": {},
   "source": [
    "1. Import the `plotly.express` module as `px`"
   ]
  },
  {
   "cell_type": "code",
   "execution_count": 4,
   "metadata": {},
   "outputs": [],
   "source": [
    "import plotly.express as px"
   ]
  },
  {
   "cell_type": "code",
   "execution_count": 5,
   "metadata": {},
   "outputs": [],
   "source": [
    "df = data"
   ]
  },
  {
   "cell_type": "markdown",
   "metadata": {},
   "source": [
    "2.  Diagnose the linearity assumption with a scatter plot between the two variables"
   ]
  },
  {
   "cell_type": "code",
   "execution_count": 6,
   "metadata": {},
   "outputs": [
    {
     "data": {
      "application/vnd.plotly.v1+json": {
       "config": {
        "plotlyServerURL": "https://plot.ly"
       },
       "data": [
        {
         "hovertemplate": "x=%{x}<br>y=%{y}<extra></extra>",
         "legendgroup": "",
         "marker": {
          "color": "#636efa",
          "symbol": "circle"
         },
         "mode": "markers",
         "name": "",
         "orientation": "v",
         "showlegend": false,
         "type": "scatter",
         "x": {
          "bdata": "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",
          "dtype": "f8"
         },
         "xaxis": "x",
         "y": {
          "bdata": "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",
          "dtype": "f8"
         },
         "yaxis": "y"
        },
        {
         "hovertemplate": "<b>OLS trendline</b><br>y = 1.9831 * x + 0.0920641<br>R<sup>2</sup>=0.946543<br><br>x=%{x}<br>y=%{y} <b>(trend)</b><extra></extra>",
         "legendgroup": "",
         "line": {
          "color": "red"
         },
         "marker": {
          "color": "#636efa",
          "symbol": "circle"
         },
         "mode": "lines",
         "name": "",
         "showlegend": false,
         "type": "scatter",
         "x": {
          "bdata": "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",
          "dtype": "f8"
         },
         "xaxis": "x",
         "y": {
          "bdata": "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",
          "dtype": "f8"
         },
         "yaxis": "y"
        }
       ],
       "layout": {
        "height": 600,
        "legend": {
         "tracegroupgap": 0
        },
        "template": {
         "data": {
          "bar": [
           {
            "error_x": {
             "color": "#2a3f5f"
            },
            "error_y": {
             "color": "#2a3f5f"
            },
            "marker": {
             "line": {
              "color": "#E5ECF6",
              "width": 0.5
             },
             "pattern": {
              "fillmode": "overlay",
              "size": 10,
              "solidity": 0.2
             }
            },
            "type": "bar"
           }
          ],
          "barpolar": [
           {
            "marker": {
             "line": {
              "color": "#E5ECF6",
              "width": 0.5
             },
             "pattern": {
              "fillmode": "overlay",
              "size": 10,
              "solidity": 0.2
             }
            },
            "type": "barpolar"
           }
          ],
          "carpet": [
           {
            "aaxis": {
             "endlinecolor": "#2a3f5f",
             "gridcolor": "white",
             "linecolor": "white",
             "minorgridcolor": "white",
             "startlinecolor": "#2a3f5f"
            },
            "baxis": {
             "endlinecolor": "#2a3f5f",
             "gridcolor": "white",
             "linecolor": "white",
             "minorgridcolor": "white",
             "startlinecolor": "#2a3f5f"
            },
            "type": "carpet"
           }
          ],
          "choropleth": [
           {
            "colorbar": {
             "outlinewidth": 0,
             "ticks": ""
            },
            "type": "choropleth"
           }
          ],
          "contour": [
           {
            "colorbar": {
             "outlinewidth": 0,
             "ticks": ""
            },
            "colorscale": [
             [
              0,
              "#0d0887"
             ],
             [
              0.1111111111111111,
              "#46039f"
             ],
             [
              0.2222222222222222,
              "#7201a8"
             ],
             [
              0.3333333333333333,
              "#9c179e"
             ],
             [
              0.4444444444444444,
              "#bd3786"
             ],
             [
              0.5555555555555556,
              "#d8576b"
             ],
             [
              0.6666666666666666,
              "#ed7953"
             ],
             [
              0.7777777777777778,
              "#fb9f3a"
             ],
             [
              0.8888888888888888,
              "#fdca26"
             ],
             [
              1,
              "#f0f921"
             ]
            ],
            "type": "contour"
           }
          ],
          "contourcarpet": [
           {
            "colorbar": {
             "outlinewidth": 0,
             "ticks": ""
            },
            "type": "contourcarpet"
           }
          ],
          "heatmap": [
           {
            "colorbar": {
             "outlinewidth": 0,
             "ticks": ""
            },
            "colorscale": [
             [
              0,
              "#0d0887"
             ],
             [
              0.1111111111111111,
              "#46039f"
             ],
             [
              0.2222222222222222,
              "#7201a8"
             ],
             [
              0.3333333333333333,
              "#9c179e"
             ],
             [
              0.4444444444444444,
              "#bd3786"
             ],
             [
              0.5555555555555556,
              "#d8576b"
             ],
             [
              0.6666666666666666,
              "#ed7953"
             ],
             [
              0.7777777777777778,
              "#fb9f3a"
             ],
             [
              0.8888888888888888,
              "#fdca26"
             ],
             [
              1,
              "#f0f921"
             ]
            ],
            "type": "heatmap"
           }
          ],
          "histogram": [
           {
            "marker": {
             "pattern": {
              "fillmode": "overlay",
              "size": 10,
              "solidity": 0.2
             }
            },
            "type": "histogram"
           }
          ],
          "histogram2d": [
           {
            "colorbar": {
             "outlinewidth": 0,
             "ticks": ""
            },
            "colorscale": [
             [
              0,
              "#0d0887"
             ],
             [
              0.1111111111111111,
              "#46039f"
             ],
             [
              0.2222222222222222,
              "#7201a8"
             ],
             [
              0.3333333333333333,
              "#9c179e"
             ],
             [
              0.4444444444444444,
              "#bd3786"
             ],
             [
              0.5555555555555556,
              "#d8576b"
             ],
             [
              0.6666666666666666,
              "#ed7953"
             ],
             [
              0.7777777777777778,
              "#fb9f3a"
             ],
             [
              0.8888888888888888,
              "#fdca26"
             ],
             [
              1,
              "#f0f921"
             ]
            ],
            "type": "histogram2d"
           }
          ],
          "histogram2dcontour": [
           {
            "colorbar": {
             "outlinewidth": 0,
             "ticks": ""
            },
            "colorscale": [
             [
              0,
              "#0d0887"
             ],
             [
              0.1111111111111111,
              "#46039f"
             ],
             [
              0.2222222222222222,
              "#7201a8"
             ],
             [
              0.3333333333333333,
              "#9c179e"
             ],
             [
              0.4444444444444444,
              "#bd3786"
             ],
             [
              0.5555555555555556,
              "#d8576b"
             ],
             [
              0.6666666666666666,
              "#ed7953"
             ],
             [
              0.7777777777777778,
              "#fb9f3a"
             ],
             [
              0.8888888888888888,
              "#fdca26"
             ],
             [
              1,
              "#f0f921"
             ]
            ],
            "type": "histogram2dcontour"
           }
          ],
          "mesh3d": [
           {
            "colorbar": {
             "outlinewidth": 0,
             "ticks": ""
            },
            "type": "mesh3d"
           }
          ],
          "parcoords": [
           {
            "line": {
             "colorbar": {
              "outlinewidth": 0,
              "ticks": ""
             }
            },
            "type": "parcoords"
           }
          ],
          "pie": [
           {
            "automargin": true,
            "type": "pie"
           }
          ],
          "scatter": [
           {
            "fillpattern": {
             "fillmode": "overlay",
             "size": 10,
             "solidity": 0.2
            },
            "type": "scatter"
           }
          ],
          "scatter3d": [
           {
            "line": {
             "colorbar": {
              "outlinewidth": 0,
              "ticks": ""
             }
            },
            "marker": {
             "colorbar": {
              "outlinewidth": 0,
              "ticks": ""
             }
            },
            "type": "scatter3d"
           }
          ],
          "scattercarpet": [
           {
            "marker": {
             "colorbar": {
              "outlinewidth": 0,
              "ticks": ""
             }
            },
            "type": "scattercarpet"
           }
          ],
          "scattergeo": [
           {
            "marker": {
             "colorbar": {
              "outlinewidth": 0,
              "ticks": ""
             }
            },
            "type": "scattergeo"
           }
          ],
          "scattergl": [
           {
            "marker": {
             "colorbar": {
              "outlinewidth": 0,
              "ticks": ""
             }
            },
            "type": "scattergl"
           }
          ],
          "scattermap": [
           {
            "marker": {
             "colorbar": {
              "outlinewidth": 0,
              "ticks": ""
             }
            },
            "type": "scattermap"
           }
          ],
          "scattermapbox": [
           {
            "marker": {
             "colorbar": {
              "outlinewidth": 0,
              "ticks": ""
             }
            },
            "type": "scattermapbox"
           }
          ],
          "scatterpolar": [
           {
            "marker": {
             "colorbar": {
              "outlinewidth": 0,
              "ticks": ""
             }
            },
            "type": "scatterpolar"
           }
          ],
          "scatterpolargl": [
           {
            "marker": {
             "colorbar": {
              "outlinewidth": 0,
              "ticks": ""
             }
            },
            "type": "scatterpolargl"
           }
          ],
          "scatterternary": [
           {
            "marker": {
             "colorbar": {
              "outlinewidth": 0,
              "ticks": ""
             }
            },
            "type": "scatterternary"
           }
          ],
          "surface": [
           {
            "colorbar": {
             "outlinewidth": 0,
             "ticks": ""
            },
            "colorscale": [
             [
              0,
              "#0d0887"
             ],
             [
              0.1111111111111111,
              "#46039f"
             ],
             [
              0.2222222222222222,
              "#7201a8"
             ],
             [
              0.3333333333333333,
              "#9c179e"
             ],
             [
              0.4444444444444444,
              "#bd3786"
             ],
             [
              0.5555555555555556,
              "#d8576b"
             ],
             [
              0.6666666666666666,
              "#ed7953"
             ],
             [
              0.7777777777777778,
              "#fb9f3a"
             ],
             [
              0.8888888888888888,
              "#fdca26"
             ],
             [
              1,
              "#f0f921"
             ]
            ],
            "type": "surface"
           }
          ],
          "table": [
           {
            "cells": {
             "fill": {
              "color": "#EBF0F8"
             },
             "line": {
              "color": "white"
             }
            },
            "header": {
             "fill": {
              "color": "#C8D4E3"
             },
             "line": {
              "color": "white"
             }
            },
            "type": "table"
           }
          ]
         },
         "layout": {
          "annotationdefaults": {
           "arrowcolor": "#2a3f5f",
           "arrowhead": 0,
           "arrowwidth": 1
          },
          "autotypenumbers": "strict",
          "coloraxis": {
           "colorbar": {
            "outlinewidth": 0,
            "ticks": ""
           }
          },
          "colorscale": {
           "diverging": [
            [
             0,
             "#8e0152"
            ],
            [
             0.1,
             "#c51b7d"
            ],
            [
             0.2,
             "#de77ae"
            ],
            [
             0.3,
             "#f1b6da"
            ],
            [
             0.4,
             "#fde0ef"
            ],
            [
             0.5,
             "#f7f7f7"
            ],
            [
             0.6,
             "#e6f5d0"
            ],
            [
             0.7,
             "#b8e186"
            ],
            [
             0.8,
             "#7fbc41"
            ],
            [
             0.9,
             "#4d9221"
            ],
            [
             1,
             "#276419"
            ]
           ],
           "sequential": [
            [
             0,
             "#0d0887"
            ],
            [
             0.1111111111111111,
             "#46039f"
            ],
            [
             0.2222222222222222,
             "#7201a8"
            ],
            [
             0.3333333333333333,
             "#9c179e"
            ],
            [
             0.4444444444444444,
             "#bd3786"
            ],
            [
             0.5555555555555556,
             "#d8576b"
            ],
            [
             0.6666666666666666,
             "#ed7953"
            ],
            [
             0.7777777777777778,
             "#fb9f3a"
            ],
            [
             0.8888888888888888,
             "#fdca26"
            ],
            [
             1,
             "#f0f921"
            ]
           ],
           "sequentialminus": [
            [
             0,
             "#0d0887"
            ],
            [
             0.1111111111111111,
             "#46039f"
            ],
            [
             0.2222222222222222,
             "#7201a8"
            ],
            [
             0.3333333333333333,
             "#9c179e"
            ],
            [
             0.4444444444444444,
             "#bd3786"
            ],
            [
             0.5555555555555556,
             "#d8576b"
            ],
            [
             0.6666666666666666,
             "#ed7953"
            ],
            [
             0.7777777777777778,
             "#fb9f3a"
            ],
            [
             0.8888888888888888,
             "#fdca26"
            ],
            [
             1,
             "#f0f921"
            ]
           ]
          },
          "colorway": [
           "#636efa",
           "#EF553B",
           "#00cc96",
           "#ab63fa",
           "#FFA15A",
           "#19d3f3",
           "#FF6692",
           "#B6E880",
           "#FF97FF",
           "#FECB52"
          ],
          "font": {
           "color": "#2a3f5f"
          },
          "geo": {
           "bgcolor": "white",
           "lakecolor": "white",
           "landcolor": "#E5ECF6",
           "showlakes": true,
           "showland": true,
           "subunitcolor": "white"
          },
          "hoverlabel": {
           "align": "left"
          },
          "hovermode": "closest",
          "mapbox": {
           "style": "light"
          },
          "paper_bgcolor": "white",
          "plot_bgcolor": "#E5ECF6",
          "polar": {
           "angularaxis": {
            "gridcolor": "white",
            "linecolor": "white",
            "ticks": ""
           },
           "bgcolor": "#E5ECF6",
           "radialaxis": {
            "gridcolor": "white",
            "linecolor": "white",
            "ticks": ""
           }
          },
          "scene": {
           "xaxis": {
            "backgroundcolor": "#E5ECF6",
            "gridcolor": "white",
            "gridwidth": 2,
            "linecolor": "white",
            "showbackground": true,
            "ticks": "",
            "zerolinecolor": "white"
           },
           "yaxis": {
            "backgroundcolor": "#E5ECF6",
            "gridcolor": "white",
            "gridwidth": 2,
            "linecolor": "white",
            "showbackground": true,
            "ticks": "",
            "zerolinecolor": "white"
           },
           "zaxis": {
            "backgroundcolor": "#E5ECF6",
            "gridcolor": "white",
            "gridwidth": 2,
            "linecolor": "white",
            "showbackground": true,
            "ticks": "",
            "zerolinecolor": "white"
           }
          },
          "shapedefaults": {
           "line": {
            "color": "#2a3f5f"
           }
          },
          "ternary": {
           "aaxis": {
            "gridcolor": "white",
            "linecolor": "white",
            "ticks": ""
           },
           "baxis": {
            "gridcolor": "white",
            "linecolor": "white",
            "ticks": ""
           },
           "bgcolor": "#E5ECF6",
           "caxis": {
            "gridcolor": "white",
            "linecolor": "white",
            "ticks": ""
           }
          },
          "title": {
           "x": 0.05
          },
          "xaxis": {
           "automargin": true,
           "gridcolor": "white",
           "linecolor": "white",
           "ticks": "",
           "title": {
            "standoff": 15
           },
           "zerolinecolor": "white",
           "zerolinewidth": 2
          },
          "yaxis": {
           "automargin": true,
           "gridcolor": "white",
           "linecolor": "white",
           "ticks": "",
           "title": {
            "standoff": 15
           },
           "zerolinecolor": "white",
           "zerolinewidth": 2
          }
         }
        },
        "title": {
         "text": "Scatter with OLS trend line"
        },
        "width": 800,
        "xaxis": {
         "anchor": "y",
         "domain": [
          0,
          1
         ],
         "title": {
          "text": "x"
         }
        },
        "yaxis": {
         "anchor": "x",
         "domain": [
          0,
          1
         ],
         "title": {
          "text": "y"
         }
        }
       }
      }
     },
     "metadata": {},
     "output_type": "display_data"
    }
   ],
   "source": [
    "fig = px.scatter(df, x='x', y ='y', \n",
    "                 trendline_color_override=\"red\",\n",
    "                 trendline=\"ols\", \n",
    "                 height=600, width=800,\n",
    "                 title='Scatter with OLS trend line')\n",
    "fig.show()"
   ]
  },
  {
   "cell_type": "markdown",
   "metadata": {},
   "source": [
    "3. Retrieve the linear regression results from the `Figure` object"
   ]
  },
  {
   "cell_type": "code",
   "execution_count": 7,
   "metadata": {},
   "outputs": [
    {
     "data": {
      "text/html": [
       "<table class=\"simpletable\">\n",
       "<caption>OLS Regression Results</caption>\n",
       "<tr>\n",
       "  <th>Dep. Variable:</th>            <td>y</td>        <th>  R-squared:         </th> <td>   0.947</td> \n",
       "</tr>\n",
       "<tr>\n",
       "  <th>Model:</th>                   <td>OLS</td>       <th>  Adj. R-squared:    </th> <td>   0.946</td> \n",
       "</tr>\n",
       "<tr>\n",
       "  <th>Method:</th>             <td>Least Squares</td>  <th>  F-statistic:       </th> <td>   7047.</td> \n",
       "</tr>\n",
       "<tr>\n",
       "  <th>Date:</th>             <td>Sat, 15 Feb 2025</td> <th>  Prob (F-statistic):</th> <td>3.07e-255</td>\n",
       "</tr>\n",
       "<tr>\n",
       "  <th>Time:</th>                 <td>20:49:17</td>     <th>  Log-Likelihood:    </th> <td> -853.89</td> \n",
       "</tr>\n",
       "<tr>\n",
       "  <th>No. Observations:</th>      <td>   400</td>      <th>  AIC:               </th> <td>   1712.</td> \n",
       "</tr>\n",
       "<tr>\n",
       "  <th>Df Residuals:</th>          <td>   398</td>      <th>  BIC:               </th> <td>   1720.</td> \n",
       "</tr>\n",
       "<tr>\n",
       "  <th>Df Model:</th>              <td>     1</td>      <th>                     </th>     <td> </td>    \n",
       "</tr>\n",
       "<tr>\n",
       "  <th>Covariance Type:</th>      <td>nonrobust</td>    <th>                     </th>     <td> </td>    \n",
       "</tr>\n",
       "</table>\n",
       "<table class=\"simpletable\">\n",
       "<tr>\n",
       "    <td></td>       <th>coef</th>     <th>std err</th>      <th>t</th>      <th>P>|t|</th>  <th>[0.025</th>    <th>0.975]</th>  \n",
       "</tr>\n",
       "<tr>\n",
       "  <th>const</th> <td>    0.0921</td> <td>    0.205</td> <td>    0.450</td> <td> 0.653</td> <td>   -0.310</td> <td>    0.495</td>\n",
       "</tr>\n",
       "<tr>\n",
       "  <th>x1</th>    <td>    1.9831</td> <td>    0.024</td> <td>   83.948</td> <td> 0.000</td> <td>    1.937</td> <td>    2.030</td>\n",
       "</tr>\n",
       "</table>\n",
       "<table class=\"simpletable\">\n",
       "<tr>\n",
       "  <th>Omnibus:</th>       <td> 1.167</td> <th>  Durbin-Watson:     </th> <td>   1.999</td>\n",
       "</tr>\n",
       "<tr>\n",
       "  <th>Prob(Omnibus):</th> <td> 0.558</td> <th>  Jarque-Bera (JB):  </th> <td>   1.018</td>\n",
       "</tr>\n",
       "<tr>\n",
       "  <th>Skew:</th>          <td> 0.119</td> <th>  Prob(JB):          </th> <td>   0.601</td>\n",
       "</tr>\n",
       "<tr>\n",
       "  <th>Kurtosis:</th>      <td> 3.064</td> <th>  Cond. No.          </th> <td>    17.5</td>\n",
       "</tr>\n",
       "</table><br/><br/>Notes:<br/>[1] Standard Errors assume that the covariance matrix of the errors is correctly specified."
      ],
      "text/latex": [
       "\\begin{center}\n",
       "\\begin{tabular}{lclc}\n",
       "\\toprule\n",
       "\\textbf{Dep. Variable:}    &        y         & \\textbf{  R-squared:         } &     0.947   \\\\\n",
       "\\textbf{Model:}            &       OLS        & \\textbf{  Adj. R-squared:    } &     0.946   \\\\\n",
       "\\textbf{Method:}           &  Least Squares   & \\textbf{  F-statistic:       } &     7047.   \\\\\n",
       "\\textbf{Date:}             & Sat, 15 Feb 2025 & \\textbf{  Prob (F-statistic):} & 3.07e-255   \\\\\n",
       "\\textbf{Time:}             &     20:49:17     & \\textbf{  Log-Likelihood:    } &   -853.89   \\\\\n",
       "\\textbf{No. Observations:} &         400      & \\textbf{  AIC:               } &     1712.   \\\\\n",
       "\\textbf{Df Residuals:}     &         398      & \\textbf{  BIC:               } &     1720.   \\\\\n",
       "\\textbf{Df Model:}         &           1      & \\textbf{                     } &             \\\\\n",
       "\\textbf{Covariance Type:}  &    nonrobust     & \\textbf{                     } &             \\\\\n",
       "\\bottomrule\n",
       "\\end{tabular}\n",
       "\\begin{tabular}{lcccccc}\n",
       "               & \\textbf{coef} & \\textbf{std err} & \\textbf{t} & \\textbf{P$> |$t$|$} & \\textbf{[0.025} & \\textbf{0.975]}  \\\\\n",
       "\\midrule\n",
       "\\textbf{const} &       0.0921  &        0.205     &     0.450  &         0.653        &       -0.310    &        0.495     \\\\\n",
       "\\textbf{x1}    &       1.9831  &        0.024     &    83.948  &         0.000        &        1.937    &        2.030     \\\\\n",
       "\\bottomrule\n",
       "\\end{tabular}\n",
       "\\begin{tabular}{lclc}\n",
       "\\textbf{Omnibus:}       &  1.167 & \\textbf{  Durbin-Watson:     } &    1.999  \\\\\n",
       "\\textbf{Prob(Omnibus):} &  0.558 & \\textbf{  Jarque-Bera (JB):  } &    1.018  \\\\\n",
       "\\textbf{Skew:}          &  0.119 & \\textbf{  Prob(JB):          } &    0.601  \\\\\n",
       "\\textbf{Kurtosis:}      &  3.064 & \\textbf{  Cond. No.          } &     17.5  \\\\\n",
       "\\bottomrule\n",
       "\\end{tabular}\n",
       "%\\caption{OLS Regression Results}\n",
       "\\end{center}\n",
       "\n",
       "Notes: \\newline\n",
       " [1] Standard Errors assume that the covariance matrix of the errors is correctly specified."
      ],
      "text/plain": [
       "<class 'statsmodels.iolib.summary.Summary'>\n",
       "\"\"\"\n",
       "                            OLS Regression Results                            \n",
       "==============================================================================\n",
       "Dep. Variable:                      y   R-squared:                       0.947\n",
       "Model:                            OLS   Adj. R-squared:                  0.946\n",
       "Method:                 Least Squares   F-statistic:                     7047.\n",
       "Date:                Sat, 15 Feb 2025   Prob (F-statistic):          3.07e-255\n",
       "Time:                        20:49:17   Log-Likelihood:                -853.89\n",
       "No. Observations:                 400   AIC:                             1712.\n",
       "Df Residuals:                     398   BIC:                             1720.\n",
       "Df Model:                           1                                         \n",
       "Covariance Type:            nonrobust                                         \n",
       "==============================================================================\n",
       "                 coef    std err          t      P>|t|      [0.025      0.975]\n",
       "------------------------------------------------------------------------------\n",
       "const          0.0921      0.205      0.450      0.653      -0.310       0.495\n",
       "x1             1.9831      0.024     83.948      0.000       1.937       2.030\n",
       "==============================================================================\n",
       "Omnibus:                        1.167   Durbin-Watson:                   1.999\n",
       "Prob(Omnibus):                  0.558   Jarque-Bera (JB):                1.018\n",
       "Skew:                           0.119   Prob(JB):                        0.601\n",
       "Kurtosis:                       3.064   Cond. No.                         17.5\n",
       "==============================================================================\n",
       "\n",
       "Notes:\n",
       "[1] Standard Errors assume that the covariance matrix of the errors is correctly specified.\n",
       "\"\"\""
      ]
     },
     "execution_count": 7,
     "metadata": {},
     "output_type": "execute_result"
    }
   ],
   "source": [
    "results_table = px.get_trendline_results(fig)\n",
    "results = results_table['px_fit_results'][0]\n",
    "results.summary()"
   ]
  },
  {
   "cell_type": "markdown",
   "metadata": {},
   "source": [
    "4. Obtain the fitted, and residual values from the results"
   ]
  },
  {
   "cell_type": "code",
   "execution_count": 8,
   "metadata": {},
   "outputs": [],
   "source": [
    "fitted = results.fittedvalues\n",
    "residuals = results.resid"
   ]
  },
  {
   "cell_type": "markdown",
   "metadata": {},
   "source": [
    "5. To diagnose the Homoscedasticity assumption, plot a scatter between the fitted and the residuals"
   ]
  },
  {
   "cell_type": "code",
   "execution_count": 9,
   "metadata": {},
   "outputs": [
    {
     "data": {
      "application/vnd.plotly.v1+json": {
       "config": {
        "plotlyServerURL": "https://plot.ly"
       },
       "data": [
        {
         "hovertemplate": "x=%{x}<br>y=%{y}<extra></extra>",
         "legendgroup": "",
         "marker": {
          "color": "#636efa",
          "symbol": "circle"
         },
         "mode": "markers",
         "name": "",
         "orientation": "v",
         "showlegend": false,
         "type": "scatter",
         "x": {
          "bdata": "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",
          "dtype": "f8"
         },
         "xaxis": "x",
         "y": {
          "bdata": "BEb8bNRH2z/4/3zLvbjaPzaivqvJ+uQ/3vUKIXKn8T++niMCw4sEQDrENXxZXwhAxBUGfZZx1j9MbAvpF44LQOczLc2vg/o/PjuEgfaQ/L9SKU9yKJDpP+vE2SQj3Pi/5EbtBCGK57/MRVTFV4Ddv/Cn6K/48NG/CNr9mrnZ4D+KgTHVr3j7PyLnr/kLCfG/aAlokX0/4z9g3g5xj1u4v74BMk/Bi/0/YJ0LWXPfq78ZlPswyrcBwEzlylUbsQFA5ANEbQgj0D8jjYSYmVXxP0qy8q65lw5AyXkgiOU68b+kG/vRRDEJwA+5tAeNdA5AJwi6Q67v+L/RZ4kusn0AQH10q+6fzP6/kLkDPu2Ky7/iTTHJ5OLzv3CnNGpJJOA/44nGZ/TKBMBweoIla9DQP1FPMgoI0vm/fKnjEHxg5b82Tzti7UsIQIfUXUyyugXAsYNlUTaj/b+4S0spQ6z2P0gAAdOR/OA/YJMdgBVN7L8e+joim+r0P0QiqalyBe2/YF/n+r+S0L+aZG9hvEMBwCiEdIEDeua/Un8fmwPsB8AgYMkyTcb9v+C4+ZgUBMY/OP+toQeD6r+gY9IflT8FwLDWyAWTkfQ/IJ5/iByD0D9qY1Iuf2EPwLAwGyj7L+Q/+IWzZihL7z9w2SuiIDT5P2CMGrow6s4/QDfmAtxo8L9gRXTObRoCQBAzptc+r+u/7l+dIX40A0CEcROQ190IQFAJckhhyOa/0GNeyRbs9L+wMY7CiiLov3B4ZNiRtvK/MGk1Ed2XEUCw4ng1YGoHQIDiGoeE2sa/kJZx9hTyA0DEKUI/G8L8v1Cr8ORhANo/GJLCWzlm/L/Y7DKqjoTxv5ne2kDEwQfAyJlMF27N+b/AAZEC6bjevzBVaTCMufO/+NhBqrpG4L+Qi/HCeFPWP7A/dJSa1NY/oBewyK5Xzz8w6UrlmeX6v/C9eerPzfg/wP40+Ag30r8g7G3CRCHXv4JNb7dsZQRAgO/zDiDxsz9b8aMf/VwPwPg7bakBI/M/4tysRUQMA0Ag2EGGb67/P7zla0v5zwJAmuzlfIZVBECktb3xpcn/v2YqRjCR0A5AwPe+q/6FxT8gcLos0R7/P/2WcmfDrRZAXEhqq8P//z84x1zKU+oIwBi3hbX3iea/eBLQTfr1+D9QNkF8L+DWv4BNzEovy+2/fDruSex38L8EsBmxn0gFwNwf+N/ufvO/aLh1s5JzA0AAqN5gJVulP7zrv5PcFwFAcFpj+OY17T/Qf4WnCm36v6LDmjN3zQDAwGby5TaiDcCCRfkv5CgGwACz3VCvwbI/AFtZGdMfub9AogwY9ezZPxS2EtWSFgPAQEkrVQRmxT/wAWrXxrj+v0CLSG4FfgRAwIsVhbRr2T8ApVymLO70v+xlP7MM9QFAQMKdorpt6L/YLhc3zCj0P5h21g6kPAJAiIhF4JUWBsCkZOMqnYYGwLNh+Vr4YBPABEObPyvUEMBQPEhlf6kAQEhvPbLHMf2/AMNbvCj77z+M5vqSGwELQABYXI/x3MM/wJcRO4ko3b9AZKCxUwLlv5A132I6jOQ/gGAIYyPt7b9InG9LNaT0P5TNMuIBAAHA3oUyPFJaEMDgcmLCeXjuvxizoR1OJArAAILv8fiZzj8gyXLIpmTqP2Dp5JvXlvi/gMTpQoB+yz/4VntiwxYEQJCOQfv3X/m/+GlWHK/l/j+AE8v39fHYv9jw3BJ6Tfs/XCRZlsPSAcAAoF5N6uHeP0jbASoTzfo/YITo4hziAkAgfrftwiH/v2DKP575kOi/8J4DAuiO4D+ApYHNSevvP2BFucYTxtC/AERebioN7T8g7beLwsbWvzCZEGg8IAxAAC+V7eNLsz/0cKUrqD0LwACAQrhSdYQ/gGkBgCnW7T/4722+STf2vyAQLRBsdvY/zss+m7yUFEBU75v3OM4EQIg7VsCOYQNArMVMr90fA0Bwd3jaLOn5v5Bve9iL3+0/0LNo2GWB9b+gKu+Cm0bzP7gj71ddH/K/+JQgk1iGAsAoZt0FttD8PxTx1/abKAHA4NVZ5qJ167/QV+JtvSTtvyjUc2TwC/2/sDrUAd3w9j9wOrkK9EMCwIwF0KJGuABA0OZ+rLmy9r+MExtweXUAwIhLOWxpFgFAeIx+fmRK9T/YJ2nWlyQDwACq67aJF/m/gPDxi8bj6r9Q+ahPTCf5P+iiI0ohYP8/UDKbfMkm/z9AEmr9kBUAQICiWTYx77G/wP8+Jl586T+UhIwW4tMRwIysB1zPvRLAIBa1jj2H/L+wGNhuCGvwPxhu55J5lfq/ACxtuYm71z8AsyKH2o3QPximZEsn6AfAgOp9mg879L8YTF+a9UwHwBCysxANlAbAYKhluopVA8AAixCExJ60PwCWFs9vG8a/WPtue6F+AMBgMKDKVRftv7CexJ5atvw/oA/6lG+xBkCgVm6gCv7lv0DSG7/6RNs/sCCTf7G/9r9gbh13SJ/uP8DDujeHVPE/gK++oht2AkAgC09r26jqPzDphZak7f+/gPvwC4TyBUDAjySUFTzsP2AzmVCdXPw/APTTo+B06T+Asbi7Um/xPzQqqFSTGwPA4LQfyIK+4r9ATREzA8jov7BnVNpVWvg/EPa/p0bg+r/gl8PoSw7uP8BkzMLqLdc/wD5ZSjtC3T8AEWsyfZfdP/Cj3R7UEvO/AAi3ztHuyL9A3m33z50JQIBu6duzdgTAQDKyn5xn9T+wKGl9WSn7v2D0qfpxMem/4GrrFYZS7b/QNjGWf075PwDGWKceYgrAAMxhotmzmT/QRLTEtB7xP8DHeWfhI+Y/0PYR+7om978AVrflpFquvxj4r141ywtA6N74dz5LA0DUPr971lcUwBgoKl9ldABAuApxRjY9A0Dw8Z9KPKryPxBVPcyqchpAgOVYE55v9L/ob1qF1HMEwMATxsvf39g/CEo3kpSUBEAwZZmuQ677v4BLqpbPktw/AJUnnF8Auz9Aw31PvDPjv8CKpbmMj/c/YEpyb6nO5r/AkFNzqpfmv1CpeNykxRVAQE3Zp28I3T9AQt6MCk7iv4CJca1BruO/6CEBN80mCcCAcFlQXCTXv1hCz1E1/AxAWDaaoH1zDsBAcQ0bwhoUQPguGO2CfgZAgMYdIrltBMDAPJDP2Zr1v0CSq6CcNOk/gAPsbDCs6b9AsBmAnlYAwDjyqnobLAFAKGgBErzgAcD4grsJazQRQFBzKuNMnwPA4MuXUWkg8T9Ee+Bv7OEUwIB/mf0bqf+/ABDTWA6sy7+wB4s4aikBQNDGCWaFUwlAYEg1IaKp+r+IciPUiYgTwMgONKUE4ANAAOtFHgaJxr8gC/hzHwv+P6hf4qoHMQfAEEtRkb5QBMDAl70fRardP9D3hqjA3/W/ANjAOHDo3r/gaI7PSgntvzBbYfrLavI/6BFqljdaBcAQXyGUPQ0AwAC7EM2KsLm/8LD5NFDn9z/gzgEaSpjsv7iUkmuOIQPAsA5b0p/ZBUCAwFoxOHkEwKAzfC1P5P6/wCjb+Cu85r+gRTltCTEGQLD7qylMuwpAMCxvRWHjAsAw7R0E7goaQIDzL63pTu+/wJ9kK5rl0L+ArEDYE+gBwKBZLgPRZeQ/6N/3pT2ZAEDQeV5lgdv7v8CzumRI7QdAYITA1ltf4j/gagFSuM3sP0B9mIeCbvw/QB8XjJGBAsDo6DZubJgDQACZFF29bL8/ICcpVKUG8b9AhTw4CU7TP1BQsLkeywlAINjtNDFADECA6v8EZF0FwICnflQ5B8W/QL7yqAbe17+MU7LA1TkXwID5i36kVcA/EDZDxNMr8z/Amy/f3gPdP4BjBrjjmdi/oP0eQf1g4D/ggkd1xWXxvwAgtCaWlwvAQGJR6rLc1D8gh02kqI7vvwCvYNVcqsQ/RB8luOpDEMDgOC8RFJYHwCAsNFXxJOk/YEMvWYU9+b/wUyWk9nQBQLAzrsZ/fAdAMIkW9VtS879QWZHQpA71v0BZZbuQyP4/IJpXM/VZ5b9gDsndtYXuvwCNzzLp6vq/IFFOMfsJCkAABp/JlJLhP4D9GK6WHeC/YCsvkq9W/j9guKZzesf0vyA4C9X0Tfm/QCt1GB7R3D94gRvVghwFQOCmfENTeeS/AMmrGPlU6D/wkWxh4BYBwEDcr7e7CQBA8KReKOTN8j/gcFU+00/3v0AWO6/0SPA/kFnxR3E5CEBQg3pTv4n5PwCpmO6G0vC/gJv3gCvq4b8AkituCUUAQMCqQeXnj9w/EC5PD9CABkA=",
          "dtype": "f8"
         },
         "yaxis": "y"
        },
        {
         "hovertemplate": "<b>OLS trendline</b><br>y = -1.6263e-16 * x + 5.03417e-15<br>R<sup>2</sup>=0.000000<br><br>x=%{x}<br>y=%{y} <b>(trend)</b><extra></extra>",
         "legendgroup": "",
         "line": {
          "color": "red"
         },
         "marker": {
          "color": "#636efa",
          "symbol": "circle"
         },
         "mode": "lines",
         "name": "",
         "showlegend": false,
         "type": "scatter",
         "x": {
          "bdata": "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",
          "dtype": "f8"
         },
         "xaxis": "x",
         "y": {
          "bdata": "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",
          "dtype": "f8"
         },
         "yaxis": "y"
        }
       ],
       "layout": {
        "height": 600,
        "legend": {
         "tracegroupgap": 0
        },
        "template": {
         "data": {
          "bar": [
           {
            "error_x": {
             "color": "#2a3f5f"
            },
            "error_y": {
             "color": "#2a3f5f"
            },
            "marker": {
             "line": {
              "color": "#E5ECF6",
              "width": 0.5
             },
             "pattern": {
              "fillmode": "overlay",
              "size": 10,
              "solidity": 0.2
             }
            },
            "type": "bar"
           }
          ],
          "barpolar": [
           {
            "marker": {
             "line": {
              "color": "#E5ECF6",
              "width": 0.5
             },
             "pattern": {
              "fillmode": "overlay",
              "size": 10,
              "solidity": 0.2
             }
            },
            "type": "barpolar"
           }
          ],
          "carpet": [
           {
            "aaxis": {
             "endlinecolor": "#2a3f5f",
             "gridcolor": "white",
             "linecolor": "white",
             "minorgridcolor": "white",
             "startlinecolor": "#2a3f5f"
            },
            "baxis": {
             "endlinecolor": "#2a3f5f",
             "gridcolor": "white",
             "linecolor": "white",
             "minorgridcolor": "white",
             "startlinecolor": "#2a3f5f"
            },
            "type": "carpet"
           }
          ],
          "choropleth": [
           {
            "colorbar": {
             "outlinewidth": 0,
             "ticks": ""
            },
            "type": "choropleth"
           }
          ],
          "contour": [
           {
            "colorbar": {
             "outlinewidth": 0,
             "ticks": ""
            },
            "colorscale": [
             [
              0,
              "#0d0887"
             ],
             [
              0.1111111111111111,
              "#46039f"
             ],
             [
              0.2222222222222222,
              "#7201a8"
             ],
             [
              0.3333333333333333,
              "#9c179e"
             ],
             [
              0.4444444444444444,
              "#bd3786"
             ],
             [
              0.5555555555555556,
              "#d8576b"
             ],
             [
              0.6666666666666666,
              "#ed7953"
             ],
             [
              0.7777777777777778,
              "#fb9f3a"
             ],
             [
              0.8888888888888888,
              "#fdca26"
             ],
             [
              1,
              "#f0f921"
             ]
            ],
            "type": "contour"
           }
          ],
          "contourcarpet": [
           {
            "colorbar": {
             "outlinewidth": 0,
             "ticks": ""
            },
            "type": "contourcarpet"
           }
          ],
          "heatmap": [
           {
            "colorbar": {
             "outlinewidth": 0,
             "ticks": ""
            },
            "colorscale": [
             [
              0,
              "#0d0887"
             ],
             [
              0.1111111111111111,
              "#46039f"
             ],
             [
              0.2222222222222222,
              "#7201a8"
             ],
             [
              0.3333333333333333,
              "#9c179e"
             ],
             [
              0.4444444444444444,
              "#bd3786"
             ],
             [
              0.5555555555555556,
              "#d8576b"
             ],
             [
              0.6666666666666666,
              "#ed7953"
             ],
             [
              0.7777777777777778,
              "#fb9f3a"
             ],
             [
              0.8888888888888888,
              "#fdca26"
             ],
             [
              1,
              "#f0f921"
             ]
            ],
            "type": "heatmap"
           }
          ],
          "histogram": [
           {
            "marker": {
             "pattern": {
              "fillmode": "overlay",
              "size": 10,
              "solidity": 0.2
             }
            },
            "type": "histogram"
           }
          ],
          "histogram2d": [
           {
            "colorbar": {
             "outlinewidth": 0,
             "ticks": ""
            },
            "colorscale": [
             [
              0,
              "#0d0887"
             ],
             [
              0.1111111111111111,
              "#46039f"
             ],
             [
              0.2222222222222222,
              "#7201a8"
             ],
             [
              0.3333333333333333,
              "#9c179e"
             ],
             [
              0.4444444444444444,
              "#bd3786"
             ],
             [
              0.5555555555555556,
              "#d8576b"
             ],
             [
              0.6666666666666666,
              "#ed7953"
             ],
             [
              0.7777777777777778,
              "#fb9f3a"
             ],
             [
              0.8888888888888888,
              "#fdca26"
             ],
             [
              1,
              "#f0f921"
             ]
            ],
            "type": "histogram2d"
           }
          ],
          "histogram2dcontour": [
           {
            "colorbar": {
             "outlinewidth": 0,
             "ticks": ""
            },
            "colorscale": [
             [
              0,
              "#0d0887"
             ],
             [
              0.1111111111111111,
              "#46039f"
             ],
             [
              0.2222222222222222,
              "#7201a8"
             ],
             [
              0.3333333333333333,
              "#9c179e"
             ],
             [
              0.4444444444444444,
              "#bd3786"
             ],
             [
              0.5555555555555556,
              "#d8576b"
             ],
             [
              0.6666666666666666,
              "#ed7953"
             ],
             [
              0.7777777777777778,
              "#fb9f3a"
             ],
             [
              0.8888888888888888,
              "#fdca26"
             ],
             [
              1,
              "#f0f921"
             ]
            ],
            "type": "histogram2dcontour"
           }
          ],
          "mesh3d": [
           {
            "colorbar": {
             "outlinewidth": 0,
             "ticks": ""
            },
            "type": "mesh3d"
           }
          ],
          "parcoords": [
           {
            "line": {
             "colorbar": {
              "outlinewidth": 0,
              "ticks": ""
             }
            },
            "type": "parcoords"
           }
          ],
          "pie": [
           {
            "automargin": true,
            "type": "pie"
           }
          ],
          "scatter": [
           {
            "fillpattern": {
             "fillmode": "overlay",
             "size": 10,
             "solidity": 0.2
            },
            "type": "scatter"
           }
          ],
          "scatter3d": [
           {
            "line": {
             "colorbar": {
              "outlinewidth": 0,
              "ticks": ""
             }
            },
            "marker": {
             "colorbar": {
              "outlinewidth": 0,
              "ticks": ""
             }
            },
            "type": "scatter3d"
           }
          ],
          "scattercarpet": [
           {
            "marker": {
             "colorbar": {
              "outlinewidth": 0,
              "ticks": ""
             }
            },
            "type": "scattercarpet"
           }
          ],
          "scattergeo": [
           {
            "marker": {
             "colorbar": {
              "outlinewidth": 0,
              "ticks": ""
             }
            },
            "type": "scattergeo"
           }
          ],
          "scattergl": [
           {
            "marker": {
             "colorbar": {
              "outlinewidth": 0,
              "ticks": ""
             }
            },
            "type": "scattergl"
           }
          ],
          "scattermap": [
           {
            "marker": {
             "colorbar": {
              "outlinewidth": 0,
              "ticks": ""
             }
            },
            "type": "scattermap"
           }
          ],
          "scattermapbox": [
           {
            "marker": {
             "colorbar": {
              "outlinewidth": 0,
              "ticks": ""
             }
            },
            "type": "scattermapbox"
           }
          ],
          "scatterpolar": [
           {
            "marker": {
             "colorbar": {
              "outlinewidth": 0,
              "ticks": ""
             }
            },
            "type": "scatterpolar"
           }
          ],
          "scatterpolargl": [
           {
            "marker": {
             "colorbar": {
              "outlinewidth": 0,
              "ticks": ""
             }
            },
            "type": "scatterpolargl"
           }
          ],
          "scatterternary": [
           {
            "marker": {
             "colorbar": {
              "outlinewidth": 0,
              "ticks": ""
             }
            },
            "type": "scatterternary"
           }
          ],
          "surface": [
           {
            "colorbar": {
             "outlinewidth": 0,
             "ticks": ""
            },
            "colorscale": [
             [
              0,
              "#0d0887"
             ],
             [
              0.1111111111111111,
              "#46039f"
             ],
             [
              0.2222222222222222,
              "#7201a8"
             ],
             [
              0.3333333333333333,
              "#9c179e"
             ],
             [
              0.4444444444444444,
              "#bd3786"
             ],
             [
              0.5555555555555556,
              "#d8576b"
             ],
             [
              0.6666666666666666,
              "#ed7953"
             ],
             [
              0.7777777777777778,
              "#fb9f3a"
             ],
             [
              0.8888888888888888,
              "#fdca26"
             ],
             [
              1,
              "#f0f921"
             ]
            ],
            "type": "surface"
           }
          ],
          "table": [
           {
            "cells": {
             "fill": {
              "color": "#EBF0F8"
             },
             "line": {
              "color": "white"
             }
            },
            "header": {
             "fill": {
              "color": "#C8D4E3"
             },
             "line": {
              "color": "white"
             }
            },
            "type": "table"
           }
          ]
         },
         "layout": {
          "annotationdefaults": {
           "arrowcolor": "#2a3f5f",
           "arrowhead": 0,
           "arrowwidth": 1
          },
          "autotypenumbers": "strict",
          "coloraxis": {
           "colorbar": {
            "outlinewidth": 0,
            "ticks": ""
           }
          },
          "colorscale": {
           "diverging": [
            [
             0,
             "#8e0152"
            ],
            [
             0.1,
             "#c51b7d"
            ],
            [
             0.2,
             "#de77ae"
            ],
            [
             0.3,
             "#f1b6da"
            ],
            [
             0.4,
             "#fde0ef"
            ],
            [
             0.5,
             "#f7f7f7"
            ],
            [
             0.6,
             "#e6f5d0"
            ],
            [
             0.7,
             "#b8e186"
            ],
            [
             0.8,
             "#7fbc41"
            ],
            [
             0.9,
             "#4d9221"
            ],
            [
             1,
             "#276419"
            ]
           ],
           "sequential": [
            [
             0,
             "#0d0887"
            ],
            [
             0.1111111111111111,
             "#46039f"
            ],
            [
             0.2222222222222222,
             "#7201a8"
            ],
            [
             0.3333333333333333,
             "#9c179e"
            ],
            [
             0.4444444444444444,
             "#bd3786"
            ],
            [
             0.5555555555555556,
             "#d8576b"
            ],
            [
             0.6666666666666666,
             "#ed7953"
            ],
            [
             0.7777777777777778,
             "#fb9f3a"
            ],
            [
             0.8888888888888888,
             "#fdca26"
            ],
            [
             1,
             "#f0f921"
            ]
           ],
           "sequentialminus": [
            [
             0,
             "#0d0887"
            ],
            [
             0.1111111111111111,
             "#46039f"
            ],
            [
             0.2222222222222222,
             "#7201a8"
            ],
            [
             0.3333333333333333,
             "#9c179e"
            ],
            [
             0.4444444444444444,
             "#bd3786"
            ],
            [
             0.5555555555555556,
             "#d8576b"
            ],
            [
             0.6666666666666666,
             "#ed7953"
            ],
            [
             0.7777777777777778,
             "#fb9f3a"
            ],
            [
             0.8888888888888888,
             "#fdca26"
            ],
            [
             1,
             "#f0f921"
            ]
           ]
          },
          "colorway": [
           "#636efa",
           "#EF553B",
           "#00cc96",
           "#ab63fa",
           "#FFA15A",
           "#19d3f3",
           "#FF6692",
           "#B6E880",
           "#FF97FF",
           "#FECB52"
          ],
          "font": {
           "color": "#2a3f5f"
          },
          "geo": {
           "bgcolor": "white",
           "lakecolor": "white",
           "landcolor": "#E5ECF6",
           "showlakes": true,
           "showland": true,
           "subunitcolor": "white"
          },
          "hoverlabel": {
           "align": "left"
          },
          "hovermode": "closest",
          "mapbox": {
           "style": "light"
          },
          "paper_bgcolor": "white",
          "plot_bgcolor": "#E5ECF6",
          "polar": {
           "angularaxis": {
            "gridcolor": "white",
            "linecolor": "white",
            "ticks": ""
           },
           "bgcolor": "#E5ECF6",
           "radialaxis": {
            "gridcolor": "white",
            "linecolor": "white",
            "ticks": ""
           }
          },
          "scene": {
           "xaxis": {
            "backgroundcolor": "#E5ECF6",
            "gridcolor": "white",
            "gridwidth": 2,
            "linecolor": "white",
            "showbackground": true,
            "ticks": "",
            "zerolinecolor": "white"
           },
           "yaxis": {
            "backgroundcolor": "#E5ECF6",
            "gridcolor": "white",
            "gridwidth": 2,
            "linecolor": "white",
            "showbackground": true,
            "ticks": "",
            "zerolinecolor": "white"
           },
           "zaxis": {
            "backgroundcolor": "#E5ECF6",
            "gridcolor": "white",
            "gridwidth": 2,
            "linecolor": "white",
            "showbackground": true,
            "ticks": "",
            "zerolinecolor": "white"
           }
          },
          "shapedefaults": {
           "line": {
            "color": "#2a3f5f"
           }
          },
          "ternary": {
           "aaxis": {
            "gridcolor": "white",
            "linecolor": "white",
            "ticks": ""
           },
           "baxis": {
            "gridcolor": "white",
            "linecolor": "white",
            "ticks": ""
           },
           "bgcolor": "#E5ECF6",
           "caxis": {
            "gridcolor": "white",
            "linecolor": "white",
            "ticks": ""
           }
          },
          "title": {
           "x": 0.05
          },
          "xaxis": {
           "automargin": true,
           "gridcolor": "white",
           "linecolor": "white",
           "ticks": "",
           "title": {
            "standoff": 15
           },
           "zerolinecolor": "white",
           "zerolinewidth": 2
          },
          "yaxis": {
           "automargin": true,
           "gridcolor": "white",
           "linecolor": "white",
           "ticks": "",
           "title": {
            "standoff": 15
           },
           "zerolinecolor": "white",
           "zerolinewidth": 2
          }
         }
        },
        "title": {
         "text": "Residuals vs Fitted Plot"
        },
        "width": 800,
        "xaxis": {
         "anchor": "y",
         "domain": [
          0,
          1
         ],
         "title": {
          "text": "x"
         }
        },
        "yaxis": {
         "anchor": "x",
         "domain": [
          0,
          1
         ],
         "title": {
          "text": "y"
         }
        }
       }
      }
     },
     "metadata": {},
     "output_type": "display_data"
    }
   ],
   "source": [
    "fig = px.scatter(x =fitted, y=residuals, \n",
    "                 trendline_color_override=\"red\",\n",
    "                 trendline=\"ols\", \n",
    "                 height=600, width=800,\n",
    "                 title='Residuals vs Fitted Plot')\n",
    "fig.show()"
   ]
  },
  {
   "cell_type": "markdown",
   "metadata": {},
   "source": [
    "6. Calculate the square root of the absolute residuals"
   ]
  },
  {
   "cell_type": "code",
   "execution_count": 10,
   "metadata": {},
   "outputs": [],
   "source": [
    "influence = results.get_influence()\n",
    "residual_norm = influence.resid_studentized_internal\n",
    "residual_norm_abs_sqrt = np.sqrt(np.abs(residual_norm))"
   ]
  },
  {
   "cell_type": "markdown",
   "metadata": {},
   "source": [
    "7. To diagnose the homoscedasticity make a Scale-Location plot using a `scatter` between the fitted values and the square root of the absolute residuals"
   ]
  },
  {
   "cell_type": "code",
   "execution_count": 11,
   "metadata": {},
   "outputs": [
    {
     "data": {
      "application/vnd.plotly.v1+json": {
       "config": {
        "plotlyServerURL": "https://plot.ly"
       },
       "data": [
        {
         "hovertemplate": "x=%{x}<br>y=%{y}<extra></extra>",
         "legendgroup": "",
         "marker": {
          "color": "#636efa",
          "symbol": "circle"
         },
         "mode": "markers",
         "name": "",
         "orientation": "v",
         "showlegend": false,
         "type": "scatter",
         "x": {
          "bdata": "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",
          "dtype": "f8"
         },
         "xaxis": "x",
         "y": {
          "bdata": "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",
          "dtype": "f8"
         },
         "yaxis": "y"
        },
        {
         "hovertemplate": "<b>OLS trendline</b><br>y = 0.00282753 * x + 0.789247<br>R<sup>2</sup>=0.005198<br><br>x=%{x}<br>y=%{y} <b>(trend)</b><extra></extra>",
         "legendgroup": "",
         "line": {
          "color": "red"
         },
         "marker": {
          "color": "#636efa",
          "symbol": "circle"
         },
         "mode": "lines",
         "name": "",
         "showlegend": false,
         "type": "scatter",
         "x": {
          "bdata": "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",
          "dtype": "f8"
         },
         "xaxis": "x",
         "y": {
          "bdata": "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",
          "dtype": "f8"
         },
         "yaxis": "y"
        }
       ],
       "layout": {
        "height": 600,
        "legend": {
         "tracegroupgap": 0
        },
        "template": {
         "data": {
          "bar": [
           {
            "error_x": {
             "color": "#2a3f5f"
            },
            "error_y": {
             "color": "#2a3f5f"
            },
            "marker": {
             "line": {
              "color": "#E5ECF6",
              "width": 0.5
             },
             "pattern": {
              "fillmode": "overlay",
              "size": 10,
              "solidity": 0.2
             }
            },
            "type": "bar"
           }
          ],
          "barpolar": [
           {
            "marker": {
             "line": {
              "color": "#E5ECF6",
              "width": 0.5
             },
             "pattern": {
              "fillmode": "overlay",
              "size": 10,
              "solidity": 0.2
             }
            },
            "type": "barpolar"
           }
          ],
          "carpet": [
           {
            "aaxis": {
             "endlinecolor": "#2a3f5f",
             "gridcolor": "white",
             "linecolor": "white",
             "minorgridcolor": "white",
             "startlinecolor": "#2a3f5f"
            },
            "baxis": {
             "endlinecolor": "#2a3f5f",
             "gridcolor": "white",
             "linecolor": "white",
             "minorgridcolor": "white",
             "startlinecolor": "#2a3f5f"
            },
            "type": "carpet"
           }
          ],
          "choropleth": [
           {
            "colorbar": {
             "outlinewidth": 0,
             "ticks": ""
            },
            "type": "choropleth"
           }
          ],
          "contour": [
           {
            "colorbar": {
             "outlinewidth": 0,
             "ticks": ""
            },
            "colorscale": [
             [
              0,
              "#0d0887"
             ],
             [
              0.1111111111111111,
              "#46039f"
             ],
             [
              0.2222222222222222,
              "#7201a8"
             ],
             [
              0.3333333333333333,
              "#9c179e"
             ],
             [
              0.4444444444444444,
              "#bd3786"
             ],
             [
              0.5555555555555556,
              "#d8576b"
             ],
             [
              0.6666666666666666,
              "#ed7953"
             ],
             [
              0.7777777777777778,
              "#fb9f3a"
             ],
             [
              0.8888888888888888,
              "#fdca26"
             ],
             [
              1,
              "#f0f921"
             ]
            ],
            "type": "contour"
           }
          ],
          "contourcarpet": [
           {
            "colorbar": {
             "outlinewidth": 0,
             "ticks": ""
            },
            "type": "contourcarpet"
           }
          ],
          "heatmap": [
           {
            "colorbar": {
             "outlinewidth": 0,
             "ticks": ""
            },
            "colorscale": [
             [
              0,
              "#0d0887"
             ],
             [
              0.1111111111111111,
              "#46039f"
             ],
             [
              0.2222222222222222,
              "#7201a8"
             ],
             [
              0.3333333333333333,
              "#9c179e"
             ],
             [
              0.4444444444444444,
              "#bd3786"
             ],
             [
              0.5555555555555556,
              "#d8576b"
             ],
             [
              0.6666666666666666,
              "#ed7953"
             ],
             [
              0.7777777777777778,
              "#fb9f3a"
             ],
             [
              0.8888888888888888,
              "#fdca26"
             ],
             [
              1,
              "#f0f921"
             ]
            ],
            "type": "heatmap"
           }
          ],
          "histogram": [
           {
            "marker": {
             "pattern": {
              "fillmode": "overlay",
              "size": 10,
              "solidity": 0.2
             }
            },
            "type": "histogram"
           }
          ],
          "histogram2d": [
           {
            "colorbar": {
             "outlinewidth": 0,
             "ticks": ""
            },
            "colorscale": [
             [
              0,
              "#0d0887"
             ],
             [
              0.1111111111111111,
              "#46039f"
             ],
             [
              0.2222222222222222,
              "#7201a8"
             ],
             [
              0.3333333333333333,
              "#9c179e"
             ],
             [
              0.4444444444444444,
              "#bd3786"
             ],
             [
              0.5555555555555556,
              "#d8576b"
             ],
             [
              0.6666666666666666,
              "#ed7953"
             ],
             [
              0.7777777777777778,
              "#fb9f3a"
             ],
             [
              0.8888888888888888,
              "#fdca26"
             ],
             [
              1,
              "#f0f921"
             ]
            ],
            "type": "histogram2d"
           }
          ],
          "histogram2dcontour": [
           {
            "colorbar": {
             "outlinewidth": 0,
             "ticks": ""
            },
            "colorscale": [
             [
              0,
              "#0d0887"
             ],
             [
              0.1111111111111111,
              "#46039f"
             ],
             [
              0.2222222222222222,
              "#7201a8"
             ],
             [
              0.3333333333333333,
              "#9c179e"
             ],
             [
              0.4444444444444444,
              "#bd3786"
             ],
             [
              0.5555555555555556,
              "#d8576b"
             ],
             [
              0.6666666666666666,
              "#ed7953"
             ],
             [
              0.7777777777777778,
              "#fb9f3a"
             ],
             [
              0.8888888888888888,
              "#fdca26"
             ],
             [
              1,
              "#f0f921"
             ]
            ],
            "type": "histogram2dcontour"
           }
          ],
          "mesh3d": [
           {
            "colorbar": {
             "outlinewidth": 0,
             "ticks": ""
            },
            "type": "mesh3d"
           }
          ],
          "parcoords": [
           {
            "line": {
             "colorbar": {
              "outlinewidth": 0,
              "ticks": ""
             }
            },
            "type": "parcoords"
           }
          ],
          "pie": [
           {
            "automargin": true,
            "type": "pie"
           }
          ],
          "scatter": [
           {
            "fillpattern": {
             "fillmode": "overlay",
             "size": 10,
             "solidity": 0.2
            },
            "type": "scatter"
           }
          ],
          "scatter3d": [
           {
            "line": {
             "colorbar": {
              "outlinewidth": 0,
              "ticks": ""
             }
            },
            "marker": {
             "colorbar": {
              "outlinewidth": 0,
              "ticks": ""
             }
            },
            "type": "scatter3d"
           }
          ],
          "scattercarpet": [
           {
            "marker": {
             "colorbar": {
              "outlinewidth": 0,
              "ticks": ""
             }
            },
            "type": "scattercarpet"
           }
          ],
          "scattergeo": [
           {
            "marker": {
             "colorbar": {
              "outlinewidth": 0,
              "ticks": ""
             }
            },
            "type": "scattergeo"
           }
          ],
          "scattergl": [
           {
            "marker": {
             "colorbar": {
              "outlinewidth": 0,
              "ticks": ""
             }
            },
            "type": "scattergl"
           }
          ],
          "scattermap": [
           {
            "marker": {
             "colorbar": {
              "outlinewidth": 0,
              "ticks": ""
             }
            },
            "type": "scattermap"
           }
          ],
          "scattermapbox": [
           {
            "marker": {
             "colorbar": {
              "outlinewidth": 0,
              "ticks": ""
             }
            },
            "type": "scattermapbox"
           }
          ],
          "scatterpolar": [
           {
            "marker": {
             "colorbar": {
              "outlinewidth": 0,
              "ticks": ""
             }
            },
            "type": "scatterpolar"
           }
          ],
          "scatterpolargl": [
           {
            "marker": {
             "colorbar": {
              "outlinewidth": 0,
              "ticks": ""
             }
            },
            "type": "scatterpolargl"
           }
          ],
          "scatterternary": [
           {
            "marker": {
             "colorbar": {
              "outlinewidth": 0,
              "ticks": ""
             }
            },
            "type": "scatterternary"
           }
          ],
          "surface": [
           {
            "colorbar": {
             "outlinewidth": 0,
             "ticks": ""
            },
            "colorscale": [
             [
              0,
              "#0d0887"
             ],
             [
              0.1111111111111111,
              "#46039f"
             ],
             [
              0.2222222222222222,
              "#7201a8"
             ],
             [
              0.3333333333333333,
              "#9c179e"
             ],
             [
              0.4444444444444444,
              "#bd3786"
             ],
             [
              0.5555555555555556,
              "#d8576b"
             ],
             [
              0.6666666666666666,
              "#ed7953"
             ],
             [
              0.7777777777777778,
              "#fb9f3a"
             ],
             [
              0.8888888888888888,
              "#fdca26"
             ],
             [
              1,
              "#f0f921"
             ]
            ],
            "type": "surface"
           }
          ],
          "table": [
           {
            "cells": {
             "fill": {
              "color": "#EBF0F8"
             },
             "line": {
              "color": "white"
             }
            },
            "header": {
             "fill": {
              "color": "#C8D4E3"
             },
             "line": {
              "color": "white"
             }
            },
            "type": "table"
           }
          ]
         },
         "layout": {
          "annotationdefaults": {
           "arrowcolor": "#2a3f5f",
           "arrowhead": 0,
           "arrowwidth": 1
          },
          "autotypenumbers": "strict",
          "coloraxis": {
           "colorbar": {
            "outlinewidth": 0,
            "ticks": ""
           }
          },
          "colorscale": {
           "diverging": [
            [
             0,
             "#8e0152"
            ],
            [
             0.1,
             "#c51b7d"
            ],
            [
             0.2,
             "#de77ae"
            ],
            [
             0.3,
             "#f1b6da"
            ],
            [
             0.4,
             "#fde0ef"
            ],
            [
             0.5,
             "#f7f7f7"
            ],
            [
             0.6,
             "#e6f5d0"
            ],
            [
             0.7,
             "#b8e186"
            ],
            [
             0.8,
             "#7fbc41"
            ],
            [
             0.9,
             "#4d9221"
            ],
            [
             1,
             "#276419"
            ]
           ],
           "sequential": [
            [
             0,
             "#0d0887"
            ],
            [
             0.1111111111111111,
             "#46039f"
            ],
            [
             0.2222222222222222,
             "#7201a8"
            ],
            [
             0.3333333333333333,
             "#9c179e"
            ],
            [
             0.4444444444444444,
             "#bd3786"
            ],
            [
             0.5555555555555556,
             "#d8576b"
            ],
            [
             0.6666666666666666,
             "#ed7953"
            ],
            [
             0.7777777777777778,
             "#fb9f3a"
            ],
            [
             0.8888888888888888,
             "#fdca26"
            ],
            [
             1,
             "#f0f921"
            ]
           ],
           "sequentialminus": [
            [
             0,
             "#0d0887"
            ],
            [
             0.1111111111111111,
             "#46039f"
            ],
            [
             0.2222222222222222,
             "#7201a8"
            ],
            [
             0.3333333333333333,
             "#9c179e"
            ],
            [
             0.4444444444444444,
             "#bd3786"
            ],
            [
             0.5555555555555556,
             "#d8576b"
            ],
            [
             0.6666666666666666,
             "#ed7953"
            ],
            [
             0.7777777777777778,
             "#fb9f3a"
            ],
            [
             0.8888888888888888,
             "#fdca26"
            ],
            [
             1,
             "#f0f921"
            ]
           ]
          },
          "colorway": [
           "#636efa",
           "#EF553B",
           "#00cc96",
           "#ab63fa",
           "#FFA15A",
           "#19d3f3",
           "#FF6692",
           "#B6E880",
           "#FF97FF",
           "#FECB52"
          ],
          "font": {
           "color": "#2a3f5f"
          },
          "geo": {
           "bgcolor": "white",
           "lakecolor": "white",
           "landcolor": "#E5ECF6",
           "showlakes": true,
           "showland": true,
           "subunitcolor": "white"
          },
          "hoverlabel": {
           "align": "left"
          },
          "hovermode": "closest",
          "mapbox": {
           "style": "light"
          },
          "paper_bgcolor": "white",
          "plot_bgcolor": "#E5ECF6",
          "polar": {
           "angularaxis": {
            "gridcolor": "white",
            "linecolor": "white",
            "ticks": ""
           },
           "bgcolor": "#E5ECF6",
           "radialaxis": {
            "gridcolor": "white",
            "linecolor": "white",
            "ticks": ""
           }
          },
          "scene": {
           "xaxis": {
            "backgroundcolor": "#E5ECF6",
            "gridcolor": "white",
            "gridwidth": 2,
            "linecolor": "white",
            "showbackground": true,
            "ticks": "",
            "zerolinecolor": "white"
           },
           "yaxis": {
            "backgroundcolor": "#E5ECF6",
            "gridcolor": "white",
            "gridwidth": 2,
            "linecolor": "white",
            "showbackground": true,
            "ticks": "",
            "zerolinecolor": "white"
           },
           "zaxis": {
            "backgroundcolor": "#E5ECF6",
            "gridcolor": "white",
            "gridwidth": 2,
            "linecolor": "white",
            "showbackground": true,
            "ticks": "",
            "zerolinecolor": "white"
           }
          },
          "shapedefaults": {
           "line": {
            "color": "#2a3f5f"
           }
          },
          "ternary": {
           "aaxis": {
            "gridcolor": "white",
            "linecolor": "white",
            "ticks": ""
           },
           "baxis": {
            "gridcolor": "white",
            "linecolor": "white",
            "ticks": ""
           },
           "bgcolor": "#E5ECF6",
           "caxis": {
            "gridcolor": "white",
            "linecolor": "white",
            "ticks": ""
           }
          },
          "title": {
           "x": 0.05
          },
          "xaxis": {
           "automargin": true,
           "gridcolor": "white",
           "linecolor": "white",
           "ticks": "",
           "title": {
            "standoff": 15
           },
           "zerolinecolor": "white",
           "zerolinewidth": 2
          },
          "yaxis": {
           "automargin": true,
           "gridcolor": "white",
           "linecolor": "white",
           "ticks": "",
           "title": {
            "standoff": 15
           },
           "zerolinecolor": "white",
           "zerolinewidth": 2
          }
         }
        },
        "title": {
         "text": "Scale-Location Plot"
        },
        "width": 800,
        "xaxis": {
         "anchor": "y",
         "domain": [
          0,
          1
         ],
         "title": {
          "text": "Fitted values"
         }
        },
        "yaxis": {
         "anchor": "x",
         "domain": [
          0,
          1
         ],
         "title": {
          "text": "$\\sqrt{|Standardized Residuals|}$"
         }
        }
       }
      }
     },
     "metadata": {},
     "output_type": "display_data"
    }
   ],
   "source": [
    "fig = px.scatter(x =fitted, y=residual_norm_abs_sqrt, \n",
    "                 trendline_color_override=\"red\",\n",
    "                 trendline=\"ols\", \n",
    "                 height=600, width=800,\n",
    "                 title='Scale-Location Plot')\n",
    "fig.update_layout(xaxis_title=\"Fitted values\", yaxis_title=r'$\\sqrt{|Standardized Residuals|}$')\n",
    "fig.show()"
   ]
  },
  {
   "cell_type": "markdown",
   "metadata": {},
   "source": [
    "8. Obtain the Leverage from the `influence` object by using `hat_matrix_diag`"
   ]
  },
  {
   "cell_type": "code",
   "execution_count": 12,
   "metadata": {},
   "outputs": [],
   "source": [
    "leverage = influence.hat_matrix_diag\n",
    "# cooks_distance = influence.cooks_distance[0]\n",
    "# nparams = len(results.params)\n",
    "# nresids = len(residual_norm)"
   ]
  },
  {
   "cell_type": "markdown",
   "metadata": {},
   "source": [
    "9. Make a Residual vs Leverage plot by making a `scatter` between the `leverage` and the `square root of the absolute residuals"
   ]
  },
  {
   "cell_type": "code",
   "execution_count": 13,
   "metadata": {},
   "outputs": [
    {
     "data": {
      "application/vnd.plotly.v1+json": {
       "config": {
        "plotlyServerURL": "https://plot.ly"
       },
       "data": [
        {
         "hovertemplate": "x=%{x}<br>y=%{y}<extra></extra>",
         "legendgroup": "",
         "marker": {
          "color": "#636efa",
          "symbol": "circle"
         },
         "mode": "markers",
         "name": "",
         "orientation": "v",
         "showlegend": false,
         "type": "scatter",
         "x": {
          "bdata": "MgavqkRnhD8Oqi6bJECEP4nNqeA2GYQ/13Age3vygz/4k5Jq8suDP+02AK+bpYM/sVlpSHd/gz9K/M02hVmDP7MeLnrFM4M/8MCJEjgOgz/84uD/3OiCP9yEM0K0w4I/j6aB2b2egj8TSMvF+XmCP2ppEAdoVYI/kQpRnQgxgj+NK42I2wyCP1nMxMjg6IE/9+z3XRjFgT9ojSZIgqGBP6utUIcefoE/wU12G+1agT+obZcE7jeBP2INtEIhFYE/7SzM1YbygD9LzN+9HtCAP3rr7vrorYA/e4r5jOWLgD9Qqf9zFGqAP/dHAbB1SIA/b2b+QAkngD+4BPcmzwWAP6xF1sOOyX8/h4G14+OHfz8JvYutnUZ/Py74WCG8BX8/9zIdPz/Ffj9lbdgGJ4V+P3mninhzRX4/MOEzlCQGfj+JGtRZOsd9P4hTa8m0iH0/LYz54pNKfT90xH6m1wx9P138+hOAz3w/7TNuK42SfD8ia9js/lV8P/qhOVjVGXw/ediRbRDeez+YDuEssKJ7P15EJ5a0Z3s/x3lkqR0tez/Trphm6/J6P4Xjw80duXo/3Rfm3rR/ej/XS/+ZsEZ6P3R/D/8QDno/ubIWDtbVeT+e5RTH/515PygYCiqOZnk/WEr2NoEveT8sfNnt2Ph4P6Sts06Vwng/wN6EWbaMeD+AD00OPFd4P+U/DG0mIng/7m/CdXXtdz+an28oKbl3P+zOE4VBhXc/4v2ui75Rdz98LEE8oB53P7laypbm63Y/nIhKm5G5dj8itsFJoYd2P0zjL6IVVnY/GxCVpO4kdj+QPPFQLPR1P6ZoRKfOw3U/YZSOp9WTdT/Cv89RQWR1P8TqB6YRNXU/bRU3pEYGdT+6P11M4Nd0P6ppep7eqXQ/P5OOmkF8dD95vJlACU90P1blm5A1InQ/2A2Visb1cz/9NYUuvMlzP8hdbHwWnnM/NoVKdNVycz9IrB8W+UdzPwDT62GBHXM/W/muV27zcj9aH2n3v8lyP/5EGkF2oHI/RWrCNJF3cj8xj2HSEE9yP8Gz9xn1JnI/9teECz7/cT/P+win69dxP0wfhOz9sHE/bUL223SKcT8yZV91UGRxP5yHv7iQPnE/qakWpjUZcT9by2Q9P/RwP7PsqX6tz3A/rQ3maYCrcD9MLhn/t4dwP45OQz5UZHA/dW5kJ1VBcD8Cjny6uh5wP2NaF+8J+W8/CJgjvWe1bz/61B3fjnJvPzIRBlV/MG8/tEzcHjnvbj98h6A8vK5uP47BUq4Ib24/7Prycx4wbj+OM4GN/fFtP3hr/fqltG0/rqJnvBd4bT8r2b/RUjxtP/AOBjtXAW0//EM6+CTHbD9SeFwJvI1sP/GrbG4cVWw/2N5qJ0YdbD8IEVc0OeZrP35CMZX1r2s/QHP5SXt6az9Io69SykVrP5rSU6/iEWs/MgHmX8Teaj8UL2Zkb6xqP0Bc1Lzjemo/tIgwaSFKaj9utHppKBpqP3Pfsr346mk/vwnZZZK8aT9UM+1h9Y5pPzFc77EhYmk/VoTfVRc2aT/Gq71N1gppP3zSiZle4Gg/fPhDObC2aD/CHewsy41oP1NCgnSvZWg/K2YGEF0+aD9OiXj/0xdoP7ar2EIU8mc/ac0m2h3NZz9k7mLF8KhnP6gOjQSNhWc/Mi6ll/JiZz8GTat+IUFnPyJrn7kZIGc/iIiBSNv/Zj8zpVErZuBmPyrBD2K6wWY/ady77NejZj/w9lXLvoZmP74Q3v1uamY/1ilUhOhOZj82QrheKzRmP99ZCo03GmY/0HBKDw0BZj8Kh3jlq+hlP4yclA8U0WU/VrGejUW6ZT9oxZZfQKRlP8TYfIUEj2U/aOtQ/5F6ZT9V/RLN6GZlP4kOw+4IVGU/Bh9hZPJBZT/MLu0tpTBlP9o9Z0shIGU/MUzPvGYQZT/QWSWCdQFlP7hmaZtN82Q/53KbCO/lZD9gfrvJWdlkPyGJyd6NzWQ/K5PFR4vCZD98nK8EUrhkPxelhxXirmQ/+axNejumZD8ktAEzXp5kP5i6oz9Kl2Q/VcAzoP+QZD9ZxbFUfotkP6fJHV3GhmQ/O813udeCZD8a0L9psn9kP0HS9W1WfWQ/sNMZxsN7ZD9o1Cty+npkP2fUK3L6emQ/sNMZxsN7ZD9B0vVtVn1kPxrQv2myf2Q/PM13udeCZD+myR1dxoZkP1nFsVR+i2Q/VMAzoP+QZD+XuqM/SpdkPyS0ATNenmQ/+KxNejumZD8VpYcV4q5kP3ucrwRSuGQ/KZPFR4vCZD8eicnejc1kP19+u8lZ2WQ/5nKbCO/lZD+2ZmmbTfNkP85ZJYJ1AWU/LkzPvGYQZT/YPWdLISBlP8ou7S2lMGU/BB9hZPJBZT+GDsPuCFRlP1L9Es3oZmU/ZutQ/5F6ZT/C2HyFBI9lP2fFll9ApGU/U7GejUW6ZT+JnJQPFNFlPwaHeOWr6GU/znBKDw0BZj/cWQqNNxpmPzRCuF4rNGY/0ylUhOhOZj+8EN79bmpmP+z2Vcu+hmY/Zty77NejZj8nwQ9iusFmPzKlUStm4GY/goiBSNv/Zj8da5+5GSBnPwJNq34hQWc/Li6ll/JiZz+hDo0EjYVnP17uYsXwqGc/ZM0m2h3NZz+xq9hCFPJnP0qJeP/TF2g/J2YGEF0+aD9NQoJ0r2VoP78d7CzLjWg/dvhDObC2aD940omZXuBoP8CrvU3WCmk/UYTfVRc2aT8sXO+xIWJpP04z7WH1jmk/uAnZZZK8aT9s37K9+OppP2m0emkoGmo/rogwaSFKaj86XNS843pqPxAvZmRvrGo/LwHmX8Teaj+T0lOv4hFrP0Kjr1LKRWs/OXP5SXt6az94QjGV9a9rPwERVzQ55ms/095qJ0YdbD/sq2xuHFVsP0x4XAm8jWw/9EM6+CTHbD/mDgY7VwFtPyLZv9FSPG0/p6JnvBd4bT9wa/36pbRtP4YzgY398W0/4vrycx4wbj+GwVKuCG9uP3WHoDy8rm4/rEzcHjnvbj8pEQZVfzBvP/HUHd+Ocm8/AZgjvWe1bz9ZWhfvCflvP/2NfLq6HnA/cm5kJ1VBcD+KTkM+VGRwP0cuGf+3h3A/qA3maYCrcD+u7Kl+rc9wP1jLZD0/9HA/pqkWpjUZcT+Yh7+4kD5xPy9lX3VQZHE/aUL223SKcT9HH4Ts/bBxP8z7CKfr13E/8teECz7/cT+9s/cZ9SZyPy2PYdIQT3I/QmrCNJF3cj/4RBpBdqByP1Qfafe/yXI/VPmuV27zcj/60uthgR1zP0SsHxb5R3M/MIVKdNVycz/AXWx8Fp5zP/g1hS68yXM/0Q2Visb1cz9R5ZuQNSJ0P3O8mUAJT3Q/OZOOmkF8dD+kaXqe3ql0P7Q/XUzg13Q/ZxU3pEYGdT/A6gemETV1P7y/z1FBZHU/W5SOp9WTdT+gaESnzsN1P4g88VAs9HU/FhCVpO4kdj9I4y+iFVZ2Pxy2wUmhh3Y/lohKm5G5dj+zWsqW5ut2P3QsQTygHnc/3v2ui75Rdz/nzhOFQYV3P5afbygpuXc/6G/CdXXtdz/gPwxtJiJ4P3oPTQ48V3g/u96EWbaMeD+crbNOlcJ4PyR82e3Y+Hg/UUr2NoEveT8iGAoqjmZ5P5jlFMf/nXk/sLIWDtbVeT9ufw//EA56P85L/5mwRno/1hfm3rR/ej9948PNHbl6P82umGbr8no/vnlkqR0tez9XRCeWtGd7P5AO4Sywons/cdiRbRDeez/0oTlY1Rl8Pxpr2Oz+VXw/6DNuK42SfD9W/PoTgM98P2rEfqbXDH0/JIz54pNKfT+AU2vJtIh9P4Ia1Fk6x30/KOEzlCQGfj9yp4p4c0V+P15t2AYnhX4/8DIdPz/Ffj8o+FghvAV/PwG9i62dRn8/gIG14+OHfz+lRdbDjsl/P7QE9ybPBYA/amb+QAkngD/xRwGwdUiAP0up/3MUaoA/d4r5jOWLgD906+766K2AP0bM370e0IA/6CzM1YbygD9cDbRCIRWBP6RtlwTuN4E/vE12G+1agT+orVCHHn6BP2SNJkiCoYE/8uz3XRjFgT9UzMTI4OiBP4grjYjbDII/jgpRnQgxgj9kaRAHaFWCPw5Iy8X5eYI/iqaB2b2egj/YhDNCtMOCP/fi4P/c6II/6sCJEjgOgz+vHi56xTODP0T8zTaFWYM/rVlpSHd/gz/oNgCvm6WDP/WTkmryy4M/03Age3vygz+FzangNhmEPwiqLpskQIQ/XAavqkRnhD8=",
          "dtype": "f8"
         },
         "xaxis": "x",
         "y": {
          "bdata": "PAwcCJC8yj8aIl8vEzDKP+0TLYpKj9Q/++Es29JM4T8qIx2SGiL0P9jOorbJ4fc/AX2/icH9xT9eKRggof/6P6TY/4Fc+uk/NeXxWsD8679zlVgZTAvZP9hyW1e1Wui/KqtMPF0P17/t3axhOebMv8QKueQVk8G/7ocEPGaB0D9lk4IFc+jqP7ucb6N0r+C/qHbEsRja0j/OJlNwCtunvyl0arqb7+w/NAYfwOhLm78c9J1K2lnxv/SWAt4oU/E/5NxJs2qavz8PFH45Q/ngP/OQhsiC9P0/F22K4NTe4L/0ty0EdKr4v2LLli5T0f0/qp5iVNVp6L/eWNUVDCXwP0YCCLXQJu6/M0NHgW72ur+ZpB11hXfjv6VFwT4Dms8/eH6bMV1a9L+m92v7PXXAPyS1bcLRRem/3HB1Rj3s1L+2gz77nsf3P6VtSfg0RPW/tfdemmAB7b9ULKERSjDmP69abDaQn9A/rYRNjuux278LTZDuxnfkP2dwNgvqZdy/6nLXi4Y3wL9e74czleTwv6Kru7P5/dW/fzKcy9Rn979CzfIgkiHtv2lSVk8firU/iSjexvvv2b88TbeGlcn0v1BnjOg1H+Q/MJJLzzAnwD+BxMTzl7L+v0gaDaRUv9M/jYAjUlOc3j8Goxc+J6foP6saJ9QRPb4/d1TdUNwM4L+2QieU0bTxP2VibzSuE9u/EqPeRXTI8j/JyXpfzFH4P7dZ/RjuR9a/RARl0v915L9lvX/EK5rXv06RpDm4TOK/urd6+T00AUCO748rpeX2Pzfd9yfWWLa/5ySxuMiA8z8J61v1lB7svwWKhdlhbMk/LxRhfGnE679Ozt40pSDhv+51LcIiOve/Gt/Q3Pk56b+WPKtrKwnOv/DYsm6bSOO/0JbF7ePSz79oL2jIZNPFP3L8bmOCUcY/57LtY4ujvj9QWEop30rqv9uVui3+Pug/FQGJYg/Owb+MvOxo2ZvGv/bOf6ir7/M/r5YosOR9oz/vm2Bvmqf+v6voxZo8tOI/yAu48Oqd8j+6qeKKvvbuP/oKp7rOYvI/RxDIn27f8z/IAYD/4hDvv+e8TjJRHf4/y4E/dLEItT/LPzDQgGnuP/EPSIuHKQZAsHn7AwtF7z/2iPSt1Fj4vyjkduw/Bta/Rwtre/9j6D+embheTVrGv8jAwdavHN2/MARxfmYX4L/aIp9hysv0v2uoGJKBDOO/E4vi6FMB8z/V+jgFod2UP9r4w8dUs/A/pZno5P2J3D/JSufNatHpvyv6qiNzavC/E1aJm3nz/L/6In0CJKb1v8vzbPTxUqI/tgIbA2aLqL+pC6FptFPJPzNSGdqrpfK/FArMBWDntD/n+gsP2gLuv+nGk1aaBPQ/5M0bHADVyD+pGHx+BXLkv4aAPGV5ivE/YvaQ/6rc179WzMtPBrHjP78VYLc70PE/t+NdYTeT9b9HGHMGkwD2v8ZDfHuZ7QLAu6O6Ou5vAMDiUu5NNEbwP3wbTJ24g+y/b9dNu2U83z9+hU029V/6PzILjz1bZrM/73ywhWB6zL/TwIO7yYTUv56jNMNkEdQ//BjhCSo63b87eJU6tijkP7njZK1BmvC/N/Zcv8/w/79xfOUE9cHdvwP03TKoh/m/Zzn1kYjivT8GsNm+YcbZP3nvEIxWA+i/roPVoYPZuj/TnSNNLJ7zP4qaGAaZx+i/40iy1hcs7j/3qTxFE1zIv6WfikZgqeo/x31pPZtn8b9T4bxwMCjOP6K7XFLZK+o/ajZNl3xw8j+iU1vEYWbuvzNYJC4T/de/mU4+hjEr0D/zAhHOBivfPz6e5r4EYcC/6Lsjuxhe3D+e8PWpeT3Gv/BBqeCrdvs/7qabdIjXoj91aobrXJn6vzsbBqzp+XM/sg9MpCUi3T+d7eJZOrHlv1a5AQXa7uU/sLhLxYAYBEDBm4JfnVD0PxeLLoaI7PI/+haWMmCs8j8WF6D/rkzpv6rRdC8aK90/NRXD1Xv/5L/tcROfJtLiPwI4H5PdseG/sPgQIGgW8r8eAMh/kyLsP2I0QvDowPC/xhXxLqzP2r+QuYqxlnTcv/EJxXZdXOy/tyMTyzBm5j9hVz8EitXxv8GaF94zU/A/UzEtnYIp5r9erRbm+RHwv1lsrPkcr/A/XKK9uK/J5D8FwNst37Dyvzsf+5Tbf+i/vEIZlTtB2r+cCcChQY/oP7Rn0+p8ou4/D590VYJq7j+97nVouGjvPwnKfvrPgqG/Q1QYhl3i2D+ag+BjKmgBwBl+rfGUTALAt23Sz+ba67+ynifA3AfgP9PMKhjr9Om/UJGPWjgsxz/GFksT5inAPwjZ2o/SV/e/rtGYFPHA478K9UG+VMD2v2t7O+fNC/a/Yqh1T+Tg8r/dVHh2YSKkP7GYF9UalrW/Suo5Eysb8L8961OP82fcv23xM2RKCew/b/sN4K4o9j871tininnVv7eVqna5oMo/+f9zgbM25r9G1CR77ObdP+VByzc47OA/nAfoPAUH8j9+cUJzewjaPw1pWZ+gLe+/NbEkSZBu9T/da16lYZLbPxfq2iszsus/aV7Akffb2D+t+/RkoQbhPzxp/hTgqPK/nFgL4gdO0r+SQa0tWzPYvxCisPFMyOc/bdAVKys/6r+goAvRMVrdP3ITP64So8Y/scbaKQqTzD+W225iX+bMP182anu2oOK/Q1DfbbVZuL8OTYVjrQT5P85pjDds/PO/RjRynMPn5D85SetXMIfqvzRunIwam9i/dw169J6j3L9lvJ1tnrfoP1gDC0nlxPm/XrorqMEaiT/gQD6PyLjgPyEjDsYioNU/HmUH6Qmd5r9co3r1NKadvzrHWrQTJvs/G8jkc6zY8j/hutUsGt8DwCZSOaXKEvA/yYacjCfL8j8MMsndpDviPw7flv4M1glA2hBKBaz247+uOD3E2/rzv8E/OrvVTMg/PN+oi/8a9D8pMb0P1grrv1Vu7ng36ss/7cImuidhqj9Nk1ZslMLSv7NmIXfMBOc/+TnvpG9I1r/71+LryhLWvwYjqJOuRQVAm/Y+VepdzD/3M9O/muLRvykhlUHTOtO/pvxn/GKT+L+ySuIV0pzGvx/zxYyRUvw/Krbo32bB/b84771dRKUDQLXvfFAn+/U/9gV+m4T2879f82fk4BzlvwtZpVjCodg/GjpWfrsW2b9JQmczKO/vvyqoxrdLyPA/UkSQAOh48b/3JlKvlNAAQPfKjV+HLfO/NunaajG94D/zdBx6DGkEwHH3YxEB8u6/S0e49CcMu79V4EiLVcbwP/MwNdZuwfg/8Y2+QPkP6r+3z4cbERgDwI7mpNmubfM/j1lZLIEHtr9WUBNmnF7tP8OMrqz8q/a/34lBok/c87/UDV7EaQDNP3QVDW+gYuW/RcQ0zM43zr/di5NNhWPcv+omFlzBAeI/9grde47g9L+lNquqv2Pvv3W09l93Hqm/uLODeYhf5z8j97abB/bbvxVUIbActfK/aOqS9+Vd9T/bA5R+aQX0v/V5P2DCNe6/x2bVntk71r/qESOF67P1PwspRAnAJPo/Vv/zth958r9WuEc3l3gJQCyObmQvn96/2hi3Hd+GwL9JD+VWzYPxv7vdOkG589M/JlKvzoE88D8w9Rv3DUDrv07G87jsZ/c/V99A6hT50T+u/Bu1kS3cPwjTCdSe0Os/6KIi6Owa8r8r86fB3yvzPzUs6R3hvq4/HQ6eOZGo4L9XnrFagOPCP7cCp+v1PPk/4c2J8LCk+z+fioIV8uf0v1KDzwTIk7S/nVClyitbx78JidWsqroGwCHzM26n+K8/WF4UviTD4j9GtnzEpmXMP4FUmsbsE8i/I1M/OewH0D/1xKpCTAfhv0kQVxv3Afu/At31nrtrxD9uGGJSBuTevwCThoLIOrQ/sT5WUXLY/7+HbkPOGRf3v9+B3/vGndg/0A2SmQq26L9qwwUZZxfxP1CFcFDQ/vY/dm0fLR7r4r9f5CRJTZ7kvxwN9T6WJO4/Hy6vRGbo1L8D8hV+oePdvxxIS+QyXOq/8CLgqyWA+T8Nl9dMtjXRP9rFf0Edkc+/6N8cet627T8G+N6XMlrkvzup1psYyei/ApN0QRE6zD8JjrFKCa70P/omzOtdDtS/76MDbhPW1z98LsRT573wv2CX8HvBbO8/Ge18C1Rs4j+EX+w8Ftfmv4HGKwqF6d8/M0rHqmu89z//SQ9GLgbpP+HFL4YEfOC/R8jIuDWO0b/TqwrIWOPvP2YqP4rT/cs/Y7ZnKO8N9j8=",
          "dtype": "f8"
         },
         "yaxis": "y"
        },
        {
         "hovertemplate": "<b>OLS trendline</b><br>y = 25.9634 * x + -0.129752<br>R<sup>2</sup>=0.003371<br><br>x=%{x}<br>y=%{y} <b>(trend)</b><extra></extra>",
         "legendgroup": "",
         "line": {
          "color": "red"
         },
         "marker": {
          "color": "#636efa",
          "symbol": "circle"
         },
         "mode": "lines",
         "name": "",
         "showlegend": false,
         "type": "scatter",
         "x": {
          "bdata": "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",
          "dtype": "f8"
         },
         "xaxis": "x",
         "y": {
          "bdata": "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",
          "dtype": "f8"
         },
         "yaxis": "y"
        }
       ],
       "layout": {
        "height": 600,
        "legend": {
         "tracegroupgap": 0
        },
        "template": {
         "data": {
          "bar": [
           {
            "error_x": {
             "color": "#2a3f5f"
            },
            "error_y": {
             "color": "#2a3f5f"
            },
            "marker": {
             "line": {
              "color": "#E5ECF6",
              "width": 0.5
             },
             "pattern": {
              "fillmode": "overlay",
              "size": 10,
              "solidity": 0.2
             }
            },
            "type": "bar"
           }
          ],
          "barpolar": [
           {
            "marker": {
             "line": {
              "color": "#E5ECF6",
              "width": 0.5
             },
             "pattern": {
              "fillmode": "overlay",
              "size": 10,
              "solidity": 0.2
             }
            },
            "type": "barpolar"
           }
          ],
          "carpet": [
           {
            "aaxis": {
             "endlinecolor": "#2a3f5f",
             "gridcolor": "white",
             "linecolor": "white",
             "minorgridcolor": "white",
             "startlinecolor": "#2a3f5f"
            },
            "baxis": {
             "endlinecolor": "#2a3f5f",
             "gridcolor": "white",
             "linecolor": "white",
             "minorgridcolor": "white",
             "startlinecolor": "#2a3f5f"
            },
            "type": "carpet"
           }
          ],
          "choropleth": [
           {
            "colorbar": {
             "outlinewidth": 0,
             "ticks": ""
            },
            "type": "choropleth"
           }
          ],
          "contour": [
           {
            "colorbar": {
             "outlinewidth": 0,
             "ticks": ""
            },
            "colorscale": [
             [
              0,
              "#0d0887"
             ],
             [
              0.1111111111111111,
              "#46039f"
             ],
             [
              0.2222222222222222,
              "#7201a8"
             ],
             [
              0.3333333333333333,
              "#9c179e"
             ],
             [
              0.4444444444444444,
              "#bd3786"
             ],
             [
              0.5555555555555556,
              "#d8576b"
             ],
             [
              0.6666666666666666,
              "#ed7953"
             ],
             [
              0.7777777777777778,
              "#fb9f3a"
             ],
             [
              0.8888888888888888,
              "#fdca26"
             ],
             [
              1,
              "#f0f921"
             ]
            ],
            "type": "contour"
           }
          ],
          "contourcarpet": [
           {
            "colorbar": {
             "outlinewidth": 0,
             "ticks": ""
            },
            "type": "contourcarpet"
           }
          ],
          "heatmap": [
           {
            "colorbar": {
             "outlinewidth": 0,
             "ticks": ""
            },
            "colorscale": [
             [
              0,
              "#0d0887"
             ],
             [
              0.1111111111111111,
              "#46039f"
             ],
             [
              0.2222222222222222,
              "#7201a8"
             ],
             [
              0.3333333333333333,
              "#9c179e"
             ],
             [
              0.4444444444444444,
              "#bd3786"
             ],
             [
              0.5555555555555556,
              "#d8576b"
             ],
             [
              0.6666666666666666,
              "#ed7953"
             ],
             [
              0.7777777777777778,
              "#fb9f3a"
             ],
             [
              0.8888888888888888,
              "#fdca26"
             ],
             [
              1,
              "#f0f921"
             ]
            ],
            "type": "heatmap"
           }
          ],
          "histogram": [
           {
            "marker": {
             "pattern": {
              "fillmode": "overlay",
              "size": 10,
              "solidity": 0.2
             }
            },
            "type": "histogram"
           }
          ],
          "histogram2d": [
           {
            "colorbar": {
             "outlinewidth": 0,
             "ticks": ""
            },
            "colorscale": [
             [
              0,
              "#0d0887"
             ],
             [
              0.1111111111111111,
              "#46039f"
             ],
             [
              0.2222222222222222,
              "#7201a8"
             ],
             [
              0.3333333333333333,
              "#9c179e"
             ],
             [
              0.4444444444444444,
              "#bd3786"
             ],
             [
              0.5555555555555556,
              "#d8576b"
             ],
             [
              0.6666666666666666,
              "#ed7953"
             ],
             [
              0.7777777777777778,
              "#fb9f3a"
             ],
             [
              0.8888888888888888,
              "#fdca26"
             ],
             [
              1,
              "#f0f921"
             ]
            ],
            "type": "histogram2d"
           }
          ],
          "histogram2dcontour": [
           {
            "colorbar": {
             "outlinewidth": 0,
             "ticks": ""
            },
            "colorscale": [
             [
              0,
              "#0d0887"
             ],
             [
              0.1111111111111111,
              "#46039f"
             ],
             [
              0.2222222222222222,
              "#7201a8"
             ],
             [
              0.3333333333333333,
              "#9c179e"
             ],
             [
              0.4444444444444444,
              "#bd3786"
             ],
             [
              0.5555555555555556,
              "#d8576b"
             ],
             [
              0.6666666666666666,
              "#ed7953"
             ],
             [
              0.7777777777777778,
              "#fb9f3a"
             ],
             [
              0.8888888888888888,
              "#fdca26"
             ],
             [
              1,
              "#f0f921"
             ]
            ],
            "type": "histogram2dcontour"
           }
          ],
          "mesh3d": [
           {
            "colorbar": {
             "outlinewidth": 0,
             "ticks": ""
            },
            "type": "mesh3d"
           }
          ],
          "parcoords": [
           {
            "line": {
             "colorbar": {
              "outlinewidth": 0,
              "ticks": ""
             }
            },
            "type": "parcoords"
           }
          ],
          "pie": [
           {
            "automargin": true,
            "type": "pie"
           }
          ],
          "scatter": [
           {
            "fillpattern": {
             "fillmode": "overlay",
             "size": 10,
             "solidity": 0.2
            },
            "type": "scatter"
           }
          ],
          "scatter3d": [
           {
            "line": {
             "colorbar": {
              "outlinewidth": 0,
              "ticks": ""
             }
            },
            "marker": {
             "colorbar": {
              "outlinewidth": 0,
              "ticks": ""
             }
            },
            "type": "scatter3d"
           }
          ],
          "scattercarpet": [
           {
            "marker": {
             "colorbar": {
              "outlinewidth": 0,
              "ticks": ""
             }
            },
            "type": "scattercarpet"
           }
          ],
          "scattergeo": [
           {
            "marker": {
             "colorbar": {
              "outlinewidth": 0,
              "ticks": ""
             }
            },
            "type": "scattergeo"
           }
          ],
          "scattergl": [
           {
            "marker": {
             "colorbar": {
              "outlinewidth": 0,
              "ticks": ""
             }
            },
            "type": "scattergl"
           }
          ],
          "scattermap": [
           {
            "marker": {
             "colorbar": {
              "outlinewidth": 0,
              "ticks": ""
             }
            },
            "type": "scattermap"
           }
          ],
          "scattermapbox": [
           {
            "marker": {
             "colorbar": {
              "outlinewidth": 0,
              "ticks": ""
             }
            },
            "type": "scattermapbox"
           }
          ],
          "scatterpolar": [
           {
            "marker": {
             "colorbar": {
              "outlinewidth": 0,
              "ticks": ""
             }
            },
            "type": "scatterpolar"
           }
          ],
          "scatterpolargl": [
           {
            "marker": {
             "colorbar": {
              "outlinewidth": 0,
              "ticks": ""
             }
            },
            "type": "scatterpolargl"
           }
          ],
          "scatterternary": [
           {
            "marker": {
             "colorbar": {
              "outlinewidth": 0,
              "ticks": ""
             }
            },
            "type": "scatterternary"
           }
          ],
          "surface": [
           {
            "colorbar": {
             "outlinewidth": 0,
             "ticks": ""
            },
            "colorscale": [
             [
              0,
              "#0d0887"
             ],
             [
              0.1111111111111111,
              "#46039f"
             ],
             [
              0.2222222222222222,
              "#7201a8"
             ],
             [
              0.3333333333333333,
              "#9c179e"
             ],
             [
              0.4444444444444444,
              "#bd3786"
             ],
             [
              0.5555555555555556,
              "#d8576b"
             ],
             [
              0.6666666666666666,
              "#ed7953"
             ],
             [
              0.7777777777777778,
              "#fb9f3a"
             ],
             [
              0.8888888888888888,
              "#fdca26"
             ],
             [
              1,
              "#f0f921"
             ]
            ],
            "type": "surface"
           }
          ],
          "table": [
           {
            "cells": {
             "fill": {
              "color": "#EBF0F8"
             },
             "line": {
              "color": "white"
             }
            },
            "header": {
             "fill": {
              "color": "#C8D4E3"
             },
             "line": {
              "color": "white"
             }
            },
            "type": "table"
           }
          ]
         },
         "layout": {
          "annotationdefaults": {
           "arrowcolor": "#2a3f5f",
           "arrowhead": 0,
           "arrowwidth": 1
          },
          "autotypenumbers": "strict",
          "coloraxis": {
           "colorbar": {
            "outlinewidth": 0,
            "ticks": ""
           }
          },
          "colorscale": {
           "diverging": [
            [
             0,
             "#8e0152"
            ],
            [
             0.1,
             "#c51b7d"
            ],
            [
             0.2,
             "#de77ae"
            ],
            [
             0.3,
             "#f1b6da"
            ],
            [
             0.4,
             "#fde0ef"
            ],
            [
             0.5,
             "#f7f7f7"
            ],
            [
             0.6,
             "#e6f5d0"
            ],
            [
             0.7,
             "#b8e186"
            ],
            [
             0.8,
             "#7fbc41"
            ],
            [
             0.9,
             "#4d9221"
            ],
            [
             1,
             "#276419"
            ]
           ],
           "sequential": [
            [
             0,
             "#0d0887"
            ],
            [
             0.1111111111111111,
             "#46039f"
            ],
            [
             0.2222222222222222,
             "#7201a8"
            ],
            [
             0.3333333333333333,
             "#9c179e"
            ],
            [
             0.4444444444444444,
             "#bd3786"
            ],
            [
             0.5555555555555556,
             "#d8576b"
            ],
            [
             0.6666666666666666,
             "#ed7953"
            ],
            [
             0.7777777777777778,
             "#fb9f3a"
            ],
            [
             0.8888888888888888,
             "#fdca26"
            ],
            [
             1,
             "#f0f921"
            ]
           ],
           "sequentialminus": [
            [
             0,
             "#0d0887"
            ],
            [
             0.1111111111111111,
             "#46039f"
            ],
            [
             0.2222222222222222,
             "#7201a8"
            ],
            [
             0.3333333333333333,
             "#9c179e"
            ],
            [
             0.4444444444444444,
             "#bd3786"
            ],
            [
             0.5555555555555556,
             "#d8576b"
            ],
            [
             0.6666666666666666,
             "#ed7953"
            ],
            [
             0.7777777777777778,
             "#fb9f3a"
            ],
            [
             0.8888888888888888,
             "#fdca26"
            ],
            [
             1,
             "#f0f921"
            ]
           ]
          },
          "colorway": [
           "#636efa",
           "#EF553B",
           "#00cc96",
           "#ab63fa",
           "#FFA15A",
           "#19d3f3",
           "#FF6692",
           "#B6E880",
           "#FF97FF",
           "#FECB52"
          ],
          "font": {
           "color": "#2a3f5f"
          },
          "geo": {
           "bgcolor": "white",
           "lakecolor": "white",
           "landcolor": "#E5ECF6",
           "showlakes": true,
           "showland": true,
           "subunitcolor": "white"
          },
          "hoverlabel": {
           "align": "left"
          },
          "hovermode": "closest",
          "mapbox": {
           "style": "light"
          },
          "paper_bgcolor": "white",
          "plot_bgcolor": "#E5ECF6",
          "polar": {
           "angularaxis": {
            "gridcolor": "white",
            "linecolor": "white",
            "ticks": ""
           },
           "bgcolor": "#E5ECF6",
           "radialaxis": {
            "gridcolor": "white",
            "linecolor": "white",
            "ticks": ""
           }
          },
          "scene": {
           "xaxis": {
            "backgroundcolor": "#E5ECF6",
            "gridcolor": "white",
            "gridwidth": 2,
            "linecolor": "white",
            "showbackground": true,
            "ticks": "",
            "zerolinecolor": "white"
           },
           "yaxis": {
            "backgroundcolor": "#E5ECF6",
            "gridcolor": "white",
            "gridwidth": 2,
            "linecolor": "white",
            "showbackground": true,
            "ticks": "",
            "zerolinecolor": "white"
           },
           "zaxis": {
            "backgroundcolor": "#E5ECF6",
            "gridcolor": "white",
            "gridwidth": 2,
            "linecolor": "white",
            "showbackground": true,
            "ticks": "",
            "zerolinecolor": "white"
           }
          },
          "shapedefaults": {
           "line": {
            "color": "#2a3f5f"
           }
          },
          "ternary": {
           "aaxis": {
            "gridcolor": "white",
            "linecolor": "white",
            "ticks": ""
           },
           "baxis": {
            "gridcolor": "white",
            "linecolor": "white",
            "ticks": ""
           },
           "bgcolor": "#E5ECF6",
           "caxis": {
            "gridcolor": "white",
            "linecolor": "white",
            "ticks": ""
           }
          },
          "title": {
           "x": 0.05
          },
          "xaxis": {
           "automargin": true,
           "gridcolor": "white",
           "linecolor": "white",
           "ticks": "",
           "title": {
            "standoff": 15
           },
           "zerolinecolor": "white",
           "zerolinewidth": 2
          },
          "yaxis": {
           "automargin": true,
           "gridcolor": "white",
           "linecolor": "white",
           "ticks": "",
           "title": {
            "standoff": 15
           },
           "zerolinecolor": "white",
           "zerolinewidth": 2
          }
         }
        },
        "title": {
         "text": "Residual vs Leverage Plot"
        },
        "width": 800,
        "xaxis": {
         "anchor": "y",
         "domain": [
          0,
          1
         ],
         "title": {
          "text": "Leverage"
         }
        },
        "yaxis": {
         "anchor": "x",
         "domain": [
          0,
          1
         ],
         "title": {
          "text": "Standardized Residuals"
         }
        }
       }
      }
     },
     "metadata": {},
     "output_type": "display_data"
    }
   ],
   "source": [
    "fig = px.scatter(x =leverage, y=residual_norm, \n",
    "                 height=600, width=800,\n",
    "                 trendline_color_override=\"red\",\n",
    "                 trendline=\"ols\", \n",
    "                 title='Residual vs Leverage Plot')\n",
    "\n",
    "fig.update_layout(xaxis_title=\"Leverage\", yaxis_title=\"Standardized Residuals\")\n",
    "fig.show()"
   ]
  },
  {
   "cell_type": "markdown",
   "metadata": {},
   "source": [
    "10. To diagnose the Normality assumption create a QQ-plot comparing the theoretical against the sample quantiles"
   ]
  },
  {
   "cell_type": "code",
   "execution_count": 14,
   "metadata": {},
   "outputs": [],
   "source": [
    "from statsmodels.graphics.gofplots import ProbPlot\n",
    "QQ = ProbPlot(residual_norm)\n",
    "theoretical_quantiles = QQ.theoretical_quantiles\n",
    "sample_quantiles = QQ.sample_quantiles"
   ]
  },
  {
   "cell_type": "code",
   "execution_count": 15,
   "metadata": {},
   "outputs": [
    {
     "data": {
      "application/vnd.plotly.v1+json": {
       "config": {
        "plotlyServerURL": "https://plot.ly"
       },
       "data": [
        {
         "hovertemplate": "x=%{x}<br>y=%{y}<extra></extra>",
         "legendgroup": "",
         "marker": {
          "color": "#636efa",
          "symbol": "circle"
         },
         "mode": "markers",
         "name": "",
         "orientation": "v",
         "showlegend": false,
         "type": "scatter",
         "x": {
          "bdata": "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",
          "dtype": "f8"
         },
         "xaxis": "x",
         "y": {
          "bdata": "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",
          "dtype": "f8"
         },
         "yaxis": "y"
        },
        {
         "hovertemplate": "x=%{x}<br>y=%{y}<extra></extra>",
         "legendgroup": "",
         "line": {
          "color": "red",
          "dash": "solid"
         },
         "marker": {
          "symbol": "circle"
         },
         "mode": "lines",
         "name": "",
         "orientation": "v",
         "showlegend": false,
         "type": "scatter",
         "x": {
          "bdata": "QLAww3N2BsAa8E3/EJ0EwP3roSxddwPAQQbSXkeeAsCnT3QqXvABwIWqyMNeXgHALqGDAf3fAMA0Tz6MMHAAwO+pZtKuCwDAJEVw5WJg/79RMDniKLj+v5D9myc9HP6/uIBpkb+K/b9ApZ+yNwL9v5U0j794gfy/5QIwaY4H/L+Ohipxr5P7vymjhwU0Jfu/SBmTrY67+r/ZAgEAR1b6vwdmEp719Pm/3Z8fGkGX+b9UJYuL2zz5v6hgZ6SA5fi/jb92KfSQ+L803LC1AD/4vxIVb7h27/e/L+WhoSui97+t7oAy+Vb3v1Z4Zeu8Dfe/pNcnkVfG9r+pJJbFrID2v3T8iq+iPPa//qbiryH69b88YxohFLn1vwF90x9mefW/wNzJWgU79b/bohHp4P30v1RNpSXpwfS/twV5jw+H9L8KZ2qtRk30vxwggPWBFPS/GrEDt7Xc878ONRIH16XzvyqIUK/bb/O/dM57Hro6878l6ZlaaQbzv0AylvTg0vK/ny8e/Rig8r98HZj6CW7yv3JlEuCsPPK/HYEPBfsL8r8whhUe7tvxv3nL6zWArPG/cNFzp6t98b8n8AwYa0/xv95PdHK5IfG/pm4U4pH08L+d9bjO78fwvzTunNjOm/C/2onK1Cpw8L/nqsTJ/0TwvwU7c+xJGvC/kjeYOgvg779tUWbLXozvv/OsGOuHOe+/q/32QYDn7r/wuZu8QZbuv3lIE4jGRe6/1+1ADgn27b/FpYPyA6ftv4OklQ6yWO2/jLyhbw4L7b/1VopTFL7sv6MTXia/cey/iYH2fwom7L+Hsb0h8trrv06wl/RxkOu/pjXtBoZG67/AE9WKKv3qv54mWtRbtOq/jLTbVxZs6r+3XIaoViTqv2PY43YZ3em/Bfh/j1uW6b+6ZaHZGVDpv5/UFFZRCum/5F8JHv/E6L+W9PxhIIDov1C4t2iyO+i//nJVjrL357/tFFxDHrTnv7aD3gvzcOe/s+eqfi4u578Iw4NEzuvmv4cnYxfQqea/lG3HwTFo5r8U2Qge8Sbmv4SjtxUM5uW/PuwBoYCl5b9FGCHGTGXlvxIzzphuJeW/aum8OeTl5L//vRzWq6bkv+sdIKfDZ+S/DQGJ8Skp5L+rxzoF3erjv78L0TzbrOO/JyE7/SJv47/pA1y1sjHjvzh4rt2I9OK/OiPt96O34r9FZ76OAnviv3fRYzWjPuK/fulsh4QC4r83N20opcbhv5FUtcMDi+G/P+QODJ9P4b9mSHu7dRThv0r29JKG2eC/IEYzWtCe4L8HoHDfUWTgv8PoMvcJKuC/ayUs+O7f37+JcTGdMmzfvyRV1anc+N6/OqV69eqF3r89wCtiWxPev5Y/Qtwrod2/+N4RWlov3b8fdJbb5L3cvzjTJGrJTNy/Hn4eGAbc279q/qcAmWvbv7PLYUeA+9q/NqEjGLqL2r9PJ7qmRBzav5fWpi4erdm/6vvh8kQ+2b+JxZ49t8/Yv+dCEWBzYdi/rUE2snfz179685ySwoXXvw1JMmZSGNe/GPANmCWr1r8g4kCZOj7Wv5VzpeCP0dW/1NKw6iNl1b/e50U59fjUv+KFiVMCjdS/puC3xUkh1L8tOPsgyrXTvw6uQ/uBStO/wDcg72/f0r9ZopibknTSv1qcCKToCdK/obr7r3Cf0b9HbgprKTXRvzfht4QRy9C/JbBQsCdh0L8I8ZRJ1e7Pv5FjSDmyG8+/35KOq+NIzr8i89IiZ3bNv3Kk3ic6pMy/ydueSVrSy7+sk+wcxQDLv7x2VTx4L8q/KfblR3Feyb9Vf/TkrY3Iv9zD7b0rvce/rgcigujsxr/KaZPl4RzGv6obxaAVTcW/tXyLcIF9xL/RDt0VI67Dv6Y5pFX43sK/qdKR+P4Pwr/aX/DKNEHBv90LeJyXcsC/R4RGgEpIv7/b0wcYt6u9v1lvMrJwD7y/jxdMBnNzur9JrQ/Rude4v1LzG9RAPLe/IDqj1QOhtb8F5hug/gW0v6y/8QEta7K/TwA4zYrQsL8dFbiuJ2yuvxuCsfGHN6u/9dnUGS4DqL/2SobiEc+kv+tUfwsrm6G/vJJysOLOnL+99LAeuWeWv5T7L/TIAJC/bKHXjgM0g7+Ea/6NmZppv4Rr/o2Zmmk/vKHXjgM0gz+U+y/0yACQP5X0sB65Z5Y/vJJysOLOnD/rVH8LK5uhPwpLhuIRz6Q/9dnUGS4DqD8FgrHxhzerPx0VuK4nbK4/TwA4zYrQsD+2v/EBLWuyPwXmG6D+BbQ/Fjqj1QOhtT9S8xvUQDy3P0mtD9G517g/mRdMBnNzuj9ZbzKycA+8P9HTBxi3q70/R4RGgEpIvz/dC3icl3LAP99f8Mo0QcE/qdKR+P4Pwj+hOaRV+N7CP9EO3RUjrsM/tXyLcIF9xD+vG8WgFU3FP8ppk+XhHMY/qQcigujsxj/cw+29K73HP1V/9OStjcg/LvblR3FeyT+8dlU8eC/KP6eT7BzFAMs/ydueSVrSyz9ypN4nOqTMPyjz0iJnds0/35KOq+NIzj+MY0g5shvPPwjxlEnV7s8/JbBQsCdh0D864beEEcvQP0duCmspNdE/nrr7r3Cf0T9anAik6AnSP1mimJuSdNI/wzcg72/f0j8OrkP7gUrTPyo4+yDKtdM/puC3xUkh1D/ihYlTAo3UP+DnRTn1+NQ/1NKw6iNl1T+Tc6Xgj9HVPyLiQJk6PtY/GPANmCWr1j8QSTJmUhjXP3rznJLChdc/qkE2snfz1z/qQhFgc2HYP4nFnj23z9g/7fvh8kQ+2T+X1qYuHq3ZP00nuqZEHNo/OaEjGLqL2j+zy2FHgPvaP2z+pwCZa9s/Hn4eGAbc2z820yRqyUzcPyJ0ltvkvdw/+N4RWlov3T+aP0LcK6HdPz3AK2JbE94/N6V69eqF3j8nVdWp3PjeP4lxMZ0ybN8/bSUs+O7f3z/D6DL3CSrgPwWgcN9RZOA/IkYzWtCe4D9K9vSShtngP2hIe7t1FOE/P+QODJ9P4T+QVLXDA4vhPzg3bSilxuE/fulsh4QC4j950WM1oz7iP0Vnvo4Ce+I/OCPt96O34j85eK7diPTiP+kDXLWyMeM/KCE7/SJv4z+/C9E826zjP6nHOgXd6uM/DwGJ8Skp5D/rHSCnw2fkPwC+HNarpuQ/aum8OeTl5D8PM86YbiXlP0YYIcZMZeU/PuwBoYCl5T+Co7cVDOblPxTZCB7xJuY/lG3HwTFo5j+HJ2MX0KnmPwjDg0TO6+Y/sueqfi4u5z+2g94L83DnP+0UXEMetOc//nJVjrL35z9QuLdosjvoP5T0/GEggOg/5F8JHv/E6D+f1BRWUQrpP7plodkZUOk/Bfh/j1uW6T9g2ON2Gd3pP7dchqhWJOo/jLTbVxZs6j+eJlrUW7TqP8AT1Yoq/eo/pDXtBoZG6z9OsJf0cZDrP4exvSHy2us/iYH2fwom7D+jE14mv3HsP/NWilMUvuw/jLyhbw4L7T+DpJUOsljtP8Wlg/IDp+0/1+1ADgn27T94SBOIxkXuP/C5m7xBlu4/q/32QYDn7j/zrBjrhznvP21RZstejO8/jjeYOgvg7z8FO3PsSRrwP+eqxMn/RPA/2onK1Cpw8D807pzYzpvwP5z1uM7vx/A/pm4U4pH08D/eT3RyuSHxPyfwDBhrT/E/cNFzp6t98T92y+s1gKzxPzCGFR7u2/E/HYEPBfsL8j9yZRLgrDzyP3wdmPoJbvI/ny8e/Rig8j9AMpb04NLyPyXpmVppBvM/dM57Hro68z8qiFCv22/zPw41EgfXpfM/GrEDt7Xc8z8cIID1gRT0Pwpnaq1GTfQ/twV5jw+H9D9STaUl6cH0P9uiEeng/fQ/wNzJWgU79T8EfdMfZnn1PzxjGiEUufU//KbiryH69T90/Iqvojz2P6kklsWsgPY/pNcnkVfG9j9WeGXrvA33P6vugDL5Vvc/L+WhoSui9z8PFW+4du/3PzTcsLUAP/g/jb92KfSQ+D+lYGekgOX4P1Qli4vbPPk/3Z8fGkGX+T8HZhKe9fT5P9kCAQBHVvo/RhmTrY67+j8po4cFNCX7P46GKnGvk/s/6AIwaY4H/D+VNI+/eIH8Pzqln7I3Av0/uIBpkb+K/T+O/ZsnPRz+P1MwOeIouP4/JEVw5WJg/z/sqWbSrgsAQDdPPowwcABALaGDAf3fAECIqsjDXl4BQKdPdCpe8AFAPgbSXkeeAkD/66EsXXcDQBbwTf8QnQRATbAww3N2BkA=",
          "dtype": "f8"
         },
         "xaxis": "x",
         "y": {
          "bdata": "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",
          "dtype": "f8"
         },
         "yaxis": "y"
        }
       ],
       "layout": {
        "height": 600,
        "legend": {
         "tracegroupgap": 0
        },
        "template": {
         "data": {
          "bar": [
           {
            "error_x": {
             "color": "#2a3f5f"
            },
            "error_y": {
             "color": "#2a3f5f"
            },
            "marker": {
             "line": {
              "color": "#E5ECF6",
              "width": 0.5
             },
             "pattern": {
              "fillmode": "overlay",
              "size": 10,
              "solidity": 0.2
             }
            },
            "type": "bar"
           }
          ],
          "barpolar": [
           {
            "marker": {
             "line": {
              "color": "#E5ECF6",
              "width": 0.5
             },
             "pattern": {
              "fillmode": "overlay",
              "size": 10,
              "solidity": 0.2
             }
            },
            "type": "barpolar"
           }
          ],
          "carpet": [
           {
            "aaxis": {
             "endlinecolor": "#2a3f5f",
             "gridcolor": "white",
             "linecolor": "white",
             "minorgridcolor": "white",
             "startlinecolor": "#2a3f5f"
            },
            "baxis": {
             "endlinecolor": "#2a3f5f",
             "gridcolor": "white",
             "linecolor": "white",
             "minorgridcolor": "white",
             "startlinecolor": "#2a3f5f"
            },
            "type": "carpet"
           }
          ],
          "choropleth": [
           {
            "colorbar": {
             "outlinewidth": 0,
             "ticks": ""
            },
            "type": "choropleth"
           }
          ],
          "contour": [
           {
            "colorbar": {
             "outlinewidth": 0,
             "ticks": ""
            },
            "colorscale": [
             [
              0,
              "#0d0887"
             ],
             [
              0.1111111111111111,
              "#46039f"
             ],
             [
              0.2222222222222222,
              "#7201a8"
             ],
             [
              0.3333333333333333,
              "#9c179e"
             ],
             [
              0.4444444444444444,
              "#bd3786"
             ],
             [
              0.5555555555555556,
              "#d8576b"
             ],
             [
              0.6666666666666666,
              "#ed7953"
             ],
             [
              0.7777777777777778,
              "#fb9f3a"
             ],
             [
              0.8888888888888888,
              "#fdca26"
             ],
             [
              1,
              "#f0f921"
             ]
            ],
            "type": "contour"
           }
          ],
          "contourcarpet": [
           {
            "colorbar": {
             "outlinewidth": 0,
             "ticks": ""
            },
            "type": "contourcarpet"
           }
          ],
          "heatmap": [
           {
            "colorbar": {
             "outlinewidth": 0,
             "ticks": ""
            },
            "colorscale": [
             [
              0,
              "#0d0887"
             ],
             [
              0.1111111111111111,
              "#46039f"
             ],
             [
              0.2222222222222222,
              "#7201a8"
             ],
             [
              0.3333333333333333,
              "#9c179e"
             ],
             [
              0.4444444444444444,
              "#bd3786"
             ],
             [
              0.5555555555555556,
              "#d8576b"
             ],
             [
              0.6666666666666666,
              "#ed7953"
             ],
             [
              0.7777777777777778,
              "#fb9f3a"
             ],
             [
              0.8888888888888888,
              "#fdca26"
             ],
             [
              1,
              "#f0f921"
             ]
            ],
            "type": "heatmap"
           }
          ],
          "histogram": [
           {
            "marker": {
             "pattern": {
              "fillmode": "overlay",
              "size": 10,
              "solidity": 0.2
             }
            },
            "type": "histogram"
           }
          ],
          "histogram2d": [
           {
            "colorbar": {
             "outlinewidth": 0,
             "ticks": ""
            },
            "colorscale": [
             [
              0,
              "#0d0887"
             ],
             [
              0.1111111111111111,
              "#46039f"
             ],
             [
              0.2222222222222222,
              "#7201a8"
             ],
             [
              0.3333333333333333,
              "#9c179e"
             ],
             [
              0.4444444444444444,
              "#bd3786"
             ],
             [
              0.5555555555555556,
              "#d8576b"
             ],
             [
              0.6666666666666666,
              "#ed7953"
             ],
             [
              0.7777777777777778,
              "#fb9f3a"
             ],
             [
              0.8888888888888888,
              "#fdca26"
             ],
             [
              1,
              "#f0f921"
             ]
            ],
            "type": "histogram2d"
           }
          ],
          "histogram2dcontour": [
           {
            "colorbar": {
             "outlinewidth": 0,
             "ticks": ""
            },
            "colorscale": [
             [
              0,
              "#0d0887"
             ],
             [
              0.1111111111111111,
              "#46039f"
             ],
             [
              0.2222222222222222,
              "#7201a8"
             ],
             [
              0.3333333333333333,
              "#9c179e"
             ],
             [
              0.4444444444444444,
              "#bd3786"
             ],
             [
              0.5555555555555556,
              "#d8576b"
             ],
             [
              0.6666666666666666,
              "#ed7953"
             ],
             [
              0.7777777777777778,
              "#fb9f3a"
             ],
             [
              0.8888888888888888,
              "#fdca26"
             ],
             [
              1,
              "#f0f921"
             ]
            ],
            "type": "histogram2dcontour"
           }
          ],
          "mesh3d": [
           {
            "colorbar": {
             "outlinewidth": 0,
             "ticks": ""
            },
            "type": "mesh3d"
           }
          ],
          "parcoords": [
           {
            "line": {
             "colorbar": {
              "outlinewidth": 0,
              "ticks": ""
             }
            },
            "type": "parcoords"
           }
          ],
          "pie": [
           {
            "automargin": true,
            "type": "pie"
           }
          ],
          "scatter": [
           {
            "fillpattern": {
             "fillmode": "overlay",
             "size": 10,
             "solidity": 0.2
            },
            "type": "scatter"
           }
          ],
          "scatter3d": [
           {
            "line": {
             "colorbar": {
              "outlinewidth": 0,
              "ticks": ""
             }
            },
            "marker": {
             "colorbar": {
              "outlinewidth": 0,
              "ticks": ""
             }
            },
            "type": "scatter3d"
           }
          ],
          "scattercarpet": [
           {
            "marker": {
             "colorbar": {
              "outlinewidth": 0,
              "ticks": ""
             }
            },
            "type": "scattercarpet"
           }
          ],
          "scattergeo": [
           {
            "marker": {
             "colorbar": {
              "outlinewidth": 0,
              "ticks": ""
             }
            },
            "type": "scattergeo"
           }
          ],
          "scattergl": [
           {
            "marker": {
             "colorbar": {
              "outlinewidth": 0,
              "ticks": ""
             }
            },
            "type": "scattergl"
           }
          ],
          "scattermap": [
           {
            "marker": {
             "colorbar": {
              "outlinewidth": 0,
              "ticks": ""
             }
            },
            "type": "scattermap"
           }
          ],
          "scattermapbox": [
           {
            "marker": {
             "colorbar": {
              "outlinewidth": 0,
              "ticks": ""
             }
            },
            "type": "scattermapbox"
           }
          ],
          "scatterpolar": [
           {
            "marker": {
             "colorbar": {
              "outlinewidth": 0,
              "ticks": ""
             }
            },
            "type": "scatterpolar"
           }
          ],
          "scatterpolargl": [
           {
            "marker": {
             "colorbar": {
              "outlinewidth": 0,
              "ticks": ""
             }
            },
            "type": "scatterpolargl"
           }
          ],
          "scatterternary": [
           {
            "marker": {
             "colorbar": {
              "outlinewidth": 0,
              "ticks": ""
             }
            },
            "type": "scatterternary"
           }
          ],
          "surface": [
           {
            "colorbar": {
             "outlinewidth": 0,
             "ticks": ""
            },
            "colorscale": [
             [
              0,
              "#0d0887"
             ],
             [
              0.1111111111111111,
              "#46039f"
             ],
             [
              0.2222222222222222,
              "#7201a8"
             ],
             [
              0.3333333333333333,
              "#9c179e"
             ],
             [
              0.4444444444444444,
              "#bd3786"
             ],
             [
              0.5555555555555556,
              "#d8576b"
             ],
             [
              0.6666666666666666,
              "#ed7953"
             ],
             [
              0.7777777777777778,
              "#fb9f3a"
             ],
             [
              0.8888888888888888,
              "#fdca26"
             ],
             [
              1,
              "#f0f921"
             ]
            ],
            "type": "surface"
           }
          ],
          "table": [
           {
            "cells": {
             "fill": {
              "color": "#EBF0F8"
             },
             "line": {
              "color": "white"
             }
            },
            "header": {
             "fill": {
              "color": "#C8D4E3"
             },
             "line": {
              "color": "white"
             }
            },
            "type": "table"
           }
          ]
         },
         "layout": {
          "annotationdefaults": {
           "arrowcolor": "#2a3f5f",
           "arrowhead": 0,
           "arrowwidth": 1
          },
          "autotypenumbers": "strict",
          "coloraxis": {
           "colorbar": {
            "outlinewidth": 0,
            "ticks": ""
           }
          },
          "colorscale": {
           "diverging": [
            [
             0,
             "#8e0152"
            ],
            [
             0.1,
             "#c51b7d"
            ],
            [
             0.2,
             "#de77ae"
            ],
            [
             0.3,
             "#f1b6da"
            ],
            [
             0.4,
             "#fde0ef"
            ],
            [
             0.5,
             "#f7f7f7"
            ],
            [
             0.6,
             "#e6f5d0"
            ],
            [
             0.7,
             "#b8e186"
            ],
            [
             0.8,
             "#7fbc41"
            ],
            [
             0.9,
             "#4d9221"
            ],
            [
             1,
             "#276419"
            ]
           ],
           "sequential": [
            [
             0,
             "#0d0887"
            ],
            [
             0.1111111111111111,
             "#46039f"
            ],
            [
             0.2222222222222222,
             "#7201a8"
            ],
            [
             0.3333333333333333,
             "#9c179e"
            ],
            [
             0.4444444444444444,
             "#bd3786"
            ],
            [
             0.5555555555555556,
             "#d8576b"
            ],
            [
             0.6666666666666666,
             "#ed7953"
            ],
            [
             0.7777777777777778,
             "#fb9f3a"
            ],
            [
             0.8888888888888888,
             "#fdca26"
            ],
            [
             1,
             "#f0f921"
            ]
           ],
           "sequentialminus": [
            [
             0,
             "#0d0887"
            ],
            [
             0.1111111111111111,
             "#46039f"
            ],
            [
             0.2222222222222222,
             "#7201a8"
            ],
            [
             0.3333333333333333,
             "#9c179e"
            ],
            [
             0.4444444444444444,
             "#bd3786"
            ],
            [
             0.5555555555555556,
             "#d8576b"
            ],
            [
             0.6666666666666666,
             "#ed7953"
            ],
            [
             0.7777777777777778,
             "#fb9f3a"
            ],
            [
             0.8888888888888888,
             "#fdca26"
            ],
            [
             1,
             "#f0f921"
            ]
           ]
          },
          "colorway": [
           "#636efa",
           "#EF553B",
           "#00cc96",
           "#ab63fa",
           "#FFA15A",
           "#19d3f3",
           "#FF6692",
           "#B6E880",
           "#FF97FF",
           "#FECB52"
          ],
          "font": {
           "color": "#2a3f5f"
          },
          "geo": {
           "bgcolor": "white",
           "lakecolor": "white",
           "landcolor": "#E5ECF6",
           "showlakes": true,
           "showland": true,
           "subunitcolor": "white"
          },
          "hoverlabel": {
           "align": "left"
          },
          "hovermode": "closest",
          "mapbox": {
           "style": "light"
          },
          "paper_bgcolor": "white",
          "plot_bgcolor": "#E5ECF6",
          "polar": {
           "angularaxis": {
            "gridcolor": "white",
            "linecolor": "white",
            "ticks": ""
           },
           "bgcolor": "#E5ECF6",
           "radialaxis": {
            "gridcolor": "white",
            "linecolor": "white",
            "ticks": ""
           }
          },
          "scene": {
           "xaxis": {
            "backgroundcolor": "#E5ECF6",
            "gridcolor": "white",
            "gridwidth": 2,
            "linecolor": "white",
            "showbackground": true,
            "ticks": "",
            "zerolinecolor": "white"
           },
           "yaxis": {
            "backgroundcolor": "#E5ECF6",
            "gridcolor": "white",
            "gridwidth": 2,
            "linecolor": "white",
            "showbackground": true,
            "ticks": "",
            "zerolinecolor": "white"
           },
           "zaxis": {
            "backgroundcolor": "#E5ECF6",
            "gridcolor": "white",
            "gridwidth": 2,
            "linecolor": "white",
            "showbackground": true,
            "ticks": "",
            "zerolinecolor": "white"
           }
          },
          "shapedefaults": {
           "line": {
            "color": "#2a3f5f"
           }
          },
          "ternary": {
           "aaxis": {
            "gridcolor": "white",
            "linecolor": "white",
            "ticks": ""
           },
           "baxis": {
            "gridcolor": "white",
            "linecolor": "white",
            "ticks": ""
           },
           "bgcolor": "#E5ECF6",
           "caxis": {
            "gridcolor": "white",
            "linecolor": "white",
            "ticks": ""
           }
          },
          "title": {
           "x": 0.05
          },
          "xaxis": {
           "automargin": true,
           "gridcolor": "white",
           "linecolor": "white",
           "ticks": "",
           "title": {
            "standoff": 15
           },
           "zerolinecolor": "white",
           "zerolinewidth": 2
          },
          "yaxis": {
           "automargin": true,
           "gridcolor": "white",
           "linecolor": "white",
           "ticks": "",
           "title": {
            "standoff": 15
           },
           "zerolinecolor": "white",
           "zerolinewidth": 2
          }
         }
        },
        "title": {
         "text": "Normal QQ Plot"
        },
        "width": 800,
        "xaxis": {
         "anchor": "y",
         "domain": [
          0,
          1
         ],
         "title": {
          "text": "Theoretical Quantiles"
         }
        },
        "yaxis": {
         "anchor": "x",
         "domain": [
          0,
          1
         ],
         "title": {
          "text": "Standardized Residuals"
         }
        }
       }
      }
     },
     "metadata": {},
     "output_type": "display_data"
    }
   ],
   "source": [
    "fig = px.scatter(x =theoretical_quantiles, y=sample_quantiles, \n",
    "                 height=600, width=800,\n",
    "                 title='Normal QQ Plot')\n",
    "fig.add_traces(px.line(x=theoretical_quantiles, y=theoretical_quantiles, color_discrete_sequence=[\"red\"]).data, )\n",
    "fig.update_layout(xaxis_title=\"Theoretical Quantiles\", yaxis_title=\"Standardized Residuals\")\n",
    "fig.show()"
   ]
  },
  {
   "cell_type": "code",
   "execution_count": null,
   "metadata": {},
   "outputs": [],
   "source": []
  }
 ],
 "metadata": {
  "kernelspec": {
   "display_name": ".venv",
   "language": "python",
   "name": "python3"
  },
  "language_info": {
   "codemirror_mode": {
    "name": "ipython",
    "version": 3
   },
   "file_extension": ".py",
   "mimetype": "text/x-python",
   "name": "python",
   "nbconvert_exporter": "python",
   "pygments_lexer": "ipython3",
   "version": "3.11.4"
  }
 },
 "nbformat": 4,
 "nbformat_minor": 2
}
