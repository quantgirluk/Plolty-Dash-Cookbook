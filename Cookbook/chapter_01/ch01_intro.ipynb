{
 "cells": [
  {
   "cell_type": "markdown",
   "metadata": {},
   "source": [
    "# Introduction to Plotly and Dash in Python\n",
    "\n",
    "This chapter provides a brief introduction to Plotly and Dash Python libraries. It will allow you to:\n",
    "\n",
    "- Set up your Python working environment \n",
    "- Create your first interactive charts using Plotly\n",
    "- Get a better understanding of the Figure objects: how to create them, manipulate them, and export them.\n",
    "\n",
    "## Technical requirements\n",
    "\n",
    "Over this book we will be working with the Plotly, and Dash Python libraries. Hence, you will require access to Python 3.10 or higher. In addition to `plotly` and `dash`, we will use `numpy`, `scipy`, and `yfinance`.\n",
    "\n",
    "While working through the examples and exercises in the book, you can, there are two options:\n",
    "\n",
    "- Use an integrated development environment (IDE) such as Visual Studio Code (VS Code) or Pycharm\n",
    "- Use the Jupyter ecosystem.\n",
    "\n",
    "\n",
    "```{tableofcontents}\n",
    "```"
   ]
  }
 ],
 "metadata": {
  "language_info": {
   "name": "python"
  }
 },
 "nbformat": 4,
 "nbformat_minor": 2
}
